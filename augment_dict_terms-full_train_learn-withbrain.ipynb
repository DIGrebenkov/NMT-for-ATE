{
 "cells": [
  {
   "cell_type": "code",
   "execution_count": 1,
   "id": "553b9a1e",
   "metadata": {},
   "outputs": [
    {
     "name": "stdout",
     "output_type": "stream",
     "text": [
      "WARNING:tensorflow:From c:\\Users\\Enfi\\AppData\\Local\\Programs\\Python\\Python310\\lib\\site-packages\\keras\\src\\losses.py:2976: The name tf.losses.sparse_softmax_cross_entropy is deprecated. Please use tf.compat.v1.losses.sparse_softmax_cross_entropy instead.\n",
      "\n"
     ]
    }
   ],
   "source": [
    "import pandas as pd\n",
    "import regex as re\n",
    "import numpy as np\n",
    "\n",
    "from sklearn.model_selection import train_test_split\n",
    "\n",
    "import ahocorasick\n",
    "\n",
    "import torch\n",
    "from transformers import T5Tokenizer, T5ForConditionalGeneration, AutoTokenizer, MT5ForConditionalGeneration, get_scheduler\n",
    "from torch.utils.data import DataLoader, Dataset\n",
    "from torch.optim import AdamW, lr_scheduler\n",
    "\n",
    "from tqdm import tqdm\n",
    "import matplotlib.pyplot as plt"
   ]
  },
  {
   "cell_type": "code",
   "execution_count": 2,
   "id": "f2cd2a22",
   "metadata": {},
   "outputs": [],
   "source": [
    "SEP_TOKEN = '▁<extra_id_0>'\n",
    "INPUT_PREFIX = ''"
   ]
  },
  {
   "cell_type": "code",
   "execution_count": 3,
   "id": "b417c34f",
   "metadata": {},
   "outputs": [
    {
     "name": "stdout",
     "output_type": "stream",
     "text": [
      "                                                text  \\\n",
      "0  ABBYY Retrieval & Morphology Engine\\nВ сообщен...   \n",
      "1  Речевые формулы в диалоге\\nПредложенная класси...   \n",
      "2  Географические названия и полнотекстовые докум...   \n",
      "3  Методы автоматического построения специализиро...   \n",
      "4  Закономерности построения дискурсивной последо...   \n",
      "\n",
      "                                               label  \n",
      "0  [[0, 35], [6, 15], [18, 35], [29, 35], [69, 88...  \n",
      "1  [[0, 15], [18, 25], [74, 99], [134, 140], [175...  \n",
      "2  [[0, 23], [26, 50], [54, 68], [169, 190], [181...  \n",
      "3  [[7, 63], [34, 63], [54, 63], [92, 128], [119,...  \n",
      "4  [[26, 57], [62, 76], [251, 265], [266, 280], [...  \n"
     ]
    }
   ],
   "source": [
    "df = pd.read_json ('train_t1_v1.jsonl', lines = True)\n",
    "df.drop (columns = ['id', 'keywords'], inplace = True)\n",
    "print (df.head ())"
   ]
  },
  {
   "cell_type": "code",
   "execution_count": null,
   "id": "f6da5da0",
   "metadata": {},
   "outputs": [],
   "source": [
    "def split_text (text, segments, delimiters = ['...', '.', '?!', '?', '!']):\n",
    "\n",
    "    delimiters_pattern = '|'.join (map (re.escape, delimiters))\n",
    "    \n",
    "    paragraphs = re.split (f'(?<=\\n[ ]*)', text)\n",
    "    \n",
    "    sentences_with_segments = []\n",
    "    \n",
    "    current_start_index = 0\n",
    "\n",
    "    for paragraph in paragraphs:\n",
    "\n",
    "        sentences = re.split (f'(?<=[{delimiters_pattern}] )(?=[A-ZА-ЯЁ])', paragraph)#.strip ())\n",
    "\n",
    "        for sentence in sentences:\n",
    "\n",
    "            start_index = current_start_index\n",
    "            end_index = start_index + len (sentence)\n",
    "\n",
    "            matched_segments = [\n",
    "                text [start: end] for start, end in segments if start >= start_index and end <= end_index\n",
    "            ]\n",
    "            sentences_with_segments.append ((sentence, matched_segments))\n",
    "\n",
    "            current_start_index = end_index\n",
    "    \n",
    "    return sentences_with_segments"
   ]
  },
  {
   "cell_type": "code",
   "execution_count": null,
   "id": "7ce3c472",
   "metadata": {},
   "outputs": [],
   "source": [
    "first_train_data_txt, second_train_data_txt, first_train_labels_txt, second_train_labels_txt = train_test_split (df ['text'], df ['label'], test_size = 0.5, random_state = 14)"
   ]
  },
  {
   "cell_type": "code",
   "execution_count": 6,
   "id": "4ca20ba2",
   "metadata": {},
   "outputs": [],
   "source": [
    "def label_constructor (labels):\n",
    "    res = []\n",
    "    for label in labels:\n",
    "        one_label = []\n",
    "        for start, end, cls in label:\n",
    "            one_label.append ([start, end])\n",
    "        res.append (one_label)\n",
    "    return res"
   ]
  },
  {
   "cell_type": "code",
   "execution_count": 7,
   "id": "585b28b9",
   "metadata": {},
   "outputs": [
    {
     "name": "stdout",
     "output_type": "stream",
     "text": [
      "                                                text  \\\n",
      "0  АВТОМАТИЧЕСКИЙ АНАЛИЗ ТОНАЛЬНОСТИ ТЕКСТОВ НА О...   \n",
      "1  InBASE: ТЕХНОЛОГИЯ ПОСТРОЕНИЯ ЕЯ-ИНТЕРФЕЙСОВ К...   \n",
      "2  Выражение уважительности с помощью личных мест...   \n",
      "3  ДА ЧЕРТ ЛИ В ДЕТАЛЯХ?.. МЕРА ДЛЯ ОЦЕНКИ СОВПАД...   \n",
      "4  КОРПУСНАЯ ОЦЕНКА СОЧЕТАЕМОСТИ СЛОВ С ИСПОЛЬЗОВ...   \n",
      "\n",
      "                                               label  \n",
      "0  [[0, 33, specific], [22, 33, specific], [52, 7...  \n",
      "1  [[0, 6, nomen], [19, 44, specific], [30, 44, s...  \n",
      "2  [[0, 24, specific], [35, 53, specific], [42, 5...  \n",
      "3  [[51, 70, specific], [61, 70, specific], [116,...  \n",
      "4  [[0, 16, specific], [17, 34, specific], [30, 3...  \n"
     ]
    }
   ],
   "source": [
    "df_2 = pd.read_json ('./test_data/test1_t12_full_v2.jsonl', lines = True)\n",
    "df_2 = df_2 [['text', 'label']]\n",
    "print (df_2.head ())"
   ]
  },
  {
   "cell_type": "code",
   "execution_count": null,
   "id": "5d0c9274",
   "metadata": {},
   "outputs": [],
   "source": [
    "val_data_txt, val_labels_txt, test_data_txt, test_labels_txt = train_test_split (df_2 ['text'], df_2 ['label'], test_size = 0.5, random_state = 14)"
   ]
  },
  {
   "cell_type": "code",
   "execution_count": null,
   "id": "fe380a6a",
   "metadata": {},
   "outputs": [],
   "source": [
    "def create_parallels (data_lst, labels_lst):\n",
    "    parallel_text = []\n",
    "    parallel_label = []\n",
    "    for i in range (len (data_lst)):\n",
    "        text = data_lst [i]\n",
    "        segments = labels_lst [i]\n",
    "        splitted = split_text (text, segments)\n",
    "        for sentence, terms in splitted:\n",
    "            parallel_text.append (INPUT_PREFIX + sentence)\n",
    "            constructed_label = ''\n",
    "            for term in terms:\n",
    "                constructed_label += term.strip () + SEP_TOKEN\n",
    "            if len (constructed_label) > 0:\n",
    "                parallel_label.append (constructed_label [: - len (SEP_TOKEN)])\n",
    "            else:\n",
    "                parallel_label.append ('')\n",
    "    return parallel_text, parallel_label\n",
    "\n",
    "first_train_data_lst = first_train_data_txt.tolist ()\n",
    "first_train_labels_lst = first_train_labels_txt.tolist ()\n",
    "first_parallel_text, first_parallel_labels = create_parallels (first_train_data_lst, first_train_labels_lst)\n",
    "\n",
    "second_train_data_lst = second_train_data_txt.tolist ()\n",
    "second_train_labels_lst = second_train_labels_txt.tolist ()\n",
    "second_parallel_text, second_parallel_labels = create_parallels (second_train_data_lst, second_train_labels_lst)\n",
    "\n",
    "val_data_lst = val_data_txt.tolist ()\n",
    "val_labels_lst = label_constructor (val_labels_txt)\n",
    "val_parallel_text, val_parallel_labels = create_parallels (val_data_lst, val_labels_lst)\n",
    "\n",
    "test_data_lst = test_data_txt.tolist ()\n",
    "test_labels_lst = label_constructor (test_labels_txt)\n",
    "test_parallel_text, test_parallel_labels = create_parallels (test_data_lst, test_labels_lst)"
   ]
  },
  {
   "cell_type": "code",
   "execution_count": 10,
   "id": "0e294164",
   "metadata": {},
   "outputs": [
    {
     "data": {
      "text/plain": [
       "9761"
      ]
     },
     "execution_count": 10,
     "metadata": {},
     "output_type": "execute_result"
    }
   ],
   "source": [
    "all_train_terms = set ()\n",
    "\n",
    "for line in parallel_label:\n",
    "    \n",
    "    all_train_terms |= set (line.split (SEP_TOKEN))\n",
    "\n",
    "all_train_terms -= set ([''])\n",
    "len (all_train_terms)"
   ]
  },
  {
   "cell_type": "code",
   "execution_count": 11,
   "id": "3f3dd523",
   "metadata": {},
   "outputs": [],
   "source": [
    "def one_finder (text, phrases):\n",
    "\n",
    "    if len (phrases) == 1 and '' in phrases:\n",
    "        return []\n",
    "\n",
    "    A = ahocorasick.Automaton ()\n",
    "    \n",
    "    for idx, phrase in enumerate (phrases):\n",
    "        A.add_word (phrase, (idx, phrase))\n",
    "    \n",
    "    A.make_automaton ()\n",
    "    \n",
    "    found = []\n",
    "    for end_index, (idx, phrase) in A.iter (text):\n",
    "        start_index = end_index - len (phrase) + 1\n",
    "\n",
    "        if start_index > 0 and text [start_index - 1].isalpha ():\n",
    "            continue\n",
    "        if end_index + 1 < len (text) and text [end_index + 1].isalpha ():\n",
    "            continue\n",
    "\n",
    "        found.append ((start_index, end_index + 1, phrase))\n",
    "    \n",
    "    return found"
   ]
  },
  {
   "cell_type": "code",
   "execution_count": 12,
   "id": "d188e155",
   "metadata": {},
   "outputs": [
    {
     "name": "stderr",
     "output_type": "stream",
     "text": [
      "100%|██████████| 4184/4184 [00:50<00:00, 82.97it/s]\n",
      "100%|██████████| 1290/1290 [00:14<00:00, 88.82it/s]\n",
      "100%|██████████| 1290/1290 [00:14<00:00, 89.13it/s]\n"
     ]
    }
   ],
   "source": [
    "\n",
    "np.random.seed (14)\n",
    "\n",
    "def extract_n_phrases (s: str, n: int):\n",
    "    words = s.split () # questionable\n",
    "    phrases_list = []\n",
    "    for length in range (1, n + 1):\n",
    "        for i in range (len (words) - length + 1):\n",
    "            phrase = ' '.join (words [i: i + length])\n",
    "            phrases_list.append (phrase)\n",
    "    return phrases_list\n",
    "\n",
    "ATTACHMENT_TOKEN = '▁<extra_id_1>'\n",
    "def make_attachment (text, dictionary_terms = all_train_terms):\n",
    "    found = one_finder (text, dictionary_terms)\n",
    "    found_terms = [item [2] for item in found]\n",
    "    res = text + ATTACHMENT_TOKEN\n",
    "    for term in found_terms:\n",
    "        res += term + SEP_TOKEN\n",
    "    if len (found_terms) > 0:\n",
    "        res = res [: - len (SEP_TOKEN)]\n",
    "    return res\n",
    "\n",
    "def make_random_attachment (text, dictionary_terms = all_train_terms):\n",
    "    found = one_finder (text, dictionary_terms)\n",
    "    found_terms = [item [2] for item in found]\n",
    "    n_phrases = extract_n_phrases (text, n = 3)\n",
    "    res = text + ATTACHMENT_TOKEN\n",
    "    for term in found_terms:\n",
    "        if np.random.choice ([True, False], p = [0.65, 0.35]):\n",
    "            res += term + SEP_TOKEN\n",
    "        else:\n",
    "            res += np.random.choice (n_phrases) + SEP_TOKEN\n",
    "    if len (found_terms) > 0:\n",
    "        res = res [: - len (SEP_TOKEN)]\n",
    "    return res\n",
    "\n",
    "def attach_dictionary_foundings (texts, dictionary_terms = all_train_terms, use_random = False):\n",
    "    res_texts = []\n",
    "    for text in tqdm (texts):\n",
    "        if use_random:\n",
    "            res_texts.append (make_random_attachment (text, dictionary_terms))\n",
    "        else:\n",
    "            res_texts.append (make_attachment (text, dictionary_terms))\n",
    "    return res_texts\n",
    "\n",
    "### WHAT?\n",
    "'''\n",
    "i = 0\n",
    "half_train_terms = set ()\n",
    "for item in all_train_terms:\n",
    "    if i % 2 == 0:\n",
    "        half_train_terms |= set ([item])\n",
    "    i += 1\n",
    "'''\n",
    "\n",
    "parallel_text_new = attach_dictionary_foundings (parallel_text, all_train_terms, use_random = True)\n",
    "parallel_text_val_new = attach_dictionary_foundings (parallel_text_val, all_train_terms)\n",
    "parallel_text_test_new = attach_dictionary_foundings (parallel_text_test, all_train_terms)"
   ]
  },
  {
   "cell_type": "code",
   "execution_count": 13,
   "id": "ea8a0b5e",
   "metadata": {},
   "outputs": [
    {
     "data": {
      "text/plain": [
       "'В сообщении представляется новый программный продукт, относящийся к классу “engines”, то есть, предоставляющий пользователю некоторые технологии не в составе прикладных программных продуктов, а в “чистом” виде. ▁<extra_id_1>программный продукт▁<extra_id_0>engines▁<extra_id_0>пользователю▁<extra_id_0>прикладных программных продуктов▁<extra_id_0>программных продуктов'"
      ]
     },
     "execution_count": 13,
     "metadata": {},
     "output_type": "execute_result"
    }
   ],
   "source": [
    "parallel_text_new [1]"
   ]
  },
  {
   "cell_type": "code",
   "execution_count": 14,
   "id": "87e7746c",
   "metadata": {},
   "outputs": [],
   "source": [
    "USED_MODEL_NAME = 'cointegrated/rut5-small' #'cointegrated/rut5-base'#\n",
    "\n",
    "SEQ_MAX_LENGTH = 300\n",
    "ANSWER_MAX_LENGTH = 170\n",
    "BATCH_SIZE = 16\n",
    "EVAL_BATCH_SIZE = 16\n",
    "\n",
    "ENABLE_LABEL_FIX = True"
   ]
  },
  {
   "cell_type": "code",
   "execution_count": 15,
   "id": "0a964318",
   "metadata": {},
   "outputs": [
    {
     "name": "stderr",
     "output_type": "stream",
     "text": [
      "You are using the default legacy behaviour of the <class 'transformers.models.t5.tokenization_t5.T5Tokenizer'>. This is expected, and simply means that the `legacy` (previous) behavior will be used so nothing changes for you. If you want to use the new behaviour, set `legacy=False`. This should only be set if you understand what it means, and thoroughly read the reason why this was added as explained in https://github.com/huggingface/transformers/pull/24565\n",
      "c:\\Users\\Enfi\\AppData\\Local\\Programs\\Python\\Python310\\lib\\site-packages\\transformers\\convert_slow_tokenizer.py:561: UserWarning: The sentencepiece tokenizer that you are converting to a fast tokenizer uses the byte fallback option which is not implemented in the fast tokenizers. In practice this means that the fast version of the tokenizer can produce unknown tokens whereas the sentencepiece version would have converted these unknown tokens into a sequence of byte tokens matching the original piece of text.\n",
      "  warnings.warn(\n"
     ]
    }
   ],
   "source": [
    "tokenizer = AutoTokenizer.from_pretrained (USED_MODEL_NAME)"
   ]
  },
  {
   "cell_type": "code",
   "execution_count": 16,
   "id": "2e13b65c",
   "metadata": {},
   "outputs": [
    {
     "data": {
      "text/plain": [
       "(array([1.537e+03, 2.604e+03, 1.541e+03, 7.040e+02, 2.570e+02, 7.900e+01,\n",
       "        2.400e+01, 1.300e+01, 3.000e+00, 2.000e+00]),\n",
       " array([  3. ,  35.6,  68.2, 100.8, 133.4, 166. , 198.6, 231.2, 263.8,\n",
       "        296.4, 329. ]),\n",
       " <BarContainer object of 10 artists>)"
      ]
     },
     "execution_count": 16,
     "metadata": {},
     "output_type": "execute_result"
    },
    {
     "data": {
      "image/png": "[encoded data removed]",
      "text/plain": [
       "<Figure size 640x480 with 1 Axes>"
      ]
     },
     "metadata": {},
     "output_type": "display_data"
    }
   ],
   "source": [
    "\n",
    "lengths = []\n",
    "\n",
    "tknz = tokenizer (parallel_text_new)\n",
    "for tnsr in tknz ['input_ids']:\n",
    "    lengths.append (len (tnsr))\n",
    "\n",
    "tknz = tokenizer (parallel_text_val_new)\n",
    "for tnsr in tknz ['input_ids']:\n",
    "    lengths.append (len (tnsr))\n",
    "\n",
    "tknz = tokenizer (parallel_text_test_new)\n",
    "for tnsr in tknz ['input_ids']:\n",
    "    lengths.append (len (tnsr))\n",
    "\n",
    "plt.hist (lengths)"
   ]
  },
  {
   "cell_type": "code",
   "execution_count": 17,
   "id": "7c3d6f2b",
   "metadata": {},
   "outputs": [
    {
     "data": {
      "text/plain": [
       "329"
      ]
     },
     "execution_count": 17,
     "metadata": {},
     "output_type": "execute_result"
    }
   ],
   "source": [
    "max (lengths)"
   ]
  },
  {
   "cell_type": "code",
   "execution_count": 18,
   "id": "6ddc6bda",
   "metadata": {},
   "outputs": [],
   "source": [
    "train_data = tokenizer (parallel_text_new, padding = 'max_length', truncation = True, max_length = SEQ_MAX_LENGTH, return_tensors = 'pt')\n",
    "#train_labels = tokenizer (parallel_label, padding = 'max_length', truncation = True, max_length = SEQ_MAX_LENGTH, return_tensors = 'pt')\n",
    "train_labels = tokenizer (parallel_label, padding = 'max_length', truncation = True, max_length = ANSWER_MAX_LENGTH, return_tensors = 'pt')\n",
    "\n",
    "val_data = tokenizer (parallel_text_val_new, padding = 'max_length', truncation = True, max_length = SEQ_MAX_LENGTH, return_tensors = 'pt')\n",
    "#val_labels = tokenizer (parallel_label_val, padding = 'max_length', truncation = True, max_length = SEQ_MAX_LENGTH, return_tensors = 'pt')\n",
    "val_labels = tokenizer (parallel_label_val, padding = 'max_length', truncation = True, max_length = ANSWER_MAX_LENGTH, return_tensors = 'pt')\n",
    "\n",
    "test_data = tokenizer (parallel_text_test_new, padding = 'max_length', truncation = True, max_length = SEQ_MAX_LENGTH, return_tensors = 'pt')\n",
    "#test_labels = tokenizer (parallel_label_test, padding = 'max_length', truncation = True, max_length = SEQ_MAX_LENGTH, return_tensors = 'pt')\n",
    "test_labels = tokenizer (parallel_label_test, padding = 'max_length', truncation = True, max_length = ANSWER_MAX_LENGTH, return_tensors = 'pt')"
   ]
  },
  {
   "cell_type": "code",
   "execution_count": 19,
   "id": "298b6931",
   "metadata": {},
   "outputs": [
    {
     "data": {
      "text/plain": [
       "tensor([[  298,   452,   452,  ...,  -100,  -100,  -100],\n",
       "        [ 6527,  1626,  6414,  ...,  -100,  -100,  -100],\n",
       "        [ 7592, 17096,  5446,  ...,  -100,  -100,  -100],\n",
       "        ...,\n",
       "        [ 9102,   685, 20099,  ...,  -100,  -100,  -100],\n",
       "        [ 9102,   685, 20099,  ...,  -100,  -100,  -100],\n",
       "        [ 5416,  7368,   685,  ...,  -100,  -100,  -100]])"
      ]
     },
     "execution_count": 19,
     "metadata": {},
     "output_type": "execute_result"
    }
   ],
   "source": [
    "### EXPERIMENTAL SOMETHING\n",
    "\n",
    "def replace_padding (labels):\n",
    "    for i in range (0, len (labels ['input_ids'])):\n",
    "        labels ['input_ids'] [i] = torch.tensor ([labl if labl != 0 else - 100 for labl in labels ['input_ids'] [i]])\n",
    "\n",
    "    return labels\n",
    "\n",
    "if ENABLE_LABEL_FIX:\n",
    "    rse = replace_padding (train_labels)\n",
    "    train_labels = rse\n",
    "\n",
    "    rse = replace_padding (val_labels)\n",
    "    val_labels = rse\n",
    "\n",
    "    rse = replace_padding (test_labels)\n",
    "    test_labels = rse\n",
    "\n",
    "train_labels ['input_ids']\n",
    "###"
   ]
  },
  {
   "cell_type": "code",
   "execution_count": 20,
   "id": "48c8519a",
   "metadata": {},
   "outputs": [],
   "source": [
    "class Seq2SeqDataset (Dataset):\n",
    "    def __init__ (self, encodings, labels):\n",
    "        self.encodings = encodings\n",
    "        self.labels = labels\n",
    "\n",
    "    def __getitem__ (self, idx):\n",
    "        return {\n",
    "            'input_ids': self.encodings ['input_ids'] [idx],\n",
    "            'attention_mask': self.encodings ['attention_mask'] [idx],\n",
    "            'labels': self.labels ['input_ids'] [idx]\n",
    "        }\n",
    "\n",
    "    def __len__ (self):\n",
    "        return len (self.encodings ['input_ids'])\n",
    "\n",
    "train_dataset = Seq2SeqDataset (train_data, train_labels)\n",
    "val_dataset = Seq2SeqDataset (val_data, val_labels)\n",
    "test_dataset = Seq2SeqDataset (test_data, test_labels)\n",
    "\n",
    "train_loader = DataLoader (train_dataset, batch_size = BATCH_SIZE, shuffle = True)\n",
    "val_loader = DataLoader (val_dataset, batch_size = EVAL_BATCH_SIZE)\n",
    "test_loader = DataLoader (test_dataset, batch_size = EVAL_BATCH_SIZE)"
   ]
  },
  {
   "cell_type": "code",
   "execution_count": 21,
   "id": "22b16df9",
   "metadata": {},
   "outputs": [
    {
     "name": "stdout",
     "output_type": "stream",
     "text": [
      "cuda:0\n"
     ]
    }
   ],
   "source": [
    "device = torch.device ('cuda' if torch.cuda.is_available () else 'cpu')\n",
    "\n",
    "model = MT5ForConditionalGeneration.from_pretrained (USED_MODEL_NAME)\n",
    "\n",
    "model.to (device)\n",
    "print (model.device)\n",
    "#model.train ()\n"
   ]
  },
  {
   "cell_type": "code",
   "execution_count": 22,
   "id": "6fdd09e6",
   "metadata": {},
   "outputs": [],
   "source": [
    "def get_set (tensor, ground_truth = True, tokenizer = tokenizer):\n",
    "\n",
    "    separator: str\n",
    "    if SEP_TOKEN == '▁<extra_id_0>': separator = '<extra_id_0>'\n",
    "    else: separator = SEP_TOKEN\n",
    "\n",
    "    res: set\n",
    "\n",
    "    if ground_truth:\n",
    "        eos_idx = (tensor == 1).nonzero ()\n",
    "        if eos_idx.numel () > 0:\n",
    "            eos_idx = int (eos_idx [0] [0])\n",
    "        else:\n",
    "            eos_idx = len (tensor)\n",
    "        seq = tensor [:eos_idx]\n",
    "    \n",
    "    else:\n",
    "        seq = tensor [tensor != 0]\n",
    "        seq = seq [seq != - 100]   ### WHAT?!\n",
    "        seq = seq [seq != 1]\n",
    "    \n",
    "    txt = tokenizer.decode (seq)\n",
    "    res = set ([item.strip () for item in txt.split (separator)])\n",
    "\n",
    "    if len (res) > 1:\n",
    "        res -= set ([''])\n",
    "\n",
    "    return res\n",
    "\n",
    "\n",
    "def sanity_check (preds, labels, to_print = False):\n",
    "\n",
    "    tps_sum = 0\n",
    "    fps_sum = 0\n",
    "    fns_sum = 0 \n",
    "\n",
    "    for i in range (len (labels)):\n",
    "        predicted_set = get_set (preds [i], ground_truth = False)\n",
    "        true_set = get_set (labels [i])\n",
    "\n",
    "        if to_print: print (f'True: {true_set}\\nPred: {predicted_set}')\n",
    "\n",
    "        tps_sum += len (true_set & predicted_set)  # Истинно положительные\n",
    "        fps_sum += len (predicted_set - true_set)     # Ложноположительные\n",
    "        fns_sum += len (true_set - predicted_set)     # Ложноотрицательные\n",
    "\n",
    "    precision = tps_sum / (tps_sum + fps_sum) if (tps_sum + fps_sum) > 0 else 0\n",
    "    recall = tps_sum / (tps_sum + fns_sum) if (tps_sum + fns_sum) > 0 else 0\n",
    "    f1_score = 2 * (precision * recall) / (precision + recall) if (precision + recall) > 0 else 0\n",
    "\n",
    "    return precision, recall, f1_score"
   ]
  },
  {
   "cell_type": "code",
   "execution_count": 23,
   "id": "af7feda5",
   "metadata": {},
   "outputs": [],
   "source": [
    "metrics = {'train_loss': [], 'val_loss': [], 'precision': [], 'recall': [], 'f1_score': []}"
   ]
  },
  {
   "cell_type": "code",
   "execution_count": 24,
   "id": "76e4161a",
   "metadata": {},
   "outputs": [],
   "source": [
    "'''\n",
    "random_train_texts = []\n",
    "iterations = 100\n",
    "for epoch in range (iterations):\n",
    "    print (f'Train for epoch {epoch + 1} / {iterations}:')\n",
    "    random_train_texts.append (attach_dictionary_foundings (parallel_text, all_train_terms, use_random = True))\n",
    "'''\n",
    "random_train_save = pd.read_json ('random_train_texts_v1.json')\n",
    "random_train_texts = random_train_save ['text']\n"
   ]
  },
  {
   "cell_type": "code",
   "execution_count": 25,
   "id": "bf665fed",
   "metadata": {},
   "outputs": [
    {
     "name": "stdout",
     "output_type": "stream",
     "text": [
      "Suggested train steps: 26100\n",
      "\t warmup steps: 1305 - 2610\n"
     ]
    }
   ],
   "source": [
    "num_epochs = 100\n",
    "training_steps = len (train_data ['input_ids']) // BATCH_SIZE * num_epochs\n",
    "warmup_steps = int (training_steps * 0.1)\n",
    "print (f'Suggested train steps: {training_steps}\\n\\t warmup steps: {int (training_steps * 0.05)} - {int (training_steps * 0.1)}')"
   ]
  },
  {
   "cell_type": "code",
   "execution_count": 26,
   "id": "6d3db8d1",
   "metadata": {},
   "outputs": [],
   "source": [
    "#from fairseq.optim.adafactor import Adafactor"
   ]
  },
  {
   "cell_type": "code",
   "execution_count": 27,
   "id": "f3d5eb25",
   "metadata": {},
   "outputs": [],
   "source": [
    "#optimizer = AdamW (model.parameters (), lr = 1e-5)#, weight_decay = 0.05)\n",
    "optimizer = AdamW (filter (lambda p: p.requires_grad, model.parameters ()), lr = 3e-5, weight_decay = 0.02)\n",
    "\n",
    "#optimizer = Adafactor (model.parameters (), lr = 3e-5, scale_parameter = False, relative_step = False, weight_decay = 0.02)\n",
    "\n",
    "#scheduler = lr_scheduler.StepLR (optimizer, warmup_steps = 637, training_steps = 6375)\n",
    "scheduler = get_scheduler ('linear', optimizer = optimizer, num_warmup_steps = warmup_steps, num_training_steps = training_steps)"
   ]
  },
  {
   "cell_type": "code",
   "execution_count": 28,
   "id": "84e76a12",
   "metadata": {},
   "outputs": [
    {
     "name": "stderr",
     "output_type": "stream",
     "text": [
      "  0%|          | 0/262 [00:00<?, ?it/s]Passing a tuple of `past_key_values` is deprecated and will be removed in Transformers v4.48.0. You should pass an instance of `EncoderDecoderCache` instead, e.g. `past_key_values=EncoderDecoderCache.from_legacy_cache(past_key_values)`.\n",
      "100%|██████████| 262/262 [01:39<00:00,  2.64it/s]\n"
     ]
    },
    {
     "name": "stdout",
     "output_type": "stream",
     "text": [
      "Epoch 1 / 100, Loss: 3.1801, Validation loss: 3.0151, 0.0007751937984496124 / 0.00019932230416583617 / 0.0003171079752655779\n"
     ]
    },
    {
     "name": "stderr",
     "output_type": "stream",
     "text": [
      "100%|██████████| 262/262 [01:35<00:00,  2.74it/s]\n"
     ]
    },
    {
     "name": "stdout",
     "output_type": "stream",
     "text": [
      "Epoch 2 / 100, Loss: 2.3831, Validation loss: 2.2146, 0.10166358595194085 / 0.03288818018736297 / 0.0496987951807229\n"
     ]
    },
    {
     "name": "stderr",
     "output_type": "stream",
     "text": [
      "100%|██████████| 262/262 [01:35<00:00,  2.75it/s]\n"
     ]
    },
    {
     "name": "stdout",
     "output_type": "stream",
     "text": [
      "Epoch 3 / 100, Loss: 1.8366, Validation loss: 1.7503, 0.3455357142857143 / 0.1542754634243572 / 0.21331128565522944\n"
     ]
    },
    {
     "name": "stderr",
     "output_type": "stream",
     "text": [
      "100%|██████████| 262/262 [01:35<00:00,  2.75it/s]\n"
     ]
    },
    {
     "name": "stdout",
     "output_type": "stream",
     "text": [
      "Epoch 4 / 100, Loss: 1.4584, Validation loss: 1.3560, 0.4513888888888889 / 0.24616304564480765 / 0.31858635366954724\n"
     ]
    },
    {
     "name": "stderr",
     "output_type": "stream",
     "text": [
      "100%|██████████| 262/262 [01:34<00:00,  2.76it/s]\n"
     ]
    },
    {
     "name": "stdout",
     "output_type": "stream",
     "text": [
      "Epoch 5 / 100, Loss: 1.1294, Validation loss: 1.0861, 0.48775510204081635 / 0.28582818417380906 / 0.3604373507603368\n"
     ]
    },
    {
     "name": "stderr",
     "output_type": "stream",
     "text": [
      "100%|██████████| 262/262 [01:35<00:00,  2.76it/s]\n"
     ]
    },
    {
     "name": "stdout",
     "output_type": "stream",
     "text": [
      "Epoch 6 / 100, Loss: 0.9484, Validation loss: 0.9623, 0.5107913669064749 / 0.3113414391070361 / 0.3868730650154799\n"
     ]
    },
    {
     "name": "stderr",
     "output_type": "stream",
     "text": [
      "100%|██████████| 262/262 [01:34<00:00,  2.76it/s]\n"
     ]
    },
    {
     "name": "stdout",
     "output_type": "stream",
     "text": [
      "Epoch 7 / 100, Loss: 0.8401, Validation loss: 0.8696, 0.5277777777777778 / 0.32569264500697626 / 0.4028103044496487\n"
     ]
    },
    {
     "name": "stderr",
     "output_type": "stream",
     "text": [
      "100%|██████████| 262/262 [01:35<00:00,  2.76it/s]\n"
     ]
    },
    {
     "name": "stdout",
     "output_type": "stream",
     "text": [
      "Epoch 8 / 100, Loss: 0.7470, Validation loss: 0.7857, 0.5455417066155321 / 0.34024317321108233 / 0.41910139945985764\n"
     ]
    },
    {
     "name": "stderr",
     "output_type": "stream",
     "text": [
      "100%|██████████| 262/262 [01:35<00:00,  2.75it/s]\n"
     ]
    },
    {
     "name": "stdout",
     "output_type": "stream",
     "text": [
      "Epoch 9 / 100, Loss: 0.6803, Validation loss: 0.7270, 0.5850234009360374 / 0.3737293203109428 / 0.4560934079299441\n"
     ]
    },
    {
     "name": "stderr",
     "output_type": "stream",
     "text": [
      "100%|██████████| 262/262 [01:35<00:00,  2.75it/s]\n"
     ]
    },
    {
     "name": "stdout",
     "output_type": "stream",
     "text": [
      "Epoch 10 / 100, Loss: 0.6221, Validation loss: 0.7097, 0.6086112010359339 / 0.374725931831772 / 0.463853935356526\n"
     ]
    },
    {
     "name": "stderr",
     "output_type": "stream",
     "text": [
      "100%|██████████| 262/262 [01:35<00:00,  2.74it/s]\n"
     ]
    },
    {
     "name": "stdout",
     "output_type": "stream",
     "text": [
      "Epoch 11 / 100, Loss: 0.5760, Validation loss: 0.6659, 0.6092026473369051 / 0.3852900139525613 / 0.472039072039072\n"
     ]
    },
    {
     "name": "stderr",
     "output_type": "stream",
     "text": [
      "100%|██████████| 262/262 [01:35<00:00,  2.76it/s]\n"
     ]
    },
    {
     "name": "stdout",
     "output_type": "stream",
     "text": [
      "Epoch 12 / 100, Loss: 0.5299, Validation loss: 0.6424, 0.6272095959595959 / 0.39605341837751645 / 0.48552229688454485\n"
     ]
    },
    {
     "name": "stderr",
     "output_type": "stream",
     "text": [
      "100%|██████████| 262/262 [01:35<00:00,  2.76it/s]\n"
     ]
    },
    {
     "name": "stdout",
     "output_type": "stream",
     "text": [
      "Epoch 13 / 100, Loss: 0.4923, Validation loss: 0.6251, 0.6267409470752089 / 0.4036276659358182 / 0.49102812803103785\n"
     ]
    },
    {
     "name": "stderr",
     "output_type": "stream",
     "text": [
      "100%|██████████| 262/262 [01:35<00:00,  2.76it/s]\n"
     ]
    },
    {
     "name": "stdout",
     "output_type": "stream",
     "text": [
      "Epoch 14 / 100, Loss: 0.4681, Validation loss: 0.6116, 0.6442189421894219 / 0.41758022722742677 / 0.5067118152134479\n"
     ]
    },
    {
     "name": "stderr",
     "output_type": "stream",
     "text": [
      "100%|██████████| 262/262 [01:35<00:00,  2.76it/s]\n"
     ]
    },
    {
     "name": "stdout",
     "output_type": "stream",
     "text": [
      "Epoch 15 / 100, Loss: 0.4456, Validation loss: 0.6204, 0.6657259328943242 / 0.42316125174407015 / 0.517426273458445\n"
     ]
    },
    {
     "name": "stderr",
     "output_type": "stream",
     "text": [
      "100%|██████████| 262/262 [01:34<00:00,  2.76it/s]\n"
     ]
    },
    {
     "name": "stdout",
     "output_type": "stream",
     "text": [
      "Epoch 16 / 100, Loss: 0.4295, Validation loss: 0.5955, 0.6566523605150214 / 0.42694837552322107 / 0.5174537987679672\n"
     ]
    },
    {
     "name": "stderr",
     "output_type": "stream",
     "text": [
      "100%|██████████| 262/262 [01:34<00:00,  2.76it/s]\n"
     ]
    },
    {
     "name": "stdout",
     "output_type": "stream",
     "text": [
      "Epoch 17 / 100, Loss: 0.4116, Validation loss: 0.5964, 0.6702988792029888 / 0.42914092086904526 / 0.5232713573945802\n"
     ]
    },
    {
     "name": "stderr",
     "output_type": "stream",
     "text": [
      "100%|██████████| 262/262 [01:35<00:00,  2.76it/s]\n"
     ]
    },
    {
     "name": "stdout",
     "output_type": "stream",
     "text": [
      "Epoch 18 / 100, Loss: 0.3929, Validation loss: 0.5840, 0.666056166056166 / 0.4349212676898545 / 0.5262269383817678\n"
     ]
    },
    {
     "name": "stderr",
     "output_type": "stream",
     "text": [
      "100%|██████████| 262/262 [01:34<00:00,  2.76it/s]\n"
     ]
    },
    {
     "name": "stdout",
     "output_type": "stream",
     "text": [
      "Epoch 19 / 100, Loss: 0.3793, Validation loss: 0.5869, 0.6671802773497689 / 0.43153278851903526 / 0.5240861776809489\n"
     ]
    },
    {
     "name": "stderr",
     "output_type": "stream",
     "text": [
      "100%|██████████| 262/262 [01:35<00:00,  2.76it/s]\n"
     ]
    },
    {
     "name": "stdout",
     "output_type": "stream",
     "text": [
      "Epoch 20 / 100, Loss: 0.3668, Validation loss: 0.5653, 0.6674684305472038 / 0.4424955152481563 / 0.5321826681049983\n"
     ]
    },
    {
     "name": "stderr",
     "output_type": "stream",
     "text": [
      "100%|██████████| 262/262 [01:37<00:00,  2.69it/s]\n"
     ]
    },
    {
     "name": "stdout",
     "output_type": "stream",
     "text": [
      "Epoch 21 / 100, Loss: 0.3548, Validation loss: 0.5854, 0.675 / 0.4359178792106837 / 0.5297323483105245\n"
     ]
    },
    {
     "name": "stderr",
     "output_type": "stream",
     "text": [
      "100%|██████████| 262/262 [01:45<00:00,  2.47it/s]\n"
     ]
    },
    {
     "name": "stdout",
     "output_type": "stream",
     "text": [
      "Epoch 22 / 100, Loss: 0.3432, Validation loss: 0.5912, 0.684863523573201 / 0.4401036475981662 / 0.5358572988714962\n"
     ]
    },
    {
     "name": "stderr",
     "output_type": "stream",
     "text": [
      "100%|██████████| 262/262 [01:45<00:00,  2.48it/s]\n"
     ]
    },
    {
     "name": "stdout",
     "output_type": "stream",
     "text": [
      "Epoch 23 / 100, Loss: 0.3288, Validation loss: 0.5675, 0.6857749469214437 / 0.4506677297189556 / 0.5439018522973299\n"
     ]
    },
    {
     "name": "stderr",
     "output_type": "stream",
     "text": [
      "100%|██████████| 262/262 [01:44<00:00,  2.51it/s]\n"
     ]
    },
    {
     "name": "stdout",
     "output_type": "stream",
     "text": [
      "Epoch 24 / 100, Loss: 0.3224, Validation loss: 0.5692, 0.6955855303494789 / 0.45226230815228224 / 0.5481338325884768\n"
     ]
    },
    {
     "name": "stderr",
     "output_type": "stream",
     "text": [
      "100%|██████████| 262/262 [01:43<00:00,  2.52it/s]\n"
     ]
    },
    {
     "name": "stdout",
     "output_type": "stream",
     "text": [
      "Epoch 25 / 100, Loss: 0.3139, Validation loss: 0.5606, 0.687863038826047 / 0.44847518437313133 / 0.542953667953668\n"
     ]
    },
    {
     "name": "stderr",
     "output_type": "stream",
     "text": [
      "100%|██████████| 262/262 [01:43<00:00,  2.53it/s]\n"
     ]
    },
    {
     "name": "stdout",
     "output_type": "stream",
     "text": [
      "Epoch 26 / 100, Loss: 0.3064, Validation loss: 0.5730, 0.7015063018751921 / 0.4548534981064381 / 0.5518742442563483\n"
     ]
    },
    {
     "name": "stderr",
     "output_type": "stream",
     "text": [
      "100%|██████████| 262/262 [01:44<00:00,  2.52it/s]\n"
     ]
    },
    {
     "name": "stdout",
     "output_type": "stream",
     "text": [
      "Epoch 27 / 100, Loss: 0.2982, Validation loss: 0.5701, 0.6997541487400123 / 0.4538568865856089 / 0.5505984766050054\n"
     ]
    },
    {
     "name": "stderr",
     "output_type": "stream",
     "text": [
      "100%|██████████| 262/262 [01:44<00:00,  2.50it/s]\n"
     ]
    },
    {
     "name": "stdout",
     "output_type": "stream",
     "text": [
      "Epoch 28 / 100, Loss: 0.2885, Validation loss: 0.5911, 0.7105508870214753 / 0.45505282041060396 / 0.5547995139732685\n"
     ]
    },
    {
     "name": "stderr",
     "output_type": "stream",
     "text": [
      "100%|██████████| 262/262 [01:44<00:00,  2.50it/s]\n"
     ]
    },
    {
     "name": "stdout",
     "output_type": "stream",
     "text": [
      "Epoch 29 / 100, Loss: 0.2827, Validation loss: 0.5715, 0.6997261940979617 / 0.45844129958142316 / 0.5539499036608863\n"
     ]
    },
    {
     "name": "stderr",
     "output_type": "stream",
     "text": [
      "100%|██████████| 262/262 [01:44<00:00,  2.52it/s]\n"
     ]
    },
    {
     "name": "stdout",
     "output_type": "stream",
     "text": [
      "Epoch 30 / 100, Loss: 0.2786, Validation loss: 0.5775, 0.7026123936816525 / 0.461032489535579 / 0.5567456974365146\n"
     ]
    },
    {
     "name": "stderr",
     "output_type": "stream",
     "text": [
      "100%|██████████| 262/262 [01:43<00:00,  2.53it/s]\n"
     ]
    },
    {
     "name": "stdout",
     "output_type": "stream",
     "text": [
      "Epoch 31 / 100, Loss: 0.2697, Validation loss: 0.5735, 0.699488105992171 / 0.4630257125772374 / 0.5572079635404174\n"
     ]
    },
    {
     "name": "stderr",
     "output_type": "stream",
     "text": [
      "100%|██████████| 262/262 [01:44<00:00,  2.51it/s]\n"
     ]
    },
    {
     "name": "stdout",
     "output_type": "stream",
     "text": [
      "Epoch 32 / 100, Loss: 0.2636, Validation loss: 0.5800, 0.7120563035495716 / 0.46382300179390074 / 0.5617380808690404\n"
     ]
    },
    {
     "name": "stderr",
     "output_type": "stream",
     "text": [
      "100%|██████████| 262/262 [01:44<00:00,  2.50it/s]\n"
     ]
    },
    {
     "name": "stdout",
     "output_type": "stream",
     "text": [
      "Epoch 33 / 100, Loss: 0.2560, Validation loss: 0.5772, 0.7034104750304506 / 0.46043452262308154 / 0.5565594506685942\n"
     ]
    },
    {
     "name": "stderr",
     "output_type": "stream",
     "text": [
      "100%|██████████| 262/262 [01:43<00:00,  2.53it/s]\n"
     ]
    },
    {
     "name": "stdout",
     "output_type": "stream",
     "text": [
      "Epoch 34 / 100, Loss: 0.2526, Validation loss: 0.5809, 0.7045871559633028 / 0.4592385887980865 / 0.5560516471581995\n"
     ]
    },
    {
     "name": "stderr",
     "output_type": "stream",
     "text": [
      "100%|██████████| 262/262 [01:40<00:00,  2.60it/s]\n"
     ]
    },
    {
     "name": "stdout",
     "output_type": "stream",
     "text": [
      "Epoch 35 / 100, Loss: 0.2462, Validation loss: 0.5923, 0.7086783195338853 / 0.46063384492724735 / 0.5583474269147137\n"
     ]
    },
    {
     "name": "stderr",
     "output_type": "stream",
     "text": [
      "100%|██████████| 262/262 [01:35<00:00,  2.75it/s]\n"
     ]
    },
    {
     "name": "stdout",
     "output_type": "stream",
     "text": [
      "Epoch 36 / 100, Loss: 0.2407, Validation loss: 0.5901, 0.7028272894898586 / 0.4558501096272673 / 0.5530165638979567\n"
     ]
    },
    {
     "name": "stderr",
     "output_type": "stream",
     "text": [
      "100%|██████████| 262/262 [01:35<00:00,  2.75it/s]\n"
     ]
    },
    {
     "name": "stdout",
     "output_type": "stream",
     "text": [
      "Epoch 37 / 100, Loss: 0.2394, Validation loss: 0.5895, 0.7125693160813309 / 0.461032489535579 / 0.5598450925813869\n"
     ]
    },
    {
     "name": "stderr",
     "output_type": "stream",
     "text": [
      "100%|██████████| 262/262 [01:35<00:00,  2.75it/s]\n"
     ]
    },
    {
     "name": "stdout",
     "output_type": "stream",
     "text": [
      "Epoch 38 / 100, Loss: 0.2341, Validation loss: 0.5766, 0.7080801944106926 / 0.46462029101056407 / 0.561078348778433\n"
     ]
    },
    {
     "name": "stderr",
     "output_type": "stream",
     "text": [
      "100%|██████████| 262/262 [01:34<00:00,  2.76it/s]\n"
     ]
    },
    {
     "name": "stdout",
     "output_type": "stream",
     "text": [
      "Epoch 39 / 100, Loss: 0.2291, Validation loss: 0.5925, 0.7153035935563816 / 0.4602352003189157 / 0.5600970285021225\n"
     ]
    },
    {
     "name": "stderr",
     "output_type": "stream",
     "text": [
      "100%|██████████| 262/262 [01:37<00:00,  2.69it/s]\n"
     ]
    },
    {
     "name": "stdout",
     "output_type": "stream",
     "text": [
      "Epoch 40 / 100, Loss: 0.2317, Validation loss: 0.5699, 0.7000301477238469 / 0.46282639027307154 / 0.5572354211663066\n"
     ]
    },
    {
     "name": "stderr",
     "output_type": "stream",
     "text": [
      "100%|██████████| 262/262 [01:46<00:00,  2.46it/s]\n"
     ]
    },
    {
     "name": "stdout",
     "output_type": "stream",
     "text": [
      "Epoch 41 / 100, Loss: 0.2210, Validation loss: 0.5779, 0.7006658595641646 / 0.4614311341439107 / 0.5564235067900493\n"
     ]
    },
    {
     "name": "stderr",
     "output_type": "stream",
     "text": [
      "100%|██████████| 262/262 [01:44<00:00,  2.50it/s]\n"
     ]
    },
    {
     "name": "stdout",
     "output_type": "stream",
     "text": [
      "Epoch 42 / 100, Loss: 0.2199, Validation loss: 0.5878, 0.7072266831377394 / 0.4564480765397648 / 0.5548152634766808\n"
     ]
    },
    {
     "name": "stderr",
     "output_type": "stream",
     "text": [
      "100%|██████████| 262/262 [01:45<00:00,  2.49it/s]\n"
     ]
    },
    {
     "name": "stdout",
     "output_type": "stream",
     "text": [
      "Epoch 43 / 100, Loss: 0.2124, Validation loss: 0.5961, 0.7023086269744836 / 0.4608331672314132 / 0.5565049945841859\n"
     ]
    },
    {
     "name": "stderr",
     "output_type": "stream",
     "text": [
      "100%|██████████| 262/262 [01:44<00:00,  2.51it/s]\n"
     ]
    },
    {
     "name": "stdout",
     "output_type": "stream",
     "text": [
      "Epoch 44 / 100, Loss: 0.2082, Validation loss: 0.5974, 0.7118279569892473 / 0.4618297787522424 / 0.5602030947775629\n"
     ]
    },
    {
     "name": "stderr",
     "output_type": "stream",
     "text": [
      "100%|██████████| 262/262 [01:44<00:00,  2.51it/s]\n"
     ]
    },
    {
     "name": "stdout",
     "output_type": "stream",
     "text": [
      "Epoch 45 / 100, Loss: 0.2071, Validation loss: 0.5933, 0.7079101261926747 / 0.45844129958142316 / 0.5564964916525527\n"
     ]
    },
    {
     "name": "stderr",
     "output_type": "stream",
     "text": [
      "100%|██████████| 262/262 [01:43<00:00,  2.53it/s]\n"
     ]
    },
    {
     "name": "stdout",
     "output_type": "stream",
     "text": [
      "Epoch 46 / 100, Loss: 0.2066, Validation loss: 0.5901, 0.7101096224116931 / 0.46481961331472993 / 0.561860016865438\n"
     ]
    },
    {
     "name": "stderr",
     "output_type": "stream",
     "text": [
      "100%|██████████| 262/262 [01:46<00:00,  2.46it/s]\n"
     ]
    },
    {
     "name": "stdout",
     "output_type": "stream",
     "text": [
      "Epoch 47 / 100, Loss: 0.2007, Validation loss: 0.5914, 0.7036247334754797 / 0.46043452262308154 / 0.5566265060240965\n"
     ]
    },
    {
     "name": "stderr",
     "output_type": "stream",
     "text": [
      "100%|██████████| 262/262 [01:44<00:00,  2.51it/s]\n"
     ]
    },
    {
     "name": "stdout",
     "output_type": "stream",
     "text": [
      "Epoch 48 / 100, Loss: 0.1984, Validation loss: 0.5940, 0.7043451838347007 / 0.4620291010564082 / 0.5580163697640828\n"
     ]
    },
    {
     "name": "stderr",
     "output_type": "stream",
     "text": [
      "100%|██████████| 262/262 [01:45<00:00,  2.48it/s]\n"
     ]
    },
    {
     "name": "stdout",
     "output_type": "stream",
     "text": [
      "Epoch 49 / 100, Loss: 0.1940, Validation loss: 0.6024, 0.7156048014773777 / 0.46342435718556907 / 0.5625453665618195\n"
     ]
    },
    {
     "name": "stderr",
     "output_type": "stream",
     "text": [
      "100%|██████████| 262/262 [01:45<00:00,  2.48it/s]\n"
     ]
    },
    {
     "name": "stdout",
     "output_type": "stream",
     "text": [
      "Epoch 50 / 100, Loss: 0.1944, Validation loss: 0.6057, 0.7114320835894284 / 0.4614311341439107 / 0.5597872083182203\n"
     ]
    },
    {
     "name": "stderr",
     "output_type": "stream",
     "text": [
      "100%|██████████| 262/262 [01:44<00:00,  2.51it/s]\n"
     ]
    },
    {
     "name": "stdout",
     "output_type": "stream",
     "text": [
      "Epoch 51 / 100, Loss: 0.1872, Validation loss: 0.6003, 0.7146363915311446 / 0.4642216464022324 / 0.5628322861285646\n"
     ]
    },
    {
     "name": "stderr",
     "output_type": "stream",
     "text": [
      "100%|██████████| 262/262 [01:44<00:00,  2.50it/s]\n"
     ]
    },
    {
     "name": "stdout",
     "output_type": "stream",
     "text": [
      "Epoch 52 / 100, Loss: 0.1882, Validation loss: 0.6017, 0.7167950693374422 / 0.4636236794897349 / 0.5630597918179616\n"
     ]
    },
    {
     "name": "stderr",
     "output_type": "stream",
     "text": [
      "100%|██████████| 262/262 [01:46<00:00,  2.46it/s]\n"
     ]
    },
    {
     "name": "stdout",
     "output_type": "stream",
     "text": [
      "Epoch 53 / 100, Loss: 0.1834, Validation loss: 0.6043, 0.710703363914373 / 0.4632250348814032 / 0.5608784843731145\n"
     ]
    },
    {
     "name": "stderr",
     "output_type": "stream",
     "text": [
      "100%|██████████| 262/262 [01:52<00:00,  2.33it/s]\n"
     ]
    },
    {
     "name": "stdout",
     "output_type": "stream",
     "text": [
      "Epoch 54 / 100, Loss: 0.1836, Validation loss: 0.5966, 0.7114854517611026 / 0.4630257125772374 / 0.5609756097560976\n"
     ]
    },
    {
     "name": "stderr",
     "output_type": "stream",
     "text": [
      "100%|██████████| 262/262 [01:45<00:00,  2.48it/s]\n"
     ]
    },
    {
     "name": "stdout",
     "output_type": "stream",
     "text": [
      "Epoch 55 / 100, Loss: 0.1821, Validation loss: 0.6076, 0.7097665847665847 / 0.46063384492724735 / 0.5586848785204884\n"
     ]
    },
    {
     "name": "stderr",
     "output_type": "stream",
     "text": [
      "100%|██████████| 262/262 [01:46<00:00,  2.46it/s]\n"
     ]
    },
    {
     "name": "stdout",
     "output_type": "stream",
     "text": [
      "Epoch 56 / 100, Loss: 0.1761, Validation loss: 0.6063, 0.7113684852179214 / 0.4652182579230616 / 0.5625451916124368\n"
     ]
    },
    {
     "name": "stderr",
     "output_type": "stream",
     "text": [
      "100%|██████████| 262/262 [01:45<00:00,  2.49it/s]\n"
     ]
    },
    {
     "name": "stdout",
     "output_type": "stream",
     "text": [
      "Epoch 57 / 100, Loss: 0.1752, Validation loss: 0.6087, 0.7114443084455324 / 0.46342435718556907 / 0.5612552806276403\n"
     ]
    },
    {
     "name": "stderr",
     "output_type": "stream",
     "text": [
      "100%|██████████| 262/262 [01:46<00:00,  2.47it/s]\n"
     ]
    },
    {
     "name": "stdout",
     "output_type": "stream",
     "text": [
      "Epoch 58 / 100, Loss: 0.1781, Validation loss: 0.6258, 0.719629057187017 / 0.4640223240980666 / 0.5642268540959767\n"
     ]
    },
    {
     "name": "stderr",
     "output_type": "stream",
     "text": [
      "100%|██████████| 262/262 [01:44<00:00,  2.51it/s]\n"
     ]
    },
    {
     "name": "stdout",
     "output_type": "stream",
     "text": [
      "Epoch 59 / 100, Loss: 0.1728, Validation loss: 0.6036, 0.7092349893325206 / 0.46382300179390074 / 0.5608580380814654\n"
     ]
    },
    {
     "name": "stderr",
     "output_type": "stream",
     "text": [
      "100%|██████████| 262/262 [01:43<00:00,  2.52it/s]\n"
     ]
    },
    {
     "name": "stdout",
     "output_type": "stream",
     "text": [
      "Epoch 60 / 100, Loss: 0.1707, Validation loss: 0.6048, 0.7156441717791411 / 0.46501893561889573 / 0.5637308203455359\n"
     ]
    },
    {
     "name": "stderr",
     "output_type": "stream",
     "text": [
      "100%|██████████| 262/262 [01:44<00:00,  2.51it/s]\n"
     ]
    },
    {
     "name": "stdout",
     "output_type": "stream",
     "text": [
      "Epoch 61 / 100, Loss: 0.1719, Validation loss: 0.6130, 0.7177048174286591 / 0.4662148694438908 / 0.5652489125181247\n"
     ]
    },
    {
     "name": "stderr",
     "output_type": "stream",
     "text": [
      "100%|██████████| 262/262 [01:44<00:00,  2.51it/s]\n"
     ]
    },
    {
     "name": "stdout",
     "output_type": "stream",
     "text": [
      "Epoch 62 / 100, Loss: 0.1659, Validation loss: 0.6128, 0.7177518427518428 / 0.4658162248355591 / 0.5649703855916839\n"
     ]
    },
    {
     "name": "stderr",
     "output_type": "stream",
     "text": [
      "100%|██████████| 262/262 [01:44<00:00,  2.51it/s]\n"
     ]
    },
    {
     "name": "stdout",
     "output_type": "stream",
     "text": [
      "Epoch 63 / 100, Loss: 0.1641, Validation loss: 0.6160, 0.7180981595092024 / 0.46661351405222246 / 0.5656638878820829\n"
     ]
    },
    {
     "name": "stderr",
     "output_type": "stream",
     "text": [
      "100%|██████████| 262/262 [01:44<00:00,  2.51it/s]\n"
     ]
    },
    {
     "name": "stdout",
     "output_type": "stream",
     "text": [
      "Epoch 64 / 100, Loss: 0.1618, Validation loss: 0.6217, 0.7177819083023544 / 0.4618297787522424 / 0.5620375985445726\n"
     ]
    },
    {
     "name": "stderr",
     "output_type": "stream",
     "text": [
      "100%|██████████| 262/262 [01:49<00:00,  2.40it/s]\n"
     ]
    },
    {
     "name": "stdout",
     "output_type": "stream",
     "text": [
      "Epoch 65 / 100, Loss: 0.1631, Validation loss: 0.6228, 0.7214373464373465 / 0.4682080924855491 / 0.5678713888553124\n"
     ]
    },
    {
     "name": "stderr",
     "output_type": "stream",
     "text": [
      "100%|██████████| 262/262 [01:53<00:00,  2.32it/s]\n"
     ]
    },
    {
     "name": "stdout",
     "output_type": "stream",
     "text": [
      "Epoch 66 / 100, Loss: 0.1593, Validation loss: 0.6183, 0.7229916897506925 / 0.4682080924855491 / 0.5683522864747156\n"
     ]
    },
    {
     "name": "stderr",
     "output_type": "stream",
     "text": [
      "100%|██████████| 262/262 [02:14<00:00,  1.95it/s]\n"
     ]
    },
    {
     "name": "stdout",
     "output_type": "stream",
     "text": [
      "Epoch 67 / 100, Loss: 0.1592, Validation loss: 0.6280, 0.7237569060773481 / 0.47000199322304165 / 0.5699093655589124\n"
     ]
    },
    {
     "name": "stderr",
     "output_type": "stream",
     "text": [
      "100%|██████████| 262/262 [01:50<00:00,  2.38it/s]\n"
     ]
    },
    {
     "name": "stdout",
     "output_type": "stream",
     "text": [
      "Epoch 68 / 100, Loss: 0.1564, Validation loss: 0.6279, 0.7225985221674877 / 0.46780944787721745 / 0.5679370840895342\n"
     ]
    },
    {
     "name": "stderr",
     "output_type": "stream",
     "text": [
      "100%|██████████| 262/262 [01:52<00:00,  2.34it/s]\n"
     ]
    },
    {
     "name": "stdout",
     "output_type": "stream",
     "text": [
      "Epoch 69 / 100, Loss: 0.1588, Validation loss: 0.6262, 0.7252848783492455 / 0.4694040263105442 / 0.5699419167473379\n"
     ]
    },
    {
     "name": "stderr",
     "output_type": "stream",
     "text": [
      "100%|██████████| 262/262 [01:47<00:00,  2.44it/s]\n"
     ]
    },
    {
     "name": "stdout",
     "output_type": "stream",
     "text": [
      "Epoch 70 / 100, Loss: 0.1540, Validation loss: 0.6165, 0.7224953902888752 / 0.4686067370938808 / 0.5684923225728449\n"
     ]
    },
    {
     "name": "stderr",
     "output_type": "stream",
     "text": [
      "100%|██████████| 262/262 [02:20<00:00,  1.86it/s]\n"
     ]
    },
    {
     "name": "stdout",
     "output_type": "stream",
     "text": [
      "Epoch 71 / 100, Loss: 0.1513, Validation loss: 0.6182, 0.7201344332416743 / 0.46980267091887584 / 0.568636911942099\n"
     ]
    },
    {
     "name": "stderr",
     "output_type": "stream",
     "text": [
      "100%|██████████| 262/262 [01:49<00:00,  2.40it/s]\n"
     ]
    },
    {
     "name": "stdout",
     "output_type": "stream",
     "text": [
      "Epoch 72 / 100, Loss: 0.1515, Validation loss: 0.6210, 0.7225964482547459 / 0.4704006378313733 / 0.5698418447422431\n"
     ]
    },
    {
     "name": "stderr",
     "output_type": "stream",
     "text": [
      "100%|██████████| 262/262 [01:48<00:00,  2.41it/s]\n"
     ]
    },
    {
     "name": "stdout",
     "output_type": "stream",
     "text": [
      "Epoch 73 / 100, Loss: 0.1483, Validation loss: 0.6348, 0.7291217257318953 / 0.47159657165636837 / 0.5727426773178408\n"
     ]
    },
    {
     "name": "stderr",
     "output_type": "stream",
     "text": [
      "100%|██████████| 262/262 [01:51<00:00,  2.35it/s]\n"
     ]
    },
    {
     "name": "stdout",
     "output_type": "stream",
     "text": [
      "Epoch 74 / 100, Loss: 0.1493, Validation loss: 0.6266, 0.7245619428220105 / 0.46980267091887584 / 0.570012091898428\n"
     ]
    },
    {
     "name": "stderr",
     "output_type": "stream",
     "text": [
      "100%|██████████| 262/262 [01:49<00:00,  2.40it/s]\n"
     ]
    },
    {
     "name": "stdout",
     "output_type": "stream",
     "text": [
      "Epoch 75 / 100, Loss: 0.1479, Validation loss: 0.6223, 0.7253758821724455 / 0.4711979270480367 / 0.5712904784920251\n"
     ]
    },
    {
     "name": "stderr",
     "output_type": "stream",
     "text": [
      "100%|██████████| 262/262 [01:49<00:00,  2.39it/s]\n"
     ]
    },
    {
     "name": "stdout",
     "output_type": "stream",
     "text": [
      "Epoch 76 / 100, Loss: 0.1466, Validation loss: 0.6293, 0.7209800918836141 / 0.4692047040063783 / 0.5684617242212026\n"
     ]
    },
    {
     "name": "stderr",
     "output_type": "stream",
     "text": [
      "100%|██████████| 262/262 [01:57<00:00,  2.22it/s]\n"
     ]
    },
    {
     "name": "stdout",
     "output_type": "stream",
     "text": [
      "Epoch 77 / 100, Loss: 0.1450, Validation loss: 0.6365, 0.7267119062307218 / 0.46960334861471 / 0.5705291197481536\n"
     ]
    },
    {
     "name": "stderr",
     "output_type": "stream",
     "text": [
      "100%|██████████| 262/262 [01:52<00:00,  2.32it/s]\n"
     ]
    },
    {
     "name": "stdout",
     "output_type": "stream",
     "text": [
      "Epoch 78 / 100, Loss: 0.1434, Validation loss: 0.6234, 0.724211815120906 / 0.47159657165636837 / 0.5712216320618059\n"
     ]
    },
    {
     "name": "stderr",
     "output_type": "stream",
     "text": [
      "100%|██████████| 262/262 [01:54<00:00,  2.29it/s]\n"
     ]
    },
    {
     "name": "stdout",
     "output_type": "stream",
     "text": [
      "Epoch 79 / 100, Loss: 0.1446, Validation loss: 0.6317, 0.7262159681859895 / 0.47319115008969503 / 0.5730147236302195\n"
     ]
    },
    {
     "name": "stderr",
     "output_type": "stream",
     "text": [
      "100%|██████████| 262/262 [01:51<00:00,  2.36it/s]\n"
     ]
    },
    {
     "name": "stdout",
     "output_type": "stream",
     "text": [
      "Epoch 80 / 100, Loss: 0.1436, Validation loss: 0.6288, 0.7253585596582239 / 0.47378911700219256 / 0.5731854352544008\n"
     ]
    },
    {
     "name": "stderr",
     "output_type": "stream",
     "text": [
      "100%|██████████| 262/262 [01:47<00:00,  2.44it/s]\n"
     ]
    },
    {
     "name": "stdout",
     "output_type": "stream",
     "text": [
      "Epoch 81 / 100, Loss: 0.1423, Validation loss: 0.6292, 0.7245801526717557 / 0.4729918277855292 / 0.5723589001447177\n"
     ]
    },
    {
     "name": "stderr",
     "output_type": "stream",
     "text": [
      "100%|██████████| 262/262 [01:49<00:00,  2.39it/s]\n"
     ]
    },
    {
     "name": "stdout",
     "output_type": "stream",
     "text": [
      "Epoch 82 / 100, Loss: 0.1429, Validation loss: 0.6375, 0.7233128834355829 / 0.47000199322304165 / 0.5697716563972454\n"
     ]
    },
    {
     "name": "stderr",
     "output_type": "stream",
     "text": [
      "100%|██████████| 262/262 [01:51<00:00,  2.34it/s]\n"
     ]
    },
    {
     "name": "stdout",
     "output_type": "stream",
     "text": [
      "Epoch 83 / 100, Loss: 0.1395, Validation loss: 0.6411, 0.7228729963008631 / 0.4674108032688858 / 0.567727877980874\n"
     ]
    },
    {
     "name": "stderr",
     "output_type": "stream",
     "text": [
      "100%|██████████| 262/262 [01:51<00:00,  2.36it/s]\n"
     ]
    },
    {
     "name": "stdout",
     "output_type": "stream",
     "text": [
      "Epoch 84 / 100, Loss: 0.1381, Validation loss: 0.6338, 0.7234432234432234 / 0.4723938608730317 / 0.5715663812854215\n"
     ]
    },
    {
     "name": "stderr",
     "output_type": "stream",
     "text": [
      "100%|██████████| 262/262 [01:38<00:00,  2.66it/s]\n"
     ]
    },
    {
     "name": "stdout",
     "output_type": "stream",
     "text": [
      "Epoch 85 / 100, Loss: 0.1414, Validation loss: 0.6384, 0.7218989280245023 / 0.46980267091887584 / 0.569186186911374\n"
     ]
    },
    {
     "name": "stderr",
     "output_type": "stream",
     "text": [
      "100%|██████████| 262/262 [01:35<00:00,  2.75it/s]\n"
     ]
    },
    {
     "name": "stdout",
     "output_type": "stream",
     "text": [
      "Epoch 86 / 100, Loss: 0.1380, Validation loss: 0.6428, 0.7209444955535111 / 0.4686067370938808 / 0.5680115970041073\n"
     ]
    },
    {
     "name": "stderr",
     "output_type": "stream",
     "text": [
      "100%|██████████| 262/262 [01:38<00:00,  2.66it/s]\n"
     ]
    },
    {
     "name": "stdout",
     "output_type": "stream",
     "text": [
      "Epoch 87 / 100, Loss: 0.1417, Validation loss: 0.6369, 0.7208804646896974 / 0.47000199322304165 / 0.569015444015444\n"
     ]
    },
    {
     "name": "stderr",
     "output_type": "stream",
     "text": [
      "100%|██████████| 262/262 [01:41<00:00,  2.57it/s]\n"
     ]
    },
    {
     "name": "stdout",
     "output_type": "stream",
     "text": [
      "Epoch 88 / 100, Loss: 0.1389, Validation loss: 0.6453, 0.7217444717444718 / 0.468407414789715 / 0.5681131391272816\n"
     ]
    },
    {
     "name": "stderr",
     "output_type": "stream",
     "text": [
      "100%|██████████| 262/262 [01:44<00:00,  2.50it/s]\n"
     ]
    },
    {
     "name": "stdout",
     "output_type": "stream",
     "text": [
      "Epoch 89 / 100, Loss: 0.1358, Validation loss: 0.6383, 0.7233128834355829 / 0.47000199322304165 / 0.5697716563972454\n"
     ]
    },
    {
     "name": "stderr",
     "output_type": "stream",
     "text": [
      "100%|██████████| 262/262 [01:41<00:00,  2.59it/s]\n"
     ]
    },
    {
     "name": "stdout",
     "output_type": "stream",
     "text": [
      "Epoch 90 / 100, Loss: 0.1366, Validation loss: 0.6425, 0.7257072570725708 / 0.4704006378313733 / 0.5708066271616883\n"
     ]
    },
    {
     "name": "stderr",
     "output_type": "stream",
     "text": [
      "100%|██████████| 262/262 [01:41<00:00,  2.59it/s]\n"
     ]
    },
    {
     "name": "stdout",
     "output_type": "stream",
     "text": [
      "Epoch 91 / 100, Loss: 0.1359, Validation loss: 0.6360, 0.7231569287243805 / 0.4711979270480367 / 0.5706010137581463\n"
     ]
    },
    {
     "name": "stderr",
     "output_type": "stream",
     "text": [
      "100%|██████████| 262/262 [01:39<00:00,  2.63it/s]\n"
     ]
    },
    {
     "name": "stdout",
     "output_type": "stream",
     "text": [
      "Epoch 92 / 100, Loss: 0.1381, Validation loss: 0.6368, 0.723175965665236 / 0.4702013155272075 / 0.5698755888392318\n"
     ]
    },
    {
     "name": "stderr",
     "output_type": "stream",
     "text": [
      "100%|██████████| 262/262 [01:44<00:00,  2.52it/s]\n"
     ]
    },
    {
     "name": "stdout",
     "output_type": "stream",
     "text": [
      "Epoch 93 / 100, Loss: 0.1411, Validation loss: 0.6366, 0.7243176939589083 / 0.470799282439705 / 0.5706692437786905\n"
     ]
    },
    {
     "name": "stderr",
     "output_type": "stream",
     "text": [
      "100%|██████████| 262/262 [01:43<00:00,  2.53it/s]\n"
     ]
    },
    {
     "name": "stdout",
     "output_type": "stream",
     "text": [
      "Epoch 94 / 100, Loss: 0.1370, Validation loss: 0.6404, 0.7255985267034991 / 0.4711979270480367 / 0.5713595166163142\n"
     ]
    },
    {
     "name": "stderr",
     "output_type": "stream",
     "text": [
      "100%|██████████| 262/262 [01:43<00:00,  2.53it/s]\n"
     ]
    },
    {
     "name": "stdout",
     "output_type": "stream",
     "text": [
      "Epoch 95 / 100, Loss: 0.1381, Validation loss: 0.6372, 0.7246554364471669 / 0.47159657165636837 / 0.5713595749818884\n"
     ]
    },
    {
     "name": "stderr",
     "output_type": "stream",
     "text": [
      "100%|██████████| 262/262 [01:39<00:00,  2.64it/s]\n"
     ]
    },
    {
     "name": "stdout",
     "output_type": "stream",
     "text": [
      "Epoch 96 / 100, Loss: 0.1335, Validation loss: 0.6425, 0.7239471257300953 / 0.4694040263105442 / 0.569528415961306\n"
     ]
    },
    {
     "name": "stderr",
     "output_type": "stream",
     "text": [
      "100%|██████████| 262/262 [01:35<00:00,  2.75it/s]\n"
     ]
    },
    {
     "name": "stdout",
     "output_type": "stream",
     "text": [
      "Epoch 97 / 100, Loss: 0.1347, Validation loss: 0.6411, 0.7234499693063229 / 0.46980267091887584 / 0.569667673716012\n"
     ]
    },
    {
     "name": "stderr",
     "output_type": "stream",
     "text": [
      "100%|██████████| 262/262 [01:45<00:00,  2.49it/s]\n"
     ]
    },
    {
     "name": "stdout",
     "output_type": "stream",
     "text": [
      "Epoch 98 / 100, Loss: 0.1368, Validation loss: 0.6400, 0.7247621969929426 / 0.470799282439705 / 0.570807153214113\n"
     ]
    },
    {
     "name": "stderr",
     "output_type": "stream",
     "text": [
      "100%|██████████| 262/262 [01:46<00:00,  2.45it/s]\n"
     ]
    },
    {
     "name": "stdout",
     "output_type": "stream",
     "text": [
      "Epoch 99 / 100, Loss: 0.1372, Validation loss: 0.6402, 0.7252915899324739 / 0.47099860474387084 / 0.5711178247734139\n"
     ]
    },
    {
     "name": "stderr",
     "output_type": "stream",
     "text": [
      "100%|██████████| 262/262 [01:48<00:00,  2.42it/s]\n"
     ]
    },
    {
     "name": "stdout",
     "output_type": "stream",
     "text": [
      "Epoch 100 / 100, Loss: 0.1374, Validation loss: 0.6401, 0.7253758821724455 / 0.4711979270480367 / 0.5712904784920251\n"
     ]
    }
   ],
   "source": [
    "for epoch in range (num_epochs):\n",
    "    model.train ()  # Устанавливаем модель в режим обучения\n",
    "    total_loss = 0\n",
    "\n",
    "    ###\n",
    "    train_data = tokenizer (random_train_texts [epoch], padding = 'max_length', truncation = True, max_length = SEQ_MAX_LENGTH, return_tensors = 'pt')\n",
    "    train_dataset = Seq2SeqDataset (train_data, train_labels)\n",
    "    train_loader = DataLoader (train_dataset, batch_size = BATCH_SIZE, shuffle = True)\n",
    "    ###\n",
    "    \n",
    "    for batch in tqdm (train_loader):\n",
    "        \n",
    "        input_ids = batch ['input_ids'].to (model.device)\n",
    "        attention_mask = batch ['attention_mask'].to (model.device)\n",
    "        labels = batch ['labels'].to (model.device)\n",
    "\n",
    "        outputs = model (input_ids = input_ids, attention_mask = attention_mask, labels = labels)\n",
    "        loss = outputs.loss   ## DOUBLE CHECK if padding ...\n",
    "        total_loss += loss.item ()\n",
    "\n",
    "        loss.backward ()  # Обратное распространение\n",
    "        optimizer.step ()  # Обновление параметров\n",
    "        optimizer.zero_grad ()  # Обнуляем градиенты\n",
    "\n",
    "        scheduler.step ()  # Обновление learning rate\n",
    "        torch.cuda.empty_cache ()\n",
    "    \n",
    "\n",
    "    avg_loss = total_loss / len (train_loader)\n",
    "\n",
    "    metrics ['train_loss'].append ((epoch, avg_loss))\n",
    "\n",
    "    # Оценка на валидационной выборке\n",
    "    model.eval ()  # Устанавливаем модель в режим оценки\n",
    "    val_preds, val_labels = [], []\n",
    "    total_val_loss = 0\n",
    "\n",
    "    with torch.no_grad ():\n",
    "        for batch in val_loader:\n",
    "            input_ids = batch ['input_ids'].to (model.device)\n",
    "            attention_mask = batch ['attention_mask'].to (model.device)\n",
    "            labels = batch ['labels'].to (model.device)\n",
    "\n",
    "            outputs = model.generate (input_ids = input_ids, attention_mask = attention_mask)\n",
    "\n",
    "            total_val_loss += model (input_ids = input_ids, attention_mask = attention_mask, labels = labels).loss.item ()\n",
    "\n",
    "            val_preds.extend (outputs)\n",
    "            val_labels.extend (labels)\n",
    "            torch.cuda.empty_cache ()\n",
    "\n",
    "    avg_val_loss = total_val_loss / len (val_loader)\n",
    "\n",
    "    prec, recl, f1sc = sanity_check (val_preds, val_labels)\n",
    "\n",
    "    metrics ['val_loss'].append ((epoch, avg_val_loss))\n",
    "    metrics ['precision'].append ((epoch, prec))\n",
    "    metrics ['recall'].append ((epoch, recl))\n",
    "    metrics ['f1_score'].append ((epoch, f1sc))\n",
    "\n",
    "    print (f'Epoch {epoch + 1} / {num_epochs}, Loss: {avg_loss:.4f}, Validation loss: {avg_val_loss:.4f}, {prec} / {recl} / {f1sc}')"
   ]
  },
  {
   "cell_type": "markdown",
   "id": "fda402f3",
   "metadata": {},
   "source": [
    "https://colab.research.google.com/github/NielsRogge/Transformers-Tutorials/blob/master/T5/Fine_tune_CodeT5_for_generating_docstrings_from_Ruby_code.ipynb#scrollTo=wvRHDkCIS91f"
   ]
  },
  {
   "cell_type": "code",
   "execution_count": 29,
   "id": "a1cb38fc",
   "metadata": {},
   "outputs": [
    {
     "name": "stdout",
     "output_type": "stream",
     "text": [
      "{'train_loss': [(0, 3.1801299748529916), (1, 2.3830866108413873), (2, 1.836563371520006), (3, 1.458378907605892), (4, 1.1293561745235938), (5, 0.9483590301211554), (6, 0.8401127771566842), (7, 0.7470438380277794), (8, 0.6802807578831228), (9, 0.6221035371982414), (10, 0.5760316291383205), (11, 0.5298791883783486), (12, 0.4923386659103495), (13, 0.4681372767641344), (14, 0.4455540709140647), (15, 0.42952604478097145), (16, 0.4116375346220177), (17, 0.39288422880509427), (18, 0.37934930429203817), (19, 0.3667875864464818), (20, 0.3548057534312474), (21, 0.3432080809965388), (22, 0.3288402269587262), (23, 0.3224393266416688), (24, 0.3139294311972975), (25, 0.3064199844161973), (26, 0.29823611932628935), (27, 0.28851073343335215), (28, 0.28265670675585286), (29, 0.27855447907256714), (30, 0.26968842628234213), (31, 0.26364873469103384), (32, 0.2560135152844982), (33, 0.25262316088867554), (34, 0.24623362691575335), (35, 0.24068190037976694), (36, 0.23944051395959526), (37, 0.2340632267865061), (38, 0.22909985050445295), (39, 0.23165248243408348), (40, 0.2209574700482474), (41, 0.2198792035968704), (42, 0.21243522455560343), (43, 0.20818839913219897), (44, 0.20709591290650478), (45, 0.2066106689624659), (46, 0.20069949095713274), (47, 0.1983504740677717), (48, 0.19399891082794612), (49, 0.19439618460094657), (50, 0.1872082653789575), (51, 0.18824243738906074), (52, 0.1834109267859741), (53, 0.18362399406788002), (54, 0.18211482755327954), (55, 0.17607680287297445), (56, 0.17518944827882388), (57, 0.17814659277503272), (58, 0.17277847816243427), (59, 0.17072165546981433), (60, 0.17189824837082215), (61, 0.16593952831023068), (62, 0.16411919124026336), (63, 0.16178450793141627), (64, 0.16305642294917852), (65, 0.1592949334219212), (66, 0.1591887536053439), (67, 0.1564410422708242), (68, 0.1587883050603266), (69, 0.15404754625420078), (70, 0.15129554042777488), (71, 0.15148192685353393), (72, 0.14831269285037318), (73, 0.14931419858609446), (74, 0.1478875761865887), (75, 0.14661552151309626), (76, 0.1450014178079503), (77, 0.14342958276792792), (78, 0.14456849801176377), (79, 0.1436160345000165), (80, 0.14226394807848766), (81, 0.1428810598485115), (82, 0.13949360917428977), (83, 0.13808217816737317), (84, 0.14142876825089218), (85, 0.13799502074945974), (86, 0.14165587964972468), (87, 0.13893459407427838), (88, 0.13580493601963264), (89, 0.1366222275435242), (90, 0.13585736325280812), (91, 0.13814954198043766), (92, 0.14112890324064795), (93, 0.13698553032319966), (94, 0.13808719697230645), (95, 0.13354068226714172), (96, 0.1347422918006209), (97, 0.13681568077388612), (98, 0.13722890885617897), (99, 0.13740971338942307)], 'val_loss': [(0, 3.0150900034256924), (1, 2.2145744414977084), (2, 1.7503081810327223), (3, 1.3559759803760199), (4, 1.086139103512705), (5, 0.96233621938729), (6, 0.8695850074291229), (7, 0.785688004008046), (8, 0.7269720681655554), (9, 0.7096738259733459), (10, 0.665872393934815), (11, 0.6423759879889311), (12, 0.6250556008315381), (13, 0.6115728808038029), (14, 0.6204449482906012), (15, 0.5955215861767899), (16, 0.596392810344696), (17, 0.5839989558782106), (18, 0.5869029649981746), (19, 0.5652618362211886), (20, 0.5854369230844356), (21, 0.5912435060298001), (22, 0.5674759447574615), (23, 0.5691504546521623), (24, 0.5605805185106065), (25, 0.573000536656674), (26, 0.5700739173241604), (27, 0.5911215641248373), (28, 0.5714619441164864), (29, 0.5774727756226504), (30, 0.5735093594333271), (31, 0.5800306184424294), (32, 0.5771711352798674), (33, 0.5808874819381737), (34, 0.5922524080968198), (35, 0.5900659535402133), (36, 0.5895455001313009), (37, 0.5766271327012851), (38, 0.5924963984224532), (39, 0.5698931930977621), (40, 0.5779392496671205), (41, 0.587778753336565), (42, 0.5961109804518429), (43, 0.5974255562932403), (44, 0.593337286769608), (45, 0.5900871233071809), (46, 0.591392543580797), (47, 0.5939829171071818), (48, 0.6024144972548072), (49, 0.6057227967697897), (50, 0.6002750078469147), (51, 0.6017456854935046), (52, 0.6043495786042861), (53, 0.596567788241822), (54, 0.6075648963451385), (55, 0.6062985139864462), (56, 0.6087399430481004), (57, 0.6257713278870524), (58, 0.6035841423788189), (59, 0.6048119474708298), (60, 0.612985223531723), (61, 0.6127782971770676), (62, 0.6160003804130318), (63, 0.6217334906996033), (64, 0.6227922417499401), (65, 0.6182664415718596), (66, 0.6280249143824165), (67, 0.6279001872480652), (68, 0.6262054277790917), (69, 0.616537258212949), (70, 0.6181756648016564), (71, 0.6210050994967237), (72, 0.6347867088553346), (73, 0.6265764777307157), (74, 0.6223108257040565), (75, 0.6293293289196344), (76, 0.636472052998013), (77, 0.6234434924007933), (78, 0.6317157531961982), (79, 0.6287695702947216), (80, 0.6292143379464562), (81, 0.6375140915682287), (82, 0.6410838012342099), (83, 0.633822469431677), (84, 0.6384280379171725), (85, 0.6427785603352535), (86, 0.636888266345601), (87, 0.6452976233429379), (88, 0.6383158855232192), (89, 0.6425157682395276), (90, 0.6359870886361157), (91, 0.6368318270018072), (92, 0.636603668148135), (93, 0.6404285784120913), (94, 0.6371777488125695), (95, 0.6425258958781207), (96, 0.6410528962258939), (97, 0.6400062677301006), (98, 0.6401665858280512), (99, 0.6400566825896133)], 'precision': [(0, 0.0007751937984496124), (1, 0.10166358595194085), (2, 0.3455357142857143), (3, 0.4513888888888889), (4, 0.48775510204081635), (5, 0.5107913669064749), (6, 0.5277777777777778), (7, 0.5455417066155321), (8, 0.5850234009360374), (9, 0.6086112010359339), (10, 0.6092026473369051), (11, 0.6272095959595959), (12, 0.6267409470752089), (13, 0.6442189421894219), (14, 0.6657259328943242), (15, 0.6566523605150214), (16, 0.6702988792029888), (17, 0.666056166056166), (18, 0.6671802773497689), (19, 0.6674684305472038), (20, 0.675), (21, 0.684863523573201), (22, 0.6857749469214437), (23, 0.6955855303494789), (24, 0.687863038826047), (25, 0.7015063018751921), (26, 0.6997541487400123), (27, 0.7105508870214753), (28, 0.6997261940979617), (29, 0.7026123936816525), (30, 0.699488105992171), (31, 0.7120563035495716), (32, 0.7034104750304506), (33, 0.7045871559633028), (34, 0.7086783195338853), (35, 0.7028272894898586), (36, 0.7125693160813309), (37, 0.7080801944106926), (38, 0.7153035935563816), (39, 0.7000301477238469), (40, 0.7006658595641646), (41, 0.7072266831377394), (42, 0.7023086269744836), (43, 0.7118279569892473), (44, 0.7079101261926747), (45, 0.7101096224116931), (46, 0.7036247334754797), (47, 0.7043451838347007), (48, 0.7156048014773777), (49, 0.7114320835894284), (50, 0.7146363915311446), (51, 0.7167950693374422), (52, 0.710703363914373), (53, 0.7114854517611026), (54, 0.7097665847665847), (55, 0.7113684852179214), (56, 0.7114443084455324), (57, 0.719629057187017), (58, 0.7092349893325206), (59, 0.7156441717791411), (60, 0.7177048174286591), (61, 0.7177518427518428), (62, 0.7180981595092024), (63, 0.7177819083023544), (64, 0.7214373464373465), (65, 0.7229916897506925), (66, 0.7237569060773481), (67, 0.7225985221674877), (68, 0.7252848783492455), (69, 0.7224953902888752), (70, 0.7201344332416743), (71, 0.7225964482547459), (72, 0.7291217257318953), (73, 0.7245619428220105), (74, 0.7253758821724455), (75, 0.7209800918836141), (76, 0.7267119062307218), (77, 0.724211815120906), (78, 0.7262159681859895), (79, 0.7253585596582239), (80, 0.7245801526717557), (81, 0.7233128834355829), (82, 0.7228729963008631), (83, 0.7234432234432234), (84, 0.7218989280245023), (85, 0.7209444955535111), (86, 0.7208804646896974), (87, 0.7217444717444718), (88, 0.7233128834355829), (89, 0.7257072570725708), (90, 0.7231569287243805), (91, 0.723175965665236), (92, 0.7243176939589083), (93, 0.7255985267034991), (94, 0.7246554364471669), (95, 0.7239471257300953), (96, 0.7234499693063229), (97, 0.7247621969929426), (98, 0.7252915899324739), (99, 0.7253758821724455)], 'recall': [(0, 0.00019932230416583617), (1, 0.03288818018736297), (2, 0.1542754634243572), (3, 0.24616304564480765), (4, 0.28582818417380906), (5, 0.3113414391070361), (6, 0.32569264500697626), (7, 0.34024317321108233), (8, 0.3737293203109428), (9, 0.374725931831772), (10, 0.3852900139525613), (11, 0.39605341837751645), (12, 0.4036276659358182), (13, 0.41758022722742677), (14, 0.42316125174407015), (15, 0.42694837552322107), (16, 0.42914092086904526), (17, 0.4349212676898545), (18, 0.43153278851903526), (19, 0.4424955152481563), (20, 0.4359178792106837), (21, 0.4401036475981662), (22, 0.4506677297189556), (23, 0.45226230815228224), (24, 0.44847518437313133), (25, 0.4548534981064381), (26, 0.4538568865856089), (27, 0.45505282041060396), (28, 0.45844129958142316), (29, 0.461032489535579), (30, 0.4630257125772374), (31, 0.46382300179390074), (32, 0.46043452262308154), (33, 0.4592385887980865), (34, 0.46063384492724735), (35, 0.4558501096272673), (36, 0.461032489535579), (37, 0.46462029101056407), (38, 0.4602352003189157), (39, 0.46282639027307154), (40, 0.4614311341439107), (41, 0.4564480765397648), (42, 0.4608331672314132), (43, 0.4618297787522424), (44, 0.45844129958142316), (45, 0.46481961331472993), (46, 0.46043452262308154), (47, 0.4620291010564082), (48, 0.46342435718556907), (49, 0.4614311341439107), (50, 0.4642216464022324), (51, 0.4636236794897349), (52, 0.4632250348814032), (53, 0.4630257125772374), (54, 0.46063384492724735), (55, 0.4652182579230616), (56, 0.46342435718556907), (57, 0.4640223240980666), (58, 0.46382300179390074), (59, 0.46501893561889573), (60, 0.4662148694438908), (61, 0.4658162248355591), (62, 0.46661351405222246), (63, 0.4618297787522424), (64, 0.4682080924855491), (65, 0.4682080924855491), (66, 0.47000199322304165), (67, 0.46780944787721745), (68, 0.4694040263105442), (69, 0.4686067370938808), (70, 0.46980267091887584), (71, 0.4704006378313733), (72, 0.47159657165636837), (73, 0.46980267091887584), (74, 0.4711979270480367), (75, 0.4692047040063783), (76, 0.46960334861471), (77, 0.47159657165636837), (78, 0.47319115008969503), (79, 0.47378911700219256), (80, 0.4729918277855292), (81, 0.47000199322304165), (82, 0.4674108032688858), (83, 0.4723938608730317), (84, 0.46980267091887584), (85, 0.4686067370938808), (86, 0.47000199322304165), (87, 0.468407414789715), (88, 0.47000199322304165), (89, 0.4704006378313733), (90, 0.4711979270480367), (91, 0.4702013155272075), (92, 0.470799282439705), (93, 0.4711979270480367), (94, 0.47159657165636837), (95, 0.4694040263105442), (96, 0.46980267091887584), (97, 0.470799282439705), (98, 0.47099860474387084), (99, 0.4711979270480367)], 'f1_score': [(0, 0.0003171079752655779), (1, 0.0496987951807229), (2, 0.21331128565522944), (3, 0.31858635366954724), (4, 0.3604373507603368), (5, 0.3868730650154799), (6, 0.4028103044496487), (7, 0.41910139945985764), (8, 0.4560934079299441), (9, 0.463853935356526), (10, 0.472039072039072), (11, 0.48552229688454485), (12, 0.49102812803103785), (13, 0.5067118152134479), (14, 0.517426273458445), (15, 0.5174537987679672), (16, 0.5232713573945802), (17, 0.5262269383817678), (18, 0.5240861776809489), (19, 0.5321826681049983), (20, 0.5297323483105245), (21, 0.5358572988714962), (22, 0.5439018522973299), (23, 0.5481338325884768), (24, 0.542953667953668), (25, 0.5518742442563483), (26, 0.5505984766050054), (27, 0.5547995139732685), (28, 0.5539499036608863), (29, 0.5567456974365146), (30, 0.5572079635404174), (31, 0.5617380808690404), (32, 0.5565594506685942), (33, 0.5560516471581995), (34, 0.5583474269147137), (35, 0.5530165638979567), (36, 0.5598450925813869), (37, 0.561078348778433), (38, 0.5600970285021225), (39, 0.5572354211663066), (40, 0.5564235067900493), (41, 0.5548152634766808), (42, 0.5565049945841859), (43, 0.5602030947775629), (44, 0.5564964916525527), (45, 0.561860016865438), (46, 0.5566265060240965), (47, 0.5580163697640828), (48, 0.5625453665618195), (49, 0.5597872083182203), (50, 0.5628322861285646), (51, 0.5630597918179616), (52, 0.5608784843731145), (53, 0.5609756097560976), (54, 0.5586848785204884), (55, 0.5625451916124368), (56, 0.5612552806276403), (57, 0.5642268540959767), (58, 0.5608580380814654), (59, 0.5637308203455359), (60, 0.5652489125181247), (61, 0.5649703855916839), (62, 0.5656638878820829), (63, 0.5620375985445726), (64, 0.5678713888553124), (65, 0.5683522864747156), (66, 0.5699093655589124), (67, 0.5679370840895342), (68, 0.5699419167473379), (69, 0.5684923225728449), (70, 0.568636911942099), (71, 0.5698418447422431), (72, 0.5727426773178408), (73, 0.570012091898428), (74, 0.5712904784920251), (75, 0.5684617242212026), (76, 0.5705291197481536), (77, 0.5712216320618059), (78, 0.5730147236302195), (79, 0.5731854352544008), (80, 0.5723589001447177), (81, 0.5697716563972454), (82, 0.567727877980874), (83, 0.5715663812854215), (84, 0.569186186911374), (85, 0.5680115970041073), (86, 0.569015444015444), (87, 0.5681131391272816), (88, 0.5697716563972454), (89, 0.5708066271616883), (90, 0.5706010137581463), (91, 0.5698755888392318), (92, 0.5706692437786905), (93, 0.5713595166163142), (94, 0.5713595749818884), (95, 0.569528415961306), (96, 0.569667673716012), (97, 0.570807153214113), (98, 0.5711178247734139), (99, 0.5712904784920251)]}\n"
     ]
    }
   ],
   "source": [
    "print (metrics)"
   ]
  },
  {
   "cell_type": "code",
   "execution_count": 30,
   "id": "911466b0",
   "metadata": {},
   "outputs": [
    {
     "data": {
      "image/png": "[encoded data removed]",
      "text/plain": [
       "<Figure size 1000x400 with 1 Axes>"
      ]
     },
     "metadata": {},
     "output_type": "display_data"
    },
    {
     "data": {
      "image/png": "[encoded data removed]",
      "text/plain": [
       "<Figure size 1000x400 with 1 Axes>"
      ]
     },
     "metadata": {},
     "output_type": "display_data"
    },
    {
     "data": {
      "image/png": "[encoded data removed]",
      "text/plain": [
       "<Figure size 1000x400 with 1 Axes>"
      ]
     },
     "metadata": {},
     "output_type": "display_data"
    },
    {
     "data": {
      "image/png": "[encoded data removed]",
      "text/plain": [
       "<Figure size 1000x400 with 1 Axes>"
      ]
     },
     "metadata": {},
     "output_type": "display_data"
    },
    {
     "data": {
      "image/png": "[encoded data removed]",
      "text/plain": [
       "<Figure size 1000x400 with 1 Axes>"
      ]
     },
     "metadata": {},
     "output_type": "display_data"
    }
   ],
   "source": [
    "for i, (name, history) in enumerate (sorted (metrics.items ())):\n",
    "    #plt.plot (1, len (metrics), i + 1)\n",
    "    plt.figure (figsize = (10, 4))\n",
    "    plt.title (name)\n",
    "    plt.plot (*zip (*history))\n",
    "    plt.grid ()\n",
    "    plt.show ()"
   ]
  },
  {
   "cell_type": "code",
   "execution_count": 31,
   "id": "fb5f9be2",
   "metadata": {},
   "outputs": [
    {
     "name": "stderr",
     "output_type": "stream",
     "text": [
      "100%|██████████| 81/81 [00:32<00:00,  2.52it/s]\n"
     ]
    },
    {
     "name": "stdout",
     "output_type": "stream",
     "text": [
      "Validation:  (0.7253758821724455, 0.4711979270480367, 0.5712904784920251)\n"
     ]
    },
    {
     "data": {
      "text/plain": [
       "\"\\nval_preds, val_labels = [], []\\n\\nwith torch.no_grad ():\\n    for batch in tqdm (test_loader):\\n        input_ids = batch ['input_ids'].to (model.device)\\n        attention_mask = batch ['attention_mask'].to (model.device)\\n        labels = batch ['labels'].to (model.device)\\n        out = model.generate (input_ids = input_ids, attention_mask = attention_mask)\\n\\n        val_preds.extend (out)\\n        val_labels.extend (labels)\\n\\n    print ('Test: ', sanity_check (val_preds, val_labels))\\n\""
      ]
     },
     "execution_count": 31,
     "metadata": {},
     "output_type": "execute_result"
    }
   ],
   "source": [
    "\n",
    "\n",
    "model.eval ()  # Устанавливаем модель в режим оценки\n",
    "val_preds, val_labels = [], []\n",
    "\n",
    "with torch.no_grad ():\n",
    "    for batch in tqdm (val_loader):\n",
    "        input_ids = batch ['input_ids'].to (model.device)\n",
    "        attention_mask = batch ['attention_mask'].to (model.device)\n",
    "        labels = batch ['labels'].to (model.device)\n",
    "        out = model.generate (input_ids = input_ids, attention_mask = attention_mask)\n",
    "\n",
    "        val_preds.extend (out)\n",
    "        val_labels.extend (labels)\n",
    "        torch.cuda.empty_cache ()\n",
    "\n",
    "    print ('Validation: ', sanity_check (val_preds, val_labels))\n",
    "\n",
    "'''\n",
    "val_preds, val_labels = [], []\n",
    "\n",
    "with torch.no_grad ():\n",
    "    for batch in tqdm (test_loader):\n",
    "        input_ids = batch ['input_ids'].to (model.device)\n",
    "        attention_mask = batch ['attention_mask'].to (model.device)\n",
    "        labels = batch ['labels'].to (model.device)\n",
    "        out = model.generate (input_ids = input_ids, attention_mask = attention_mask)\n",
    "\n",
    "        val_preds.extend (out)\n",
    "        val_labels.extend (labels)\n",
    "\n",
    "    print ('Test: ', sanity_check (val_preds, val_labels))\n",
    "'''"
   ]
  },
  {
   "cell_type": "code",
   "execution_count": 36,
   "id": "c245fb7a",
   "metadata": {},
   "outputs": [
    {
     "name": "stderr",
     "output_type": "stream",
     "text": [
      "100%|██████████| 81/81 [00:35<00:00,  2.29it/s]\n"
     ]
    },
    {
     "name": "stdout",
     "output_type": "stream",
     "text": [
      "Validation wmax:  (0.7720481927710844, 0.6386286625473391, 0.6990291262135923)\n"
     ]
    },
    {
     "data": {
      "text/plain": [
       "\"\\nval_preds, val_labels = [], []\\nwith torch.no_grad ():\\n    for batch in tqdm (test_loader):\\n        input_ids = batch ['input_ids'].to (model.device)\\n        attention_mask = batch ['attention_mask'].to (model.device)\\n        labels = batch ['labels'].to (model.device)\\n        out = model.generate (input_ids = input_ids, attention_mask = attention_mask, max_length=SEQ_MAX_LENGTH)\\n\\n        val_preds.extend (out)\\n        val_labels.extend (labels)\\n\\n    print ('Test wmax: ', sanity_check (val_preds, val_labels))\\n\""
      ]
     },
     "execution_count": 36,
     "metadata": {},
     "output_type": "execute_result"
    }
   ],
   "source": [
    "\n",
    "val_preds, val_labels = [], []\n",
    "with torch.no_grad ():\n",
    "    for batch in tqdm (val_loader):\n",
    "        input_ids = batch ['input_ids'].to (model.device)\n",
    "        attention_mask = batch ['attention_mask'].to (model.device)\n",
    "        labels = batch ['labels'].to (model.device)\n",
    "        out = model.generate (input_ids = input_ids, attention_mask = attention_mask, max_length=SEQ_MAX_LENGTH)\n",
    "\n",
    "        val_preds.extend (out)\n",
    "        val_labels.extend (labels)\n",
    "        torch.cuda.empty_cache ()\n",
    "\n",
    "    print ('Validation wmax: ', sanity_check (val_preds, val_labels))\n",
    "\n",
    "'''\n",
    "val_preds, val_labels = [], []\n",
    "with torch.no_grad ():\n",
    "    for batch in tqdm (test_loader):\n",
    "        input_ids = batch ['input_ids'].to (model.device)\n",
    "        attention_mask = batch ['attention_mask'].to (model.device)\n",
    "        labels = batch ['labels'].to (model.device)\n",
    "        out = model.generate (input_ids = input_ids, attention_mask = attention_mask, max_length=SEQ_MAX_LENGTH)\n",
    "\n",
    "        val_preds.extend (out)\n",
    "        val_labels.extend (labels)\n",
    "\n",
    "    print ('Test wmax: ', sanity_check (val_preds, val_labels))\n",
    "'''"
   ]
  },
  {
   "cell_type": "code",
   "execution_count": 33,
   "id": "5df71c63",
   "metadata": {},
   "outputs": [
    {
     "data": {
      "text/plain": [
       "('./rut5base_fulltrain_novalid_dictionary_postfix\\\\tokenizer_config.json',\n",
       " './rut5base_fulltrain_novalid_dictionary_postfix\\\\special_tokens_map.json',\n",
       " './rut5base_fulltrain_novalid_dictionary_postfix\\\\spiece.model',\n",
       " './rut5base_fulltrain_novalid_dictionary_postfix\\\\added_tokens.json',\n",
       " './rut5base_fulltrain_novalid_dictionary_postfix\\\\tokenizer.json')"
      ]
     },
     "execution_count": 33,
     "metadata": {},
     "output_type": "execute_result"
    }
   ],
   "source": [
    "#model.save_pretrained ('./rut5base_fulltrain_novalid_dictionary_postfix')\n",
    "#tokenizer.save_pretrained ('./rut5base_fulltrain_novalid_dictionary_postfix')"
   ]
  },
  {
   "cell_type": "code",
   "execution_count": 34,
   "id": "1cc32468",
   "metadata": {},
   "outputs": [
    {
     "name": "stdout",
     "output_type": "stream",
     "text": [
      "Результаты экспериментов приводятся и анализируются в статье в сравнении с результатами другими участниками РОМИП-2011.\n"
     ]
    },
    {
     "data": {
      "text/plain": [
       "{''}"
      ]
     },
     "execution_count": 34,
     "metadata": {},
     "output_type": "execute_result"
    }
   ],
   "source": [
    "print (parallel_text_val [6])\n",
    "predicted_set = get_set (val_preds [6], ground_truth = False)\n",
    "predicted_set"
   ]
  },
  {
   "cell_type": "code",
   "execution_count": 35,
   "id": "39bd0d04",
   "metadata": {},
   "outputs": [
    {
     "ename": "SyntaxError",
     "evalue": "Missing parentheses in call to 'print'. Did you mean print(...)? (928237153.py, line 1)",
     "output_type": "error",
     "traceback": [
      "\u001b[1;36m  Cell \u001b[1;32mIn[35], line 1\u001b[1;36m\u001b[0m\n\u001b[1;33m    print 4\u001b[0m\n\u001b[1;37m    ^\u001b[0m\n\u001b[1;31mSyntaxError\u001b[0m\u001b[1;31m:\u001b[0m Missing parentheses in call to 'print'. Did you mean print(...)?\n"
     ]
    }
   ],
   "source": [
    "print 4"
   ]
  },
  {
   "cell_type": "code",
   "execution_count": null,
   "id": "2bddd745",
   "metadata": {},
   "outputs": [],
   "source": [
    "model = MT5ForConditionalGeneration.from_pretrained ('./coint_rut5small_finetune_fulltrain_novalid')\n",
    "\n",
    "model.to (device)\n",
    "print (model.device)"
   ]
  },
  {
   "cell_type": "code",
   "execution_count": null,
   "id": "f9c897eb",
   "metadata": {},
   "outputs": [],
   "source": [
    "val_data = tokenizer (parallel_text_val_new, padding = 'max_length', truncation = True, max_length = SEQ_MAX_LENGTH, return_tensors = 'pt')\n",
    "val_labels = tokenizer (parallel_label_val, padding = 'max_length', truncation = True, max_length = ANSWER_MAX_LENGTH, return_tensors = 'pt')\n",
    "\n",
    "if ENABLE_LABEL_FIX:\n",
    "    rse = replace_padding (val_labels)\n",
    "    val_labels = rse\n",
    "\n",
    "val_dataset = Seq2SeqDataset (val_data, val_labels)\n",
    "\n",
    "val_loader = DataLoader (val_dataset, batch_size = EVAL_BATCH_SIZE)"
   ]
  },
  {
   "cell_type": "code",
   "execution_count": null,
   "id": "831aa035",
   "metadata": {},
   "outputs": [],
   "source": [
    "val_preds, val_labels = [], []\n",
    "with torch.no_grad ():\n",
    "    for batch in tqdm (val_loader):\n",
    "        input_ids = batch ['input_ids'].to (model.device)\n",
    "        attention_mask = batch ['attention_mask'].to (model.device)\n",
    "        labels = batch ['labels'].to (model.device)\n",
    "        out = model.generate (input_ids = input_ids, attention_mask = attention_mask, max_length=SEQ_MAX_LENGTH)\n",
    "\n",
    "        val_preds.extend (out)\n",
    "        val_labels.extend (labels)\n",
    "\n",
    "    print ('Validation augmented: ', sanity_check (val_preds, val_labels))"
   ]
  },
  {
   "cell_type": "code",
   "execution_count": 50,
   "id": "33f2447e",
   "metadata": {},
   "outputs": [],
   "source": [
    "\n",
    "parallel_text_val_augmented = []\n",
    "for i in range (len (val_preds)):\n",
    "    predicted_set = get_set (val_preds [i], ground_truth = False)\n",
    "    parallel_text_val_augmented.append (make_attachment (parallel_text_val [i], predicted_set))\n",
    "\n",
    "val_data = tokenizer (parallel_text_val_augmented, padding = 'max_length', truncation = True, max_length = SEQ_MAX_LENGTH, return_tensors = 'pt')\n",
    "val_labels = tokenizer (parallel_label_val, padding = 'max_length', truncation = True, max_length = ANSWER_MAX_LENGTH, return_tensors = 'pt')\n",
    "\n",
    "if ENABLE_LABEL_FIX:\n",
    "    rse = replace_padding (val_labels)\n",
    "    val_labels = rse\n",
    "\n",
    "val_dataset = Seq2SeqDataset (val_data, val_labels)\n",
    "\n",
    "val_loader = DataLoader (val_dataset, batch_size = EVAL_BATCH_SIZE)"
   ]
  },
  {
   "cell_type": "code",
   "execution_count": 51,
   "id": "2e906df2",
   "metadata": {},
   "outputs": [
    {
     "name": "stderr",
     "output_type": "stream",
     "text": [
      "100%|██████████| 81/81 [00:51<00:00,  1.58it/s]\n"
     ]
    },
    {
     "name": "stdout",
     "output_type": "stream",
     "text": [
      "Validation augmented:  (0.6927557335274845, 0.7586206896551724, 0.7241937018361716)\n"
     ]
    }
   ],
   "source": [
    "val_preds, val_labels = [], []\n",
    "with torch.no_grad ():\n",
    "    for batch in tqdm (val_loader):\n",
    "        input_ids = batch ['input_ids'].to (model.device)\n",
    "        attention_mask = batch ['attention_mask'].to (model.device)\n",
    "        labels = batch ['labels'].to (model.device)\n",
    "        out = model.generate (input_ids = input_ids, attention_mask = attention_mask, max_length=SEQ_MAX_LENGTH)\n",
    "\n",
    "        val_preds.extend (out)\n",
    "        val_labels.extend (labels)\n",
    "        torch.cuda.empty_cache ()\n",
    "\n",
    "    print ('Validation augmented: ', sanity_check (val_preds, val_labels))"
   ]
  },
  {
   "cell_type": "code",
   "execution_count": 45,
   "id": "87afd93c",
   "metadata": {},
   "outputs": [
    {
     "name": "stdout",
     "output_type": "stream",
     "text": [
      "cuda:0\n"
     ]
    }
   ],
   "source": [
    "prev_model = MT5ForConditionalGeneration.from_pretrained ('./coint_rut5small_finetune_fulltrain_novalid')\n",
    "\n",
    "prev_model.to (device)\n",
    "print (prev_model.device)"
   ]
  },
  {
   "cell_type": "code",
   "execution_count": 46,
   "id": "0665c270",
   "metadata": {},
   "outputs": [],
   "source": [
    "\n",
    "val_data = tokenizer (parallel_text_val, padding = 'max_length', truncation = True, max_length = 150, return_tensors = 'pt')\n",
    "val_labels = tokenizer (parallel_label_val, padding = 'max_length', truncation = True, max_length = 150, return_tensors = 'pt')\n",
    "\n",
    "if ENABLE_LABEL_FIX:\n",
    "    rse = replace_padding (val_labels)\n",
    "    val_labels = rse\n",
    "\n",
    "val_dataset = Seq2SeqDataset (val_data, val_labels)\n",
    "\n",
    "val_loader = DataLoader (val_dataset, batch_size = EVAL_BATCH_SIZE)"
   ]
  },
  {
   "cell_type": "code",
   "execution_count": 47,
   "id": "69027a6b",
   "metadata": {},
   "outputs": [
    {
     "name": "stderr",
     "output_type": "stream",
     "text": [
      "100%|██████████| 81/81 [00:42<00:00,  1.91it/s]\n"
     ]
    },
    {
     "name": "stdout",
     "output_type": "stream",
     "text": [
      "Validation augmented:  (0.6950162513542795, 0.7673444976076556, 0.7293916998294486)\n"
     ]
    }
   ],
   "source": [
    "val_preds, val_labels = [], []\n",
    "with torch.no_grad ():\n",
    "    for batch in tqdm (val_loader):\n",
    "        input_ids = batch ['input_ids'].to (prev_model.device)\n",
    "        attention_mask = batch ['attention_mask'].to (prev_model.device)\n",
    "        labels = batch ['labels'].to (prev_model.device)\n",
    "        out = prev_model.generate (input_ids = input_ids, attention_mask = attention_mask, max_length=SEQ_MAX_LENGTH)\n",
    "\n",
    "        val_preds.extend (out)\n",
    "        val_labels.extend (labels)\n",
    "        torch.cuda.empty_cache ()\n",
    "\n",
    "    print ('Validation augmented: ', sanity_check (val_preds, val_labels))"
   ]
  },
  {
   "cell_type": "code",
   "execution_count": null,
   "id": "59b50d21",
   "metadata": {},
   "outputs": [],
   "source": [
    "#model.save_pretrained('./rut5small_fulltrain_novalid_dictionary_postfix')\n",
    "#tokenizer.save_pretrained('./rut5small_fulltrain_novalid_dictionary_postfix')"
   ]
  },
  {
   "cell_type": "code",
   "execution_count": null,
   "id": "d9254fa1",
   "metadata": {},
   "outputs": [],
   "source": [
    "num_epochs = 20\n",
    "training_steps = len (train_data ['input_ids']) // BATCH_SIZE * num_epochs\n",
    "warmup_steps = int (training_steps * 0.1)\n",
    "print (f'Suggested train steps: {training_steps}\\n\\t warmup steps: {int (training_steps * 0.05)} - {int (training_steps * 0.1)}')"
   ]
  },
  {
   "cell_type": "code",
   "execution_count": null,
   "id": "9b29a7db",
   "metadata": {},
   "outputs": [],
   "source": [
    "#optimizer = AdamW (model.parameters (), lr = 1e-5)#, weight_decay = 0.05)\n",
    "optimizer = AdamW (filter (lambda p: p.requires_grad, model.parameters ()), lr = 5e-5, weight_decay = 0.01)\n",
    "\n",
    "#optimizer = Adafactor (model.parameters (), lr = 3e-5, scale_parameter = False, relative_step = False, weight_decay = 0.02)\n",
    "\n",
    "#scheduler = lr_scheduler.StepLR (optimizer, warmup_steps = 637, training_steps = 6375)\n",
    "scheduler = get_scheduler ('linear', optimizer = optimizer, num_warmup_steps = warmup_steps, num_training_steps = training_steps)"
   ]
  },
  {
   "cell_type": "code",
   "execution_count": null,
   "id": "54d067aa",
   "metadata": {},
   "outputs": [],
   "source": [
    "for epoch in range (num_epochs):\n",
    "    model.train ()  # Устанавливаем модель в режим обучения\n",
    "    total_loss = 0\n",
    "    \n",
    "    for batch in tqdm (val_loader):\n",
    "        \n",
    "        input_ids = batch ['input_ids'].to (model.device)\n",
    "        attention_mask = batch ['attention_mask'].to (model.device)\n",
    "        labels = batch ['labels'].to (model.device)\n",
    "\n",
    "        outputs = model (input_ids = input_ids, attention_mask = attention_mask, labels = labels)\n",
    "        loss = outputs.loss   ## DOUBLE CHECK if padding ...\n",
    "        total_loss += loss.item ()\n",
    "\n",
    "        loss.backward ()  # Обратное распространение\n",
    "        optimizer.step ()  # Обновление параметров\n",
    "        optimizer.zero_grad ()  # Обнуляем градиенты\n",
    "\n",
    "        scheduler.step ()  # Обновление learning rate\n",
    "    \n",
    "\n",
    "    avg_loss = total_loss / len (train_loader)\n",
    "\n",
    "    metrics ['train_loss'].append ((epoch, avg_loss))\n",
    "\n",
    "    # Оценка на валидационной выборке\n",
    "    model.eval ()  # Устанавливаем модель в режим оценки\n",
    "    val_preds, val_labels = [], []\n",
    "    total_val_loss = 0\n",
    "\n",
    "    with torch.no_grad ():\n",
    "        for batch in val_loader:\n",
    "            input_ids = batch ['input_ids'].to (model.device)\n",
    "            attention_mask = batch ['attention_mask'].to (model.device)\n",
    "            labels = batch ['labels'].to (model.device)\n",
    "\n",
    "            outputs = model.generate (input_ids = input_ids, attention_mask = attention_mask)\n",
    "\n",
    "            total_val_loss += model (input_ids = input_ids, attention_mask = attention_mask, labels = labels).loss.item ()\n",
    "\n",
    "            val_preds.extend (outputs)\n",
    "            val_labels.extend (labels)\n",
    "\n",
    "    avg_val_loss = total_val_loss / len (val_loader)\n",
    "\n",
    "    prec, recl, f1sc = sanity_check (val_preds, val_labels)\n",
    "\n",
    "    metrics ['val_loss'].append ((epoch, avg_val_loss))\n",
    "    metrics ['precision'].append ((epoch, prec))\n",
    "    metrics ['recall'].append ((epoch, recl))\n",
    "    metrics ['f1_score'].append ((epoch, f1sc))\n",
    "\n",
    "    print (f'Epoch {epoch + 1} / {num_epochs}, Loss: {avg_loss:.4f}, Validation loss: {avg_val_loss:.4f}, {prec} / {recl} / {f1sc}')"
   ]
  },
  {
   "cell_type": "code",
   "execution_count": null,
   "id": "53e6340d",
   "metadata": {},
   "outputs": [],
   "source": [
    "#model.save_pretrained('./rut5small_fulltrain_plusvalid')\n",
    "#tokenizer.save_pretrained('./rut5small_fulltrain_plusvalid')"
   ]
  },
  {
   "cell_type": "code",
   "execution_count": null,
   "id": "5720725f",
   "metadata": {},
   "outputs": [],
   "source": []
  }
 ],
 "metadata": {
  "kernelspec": {
   "display_name": "Python 3",
   "language": "python",
   "name": "python3"
  },
  "language_info": {
   "codemirror_mode": {
    "name": "ipython",
    "version": 3
   },
   "file_extension": ".py",
   "mimetype": "text/x-python",
   "name": "python",
   "nbconvert_exporter": "python",
   "pygments_lexer": "ipython3",
   "version": "3.10.11"
  }
 },
 "nbformat": 4,
 "nbformat_minor": 5
}
