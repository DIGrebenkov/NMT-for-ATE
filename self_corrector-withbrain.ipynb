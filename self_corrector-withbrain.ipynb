{
 "cells": [
  {
   "cell_type": "code",
   "execution_count": 1,
   "id": "553b9a1e",
   "metadata": {},
   "outputs": [
    {
     "name": "stdout",
     "output_type": "stream",
     "text": [
      "WARNING:tensorflow:From c:\\Users\\Enfi\\AppData\\Local\\Programs\\Python\\Python310\\lib\\site-packages\\keras\\src\\losses.py:2976: The name tf.losses.sparse_softmax_cross_entropy is deprecated. Please use tf.compat.v1.losses.sparse_softmax_cross_entropy instead.\n",
      "\n"
     ]
    }
   ],
   "source": [
    "import pandas as pd\n",
    "import regex as re\n",
    "\n",
    "from sklearn.model_selection import train_test_split\n",
    "from sklearn.model_selection import KFold\n",
    "\n",
    "import ahocorasick\n",
    "\n",
    "import torch\n",
    "from transformers import T5ForConditionalGeneration, AutoTokenizer, MT5ForConditionalGeneration, get_scheduler\n",
    "from torch.utils.data import DataLoader, Dataset\n",
    "from torch.optim import AdamW\n",
    "#from fairseq.optim.adafactor import Adafactor\n",
    "\n",
    "from tqdm import tqdm\n",
    "import matplotlib.pyplot as plt\n",
    "\n",
    "from copy import deepcopy"
   ]
  },
  {
   "cell_type": "code",
   "execution_count": 2,
   "id": "f2cd2a22",
   "metadata": {},
   "outputs": [],
   "source": [
    "# CONSTANTS:\n",
    "\n",
    "SEP_TOKEN = '▁<extra_id_0>'\n",
    "INPUT_PREFIX = ''\n",
    "\n",
    "NUM_OF_SPLITS = 25\n",
    "\n",
    "ATTACHMENT_TOKEN = '▁<extra_id_1>'\n",
    "LABEL_PREFIX_TOKEN = ATTACHMENT_TOKEN\n",
    "\n",
    "USED_MODEL_NAME = 'cointegrated/rut5-small'\n",
    "\n",
    "SEQ_MAX_LENGTH = 300\n",
    "ANSWER_MAX_LENGTH = 170\n",
    "BATCH_SIZE = 4\n",
    "EVAL_BATCH_SIZE = 24\n",
    "\n",
    "ENABLE_LABEL_FIX = True\n",
    "\n",
    "LOCAL_NUM_EPOCHS = 2"
   ]
  },
  {
   "cell_type": "code",
   "execution_count": 3,
   "id": "328190fa",
   "metadata": {},
   "outputs": [
    {
     "name": "stderr",
     "output_type": "stream",
     "text": [
      "You are using the default legacy behaviour of the <class 'transformers.models.t5.tokenization_t5.T5Tokenizer'>. This is expected, and simply means that the `legacy` (previous) behavior will be used so nothing changes for you. If you want to use the new behaviour, set `legacy=False`. This should only be set if you understand what it means, and thoroughly read the reason why this was added as explained in https://github.com/huggingface/transformers/pull/24565\n",
      "c:\\Users\\Enfi\\AppData\\Local\\Programs\\Python\\Python310\\lib\\site-packages\\transformers\\convert_slow_tokenizer.py:561: UserWarning: The sentencepiece tokenizer that you are converting to a fast tokenizer uses the byte fallback option which is not implemented in the fast tokenizers. In practice this means that the fast version of the tokenizer can produce unknown tokens whereas the sentencepiece version would have converted these unknown tokens into a sequence of byte tokens matching the original piece of text.\n",
      "  warnings.warn(\n"
     ]
    },
    {
     "name": "stdout",
     "output_type": "stream",
     "text": [
      "cuda:0\n"
     ]
    }
   ],
   "source": [
    "tokenizer = AutoTokenizer.from_pretrained (USED_MODEL_NAME)\n",
    "\n",
    "device = torch.device ('cuda' if torch.cuda.is_available () else 'cpu')\n",
    "#device = torch.device ('cpu')\n",
    "\n",
    "model = MT5ForConditionalGeneration.from_pretrained (USED_MODEL_NAME)\n",
    "\n",
    "model.to (device)\n",
    "print (model.device)\n",
    "\n",
    "num_epochs = 50\n",
    "#training_steps = len (train_data ['input_ids']) // BATCH_SIZE * num_epochs\n",
    "#warmup_steps = int (training_steps * 0.1)\n",
    "#print (f'Suggested train steps: {training_steps}\\n\\t warmup steps: {int (training_steps * 0.05)} - {int (training_steps * 0.1)}')\n",
    "\n",
    "#optimizer = AdamW (model.parameters (), lr = 1e-5)#, weight_decay = 0.05)\n",
    "optimizer = AdamW (filter (lambda p: p.requires_grad, model.parameters ()), lr = 1e-4, weight_decay = 0.01)\n",
    "#optimizer = Adafactor (model.parameters (), lr = 3e-5, scale_parameter = False, relative_step = False, weight_decay = 0.02)\n",
    "#scheduler = get_scheduler ('linear', optimizer = optimizer, num_warmup_steps = warmup_steps, num_training_steps = training_steps)\n",
    "\n",
    "metrics = {'train_loss': [], 'val_loss': [], 'precision': [], 'recall': [], 'f1_score': []}"
   ]
  },
  {
   "cell_type": "code",
   "execution_count": 4,
   "id": "f6da5da0",
   "metadata": {},
   "outputs": [],
   "source": [
    "\n",
    "# FUNCTIONS:\n",
    "\n",
    "def split_text (text, segments, delimiters = ['...', '.', '?!', '?', '!']):\n",
    "\n",
    "    delimiters_pattern = '|'.join (map (re.escape, delimiters))\n",
    "    \n",
    "    paragraphs = re.split (f'(?<=\\n[ ]*)', text)\n",
    "    \n",
    "    sentences_with_segments = []\n",
    "    \n",
    "    current_start_index = 0\n",
    "\n",
    "    for paragraph in paragraphs:\n",
    "\n",
    "        sentences = re.split (f'(?<=[{delimiters_pattern}] )(?=[A-ZА-ЯЁ])', paragraph)#.strip ())\n",
    "\n",
    "        for sentence in sentences:\n",
    "\n",
    "            start_index = current_start_index\n",
    "            end_index = start_index + len (sentence)\n",
    "\n",
    "            matched_segments = [\n",
    "                text [start: end] for start, end in segments if start >= start_index and end <= end_index\n",
    "            ]\n",
    "            sentences_with_segments.append ((sentence, matched_segments))\n",
    "\n",
    "            current_start_index = end_index\n",
    "    \n",
    "    return sentences_with_segments\n",
    "\n",
    "def create_parallels (data_lst, labels_lst):\n",
    "    parallel_text = []\n",
    "    parallel_label = []\n",
    "    for i in range (len (data_lst)):\n",
    "        text = data_lst [i]\n",
    "        segments = labels_lst [i]\n",
    "        splitted = split_text (text, segments)\n",
    "        for sentence, terms in splitted:\n",
    "            parallel_text.append (INPUT_PREFIX + sentence)\n",
    "            constructed_label = LABEL_PREFIX_TOKEN\n",
    "            for term in terms:\n",
    "                constructed_label += SEP_TOKEN + term.strip ()\n",
    "            parallel_label.append (constructed_label)\n",
    "    return parallel_text, parallel_label\n",
    "\n",
    "\n",
    "def label_constructor (labels):\n",
    "    res = []\n",
    "    for label in labels:\n",
    "        one_label = []\n",
    "        for start, end, cls in label:\n",
    "            one_label.append ([start, end])\n",
    "        res.append (one_label)\n",
    "    return res\n",
    "\n",
    "\n",
    "def one_finder (text, phrases):\n",
    "\n",
    "    if len (phrases) == 1 and '' in phrases:\n",
    "        return []\n",
    "\n",
    "    A = ahocorasick.Automaton ()\n",
    "    \n",
    "    for idx, phrase in enumerate (phrases):\n",
    "        A.add_word (phrase, (idx, phrase))\n",
    "    \n",
    "    A.make_automaton ()\n",
    "    \n",
    "    found = []\n",
    "    for end_index, (idx, phrase) in A.iter (text):\n",
    "        start_index = end_index - len (phrase) + 1\n",
    "\n",
    "        if start_index > 0 and text [start_index - 1].isalpha ():\n",
    "            continue\n",
    "        if end_index + 1 < len (text) and text [end_index + 1].isalpha ():\n",
    "            continue\n",
    "\n",
    "        found.append ((start_index, end_index + 1, phrase))\n",
    "    \n",
    "    return found\n",
    "\n",
    "def make_attachment (text, dictionary_terms):\n",
    "    found = one_finder (text, dictionary_terms)\n",
    "    found_terms = [item [2] for item in found]\n",
    "    res = text + ATTACHMENT_TOKEN\n",
    "    for term in found_terms:\n",
    "        res += SEP_TOKEN + term\n",
    "    return res\n",
    "\n",
    "def attach_dictionary_foundings (texts, dictionary_terms):\n",
    "    res_texts = []\n",
    "    for text in tqdm (texts):\n",
    "        res_texts.append (make_attachment (text, dictionary_terms))\n",
    "    return res_texts\n",
    "\n",
    "def replace_padding (labels):\n",
    "    for i in range (0, len (labels ['input_ids'])):\n",
    "        labels ['input_ids'] [i] = torch.tensor ([labl if labl != 0 else - 100 for labl in labels ['input_ids'] [i]])\n",
    "\n",
    "    return labels\n",
    "\n",
    "class Seq2SeqDataset (Dataset):\n",
    "    def __init__ (self, encodings, labels):\n",
    "        self.encodings = encodings\n",
    "        self.labels = labels\n",
    "\n",
    "    def __getitem__ (self, idx):\n",
    "        return {\n",
    "            'input_ids': self.encodings ['input_ids'] [idx],\n",
    "            'attention_mask': self.encodings ['attention_mask'] [idx],\n",
    "            'labels': self.labels ['input_ids'] [idx]\n",
    "        }\n",
    "\n",
    "    def __len__ (self):\n",
    "        return len (self.encodings ['input_ids'])\n",
    "\n",
    "def get_set (tensor, ground_truth = True, tokenizer = tokenizer):\n",
    "\n",
    "    separator: str\n",
    "    if SEP_TOKEN == '▁<extra_id_0>': separator = '<extra_id_0>'\n",
    "    else: separator = SEP_TOKEN\n",
    "\n",
    "    res: set\n",
    "\n",
    "    if ground_truth:\n",
    "        eos_idx = (tensor == 1).nonzero ()\n",
    "        if eos_idx.numel () > 0:\n",
    "            eos_idx = int (eos_idx [0] [0])\n",
    "        else:\n",
    "            eos_idx = len (tensor)\n",
    "        seq = tensor [:eos_idx]\n",
    "    \n",
    "    else:\n",
    "        seq = tensor [tensor != 0]\n",
    "        seq = seq [seq != - 100]\n",
    "        seq = seq [seq != 1]\n",
    "    \n",
    "    txt = tokenizer.decode (seq)\n",
    "    res = set ([item.strip () for item in txt.split (separator)])\n",
    "\n",
    "    if len (res) > 1:\n",
    "        res -= set ([''])\n",
    "    res -= set ([LABEL_PREFIX_TOKEN [1:]])\n",
    "    if len (res) == 0: res |= set ([''])\n",
    "\n",
    "    return res\n",
    "\n",
    "\n",
    "def sanity_check (preds, labels, to_print = False):\n",
    "\n",
    "    tps_sum = 0\n",
    "    fps_sum = 0\n",
    "    fns_sum = 0 \n",
    "\n",
    "    for i in range (len (labels)):\n",
    "        predicted_set = get_set (preds [i], ground_truth = False)\n",
    "        true_set = get_set (labels [i])\n",
    "\n",
    "        if to_print: print (f'True: {true_set}\\nPred: {predicted_set}')\n",
    "\n",
    "        tps_sum += len (true_set & predicted_set)  # Истинно положительные\n",
    "        fps_sum += len (predicted_set - true_set)     # Ложноположительные\n",
    "        fns_sum += len (true_set - predicted_set)     # Ложноотрицательные\n",
    "\n",
    "    precision = tps_sum / (tps_sum + fps_sum) if (tps_sum + fps_sum) > 0 else 0\n",
    "    recall = tps_sum / (tps_sum + fns_sum) if (tps_sum + fns_sum) > 0 else 0\n",
    "    f1_score = 2 * (precision * recall) / (precision + recall) if (precision + recall) > 0 else 0\n",
    "\n",
    "    return precision, recall, f1_score"
   ]
  },
  {
   "cell_type": "code",
   "execution_count": 12,
   "id": "b417c34f",
   "metadata": {},
   "outputs": [
    {
     "name": "stdout",
     "output_type": "stream",
     "text": [
      "                                                text  \\\n",
      "0  ABBYY Retrieval & Morphology Engine\\nВ сообщен...   \n",
      "1  Речевые формулы в диалоге\\nПредложенная класси...   \n",
      "2  Географические названия и полнотекстовые докум...   \n",
      "3  Методы автоматического построения специализиро...   \n",
      "4  Закономерности построения дискурсивной последо...   \n",
      "\n",
      "                                               label  \n",
      "0  [[0, 35], [6, 15], [18, 35], [29, 35], [69, 88...  \n",
      "1  [[0, 15], [18, 25], [74, 99], [134, 140], [175...  \n",
      "2  [[0, 23], [26, 50], [54, 68], [169, 190], [181...  \n",
      "3  [[7, 63], [34, 63], [54, 63], [92, 128], [119,...  \n",
      "4  [[26, 57], [62, 76], [251, 265], [266, 280], [...  \n",
      "\n",
      "                                                text  \\\n",
      "0  АВТОМАТИЧЕСКИЙ АНАЛИЗ ТОНАЛЬНОСТИ ТЕКСТОВ НА О...   \n",
      "1  InBASE: ТЕХНОЛОГИЯ ПОСТРОЕНИЯ ЕЯ-ИНТЕРФЕЙСОВ К...   \n",
      "2  Выражение уважительности с помощью личных мест...   \n",
      "3  ДА ЧЕРТ ЛИ В ДЕТАЛЯХ?.. МЕРА ДЛЯ ОЦЕНКИ СОВПАД...   \n",
      "4  КОРПУСНАЯ ОЦЕНКА СОЧЕТАЕМОСТИ СЛОВ С ИСПОЛЬЗОВ...   \n",
      "\n",
      "                                               label  \n",
      "0  [[0, 33, specific], [22, 33, specific], [52, 7...  \n",
      "1  [[0, 6, nomen], [19, 44, specific], [30, 44, s...  \n",
      "2  [[0, 24, specific], [35, 53, specific], [42, 5...  \n",
      "3  [[51, 70, specific], [61, 70, specific], [116,...  \n",
      "4  [[0, 16, specific], [17, 34, specific], [30, 3...  \n",
      "\n",
      "Уникальных терминов во всём тренировочном наборе: 9761.\n",
      "\n"
     ]
    },
    {
     "name": "stderr",
     "output_type": "stream",
     "text": [
      "100%|██████████| 595/595 [00:07<00:00, 79.64it/s]\n",
      "100%|██████████| 695/695 [00:08<00:00, 80.46it/s]\n"
     ]
    }
   ],
   "source": [
    "df = pd.read_json ('train_t1_v1.jsonl', lines = True)\n",
    "df.drop (columns = ['id', 'keywords'], inplace = True)\n",
    "print (df.head ())\n",
    "print ()\n",
    "df_2 = pd.read_json ('./test_data/test1_t12_full_v2.jsonl', lines = True)\n",
    "df_2 = df_2 [['text', 'label']]\n",
    "print (df_2.head ())\n",
    "print ()\n",
    "\n",
    "val_data_txt, test_data_txt, val_labels_txt, test_labels_txt = train_test_split (df_2 ['text'], df_2 ['label'], test_size = 0.5, random_state = 14)\n",
    "\n",
    "train_data_lst = df ['text'].tolist ()\n",
    "train_labels_lst = df ['label'].tolist ()\n",
    "train_parallel_text, train_parallel_labels = create_parallels (train_data_lst, train_labels_lst)\n",
    "\n",
    "val_data_lst = val_data_txt.tolist ()\n",
    "val_labels_lst = label_constructor (val_labels_txt)\n",
    "val_parallel_text, val_parallel_labels = create_parallels (val_data_lst, val_labels_lst)\n",
    "\n",
    "test_data_lst = test_data_txt.tolist ()\n",
    "test_labels_lst = label_constructor (test_labels_txt)\n",
    "test_parallel_text, test_parallel_labels = create_parallels (test_data_lst, test_labels_lst)\n",
    "\n",
    "all_train_terms = set ()\n",
    "for line in train_parallel_labels:\n",
    "    all_train_terms |= set (line.split (SEP_TOKEN))\n",
    "all_train_terms -= set ([''])\n",
    "all_train_terms -= set ([LABEL_PREFIX_TOKEN])\n",
    "print (f'Уникальных терминов во всём тренировочном наборе: {len (all_train_terms)}.\\n')\n",
    "\n",
    "val_parallel_text_new = attach_dictionary_foundings (val_parallel_text, all_train_terms)\n",
    "test_parallel_text_new = attach_dictionary_foundings (test_parallel_text, all_train_terms)\n",
    "\n",
    "val_data = tokenizer (val_parallel_text_new, padding = 'max_length', truncation = True, max_length = SEQ_MAX_LENGTH, return_tensors = 'pt')\n",
    "val_labels = tokenizer (val_parallel_labels, padding = 'max_length', truncation = True, max_length = ANSWER_MAX_LENGTH, return_tensors = 'pt')\n",
    "\n",
    "test_data = tokenizer (test_parallel_text_new, padding = 'max_length', truncation = True, max_length = SEQ_MAX_LENGTH, return_tensors = 'pt')\n",
    "test_labels = tokenizer (test_parallel_labels, padding = 'max_length', truncation = True, max_length = ANSWER_MAX_LENGTH, return_tensors = 'pt')\n",
    "\n",
    "if ENABLE_LABEL_FIX:\n",
    "    \n",
    "    replaced = replace_padding (val_labels)\n",
    "    val_labels = replaced\n",
    "\n",
    "    replaced = replace_padding (test_labels)\n",
    "    test_labels = replaced\n",
    "\n",
    "val_dataset = Seq2SeqDataset (val_data, val_labels)\n",
    "test_dataset = Seq2SeqDataset (test_data, test_labels)\n",
    "\n",
    "val_loader = DataLoader (val_dataset, batch_size = EVAL_BATCH_SIZE)\n",
    "test_loader = DataLoader (test_dataset, batch_size = EVAL_BATCH_SIZE)"
   ]
  },
  {
   "cell_type": "code",
   "execution_count": 6,
   "id": "3d0a09db",
   "metadata": {},
   "outputs": [],
   "source": [
    "def attach_model_foundings (texts, loader, model = model):\n",
    "\n",
    "    model.eval ()\n",
    "    val_preds = []\n",
    "    with torch.no_grad ():\n",
    "        for batch in loader:\n",
    "            input_ids = batch ['input_ids'].to (model.device)\n",
    "            attention_mask = batch ['attention_mask'].to (model.device)\n",
    "\n",
    "            outputs = model.generate (input_ids = input_ids, attention_mask = attention_mask, max_length = SEQ_MAX_LENGTH)\n",
    "\n",
    "            val_preds.extend (outputs)\n",
    "            torch.cuda.empty_cache ()\n",
    "\n",
    "    res_texts = []\n",
    "    for iteration, text in tqdm (enumerate (texts)):\n",
    "        predicted_set = get_set (val_preds [iteration], ground_truth = False)\n",
    "        res_texts.append (make_attachment (text, predicted_set))\n",
    "    return res_texts"
   ]
  },
  {
   "cell_type": "code",
   "execution_count": null,
   "id": "98827bc0",
   "metadata": {},
   "outputs": [],
   "source": [
    "X_curr = data [test_indices [iteration] [1]]\n",
    "y_curr = labels [test_indices [iteration] [1]]\n",
    "\n",
    "train_data_lst = X_curr.tolist ()\n",
    "train_labels_lst = y_curr.tolist ()\n",
    "parallel_text, parallel_labels = create_parallels (train_data_lst, train_labels_lst)\n",
    "\n",
    "train_data = tokenizer (parallel_text, padding = 'max_length', truncation = True, max_length = SEQ_MAX_LENGTH, return_tensors = 'pt')\n",
    "train_labels = tokenizer (parallel_labels, padding = 'max_length', truncation = True, max_length = ANSWER_MAX_LENGTH, return_tensors = 'pt')\n",
    "\n",
    "if ENABLE_LABEL_FIX:\n",
    "    replaced = replace_padding (train_labels)\n",
    "    train_labels = replaced\n",
    "\n",
    "train_dataset = Seq2SeqDataset (train_data, train_labels)\n",
    "train_loader = DataLoader (train_dataset, batch_size = EVAL_BATCH_SIZE)\n",
    "\n",
    "parallel_text_new = attach_model_foundings (parallel_text, train_loader, model)\n",
    "\n",
    "if iteration < kf.n_splits - 1:\n",
    "\n",
    "    X_next = data [test_indices [iteration + 1] [1]]\n",
    "    y_next = labels [test_indices [iteration + 1] [1]]\n",
    "\n",
    "    train_data_lst_next = X_next.tolist ()\n",
    "    train_labels_lst_next = y_next.tolist ()\n",
    "    parallel_text_next, parallel_labels_next = create_parallels (train_data_lst_next, train_labels_lst_next)\n",
    "\n",
    "    train_data_next = tokenizer (parallel_text_next, padding = 'max_length', truncation = True, max_length = SEQ_MAX_LENGTH, return_tensors = 'pt')\n",
    "    train_labels_next = tokenizer (parallel_labels_next, padding = 'max_length', truncation = True, max_length = ANSWER_MAX_LENGTH, return_tensors = 'pt')\n",
    "\n",
    "    if ENABLE_LABEL_FIX:\n",
    "        replaced = replace_padding (train_labels_next)\n",
    "        train_labels_next = replaced\n",
    "\n",
    "    train_dataset_next = Seq2SeqDataset (train_data_next, train_labels_next)\n",
    "    train_loader_next = DataLoader (train_dataset_next, batch_size = EVAL_BATCH_SIZE)\n",
    "\n",
    "    parallel_text_new_next = attach_model_foundings (parallel_text_next, train_loader_next, model)"
   ]
  },
  {
   "cell_type": "code",
   "execution_count": null,
   "id": "76ef5943",
   "metadata": {},
   "outputs": [
    {
     "name": "stderr",
     "output_type": "stream",
     "text": [
      "190it [00:00, 1366.91it/s]\n",
      "  0%|          | 0/48 [00:00<?, ?it/s]Passing a tuple of `past_key_values` is deprecated and will be removed in Transformers v4.48.0. You should pass an instance of `EncoderDecoderCache` instead, e.g. `past_key_values=EncoderDecoderCache.from_legacy_cache(past_key_values)`.\n",
      "100%|██████████| 48/48 [00:07<00:00,  6.38it/s]\n"
     ]
    },
    {
     "name": "stdout",
     "output_type": "stream",
     "text": [
      "Epoch 1 / 50, Loss: 2.7800, Validation loss: 2.0025, 0.22777777777777777 / 0.08570234113712374 / 0.12454434993924667\n"
     ]
    },
    {
     "name": "stderr",
     "output_type": "stream",
     "text": [
      "100%|██████████| 48/48 [00:07<00:00,  6.57it/s]\n"
     ]
    },
    {
     "name": "stdout",
     "output_type": "stream",
     "text": [
      "Epoch 2 / 50, Loss: 1.7763, Validation loss: 1.5697, 0.4420772303595206 / 0.27759197324414714 / 0.3410374935798664\n",
      "Уникальных терминов в 1-м тренировочном наборе: 653.\n"
     ]
    },
    {
     "name": "stderr",
     "output_type": "stream",
     "text": [
      "188it [00:00, 2043.47it/s]\n",
      "100%|██████████| 47/47 [00:05<00:00,  8.88it/s]\n"
     ]
    },
    {
     "name": "stdout",
     "output_type": "stream",
     "text": [
      "Epoch 3 / 50, Loss: 1.4728, Validation loss: 1.1283, 0.4544747081712062 / 0.24414715719063546 / 0.31765025836279576\n"
     ]
    },
    {
     "name": "stderr",
     "output_type": "stream",
     "text": [
      "100%|██████████| 47/47 [00:05<00:00,  8.84it/s]\n"
     ]
    },
    {
     "name": "stdout",
     "output_type": "stream",
     "text": [
      "Epoch 4 / 50, Loss: 1.1494, Validation loss: 0.9225, 0.44906089926010245 / 0.32984949832775917 / 0.38033261026753434\n",
      "Уникальных терминов в 2-м тренировочном наборе: 1205.\n"
     ]
    },
    {
     "name": "stderr",
     "output_type": "stream",
     "text": [
      "194it [00:00, 2694.47it/s]\n",
      "100%|██████████| 49/49 [00:05<00:00,  8.69it/s]\n"
     ]
    },
    {
     "name": "stdout",
     "output_type": "stream",
     "text": [
      "Epoch 5 / 50, Loss: 0.9825, Validation loss: 0.8438, 0.48624338624338626 / 0.3841973244147157 / 0.4292386735170481\n"
     ]
    },
    {
     "name": "stderr",
     "output_type": "stream",
     "text": [
      "100%|██████████| 49/49 [00:05<00:00,  8.87it/s]\n"
     ]
    },
    {
     "name": "stdout",
     "output_type": "stream",
     "text": [
      "Epoch 6 / 50, Loss: 0.8661, Validation loss: 0.8209, 0.5128676470588235 / 0.34991638795986624 / 0.41600397614314116\n",
      "Уникальных терминов в 3-м тренировочном наборе: 1777.\n"
     ]
    },
    {
     "name": "stderr",
     "output_type": "stream",
     "text": [
      "197it [00:00, 2432.10it/s]\n",
      "100%|██████████| 50/50 [00:05<00:00,  9.22it/s]\n"
     ]
    },
    {
     "name": "stdout",
     "output_type": "stream",
     "text": [
      "Epoch 7 / 50, Loss: 0.8818, Validation loss: 0.7479, 0.48781700646444554 / 0.41011705685618727 / 0.4456052691346809\n"
     ]
    },
    {
     "name": "stderr",
     "output_type": "stream",
     "text": [
      "100%|██████████| 50/50 [00:05<00:00,  8.51it/s]\n"
     ]
    },
    {
     "name": "stdout",
     "output_type": "stream",
     "text": [
      "Epoch 8 / 50, Loss: 0.8143, Validation loss: 0.7419, 0.4863961813842482 / 0.4260033444816054 / 0.4542010251838645\n",
      "Уникальных терминов в 4-м тренировочном наборе: 2317.\n"
     ]
    },
    {
     "name": "stderr",
     "output_type": "stream",
     "text": [
      "215it [00:00, 2171.73it/s]\n",
      "100%|██████████| 54/54 [00:06<00:00,  8.86it/s]\n"
     ]
    },
    {
     "name": "stdout",
     "output_type": "stream",
     "text": [
      "Epoch 9 / 50, Loss: 0.9215, Validation loss: 0.7379, 0.4892661008487269 / 0.4096989966555184 / 0.4459613196814562\n"
     ]
    },
    {
     "name": "stderr",
     "output_type": "stream",
     "text": [
      "100%|██████████| 54/54 [00:06<00:00,  8.89it/s]\n"
     ]
    },
    {
     "name": "stdout",
     "output_type": "stream",
     "text": [
      "Epoch 10 / 50, Loss: 0.8339, Validation loss: 0.6836, 0.5164298401420959 / 0.4862040133779264 / 0.5008613264427217\n",
      "Уникальных терминов в 5-м тренировочном наборе: 2946.\n"
     ]
    },
    {
     "name": "stderr",
     "output_type": "stream",
     "text": [
      "225it [00:00, 2647.08it/s]\n",
      "100%|██████████| 57/57 [00:06<00:00,  8.84it/s]\n"
     ]
    },
    {
     "name": "stdout",
     "output_type": "stream",
     "text": [
      "Epoch 11 / 50, Loss: 0.8052, Validation loss: 0.6753, 0.5251908396946565 / 0.431438127090301 / 0.47372044985081485\n"
     ]
    },
    {
     "name": "stderr",
     "output_type": "stream",
     "text": [
      "100%|██████████| 57/57 [00:06<00:00,  8.87it/s]\n"
     ]
    },
    {
     "name": "stdout",
     "output_type": "stream",
     "text": [
      "Epoch 12 / 50, Loss: 0.6785, Validation loss: 0.6705, 0.5281407035175879 / 0.43938127090301005 / 0.4796896394340484\n",
      "Уникальных терминов в 6-м тренировочном наборе: 3501.\n"
     ]
    },
    {
     "name": "stderr",
     "output_type": "stream",
     "text": [
      "148it [00:00, 1321.43it/s]\n",
      "100%|██████████| 37/37 [00:06<00:00,  6.16it/s]\n"
     ]
    },
    {
     "name": "stdout",
     "output_type": "stream",
     "text": [
      "Epoch 13 / 50, Loss: 0.6783, Validation loss: 0.6513, 0.5149321266968325 / 0.47575250836120403 / 0.494567579313342\n"
     ]
    },
    {
     "name": "stderr",
     "output_type": "stream",
     "text": [
      "100%|██████████| 37/37 [00:04<00:00,  8.98it/s]\n"
     ]
    },
    {
     "name": "stdout",
     "output_type": "stream",
     "text": [
      "Epoch 14 / 50, Loss: 0.5605, Validation loss: 0.6248, 0.5401220084467386 / 0.48118729096989965 / 0.5089542339155428\n",
      "Уникальных терминов в 7-м тренировочном наборе: 3862.\n"
     ]
    },
    {
     "name": "stderr",
     "output_type": "stream",
     "text": [
      "141it [00:00, 2517.85it/s]\n",
      "100%|██████████| 36/36 [00:04<00:00,  8.83it/s]\n"
     ]
    },
    {
     "name": "stdout",
     "output_type": "stream",
     "text": [
      "Epoch 15 / 50, Loss: 0.7041, Validation loss: 0.6013, 0.5557142857142857 / 0.487876254180602 / 0.5195903829029386\n"
     ]
    },
    {
     "name": "stderr",
     "output_type": "stream",
     "text": [
      "100%|██████████| 36/36 [00:03<00:00,  9.12it/s]\n"
     ]
    },
    {
     "name": "stdout",
     "output_type": "stream",
     "text": [
      "Epoch 16 / 50, Loss: 0.6255, Validation loss: 0.5982, 0.5458916083916084 / 0.5221571906354515 / 0.5337606837606838\n",
      "Уникальных терминов в 8-м тренировочном наборе: 4166.\n"
     ]
    },
    {
     "name": "stderr",
     "output_type": "stream",
     "text": [
      "162it [00:00, 1275.58it/s]\n",
      "100%|██████████| 41/41 [00:06<00:00,  6.27it/s]\n"
     ]
    },
    {
     "name": "stdout",
     "output_type": "stream",
     "text": [
      "Epoch 17 / 50, Loss: 0.6435, Validation loss: 0.6010, 0.5466841186736475 / 0.5238294314381271 / 0.5350128095644748\n"
     ]
    },
    {
     "name": "stderr",
     "output_type": "stream",
     "text": [
      "100%|██████████| 41/41 [00:06<00:00,  6.36it/s]\n"
     ]
    },
    {
     "name": "stdout",
     "output_type": "stream",
     "text": [
      "Epoch 18 / 50, Loss: 0.5499, Validation loss: 0.6051, 0.5583566760037348 / 0.5 / 0.5275694750771945\n",
      "Уникальных терминов в 9-м тренировочном наборе: 4556.\n"
     ]
    },
    {
     "name": "stderr",
     "output_type": "stream",
     "text": [
      "138it [00:00, 1199.99it/s]\n",
      "100%|██████████| 35/35 [00:05<00:00,  6.02it/s]\n"
     ]
    },
    {
     "name": "stdout",
     "output_type": "stream",
     "text": [
      "Epoch 19 / 50, Loss: 0.6645, Validation loss: 0.5651, 0.5697777777777778 / 0.5359531772575251 / 0.5523481258078414\n"
     ]
    },
    {
     "name": "stderr",
     "output_type": "stream",
     "text": [
      "100%|██████████| 35/35 [00:05<00:00,  6.32it/s]\n"
     ]
    },
    {
     "name": "stdout",
     "output_type": "stream",
     "text": [
      "Epoch 20 / 50, Loss: 0.5609, Validation loss: 0.5941, 0.5491873396065012 / 0.5367892976588629 / 0.5429175475687104\n",
      "Уникальных терминов в 10-м тренировочном наборе: 4834.\n"
     ]
    },
    {
     "name": "stderr",
     "output_type": "stream",
     "text": [
      "137it [00:00, 2634.71it/s]\n",
      "100%|██████████| 35/35 [00:03<00:00,  9.00it/s]\n"
     ]
    },
    {
     "name": "stdout",
     "output_type": "stream",
     "text": [
      "Epoch 21 / 50, Loss: 0.5831, Validation loss: 0.5876, 0.5308159722222222 / 0.5112876254180602 / 0.5208688245315162\n"
     ]
    },
    {
     "name": "stderr",
     "output_type": "stream",
     "text": [
      "100%|██████████| 35/35 [00:03<00:00,  9.20it/s]\n"
     ]
    },
    {
     "name": "stdout",
     "output_type": "stream",
     "text": [
      "Epoch 22 / 50, Loss: 0.5168, Validation loss: 0.6040, 0.5184 / 0.5418060200668896 / 0.5298446443172526\n",
      "Уникальных терминов в 11-м тренировочном наборе: 5180.\n"
     ]
    },
    {
     "name": "stderr",
     "output_type": "stream",
     "text": [
      "131it [00:00, 2258.59it/s]\n",
      "100%|██████████| 33/33 [00:03<00:00,  8.54it/s]\n"
     ]
    },
    {
     "name": "stdout",
     "output_type": "stream",
     "text": [
      "Epoch 23 / 50, Loss: 0.6003, Validation loss: 0.5795, 0.5277998411437649 / 0.5556020066889632 / 0.5413441955193483\n"
     ]
    },
    {
     "name": "stderr",
     "output_type": "stream",
     "text": [
      "100%|██████████| 33/33 [00:05<00:00,  6.37it/s]\n"
     ]
    },
    {
     "name": "stdout",
     "output_type": "stream",
     "text": [
      "Epoch 24 / 50, Loss: 0.5181, Validation loss: 0.5757, 0.5473543797243219 / 0.5146321070234113 / 0.5304891187244127\n",
      "Уникальных терминов в 12-м тренировочном наборе: 5531.\n"
     ]
    },
    {
     "name": "stderr",
     "output_type": "stream",
     "text": [
      "130it [00:00, 1340.21it/s]\n",
      "100%|██████████| 33/33 [00:05<00:00,  6.38it/s]\n"
     ]
    },
    {
     "name": "stdout",
     "output_type": "stream",
     "text": [
      "Epoch 25 / 50, Loss: 0.5701, Validation loss: 0.5807, 0.5704022988505747 / 0.4979096989966555 / 0.5316964285714285\n"
     ]
    },
    {
     "name": "stderr",
     "output_type": "stream",
     "text": [
      "100%|██████████| 33/33 [00:05<00:00,  6.06it/s]\n"
     ]
    },
    {
     "name": "stdout",
     "output_type": "stream",
     "text": [
      "Epoch 26 / 50, Loss: 0.4975, Validation loss: 0.5891, 0.5347711267605634 / 0.507943143812709 / 0.5210120068610634\n",
      "Уникальных терминов в 13-м тренировочном наборе: 5807.\n"
     ]
    },
    {
     "name": "stderr",
     "output_type": "stream",
     "text": [
      "121it [00:00, 1305.89it/s]\n",
      "100%|██████████| 31/31 [00:04<00:00,  6.34it/s]\n"
     ]
    },
    {
     "name": "stdout",
     "output_type": "stream",
     "text": [
      "Epoch 27 / 50, Loss: 0.5849, Validation loss: 0.5619, 0.5355144210073182 / 0.520066889632107 / 0.527677624602333\n"
     ]
    },
    {
     "name": "stderr",
     "output_type": "stream",
     "text": [
      "100%|██████████| 31/31 [00:04<00:00,  6.23it/s]\n"
     ]
    },
    {
     "name": "stdout",
     "output_type": "stream",
     "text": [
      "Epoch 28 / 50, Loss: 0.4851, Validation loss: 0.5593, 0.5279149259399925 / 0.5811036789297659 / 0.5532338308457712\n",
      "Уникальных терминов в 14-м тренировочном наборе: 6097.\n"
     ]
    },
    {
     "name": "stderr",
     "output_type": "stream",
     "text": [
      "142it [00:00, 1135.99it/s]\n",
      "100%|██████████| 36/36 [00:06<00:00,  5.74it/s]\n"
     ]
    },
    {
     "name": "stdout",
     "output_type": "stream",
     "text": [
      "Epoch 29 / 50, Loss: 0.5739, Validation loss: 0.5555, 0.5268272074355724 / 0.5213210702341137 / 0.5240596764026054\n"
     ]
    },
    {
     "name": "stderr",
     "output_type": "stream",
     "text": [
      "100%|██████████| 36/36 [00:05<00:00,  6.21it/s]\n"
     ]
    },
    {
     "name": "stdout",
     "output_type": "stream",
     "text": [
      "Epoch 30 / 50, Loss: 0.5182, Validation loss: 0.5594, 0.5212631578947369 / 0.5175585284280937 / 0.5194042374659116\n",
      "Уникальных терминов в 15-м тренировочном наборе: 6396.\n"
     ]
    },
    {
     "name": "stderr",
     "output_type": "stream",
     "text": [
      "130it [00:00, 1428.57it/s]\n",
      "100%|██████████| 33/33 [00:05<00:00,  6.37it/s]\n"
     ]
    },
    {
     "name": "stdout",
     "output_type": "stream",
     "text": [
      "Epoch 31 / 50, Loss: 0.5953, Validation loss: 0.5479, 0.5252982311805842 / 0.5338628762541806 / 0.5295459257723409\n"
     ]
    },
    {
     "name": "stderr",
     "output_type": "stream",
     "text": [
      "100%|██████████| 33/33 [00:05<00:00,  6.21it/s]\n"
     ]
    },
    {
     "name": "stdout",
     "output_type": "stream",
     "text": [
      "Epoch 32 / 50, Loss: 0.5584, Validation loss: 0.5566, 0.5315315315315315 / 0.5426421404682275 / 0.5370293752585851\n",
      "Уникальных терминов в 16-м тренировочном наборе: 6677.\n"
     ]
    },
    {
     "name": "stderr",
     "output_type": "stream",
     "text": [
      "135it [00:00, 1298.04it/s]\n",
      "100%|██████████| 34/34 [00:05<00:00,  6.37it/s]\n"
     ]
    },
    {
     "name": "stdout",
     "output_type": "stream",
     "text": [
      "Epoch 33 / 50, Loss: 0.6099, Validation loss: 0.5410, 0.5646032405484005 / 0.5681438127090301 / 0.5663679933319442\n"
     ]
    },
    {
     "name": "stderr",
     "output_type": "stream",
     "text": [
      "100%|██████████| 34/34 [00:05<00:00,  6.40it/s]\n"
     ]
    },
    {
     "name": "stdout",
     "output_type": "stream",
     "text": [
      "Epoch 34 / 50, Loss: 0.5360, Validation loss: 0.5603, 0.5758889852558543 / 0.5551839464882943 / 0.5653469561515538\n",
      "Уникальных терминов в 17-м тренировочном наборе: 6923.\n"
     ]
    },
    {
     "name": "stderr",
     "output_type": "stream",
     "text": [
      "122it [00:00, 1340.64it/s]\n",
      "100%|██████████| 31/31 [00:04<00:00,  6.25it/s]\n"
     ]
    },
    {
     "name": "stdout",
     "output_type": "stream",
     "text": [
      "Epoch 35 / 50, Loss: 0.6627, Validation loss: 0.5337, 0.5441767068273092 / 0.5664715719063546 / 0.5551003687013519\n"
     ]
    },
    {
     "name": "stderr",
     "output_type": "stream",
     "text": [
      "100%|██████████| 31/31 [00:04<00:00,  6.35it/s]\n"
     ]
    },
    {
     "name": "stdout",
     "output_type": "stream",
     "text": [
      "Epoch 36 / 50, Loss: 0.5521, Validation loss: 0.5548, 0.5489667565139263 / 0.5108695652173914 / 0.5292334343871805\n",
      "Уникальных терминов в 18-м тренировочном наборе: 7188.\n"
     ]
    },
    {
     "name": "stderr",
     "output_type": "stream",
     "text": [
      "129it [00:00, 1357.87it/s]\n",
      "100%|██████████| 33/33 [00:05<00:00,  6.41it/s]\n"
     ]
    },
    {
     "name": "stdout",
     "output_type": "stream",
     "text": [
      "Epoch 37 / 50, Loss: 0.6715, Validation loss: 0.5270, 0.5480885311871228 / 0.5693979933110368 / 0.5585400861185155\n"
     ]
    },
    {
     "name": "stderr",
     "output_type": "stream",
     "text": [
      "100%|██████████| 33/33 [00:03<00:00,  8.65it/s]\n"
     ]
    },
    {
     "name": "stdout",
     "output_type": "stream",
     "text": [
      "Epoch 38 / 50, Loss: 0.5095, Validation loss: 0.5450, 0.5493775933609959 / 0.5535117056856187 / 0.5514369012911287\n",
      "Уникальных терминов в 19-м тренировочном наборе: 7423.\n"
     ]
    },
    {
     "name": "stderr",
     "output_type": "stream",
     "text": [
      "184it [00:00, 1268.94it/s]\n",
      "100%|██████████| 46/46 [00:07<00:00,  6.37it/s]\n"
     ]
    },
    {
     "name": "stdout",
     "output_type": "stream",
     "text": [
      "Epoch 39 / 50, Loss: 0.5412, Validation loss: 0.5138, 0.5800344234079173 / 0.5635451505016722 / 0.57167090754877\n"
     ]
    },
    {
     "name": "stderr",
     "output_type": "stream",
     "text": [
      "100%|██████████| 46/46 [00:07<00:00,  6.19it/s]\n"
     ]
    },
    {
     "name": "stdout",
     "output_type": "stream",
     "text": [
      "Epoch 40 / 50, Loss: 0.4595, Validation loss: 0.5119, 0.5782009724473258 / 0.5965719063545151 / 0.5872427983539095\n",
      "Уникальных терминов в 20-м тренировочном наборе: 7781.\n"
     ]
    },
    {
     "name": "stderr",
     "output_type": "stream",
     "text": [
      "204it [00:00, 1259.25it/s]\n",
      "100%|██████████| 51/51 [00:08<00:00,  6.18it/s]\n"
     ]
    },
    {
     "name": "stdout",
     "output_type": "stream",
     "text": [
      "Epoch 41 / 50, Loss: 0.5336, Validation loss: 0.5162, 0.6145833333333334 / 0.5673076923076923 / 0.5900000000000001\n"
     ]
    },
    {
     "name": "stderr",
     "output_type": "stream",
     "text": [
      "100%|██████████| 51/51 [00:08<00:00,  6.13it/s]\n"
     ]
    },
    {
     "name": "stdout",
     "output_type": "stream",
     "text": [
      "Epoch 42 / 50, Loss: 0.4578, Validation loss: 0.5135, 0.60671768707483 / 0.5965719063545151 / 0.6016020236087689\n",
      "Уникальных терминов в 21-м тренировочном наборе: 8139.\n"
     ]
    },
    {
     "name": "stderr",
     "output_type": "stream",
     "text": [
      "204it [00:00, 2487.78it/s]\n",
      "100%|██████████| 51/51 [00:05<00:00,  8.58it/s]\n"
     ]
    },
    {
     "name": "stdout",
     "output_type": "stream",
     "text": [
      "Epoch 43 / 50, Loss: 0.5493, Validation loss: 0.4986, 0.5967812092214007 / 0.5735785953177257 / 0.5849499040716265\n"
     ]
    },
    {
     "name": "stderr",
     "output_type": "stream",
     "text": [
      "100%|██████████| 51/51 [00:08<00:00,  6.28it/s]\n"
     ]
    },
    {
     "name": "stdout",
     "output_type": "stream",
     "text": [
      "Epoch 44 / 50, Loss: 0.4523, Validation loss: 0.4948, 0.5969773299748111 / 0.5944816053511706 / 0.5957268537913699\n",
      "Уникальных терминов в 22-м тренировочном наборе: 8489.\n"
     ]
    },
    {
     "name": "stderr",
     "output_type": "stream",
     "text": [
      "228it [00:00, 2533.29it/s]\n",
      "100%|██████████| 57/57 [00:07<00:00,  7.17it/s]\n"
     ]
    },
    {
     "name": "stdout",
     "output_type": "stream",
     "text": [
      "Epoch 45 / 50, Loss: 0.5369, Validation loss: 0.5157, 0.5634328358208955 / 0.6312709030100334 / 0.5954258675078864\n"
     ]
    },
    {
     "name": "stderr",
     "output_type": "stream",
     "text": [
      "100%|██████████| 57/57 [00:09<00:00,  6.23it/s]\n"
     ]
    },
    {
     "name": "stdout",
     "output_type": "stream",
     "text": [
      "Epoch 46 / 50, Loss: 0.4632, Validation loss: 0.4919, 0.6027903159622486 / 0.6141304347826086 / 0.6084075377925035\n",
      "Уникальных терминов в 23-м тренировочном наборе: 8903.\n"
     ]
    },
    {
     "name": "stderr",
     "output_type": "stream",
     "text": [
      "201it [00:00, 1288.46it/s]\n",
      "100%|██████████| 51/51 [00:08<00:00,  6.20it/s]\n"
     ]
    },
    {
     "name": "stdout",
     "output_type": "stream",
     "text": [
      "Epoch 47 / 50, Loss: 0.5522, Validation loss: 0.4911, 0.6081545064377682 / 0.592391304347826 / 0.6001694197373995\n"
     ]
    },
    {
     "name": "stderr",
     "output_type": "stream",
     "text": [
      "100%|██████████| 51/51 [00:08<00:00,  6.31it/s]\n"
     ]
    },
    {
     "name": "stdout",
     "output_type": "stream",
     "text": [
      "Epoch 48 / 50, Loss: 0.4568, Validation loss: 0.4906, 0.6007223113964687 / 0.6258361204013378 / 0.613022113022113\n",
      "Уникальных терминов в 24-м тренировочном наборе: 9332.\n"
     ]
    },
    {
     "name": "stderr",
     "output_type": "stream",
     "text": [
      "188it [00:00, 1119.05it/s]\n",
      "100%|██████████| 47/47 [00:07<00:00,  6.18it/s]\n"
     ]
    },
    {
     "name": "stdout",
     "output_type": "stream",
     "text": [
      "Epoch 49 / 50, Loss: 0.5166, Validation loss: 0.5219, 0.5474273713685684 / 0.6538461538461539 / 0.5959230329586588\n"
     ]
    },
    {
     "name": "stderr",
     "output_type": "stream",
     "text": [
      "100%|██████████| 47/47 [00:07<00:00,  6.17it/s]\n"
     ]
    },
    {
     "name": "stdout",
     "output_type": "stream",
     "text": [
      "Epoch 50 / 50, Loss: 0.4606, Validation loss: 0.5010, 0.5525672371638142 / 0.6613712374581939 / 0.60209324452902\n",
      "Уникальных терминов в 25-м тренировочном наборе: 9761.\n"
     ]
    }
   ],
   "source": [
    "kf = KFold (n_splits = NUM_OF_SPLITS)\n",
    "\n",
    "data = df ['text']\n",
    "labels = df ['label']\n",
    "\n",
    "test_indices = list (kf.split (data))\n",
    "\n",
    "\n",
    "iteration = 0\n",
    "\n",
    "X_next = data [test_indices [iteration] [1]]\n",
    "y_next = labels [test_indices [iteration] [1]]\n",
    "\n",
    "train_data_lst_next = X_next.tolist ()\n",
    "train_labels_lst_next = y_next.tolist ()\n",
    "parallel_text_next, parallel_labels_next = create_parallels (train_data_lst_next, train_labels_lst_next)\n",
    "\n",
    "train_data_next = tokenizer (parallel_text_next, padding = 'max_length', truncation = True, max_length = SEQ_MAX_LENGTH, return_tensors = 'pt')\n",
    "train_labels_next = tokenizer (parallel_labels_next, padding = 'max_length', truncation = True, max_length = ANSWER_MAX_LENGTH, return_tensors = 'pt')\n",
    "\n",
    "if ENABLE_LABEL_FIX:\n",
    "    replaced = replace_padding (train_labels_next)\n",
    "    train_labels_next = replaced\n",
    "\n",
    "train_dataset_next = Seq2SeqDataset (train_data_next, train_labels_next)\n",
    "train_loader_next = DataLoader (train_dataset_next, batch_size = EVAL_BATCH_SIZE)\n",
    "\n",
    "parallel_text_new_next = attach_model_foundings (parallel_text_next, train_loader_next, model)\n",
    "\n",
    "train_data_next = tokenizer (parallel_text_new_next, padding = 'max_length', truncation = True, max_length = SEQ_MAX_LENGTH, return_tensors = 'pt')\n",
    "train_dataset_next = Seq2SeqDataset (train_data_next, train_labels_next)\n",
    "train_loader_next = DataLoader (train_dataset_next, batch_size = BATCH_SIZE, shuffle = True)\n",
    "\n",
    "inc_term_set = set ([''])\n",
    "for iteration, (train_index, test_index) in enumerate (test_indices):\n",
    "\n",
    "    parallel_text_new = attach_model_foundings (parallel_text_new_next, train_loader_next, model)\n",
    "    \n",
    "    train_data = tokenizer (parallel_text_new, padding = 'max_length', truncation = True, max_length = SEQ_MAX_LENGTH, return_tensors = 'pt')\n",
    "    train_dataset = Seq2SeqDataset (train_data, train_labels)\n",
    "    train_loader = DataLoader (train_dataset, batch_size = BATCH_SIZE, shuffle = True)\n",
    "\n",
    "    if iteration < kf.n_splits - 1:\n",
    "\n",
    "        X_next = data [test_indices [iteration + 1] [1]]\n",
    "        y_next = labels [test_indices [iteration + 1] [1]]\n",
    "\n",
    "        train_data_lst_next = X_next.tolist ()\n",
    "        train_labels_lst_next = y_next.tolist ()\n",
    "        parallel_text_next, parallel_labels_next = create_parallels (train_data_lst_next, train_labels_lst_next)\n",
    "\n",
    "        train_data_next = tokenizer (parallel_text_next, padding = 'max_length', truncation = True, max_length = SEQ_MAX_LENGTH, return_tensors = 'pt')\n",
    "        train_labels_next = tokenizer (parallel_labels_next, padding = 'max_length', truncation = True, max_length = ANSWER_MAX_LENGTH, return_tensors = 'pt')\n",
    "\n",
    "        if ENABLE_LABEL_FIX:\n",
    "            replaced = replace_padding (train_labels_next)\n",
    "            train_labels_next = replaced\n",
    "\n",
    "        train_dataset_next = Seq2SeqDataset (train_data_next, train_labels_next)\n",
    "        train_loader_next = DataLoader (train_dataset_next, batch_size = EVAL_BATCH_SIZE)\n",
    "\n",
    "        parallel_text_new_next = attach_model_foundings (parallel_text_next, train_loader_next, model)\n",
    "\n",
    "        train_data_next = tokenizer (parallel_text_new_next, padding = 'max_length', truncation = True, max_length = SEQ_MAX_LENGTH, return_tensors = 'pt')\n",
    "        train_dataset_next = Seq2SeqDataset (train_data_next, train_labels_next)\n",
    "        train_loader_next = DataLoader (train_dataset_next, batch_size = BATCH_SIZE, shuffle = True)\n",
    "\n",
    "    for epoch in range (LOCAL_NUM_EPOCHS):\n",
    "        model.train ()  # Устанавливаем модель в режим обучения\n",
    "        total_loss = 0\n",
    "        \n",
    "        for batch in tqdm (train_loader):\n",
    "            \n",
    "            input_ids = batch ['input_ids'].to (model.device)\n",
    "            attention_mask = batch ['attention_mask'].to (model.device)\n",
    "            labels_fromdata = batch ['labels'].to (model.device)\n",
    "\n",
    "            #outputs = model (input_ids = input_ids, attention_mask = attention_mask, labels = labels_fromdata)\n",
    "            outputs = model (input_ids = input_ids, attention_mask = attention_mask, labels = labels_fromdata)\n",
    "            loss = outputs.loss   ## DOUBLE CHECK if padding ...\n",
    "            total_loss += loss.item ()\n",
    "\n",
    "            loss.backward ()  # Обратное распространение\n",
    "            optimizer.step ()  # Обновление параметров\n",
    "            optimizer.zero_grad ()  # Обнуляем градиенты\n",
    "\n",
    "            #scheduler.step ()  # Обновление learning rate\n",
    "            torch.cuda.empty_cache ()\n",
    "        \n",
    "\n",
    "        avg_loss = total_loss / len (train_loader)\n",
    "\n",
    "        metrics ['train_loss'].append ((epoch + iteration * LOCAL_NUM_EPOCHS, avg_loss))\n",
    "\n",
    "        # Оценка на валидационной выборке\n",
    "        model.eval ()  # Устанавливаем модель в режим оценки\n",
    "        val_preds, val_labels = [], []\n",
    "        total_val_loss = 0\n",
    "\n",
    "        with torch.no_grad ():\n",
    "            for batch in val_loader:\n",
    "                input_ids = batch ['input_ids'].to (model.device)\n",
    "                attention_mask = batch ['attention_mask'].to (model.device)\n",
    "                labels_fromdata = batch ['labels'].to (model.device)\n",
    "\n",
    "                outputs = model.generate (input_ids = input_ids, attention_mask = attention_mask, max_length=SEQ_MAX_LENGTH)\n",
    "\n",
    "                total_val_loss += model (input_ids = input_ids, attention_mask = attention_mask, labels = labels_fromdata).loss.item ()\n",
    "\n",
    "                val_preds.extend (outputs)\n",
    "                val_labels.extend (labels_fromdata)\n",
    "                torch.cuda.empty_cache ()\n",
    "\n",
    "        avg_val_loss = total_val_loss / len (val_loader)\n",
    "\n",
    "        prec, recl, f1sc = sanity_check (val_preds, val_labels)\n",
    "\n",
    "        metrics ['val_loss'].append ((epoch + iteration * LOCAL_NUM_EPOCHS, avg_val_loss))\n",
    "        metrics ['precision'].append ((epoch + iteration * LOCAL_NUM_EPOCHS, prec))\n",
    "        metrics ['recall'].append ((epoch + iteration * LOCAL_NUM_EPOCHS, recl))\n",
    "        metrics ['f1_score'].append ((epoch + iteration * LOCAL_NUM_EPOCHS, f1sc))\n",
    "\n",
    "        print (f'Epoch {(epoch + 1) + iteration * LOCAL_NUM_EPOCHS} / {NUM_OF_SPLITS * LOCAL_NUM_EPOCHS}, Loss: {avg_loss:.4f}, Validation loss: {avg_val_loss:.4f}, {prec} / {recl} / {f1sc}')\n",
    "        \n",
    "        torch.cuda.empty_cache ()\n",
    "\n",
    "\n",
    "    for line in parallel_labels:\n",
    "        inc_term_set |= set (line.split (SEP_TOKEN))\n",
    "    inc_term_set -= set ([''])\n",
    "    inc_term_set -= set ([LABEL_PREFIX_TOKEN])\n",
    "    print (f'Уникальных терминов в {iteration + 1}-м тренировочном наборе: {len (inc_term_set)}.')"
   ]
  },
  {
   "cell_type": "code",
   "execution_count": 8,
   "id": "75c7c528",
   "metadata": {},
   "outputs": [
    {
     "name": "stdout",
     "output_type": "stream",
     "text": [
      "{'train_loss': [(0, 2.78000907599926), (1, 1.7762655864159267), (2, 1.472813570753057), (3, 1.1494243893217533), (4, 0.9825484764819242), (5, 0.8661239639836915), (6, 0.8817516803741455), (7, 0.814281821846962), (8, 0.9215280005225429), (9, 0.8339422107846649), (10, 0.8051694657718926), (11, 0.6785339629440977), (12, 0.678308783350764), (13, 0.5604933069364445), (14, 0.704127650294039), (15, 0.6255145023266474), (16, 0.6435040853372435), (17, 0.5498700977825537), (18, 0.6645360384668623), (19, 0.5608575514384678), (20, 0.5830526096480233), (21, 0.5167681915419442), (22, 0.600321630636851), (23, 0.5181361369111321), (24, 0.5701036841580363), (25, 0.4974726474646366), (26, 0.5848778582388355), (27, 0.48510963830255693), (28, 0.573850519127316), (29, 0.5181558620598581), (30, 0.5953334100318678), (31, 0.5583873978166869), (32, 0.609899045789943), (33, 0.5360042360775611), (34, 0.6627215233541304), (35, 0.5521157931896948), (36, 0.6714618648543502), (37, 0.509549571257649), (38, 0.5411954538329787), (39, 0.45949303974276), (40, 0.5336427364279243), (41, 0.457765109983145), (42, 0.5492951510583653), (43, 0.4523066074824801), (44, 0.5369381852317274), (45, 0.46315681463793706), (46, 0.5522284650919485), (47, 0.45683405679814953), (48, 0.5165974545352002), (49, 0.460591844104706)], 'val_loss': [(0, 2.002460970878601), (1, 1.5697079849243165), (2, 1.1283211779594422), (3, 0.9224920678138733), (4, 0.843810122013092), (5, 0.8209089112281799), (6, 0.7479003310203552), (7, 0.7418818187713623), (8, 0.737925431728363), (9, 0.683567794561386), (10, 0.6752651154994964), (11, 0.6704827773571015), (12, 0.6513246917724609), (13, 0.6247615647315979), (14, 0.6013485813140869), (15, 0.5981783413887024), (16, 0.6009655117988586), (17, 0.6050510466098785), (18, 0.565141555070877), (19, 0.594068044424057), (20, 0.5875987648963928), (21, 0.6039914429187775), (22, 0.5794942009449006), (23, 0.5756622505187988), (24, 0.5806543397903442), (25, 0.5891008162498474), (26, 0.561879962682724), (27, 0.5593139576911926), (28, 0.5554714787006378), (29, 0.5593966937065125), (30, 0.547922648191452), (31, 0.5566011822223663), (32, 0.541044430732727), (33, 0.5602922010421753), (34, 0.533716698884964), (35, 0.5547651743888855), (36, 0.5269539248943329), (37, 0.5449716460704803), (38, 0.5137710630893707), (39, 0.5119315564632416), (40, 0.5161569821834564), (41, 0.5134608936309815), (42, 0.49859051704406737), (43, 0.4947849345207214), (44, 0.5157072389125824), (45, 0.49189469337463376), (46, 0.4910584557056427), (47, 0.4906477546691895), (48, 0.5218766820430756), (49, 0.5010310101509095)], 'precision': [(0, 0.22777777777777777), (1, 0.4420772303595206), (2, 0.4544747081712062), (3, 0.44906089926010245), (4, 0.48624338624338626), (5, 0.5128676470588235), (6, 0.48781700646444554), (7, 0.4863961813842482), (8, 0.4892661008487269), (9, 0.5164298401420959), (10, 0.5251908396946565), (11, 0.5281407035175879), (12, 0.5149321266968325), (13, 0.5401220084467386), (14, 0.5557142857142857), (15, 0.5458916083916084), (16, 0.5466841186736475), (17, 0.5583566760037348), (18, 0.5697777777777778), (19, 0.5491873396065012), (20, 0.5308159722222222), (21, 0.5184), (22, 0.5277998411437649), (23, 0.5473543797243219), (24, 0.5704022988505747), (25, 0.5347711267605634), (26, 0.5355144210073182), (27, 0.5279149259399925), (28, 0.5268272074355724), (29, 0.5212631578947369), (30, 0.5252982311805842), (31, 0.5315315315315315), (32, 0.5646032405484005), (33, 0.5758889852558543), (34, 0.5441767068273092), (35, 0.5489667565139263), (36, 0.5480885311871228), (37, 0.5493775933609959), (38, 0.5800344234079173), (39, 0.5782009724473258), (40, 0.6145833333333334), (41, 0.60671768707483), (42, 0.5967812092214007), (43, 0.5969773299748111), (44, 0.5634328358208955), (45, 0.6027903159622486), (46, 0.6081545064377682), (47, 0.6007223113964687), (48, 0.5474273713685684), (49, 0.5525672371638142)], 'recall': [(0, 0.08570234113712374), (1, 0.27759197324414714), (2, 0.24414715719063546), (3, 0.32984949832775917), (4, 0.3841973244147157), (5, 0.34991638795986624), (6, 0.41011705685618727), (7, 0.4260033444816054), (8, 0.4096989966555184), (9, 0.4862040133779264), (10, 0.431438127090301), (11, 0.43938127090301005), (12, 0.47575250836120403), (13, 0.48118729096989965), (14, 0.487876254180602), (15, 0.5221571906354515), (16, 0.5238294314381271), (17, 0.5), (18, 0.5359531772575251), (19, 0.5367892976588629), (20, 0.5112876254180602), (21, 0.5418060200668896), (22, 0.5556020066889632), (23, 0.5146321070234113), (24, 0.4979096989966555), (25, 0.507943143812709), (26, 0.520066889632107), (27, 0.5811036789297659), (28, 0.5213210702341137), (29, 0.5175585284280937), (30, 0.5338628762541806), (31, 0.5426421404682275), (32, 0.5681438127090301), (33, 0.5551839464882943), (34, 0.5664715719063546), (35, 0.5108695652173914), (36, 0.5693979933110368), (37, 0.5535117056856187), (38, 0.5635451505016722), (39, 0.5965719063545151), (40, 0.5673076923076923), (41, 0.5965719063545151), (42, 0.5735785953177257), (43, 0.5944816053511706), (44, 0.6312709030100334), (45, 0.6141304347826086), (46, 0.592391304347826), (47, 0.6258361204013378), (48, 0.6538461538461539), (49, 0.6613712374581939)], 'f1_score': [(0, 0.12454434993924667), (1, 0.3410374935798664), (2, 0.31765025836279576), (3, 0.38033261026753434), (4, 0.4292386735170481), (5, 0.41600397614314116), (6, 0.4456052691346809), (7, 0.4542010251838645), (8, 0.4459613196814562), (9, 0.5008613264427217), (10, 0.47372044985081485), (11, 0.4796896394340484), (12, 0.494567579313342), (13, 0.5089542339155428), (14, 0.5195903829029386), (15, 0.5337606837606838), (16, 0.5350128095644748), (17, 0.5275694750771945), (18, 0.5523481258078414), (19, 0.5429175475687104), (20, 0.5208688245315162), (21, 0.5298446443172526), (22, 0.5413441955193483), (23, 0.5304891187244127), (24, 0.5316964285714285), (25, 0.5210120068610634), (26, 0.527677624602333), (27, 0.5532338308457712), (28, 0.5240596764026054), (29, 0.5194042374659116), (30, 0.5295459257723409), (31, 0.5370293752585851), (32, 0.5663679933319442), (33, 0.5653469561515538), (34, 0.5551003687013519), (35, 0.5292334343871805), (36, 0.5585400861185155), (37, 0.5514369012911287), (38, 0.57167090754877), (39, 0.5872427983539095), (40, 0.5900000000000001), (41, 0.6016020236087689), (42, 0.5849499040716265), (43, 0.5957268537913699), (44, 0.5954258675078864), (45, 0.6084075377925035), (46, 0.6001694197373995), (47, 0.613022113022113), (48, 0.5959230329586588), (49, 0.60209324452902)]}\n"
     ]
    }
   ],
   "source": [
    "print (metrics)"
   ]
  },
  {
   "cell_type": "code",
   "execution_count": 9,
   "id": "9ed37508",
   "metadata": {},
   "outputs": [
    {
     "data": {
      "image/png": "[encoded data removed]",
      "text/plain": [
       "<Figure size 1000x400 with 1 Axes>"
      ]
     },
     "metadata": {},
     "output_type": "display_data"
    },
    {
     "data": {
      "image/png": "[encoded data removed]",
      "text/plain": [
       "<Figure size 1000x400 with 1 Axes>"
      ]
     },
     "metadata": {},
     "output_type": "display_data"
    },
    {
     "data": {
      "image/png": "[encoded data removed]",
      "text/plain": [
       "<Figure size 1000x400 with 1 Axes>"
      ]
     },
     "metadata": {},
     "output_type": "display_data"
    },
    {
     "data": {
      "image/png": "[encoded data removed]",
      "text/plain": [
       "<Figure size 1000x400 with 1 Axes>"
      ]
     },
     "metadata": {},
     "output_type": "display_data"
    },
    {
     "data": {
      "image/png": "[encoded data removed]",
      "text/plain": [
       "<Figure size 1000x400 with 1 Axes>"
      ]
     },
     "metadata": {},
     "output_type": "display_data"
    }
   ],
   "source": [
    "for i, (name, history) in enumerate (sorted (metrics.items ())):\n",
    "    #plt.plot (1, len (metrics), i + 1)\n",
    "    plt.figure (figsize = (10, 4))\n",
    "    plt.title (name)\n",
    "    plt.plot (*zip (*history))\n",
    "    plt.grid ()\n",
    "    plt.show ()"
   ]
  },
  {
   "cell_type": "code",
   "execution_count": 10,
   "id": "8e520f04",
   "metadata": {},
   "outputs": [
    {
     "name": "stderr",
     "output_type": "stream",
     "text": [
      "100%|██████████| 25/25 [01:09<00:00,  2.77s/it]\n"
     ]
    },
    {
     "name": "stdout",
     "output_type": "stream",
     "text": [
      "Validation wmax:  (0.5525672371638142, 0.6613712374581939, 0.60209324452902)\n"
     ]
    },
    {
     "name": "stderr",
     "output_type": "stream",
     "text": [
      "100%|██████████| 29/29 [00:38<00:00,  1.33s/it]\n"
     ]
    },
    {
     "name": "stdout",
     "output_type": "stream",
     "text": [
      "Test wmax:  (0.5754687003495392, 0.6899047619047619, 0.6275121275121275)\n"
     ]
    }
   ],
   "source": [
    "\n",
    "val_preds, val_labels_fromdata = [], []\n",
    "with torch.no_grad ():\n",
    "    for batch in tqdm (val_loader):\n",
    "        input_ids = batch ['input_ids'].to (model.device)\n",
    "        attention_mask = batch ['attention_mask'].to (model.device)\n",
    "        labels = batch ['labels'].to (model.device)\n",
    "        out = model.generate (input_ids = input_ids, attention_mask = attention_mask, max_length=SEQ_MAX_LENGTH)\n",
    "\n",
    "        val_preds.extend (out)\n",
    "        val_labels_fromdata.extend (labels)\n",
    "        torch.cuda.empty_cache ()\n",
    "\n",
    "    print ('Validation wmax: ', sanity_check (val_preds, val_labels_fromdata))\n",
    "\n",
    "val_preds, val_labels_fromdata = [], []\n",
    "with torch.no_grad ():\n",
    "    for batch in tqdm (test_loader):\n",
    "        input_ids = batch ['input_ids'].to (model.device)\n",
    "        attention_mask = batch ['attention_mask'].to (model.device)\n",
    "        labels = batch ['labels'].to (model.device)\n",
    "        out = model.generate (input_ids = input_ids, attention_mask = attention_mask, max_length=SEQ_MAX_LENGTH)\n",
    "\n",
    "        val_preds.extend (out)\n",
    "        val_labels_fromdata.extend (labels)\n",
    "        torch.cuda.empty_cache ()\n",
    "\n",
    "    print ('Test wmax: ', sanity_check (val_preds, val_labels_fromdata))\n"
   ]
  },
  {
   "cell_type": "code",
   "execution_count": 28,
   "id": "e28bd141",
   "metadata": {},
   "outputs": [
    {
     "name": "stderr",
     "output_type": "stream",
     "text": [
      "595it [00:00, 2564.62it/s]\n",
      "100%|██████████| 25/25 [00:27<00:00,  1.10s/it]\n"
     ]
    },
    {
     "name": "stdout",
     "output_type": "stream",
     "text": [
      "Validation wmax:  (0.5436105476673428, 0.6722408026755853, 0.6011214953271028)\n"
     ]
    }
   ],
   "source": [
    "\n",
    "\n",
    "val_data_next = tokenizer (val_parallel_text, padding = 'max_length', truncation = True, max_length = SEQ_MAX_LENGTH, return_tensors = 'pt')\n",
    "\n",
    "next_val_dataset = Seq2SeqDataset (val_data_next, val_labels)\n",
    "next_val_loader = DataLoader (next_val_dataset, batch_size = EVAL_BATCH_SIZE)\n",
    "\n",
    "val_parallel_text_new_next = attach_model_foundings (val_parallel_text, next_val_loader, model)\n",
    "\n",
    "val_data_next = tokenizer (val_parallel_text_new_next, padding = 'max_length', truncation = True, max_length = SEQ_MAX_LENGTH, return_tensors = 'pt')\n",
    "next_val_dataset = Seq2SeqDataset (val_data_next, val_labels)\n",
    "next_val_loader = DataLoader (next_val_dataset, batch_size = EVAL_BATCH_SIZE)\n",
    "\n",
    "val_preds, val_labels_fromdata = [], []\n",
    "with torch.no_grad ():\n",
    "    for batch in tqdm (next_val_loader):\n",
    "        input_ids = batch ['input_ids'].to (model.device)\n",
    "        attention_mask = batch ['attention_mask'].to (model.device)\n",
    "        labels = batch ['labels'].to (model.device)\n",
    "        out = model.generate (input_ids = input_ids, attention_mask = attention_mask, max_length=SEQ_MAX_LENGTH)\n",
    "\n",
    "        val_preds.extend (out)\n",
    "        val_labels_fromdata.extend (labels)\n",
    "        torch.cuda.empty_cache ()\n",
    "\n",
    "    print ('Validation wmax: ', sanity_check (val_preds, val_labels_fromdata))"
   ]
  },
  {
   "cell_type": "code",
   "execution_count": 25,
   "id": "298699e8",
   "metadata": {},
   "outputs": [
    {
     "data": {
      "text/plain": [
       "'Лингвистический процессор Semantix предназначен для областей, где требуется автоматическая формализация потоков текстов на естественном языке: резюме, сообщения СМИ, информационно-рекламные материалы, почтовые сообщения, сводки происшествий, справки по уголовным делам, архивные материалы и др. <extra_id_1> <extra_id_0> Лингвистический процессор Semantix <extra_id_0> процессор Semantix <extra_id_0> автоматическая формализация потоков текстов <extra_id_0> естественном языке <extra_id_0> языке <extra_id_0> резюме <extra_id_0> сообщения <extra_id_0> СМИ <extra_id_0> информационно-рекламные материалы <extra_id_0> почтовые сообщения <extra_id_0> сообщения <extra_id_0> архивные материалы</s><pad><pad><pad><pad><pad><pad><pad><pad><pad><pad><pad><pad><pad><pad><pad><pad><pad><pad><pad><pad><pad><pad><pad><pad><pad><pad><pad><pad><pad><pad><pad><pad><pad><pad><pad><pad><pad><pad><pad><pad><pad><pad><pad><pad><pad><pad><pad><pad><pad><pad><pad><pad><pad><pad><pad><pad><pad><pad><pad><pad><pad><pad><pad><pad><pad><pad><pad><pad><pad><pad><pad><pad><pad><pad><pad><pad><pad><pad><pad><pad><pad><pad><pad><pad><pad><pad><pad><pad><pad><pad><pad><pad><pad><pad><pad><pad><pad><pad><pad><pad><pad><pad><pad><pad><pad><pad><pad><pad><pad><pad><pad><pad><pad><pad><pad><pad><pad><pad><pad><pad><pad><pad><pad><pad><pad><pad><pad><pad><pad><pad><pad><pad><pad><pad><pad><pad><pad><pad><pad><pad><pad><pad><pad><pad><pad><pad><pad><pad><pad><pad><pad><pad><pad><pad><pad><pad><pad><pad>'"
      ]
     },
     "execution_count": 25,
     "metadata": {},
     "output_type": "execute_result"
    }
   ],
   "source": [
    "tokenizer.decode (val_data_next ['input_ids'] [1])"
   ]
  },
  {
   "cell_type": "code",
   "execution_count": null,
   "id": "5fa0e632",
   "metadata": {},
   "outputs": [],
   "source": [
    "tokenizer.decode (next_val_dataset [1] ['input_ids'])"
   ]
  },
  {
   "cell_type": "code",
   "execution_count": 27,
   "id": "882f8dcb",
   "metadata": {},
   "outputs": [
    {
     "data": {
      "text/plain": [
       "'<pad> <extra_id_1> <extra_id_0> Заударный слог <extra_id_0> слог <extra_id_0> ровным движением тона <extra_id_0> тона</s><pad>'"
      ]
     },
     "execution_count": 27,
     "metadata": {},
     "output_type": "execute_result"
    }
   ],
   "source": [
    "tokenizer.decode (val_preds [0])"
   ]
  },
  {
   "cell_type": "markdown",
   "id": "fda402f3",
   "metadata": {},
   "source": [
    "https://colab.research.google.com/github/NielsRogge/Transformers-Tutorials/blob/master/T5/Fine_tune_CodeT5_for_generating_docstrings_from_Ruby_code.ipynb#scrollTo=wvRHDkCIS91f"
   ]
  },
  {
   "cell_type": "code",
   "execution_count": 11,
   "id": "cda89a1f",
   "metadata": {},
   "outputs": [
    {
     "ename": "SyntaxError",
     "evalue": "Missing parentheses in call to 'print'. Did you mean print(...)? (358543031.py, line 1)",
     "output_type": "error",
     "traceback": [
      "\u001b[1;36m  Cell \u001b[1;32mIn[11], line 1\u001b[1;36m\u001b[0m\n\u001b[1;33m    print separator\u001b[0m\n\u001b[1;37m    ^\u001b[0m\n\u001b[1;31mSyntaxError\u001b[0m\u001b[1;31m:\u001b[0m Missing parentheses in call to 'print'. Did you mean print(...)?\n"
     ]
    }
   ],
   "source": [
    "print separator"
   ]
  },
  {
   "cell_type": "code",
   "execution_count": null,
   "id": "6e2bd33a",
   "metadata": {},
   "outputs": [],
   "source": [
    "# saved first corrector code\n",
    "\n",
    "kf = KFold (n_splits = NUM_OF_SPLITS)\n",
    "\n",
    "data = df ['text']\n",
    "labels = df ['label']\n",
    "\n",
    "test_indices = list (kf.split (data))\n",
    "\n",
    "inc_term_set = set ([''])\n",
    "for iteration, (train_index, test_index) in enumerate (test_indices):\n",
    "    X_curr = data [test_index]\n",
    "    y_curr = labels [test_index]\n",
    "\n",
    "    train_data_lst = X_curr.tolist ()\n",
    "    train_labels_lst = y_curr.tolist ()\n",
    "    parallel_text, parallel_labels = create_parallels (train_data_lst, train_labels_lst)\n",
    "\n",
    "    train_data = tokenizer (parallel_text, padding = 'max_length', truncation = True, max_length = SEQ_MAX_LENGTH, return_tensors = 'pt')\n",
    "    train_labels = tokenizer (parallel_labels, padding = 'max_length', truncation = True, max_length = ANSWER_MAX_LENGTH, return_tensors = 'pt')\n",
    "\n",
    "    if ENABLE_LABEL_FIX:\n",
    "        replaced = replace_padding (train_labels)\n",
    "        train_labels = replaced\n",
    "\n",
    "    train_dataset = Seq2SeqDataset (train_data, train_labels)\n",
    "    train_loader = DataLoader (train_dataset, batch_size = EVAL_BATCH_SIZE)\n",
    "\n",
    "    parallel_text_new = attach_model_foundings (parallel_text, train_loader, model)\n",
    "\n",
    "    train_data = tokenizer (parallel_text_new, padding = 'max_length', truncation = True, max_length = SEQ_MAX_LENGTH, return_tensors = 'pt')\n",
    "    train_dataset = Seq2SeqDataset (train_data, train_labels)\n",
    "    train_loader = DataLoader (train_dataset, batch_size = BATCH_SIZE, shuffle = True)\n",
    "\n",
    "    for epoch in range (LOCAL_NUM_EPOCHS):\n",
    "        model.train ()  # Устанавливаем модель в режим обучения\n",
    "        total_loss = 0\n",
    "        \n",
    "        for batch in tqdm (train_loader):\n",
    "            \n",
    "            input_ids = batch ['input_ids'].to (model.device)\n",
    "            attention_mask = batch ['attention_mask'].to (model.device)\n",
    "            labels_fromdata = batch ['labels'].to (model.device)\n",
    "\n",
    "            #outputs = model (input_ids = input_ids, attention_mask = attention_mask, labels = labels_fromdata)\n",
    "            outputs = model (input_ids = input_ids, attention_mask = attention_mask, labels = labels_fromdata)\n",
    "            loss = outputs.loss   ## DOUBLE CHECK if padding ...\n",
    "            total_loss += loss.item ()\n",
    "\n",
    "            loss.backward ()  # Обратное распространение\n",
    "            optimizer.step ()  # Обновление параметров\n",
    "            optimizer.zero_grad ()  # Обнуляем градиенты\n",
    "\n",
    "            #scheduler.step ()  # Обновление learning rate\n",
    "            torch.cuda.empty_cache ()\n",
    "        \n",
    "\n",
    "        avg_loss = total_loss / len (train_loader)\n",
    "\n",
    "        metrics ['train_loss'].append ((epoch + iteration * LOCAL_NUM_EPOCHS, avg_loss))\n",
    "\n",
    "        # Оценка на валидационной выборке\n",
    "        model.eval ()  # Устанавливаем модель в режим оценки\n",
    "        val_preds, val_labels = [], []\n",
    "        total_val_loss = 0\n",
    "\n",
    "        with torch.no_grad ():\n",
    "            for batch in val_loader:\n",
    "                input_ids = batch ['input_ids'].to (model.device)\n",
    "                attention_mask = batch ['attention_mask'].to (model.device)\n",
    "                labels_fromdata = batch ['labels'].to (model.device)\n",
    "\n",
    "                outputs = model.generate (input_ids = input_ids, attention_mask = attention_mask, max_length=SEQ_MAX_LENGTH)\n",
    "\n",
    "                total_val_loss += model (input_ids = input_ids, attention_mask = attention_mask, labels = labels_fromdata).loss.item ()\n",
    "\n",
    "                val_preds.extend (outputs)\n",
    "                val_labels.extend (labels_fromdata)\n",
    "                torch.cuda.empty_cache ()\n",
    "\n",
    "        avg_val_loss = total_val_loss / len (val_loader)\n",
    "\n",
    "        prec, recl, f1sc = sanity_check (val_preds, val_labels)\n",
    "\n",
    "        metrics ['val_loss'].append ((epoch + iteration * LOCAL_NUM_EPOCHS, avg_val_loss))\n",
    "        metrics ['precision'].append ((epoch + iteration * LOCAL_NUM_EPOCHS, prec))\n",
    "        metrics ['recall'].append ((epoch + iteration * LOCAL_NUM_EPOCHS, recl))\n",
    "        metrics ['f1_score'].append ((epoch + iteration * LOCAL_NUM_EPOCHS, f1sc))\n",
    "\n",
    "        print (f'Epoch {(epoch + 1) + iteration * LOCAL_NUM_EPOCHS} / {NUM_OF_SPLITS * LOCAL_NUM_EPOCHS}, Loss: {avg_loss:.4f}, Validation loss: {avg_val_loss:.4f}, {prec} / {recl} / {f1sc}')\n",
    "        \n",
    "        torch.cuda.empty_cache ()\n",
    "\n",
    "\n",
    "    for line in parallel_labels:\n",
    "        inc_term_set |= set (line.split (SEP_TOKEN))\n",
    "    inc_term_set -= set ([''])\n",
    "    inc_term_set -= set ([LABEL_PREFIX_TOKEN])\n",
    "    print (f'Уникальных терминов в {iteration + 1}-м тренировочном наборе: {len (inc_term_set)}.')"
   ]
  },
  {
   "cell_type": "code",
   "execution_count": null,
   "id": "90a31e63",
   "metadata": {},
   "outputs": [],
   "source": []
  },
  {
   "cell_type": "code",
   "execution_count": null,
   "id": "76f576b1",
   "metadata": {},
   "outputs": [],
   "source": []
  },
  {
   "cell_type": "code",
   "execution_count": null,
   "id": "3ace29eb",
   "metadata": {},
   "outputs": [],
   "source": []
  },
  {
   "cell_type": "code",
   "execution_count": null,
   "id": "1507b064",
   "metadata": {},
   "outputs": [],
   "source": []
  },
  {
   "cell_type": "code",
   "execution_count": null,
   "id": "e1c593f7",
   "metadata": {},
   "outputs": [],
   "source": [
    "view_at_loss = True\n",
    "num_passed_epochs = 0"
   ]
  },
  {
   "cell_type": "code",
   "execution_count": null,
   "id": "257682fa",
   "metadata": {},
   "outputs": [],
   "source": [
    "kf = KFold (n_splits = NUM_OF_SPLITS)\n",
    "\n",
    "data = df ['text']\n",
    "labels = df ['label']\n",
    "\n",
    "inc_term_set = set ([''])\n",
    "\n",
    "#prev_f1_score = 0\n",
    "prev_metric = 1000000 if view_at_loss else 0\n",
    "for iteration, (train_index, test_index) in enumerate (kf.split (data)):\n",
    "    X_curr = data [test_index]\n",
    "    y_curr = labels [test_index]\n",
    "\n",
    "    train_data_lst = X_curr.tolist ()\n",
    "    train_labels_lst = y_curr.tolist ()\n",
    "    parallel_text, parallel_labels = create_parallels (train_data_lst, train_labels_lst)\n",
    "\n",
    "    parallel_text_new = attach_dictionary_foundings (parallel_text, inc_term_set)\n",
    "\n",
    "    train_data = tokenizer (parallel_text_new, padding = 'max_length', truncation = True, max_length = SEQ_MAX_LENGTH, return_tensors = 'pt')\n",
    "    train_labels = tokenizer (parallel_labels, padding = 'max_length', truncation = True, max_length = ANSWER_MAX_LENGTH, return_tensors = 'pt')\n",
    "    \n",
    "    if ENABLE_LABEL_FIX:\n",
    "        replaced = replace_padding (train_labels)\n",
    "        train_labels = replaced\n",
    "\n",
    "    train_dataset = Seq2SeqDataset (train_data, train_labels)\n",
    "    train_loader = DataLoader (train_dataset, batch_size = BATCH_SIZE, shuffle = True)\n",
    "    \n",
    "    prev_model = deepcopy (model.state_dict ())\n",
    "    prev_optimizer = deepcopy (optimizer.state_dict ())\n",
    "    epoch = 0\n",
    "    #for epoch in range (LOCAL_NUM_EPOCHS):\n",
    "    while True:\n",
    "\n",
    "        model.train ()  # Устанавливаем модель в режим обучения\n",
    "        total_loss = 0\n",
    "        \n",
    "        for batch in tqdm (train_loader):\n",
    "            \n",
    "            input_ids = batch ['input_ids'].to (model.device)\n",
    "            attention_mask = batch ['attention_mask'].to (model.device)\n",
    "            labels_fromdata = batch ['labels'].to (model.device)\n",
    "\n",
    "            #outputs = model (input_ids = input_ids, attention_mask = attention_mask, labels = labels_fromdata)\n",
    "            outputs = model (input_ids = input_ids, attention_mask = attention_mask, labels = labels_fromdata)\n",
    "            loss = outputs.loss   ## DOUBLE CHECK if padding ...\n",
    "            total_loss += loss.item ()\n",
    "\n",
    "            loss.backward ()  # Обратное распространение\n",
    "            optimizer.step ()  # Обновление параметров\n",
    "            optimizer.zero_grad ()  # Обнуляем градиенты\n",
    "\n",
    "            #scheduler.step ()  # Обновление learning rate\n",
    "            torch.cuda.empty_cache ()\n",
    "        \n",
    "\n",
    "        avg_loss = total_loss / len (train_loader)\n",
    "\n",
    "        \n",
    "\n",
    "        # Оценка на валидационной выборке\n",
    "        model.eval ()  # Устанавливаем модель в режим оценки\n",
    "        val_preds, val_labels = [], []\n",
    "        total_val_loss = 0\n",
    "\n",
    "        with torch.no_grad ():\n",
    "            for batch in val_loader:\n",
    "                input_ids = batch ['input_ids'].to (model.device)\n",
    "                attention_mask = batch ['attention_mask'].to (model.device)\n",
    "                labels_fromdata = batch ['labels'].to (model.device)\n",
    "\n",
    "                outputs = model.generate (input_ids = input_ids, attention_mask = attention_mask, max_length=SEQ_MAX_LENGTH)\n",
    "\n",
    "                total_val_loss += model (input_ids = input_ids, attention_mask = attention_mask, labels = labels_fromdata).loss.item ()\n",
    "\n",
    "                val_preds.extend (outputs)\n",
    "                val_labels.extend (labels_fromdata)\n",
    "                torch.cuda.empty_cache ()\n",
    "\n",
    "        avg_val_loss = total_val_loss / len (val_loader)\n",
    "\n",
    "        prec, recl, f1sc = sanity_check (val_preds, val_labels)\n",
    "\n",
    "        print (f'Epoch {(epoch + 1) + num_passed_epochs} / ---, Loss: {avg_loss:.4f}, Validation loss: {avg_val_loss:.4f}, {prec} / {recl} / {f1sc}')\n",
    "        \n",
    "        torch.cuda.empty_cache ()\n",
    "\n",
    "        ### WHAT\n",
    "        if (view_at_loss and prev_metric < avg_val_loss) or (not view_at_loss and prev_metric > f1sc):\n",
    "            model.load_state_dict (prev_model)\n",
    "            optimizer.load_state_dict (prev_optimizer)\n",
    "            num_passed_epochs += epoch\n",
    "            break\n",
    "        epoch += 1\n",
    "        prev_metric = avg_val_loss if view_at_loss else f1sc\n",
    "        prev_model = deepcopy (model.state_dict ())\n",
    "        prev_optimizer = deepcopy (optimizer.state_dict ())\n",
    "\n",
    "        metrics ['train_loss'].append ((epoch + num_passed_epochs, avg_loss))\n",
    "        metrics ['val_loss'].append ((epoch + num_passed_epochs, avg_val_loss))\n",
    "        metrics ['precision'].append ((epoch + num_passed_epochs, prec))\n",
    "        metrics ['recall'].append ((epoch + num_passed_epochs, recl))\n",
    "        metrics ['f1_score'].append ((epoch + num_passed_epochs, f1sc))\n",
    "        \n",
    "\n",
    "    for line in parallel_labels:\n",
    "        inc_term_set |= set (line.split (SEP_TOKEN))\n",
    "    inc_term_set -= set ([''])\n",
    "    inc_term_set -= set ([LABEL_PREFIX_TOKEN])\n",
    "    print (f'Уникальных терминов в {iteration + 1}-м тренировочном наборе: {len (inc_term_set)}.')"
   ]
  },
  {
   "cell_type": "code",
   "execution_count": null,
   "id": "a1cb38fc",
   "metadata": {},
   "outputs": [],
   "source": [
    "print (metrics)"
   ]
  },
  {
   "cell_type": "code",
   "execution_count": null,
   "id": "911466b0",
   "metadata": {},
   "outputs": [],
   "source": [
    "for i, (name, history) in enumerate (sorted (metrics.items ())):\n",
    "    #plt.plot (1, len (metrics), i + 1)\n",
    "    plt.figure (figsize = (10, 4))\n",
    "    plt.title (name)\n",
    "    plt.plot (*zip (*history))\n",
    "    plt.grid ()\n",
    "    plt.show ()"
   ]
  },
  {
   "cell_type": "code",
   "execution_count": null,
   "id": "fb5f9be2",
   "metadata": {},
   "outputs": [],
   "source": [
    "\n",
    "\n",
    "model.eval ()  # Устанавливаем модель в режим оценки\n",
    "val_preds, val_labels_fromdata = [], []\n",
    "\n",
    "with torch.no_grad ():\n",
    "    for batch in tqdm (val_loader):\n",
    "        input_ids = batch ['input_ids'].to (model.device)\n",
    "        attention_mask = batch ['attention_mask'].to (model.device)\n",
    "        labels = batch ['labels'].to (model.device)\n",
    "        out = model.generate (input_ids = input_ids, attention_mask = attention_mask)\n",
    "\n",
    "        val_preds.extend (out)\n",
    "        val_labels_fromdata.extend (labels)\n",
    "        torch.cuda.empty_cache ()\n",
    "\n",
    "    print ('Validation: ', sanity_check (val_preds, val_labels_fromdata))\n",
    "\n",
    "\n",
    "val_preds, val_labels_fromdata = [], []\n",
    "\n",
    "with torch.no_grad ():\n",
    "    for batch in tqdm (test_loader):\n",
    "        input_ids = batch ['input_ids'].to (model.device)\n",
    "        attention_mask = batch ['attention_mask'].to (model.device)\n",
    "        labels = batch ['labels'].to (model.device)\n",
    "        out = model.generate (input_ids = input_ids, attention_mask = attention_mask)\n",
    "\n",
    "        val_preds.extend (out)\n",
    "        val_labels_fromdata.extend (labels)\n",
    "        torch.cuda.empty_cache ()\n",
    "\n",
    "    print ('Test: ', sanity_check (val_preds, val_labels_fromdata))\n"
   ]
  },
  {
   "cell_type": "code",
   "execution_count": null,
   "id": "c245fb7a",
   "metadata": {},
   "outputs": [],
   "source": [
    "\n",
    "val_preds, val_labels_fromdata = [], []\n",
    "with torch.no_grad ():\n",
    "    for batch in tqdm (val_loader):\n",
    "        input_ids = batch ['input_ids'].to (model.device)\n",
    "        attention_mask = batch ['attention_mask'].to (model.device)\n",
    "        labels = batch ['labels'].to (model.device)\n",
    "        out = model.generate (input_ids = input_ids, attention_mask = attention_mask, max_length=SEQ_MAX_LENGTH)\n",
    "\n",
    "        val_preds.extend (out)\n",
    "        val_labels_fromdata.extend (labels)\n",
    "        torch.cuda.empty_cache ()\n",
    "\n",
    "    print ('Validation wmax: ', sanity_check (val_preds, val_labels_fromdata))\n",
    "\n",
    "val_preds, val_labels_fromdata = [], []\n",
    "with torch.no_grad ():\n",
    "    for batch in tqdm (test_loader):\n",
    "        input_ids = batch ['input_ids'].to (model.device)\n",
    "        attention_mask = batch ['attention_mask'].to (model.device)\n",
    "        labels = batch ['labels'].to (model.device)\n",
    "        out = model.generate (input_ids = input_ids, attention_mask = attention_mask, max_length=SEQ_MAX_LENGTH)\n",
    "\n",
    "        val_preds.extend (out)\n",
    "        val_labels_fromdata.extend (labels)\n",
    "        torch.cuda.empty_cache ()\n",
    "\n",
    "    print ('Test wmax: ', sanity_check (val_preds, val_labels_fromdata))\n"
   ]
  },
  {
   "cell_type": "code",
   "execution_count": null,
   "id": "5df71c63",
   "metadata": {},
   "outputs": [],
   "source": [
    "#model.save_pretrained ('./rut5base_fulltrain_novalid_dictionary_postfix')\n",
    "#tokenizer.save_pretrained ('./rut5base_fulltrain_novalid_dictionary_postfix')"
   ]
  },
  {
   "cell_type": "code",
   "execution_count": null,
   "id": "94aff113",
   "metadata": {},
   "outputs": [],
   "source": [
    "'''\n",
    "\n",
    "Validation wmax:  (0.6070240295748613, 0.6864548494983278, 0.6443005689621345)\n",
    "Test wmax:  (0.6368438428524266, 0.7348571428571429, 0.6823487796250443)\n",
    "\n",
    "'''"
   ]
  },
  {
   "cell_type": "code",
   "execution_count": null,
   "id": "1cc32468",
   "metadata": {},
   "outputs": [],
   "source": [
    "print (val_parallel_text [6])\n",
    "predicted_set = get_set (val_preds [6], ground_truth = False)\n",
    "predicted_set"
   ]
  },
  {
   "cell_type": "code",
   "execution_count": null,
   "id": "1d0d9daf",
   "metadata": {},
   "outputs": [],
   "source": [
    "#model.save_pretrained('./rut5small_fulltrain_dictpostfix_avg7209-7591')\n",
    "#tokenizer.save_pretrained('./rut5small_fulltrain_dictpostfix_avg7209-7591')"
   ]
  },
  {
   "cell_type": "code",
   "execution_count": null,
   "id": "ac0cc6c4",
   "metadata": {},
   "outputs": [],
   "source": [
    "print 5"
   ]
  },
  {
   "cell_type": "code",
   "execution_count": null,
   "id": "2bddd745",
   "metadata": {},
   "outputs": [],
   "source": [
    "model = MT5ForConditionalGeneration.from_pretrained ('./coint_rut5small_finetune_fulltrain_novalid')\n",
    "\n",
    "model.to (device)\n",
    "print (model.device)"
   ]
  },
  {
   "cell_type": "code",
   "execution_count": null,
   "id": "831aa035",
   "metadata": {},
   "outputs": [],
   "source": [
    "val_preds, val_labels = [], []\n",
    "with torch.no_grad ():\n",
    "    for batch in tqdm (val_loader):\n",
    "        input_ids = batch ['input_ids'].to (model.device)\n",
    "        attention_mask = batch ['attention_mask'].to (model.device)\n",
    "        labels = batch ['labels'].to (model.device)\n",
    "        out = model.generate (input_ids = input_ids, attention_mask = attention_mask, max_length=SEQ_MAX_LENGTH)\n",
    "\n",
    "        val_preds.extend (out)\n",
    "        val_labels.extend (labels)\n",
    "        torch.cuda.empty_cache ()\n",
    "\n",
    "    print ('Validation augmented: ', sanity_check (val_preds, val_labels))"
   ]
  },
  {
   "cell_type": "code",
   "execution_count": null,
   "id": "33f2447e",
   "metadata": {},
   "outputs": [],
   "source": [
    "\n",
    "parallel_text_val_augmented = []\n",
    "for i in range (len (val_preds)):\n",
    "    predicted_set = get_set (val_preds [i], ground_truth = False)\n",
    "    parallel_text_val_augmented.append (make_attachment (val_parallel_text [i], predicted_set))\n",
    "\n",
    "val_data = tokenizer (parallel_text_val_augmented, padding = 'max_length', truncation = True, max_length = SEQ_MAX_LENGTH, return_tensors = 'pt')\n",
    "val_labels = tokenizer (val_parallel_labels, padding = 'max_length', truncation = True, max_length = ANSWER_MAX_LENGTH, return_tensors = 'pt')\n",
    "\n",
    "if ENABLE_LABEL_FIX:\n",
    "    rse = replace_padding (val_labels)\n",
    "    val_labels = rse\n",
    "\n",
    "val_dataset = Seq2SeqDataset (val_data, val_labels)\n",
    "\n",
    "val_loader = DataLoader (val_dataset, batch_size = EVAL_BATCH_SIZE)"
   ]
  },
  {
   "cell_type": "code",
   "execution_count": null,
   "id": "87afd93c",
   "metadata": {},
   "outputs": [],
   "source": [
    "prev_model = MT5ForConditionalGeneration.from_pretrained ('./coint_rut5small_finetune_fulltrain_novalid')\n",
    "\n",
    "prev_model.to (device)\n",
    "print (prev_model.device)"
   ]
  },
  {
   "cell_type": "code",
   "execution_count": null,
   "id": "0665c270",
   "metadata": {},
   "outputs": [],
   "source": [
    "\n",
    "val_data = tokenizer (parallel_text_val, padding = 'max_length', truncation = True, max_length = 150, return_tensors = 'pt')\n",
    "val_labels = tokenizer (parallel_label_val, padding = 'max_length', truncation = True, max_length = 150, return_tensors = 'pt')\n",
    "\n",
    "if ENABLE_LABEL_FIX:\n",
    "    rse = replace_padding (val_labels)\n",
    "    val_labels = rse\n",
    "\n",
    "val_dataset = Seq2SeqDataset (val_data, val_labels)\n",
    "\n",
    "val_loader = DataLoader (val_dataset, batch_size = EVAL_BATCH_SIZE)"
   ]
  },
  {
   "cell_type": "code",
   "execution_count": null,
   "id": "69027a6b",
   "metadata": {},
   "outputs": [],
   "source": [
    "val_preds, val_labels = [], []\n",
    "with torch.no_grad ():\n",
    "    for batch in tqdm (val_loader):\n",
    "        input_ids = batch ['input_ids'].to (prev_model.device)\n",
    "        attention_mask = batch ['attention_mask'].to (prev_model.device)\n",
    "        labels = batch ['labels'].to (prev_model.device)\n",
    "        out = prev_model.generate (input_ids = input_ids, attention_mask = attention_mask, max_length=SEQ_MAX_LENGTH)\n",
    "\n",
    "        val_preds.extend (out)\n",
    "        val_labels.extend (labels)\n",
    "        torch.cuda.empty_cache ()\n",
    "\n",
    "    print ('Validation augmented: ', sanity_check (val_preds, val_labels))"
   ]
  },
  {
   "cell_type": "code",
   "execution_count": null,
   "id": "59b50d21",
   "metadata": {},
   "outputs": [],
   "source": [
    "#model.save_pretrained('./rut5small_fulltrain_novalid_dictionary_postfix')\n",
    "#tokenizer.save_pretrained('./rut5small_fulltrain_novalid_dictionary_postfix')"
   ]
  },
  {
   "cell_type": "code",
   "execution_count": null,
   "id": "5720725f",
   "metadata": {},
   "outputs": [],
   "source": []
  }
 ],
 "metadata": {
  "kernelspec": {
   "display_name": "Python 3",
   "language": "python",
   "name": "python3"
  },
  "language_info": {
   "codemirror_mode": {
    "name": "ipython",
    "version": 3
   },
   "file_extension": ".py",
   "mimetype": "text/x-python",
   "name": "python",
   "nbconvert_exporter": "python",
   "pygments_lexer": "ipython3",
   "version": "3.10.11"
  }
 },
 "nbformat": 4,
 "nbformat_minor": 5
}
