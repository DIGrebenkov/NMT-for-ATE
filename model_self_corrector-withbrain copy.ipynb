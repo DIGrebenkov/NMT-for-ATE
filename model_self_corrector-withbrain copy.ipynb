{
 "cells": [
  {
   "cell_type": "code",
   "execution_count": 1,
   "id": "553b9a1e",
   "metadata": {},
   "outputs": [
    {
     "name": "stdout",
     "output_type": "stream",
     "text": [
      "WARNING:tensorflow:From c:\\Users\\Enfi\\AppData\\Local\\Programs\\Python\\Python310\\lib\\site-packages\\keras\\src\\losses.py:2976: The name tf.losses.sparse_softmax_cross_entropy is deprecated. Please use tf.compat.v1.losses.sparse_softmax_cross_entropy instead.\n",
      "\n"
     ]
    }
   ],
   "source": [
    "import pandas as pd\n",
    "import regex as re\n",
    "\n",
    "from sklearn.model_selection import train_test_split\n",
    "from sklearn.model_selection import KFold\n",
    "\n",
    "import ahocorasick\n",
    "\n",
    "import torch\n",
    "from transformers import T5ForConditionalGeneration, AutoTokenizer, MT5ForConditionalGeneration, get_scheduler\n",
    "from torch.utils.data import DataLoader, Dataset\n",
    "from torch.optim import AdamW\n",
    "#from fairseq.optim.adafactor import Adafactor\n",
    "\n",
    "from tqdm import tqdm\n",
    "import matplotlib.pyplot as plt"
   ]
  },
  {
   "cell_type": "code",
   "execution_count": null,
   "id": "f2cd2a22",
   "metadata": {},
   "outputs": [],
   "source": [
    "# CONSTANTS:\n",
    "\n",
    "SEP_TOKEN = '▁<extra_id_0>'\n",
    "INPUT_PREFIX = ''\n",
    "\n",
    "NUM_OF_SPLITS = 10\n",
    "\n",
    "ATTACHMENT_TOKEN = '▁<extra_id_1>'\n",
    "\n",
    "USED_MODEL_NAME = 'cointegrated/rut5-small'\n",
    "\n",
    "SEQ_MAX_LENGTH = 300\n",
    "ANSWER_MAX_LENGTH = 170\n",
    "BATCH_SIZE = 4\n",
    "EVAL_BATCH_SIZE = 16\n",
    "\n",
    "ENABLE_LABEL_FIX = True\n",
    "\n",
    "LOCAL_NUM_EPOCHS = 5"
   ]
  },
  {
   "cell_type": "code",
   "execution_count": 3,
   "id": "328190fa",
   "metadata": {},
   "outputs": [
    {
     "name": "stderr",
     "output_type": "stream",
     "text": [
      "You are using the default legacy behaviour of the <class 'transformers.models.t5.tokenization_t5.T5Tokenizer'>. This is expected, and simply means that the `legacy` (previous) behavior will be used so nothing changes for you. If you want to use the new behaviour, set `legacy=False`. This should only be set if you understand what it means, and thoroughly read the reason why this was added as explained in https://github.com/huggingface/transformers/pull/24565\n",
      "c:\\Users\\Enfi\\AppData\\Local\\Programs\\Python\\Python310\\lib\\site-packages\\transformers\\convert_slow_tokenizer.py:561: UserWarning: The sentencepiece tokenizer that you are converting to a fast tokenizer uses the byte fallback option which is not implemented in the fast tokenizers. In practice this means that the fast version of the tokenizer can produce unknown tokens whereas the sentencepiece version would have converted these unknown tokens into a sequence of byte tokens matching the original piece of text.\n",
      "  warnings.warn(\n"
     ]
    },
    {
     "name": "stdout",
     "output_type": "stream",
     "text": [
      "cuda:0\n"
     ]
    }
   ],
   "source": [
    "tokenizer = AutoTokenizer.from_pretrained (USED_MODEL_NAME)\n",
    "\n",
    "device = torch.device ('cuda' if torch.cuda.is_available () else 'cpu')\n",
    "#device = torch.device ('cpu')\n",
    "\n",
    "model = MT5ForConditionalGeneration.from_pretrained (USED_MODEL_NAME)\n",
    "\n",
    "model.to (device)\n",
    "print (model.device)\n",
    "\n",
    "num_epochs = 50\n",
    "#training_steps = len (train_data ['input_ids']) // BATCH_SIZE * num_epochs\n",
    "#warmup_steps = int (training_steps * 0.1)\n",
    "#print (f'Suggested train steps: {training_steps}\\n\\t warmup steps: {int (training_steps * 0.05)} - {int (training_steps * 0.1)}')\n",
    "\n",
    "#optimizer = AdamW (model.parameters (), lr = 1e-5)#, weight_decay = 0.05)\n",
    "optimizer = AdamW (filter (lambda p: p.requires_grad, model.parameters ()), lr = 1e-4, weight_decay = 0.01)\n",
    "#optimizer = Adafactor (model.parameters (), lr = 3e-5, scale_parameter = False, relative_step = False, weight_decay = 0.02)\n",
    "#scheduler = get_scheduler ('linear', optimizer = optimizer, num_warmup_steps = warmup_steps, num_training_steps = training_steps)\n",
    "\n",
    "metrics = {'train_loss': [], 'val_loss': [], 'precision': [], 'recall': [], 'f1_score': []}"
   ]
  },
  {
   "cell_type": "code",
   "execution_count": 4,
   "id": "f6da5da0",
   "metadata": {},
   "outputs": [],
   "source": [
    "\n",
    "# FUNCTIONS:\n",
    "\n",
    "def split_text (text, segments, delimiters = ['...', '.', '?!', '?', '!']):\n",
    "\n",
    "    delimiters_pattern = '|'.join (map (re.escape, delimiters))\n",
    "    \n",
    "    paragraphs = re.split (f'(?<=\\n[ ]*)', text)\n",
    "    \n",
    "    sentences_with_segments = []\n",
    "    \n",
    "    current_start_index = 0\n",
    "\n",
    "    for paragraph in paragraphs:\n",
    "\n",
    "        sentences = re.split (f'(?<=[{delimiters_pattern}] )(?=[A-ZА-ЯЁ])', paragraph)#.strip ())\n",
    "\n",
    "        for sentence in sentences:\n",
    "\n",
    "            start_index = current_start_index\n",
    "            end_index = start_index + len (sentence)\n",
    "\n",
    "            matched_segments = [\n",
    "                text [start: end] for start, end in segments if start >= start_index and end <= end_index\n",
    "            ]\n",
    "            sentences_with_segments.append ((sentence, matched_segments))\n",
    "\n",
    "            current_start_index = end_index\n",
    "    \n",
    "    return sentences_with_segments\n",
    "\n",
    "def create_parallels (data_lst, labels_lst):\n",
    "    parallel_text = []\n",
    "    parallel_label = []\n",
    "    for i in range (len (data_lst)):\n",
    "        text = data_lst [i]\n",
    "        segments = labels_lst [i]\n",
    "        splitted = split_text (text, segments)\n",
    "        for sentence, terms in splitted:\n",
    "            parallel_text.append (INPUT_PREFIX + sentence)\n",
    "            constructed_label = ''\n",
    "            for term in terms:\n",
    "                constructed_label += term.strip () + SEP_TOKEN\n",
    "            if len (constructed_label) > 0:\n",
    "                parallel_label.append (constructed_label [: - len (SEP_TOKEN)])\n",
    "            else:\n",
    "                parallel_label.append ('')\n",
    "    return parallel_text, parallel_label\n",
    "\n",
    "\n",
    "def label_constructor (labels):\n",
    "    res = []\n",
    "    for label in labels:\n",
    "        one_label = []\n",
    "        for start, end, cls in label:\n",
    "            one_label.append ([start, end])\n",
    "        res.append (one_label)\n",
    "    return res\n",
    "\n",
    "\n",
    "def one_finder (text, phrases):\n",
    "\n",
    "    if len (phrases) == 1 and '' in phrases:\n",
    "        return []\n",
    "\n",
    "    A = ahocorasick.Automaton ()\n",
    "    \n",
    "    for idx, phrase in enumerate (phrases):\n",
    "        A.add_word (phrase, (idx, phrase))\n",
    "    \n",
    "    A.make_automaton ()\n",
    "    \n",
    "    found = []\n",
    "    for end_index, (idx, phrase) in A.iter (text):\n",
    "        start_index = end_index - len (phrase) + 1\n",
    "\n",
    "        if start_index > 0 and text [start_index - 1].isalpha ():\n",
    "            continue\n",
    "        if end_index + 1 < len (text) and text [end_index + 1].isalpha ():\n",
    "            continue\n",
    "\n",
    "        found.append ((start_index, end_index + 1, phrase))\n",
    "    \n",
    "    return found\n",
    "\n",
    "def make_attachment (text, dictionary_terms):\n",
    "    found = one_finder (text, dictionary_terms)\n",
    "    found_terms = [item [2] for item in found]\n",
    "    res = text + ATTACHMENT_TOKEN\n",
    "    for term in found_terms:\n",
    "        res += term + SEP_TOKEN\n",
    "    if len (found_terms) > 0:\n",
    "        res = res [: - len (SEP_TOKEN)]\n",
    "    return res\n",
    "\n",
    "def attach_dictionary_foundings (texts, dictionary_terms):\n",
    "    res_texts = []\n",
    "    for text in tqdm (texts):\n",
    "        res_texts.append (make_attachment (text, dictionary_terms))\n",
    "    return res_texts\n",
    "\n",
    "def replace_padding (labels):\n",
    "    for i in range (0, len (labels ['input_ids'])):\n",
    "        labels ['input_ids'] [i] = torch.tensor ([labl if labl != 0 else - 100 for labl in labels ['input_ids'] [i]])\n",
    "\n",
    "    return labels\n",
    "\n",
    "class Seq2SeqDataset (Dataset):\n",
    "    def __init__ (self, encodings, labels):\n",
    "        self.encodings = encodings\n",
    "        self.labels = labels\n",
    "\n",
    "    def __getitem__ (self, idx):\n",
    "        return {\n",
    "            'input_ids': self.encodings ['input_ids'] [idx],\n",
    "            'attention_mask': self.encodings ['attention_mask'] [idx],\n",
    "            'labels': self.labels ['input_ids'] [idx]\n",
    "        }\n",
    "\n",
    "    def __len__ (self):\n",
    "        return len (self.encodings ['input_ids'])\n",
    "\n",
    "def get_set (tensor, ground_truth = True, tokenizer = tokenizer):\n",
    "\n",
    "    separator: str\n",
    "    if SEP_TOKEN == '▁<extra_id_0>': separator = '<extra_id_0>'\n",
    "    else: separator = SEP_TOKEN\n",
    "\n",
    "    res: set\n",
    "\n",
    "    if ground_truth:\n",
    "        eos_idx = (tensor == 1).nonzero ()\n",
    "        if eos_idx.numel () > 0:\n",
    "            eos_idx = int (eos_idx [0] [0])\n",
    "        else:\n",
    "            eos_idx = len (tensor)\n",
    "        seq = tensor [:eos_idx]\n",
    "    \n",
    "    else:\n",
    "        seq = tensor [tensor != 0]\n",
    "        seq = seq [seq != - 100]   ### WHAT?!\n",
    "        seq = seq [seq != 1]\n",
    "    \n",
    "    txt = tokenizer.decode (seq)\n",
    "    res = set ([item.strip () for item in txt.split (separator)])\n",
    "\n",
    "    if len (res) > 1:\n",
    "        res -= set ([''])\n",
    "\n",
    "    return res\n",
    "\n",
    "\n",
    "def sanity_check (preds, labels, to_print = False):\n",
    "\n",
    "    tps_sum = 0\n",
    "    fps_sum = 0\n",
    "    fns_sum = 0 \n",
    "\n",
    "    for i in range (len (labels)):\n",
    "        predicted_set = get_set (preds [i], ground_truth = False)\n",
    "        true_set = get_set (labels [i])\n",
    "\n",
    "        if to_print: print (f'True: {true_set}\\nPred: {predicted_set}')\n",
    "\n",
    "        tps_sum += len (true_set & predicted_set)  # Истинно положительные\n",
    "        fps_sum += len (predicted_set - true_set)     # Ложноположительные\n",
    "        fns_sum += len (true_set - predicted_set)     # Ложноотрицательные\n",
    "\n",
    "    precision = tps_sum / (tps_sum + fps_sum) if (tps_sum + fps_sum) > 0 else 0\n",
    "    recall = tps_sum / (tps_sum + fns_sum) if (tps_sum + fns_sum) > 0 else 0\n",
    "    f1_score = 2 * (precision * recall) / (precision + recall) if (precision + recall) > 0 else 0\n",
    "\n",
    "    return precision, recall, f1_score"
   ]
  },
  {
   "cell_type": "code",
   "execution_count": 5,
   "id": "b417c34f",
   "metadata": {},
   "outputs": [
    {
     "name": "stdout",
     "output_type": "stream",
     "text": [
      "                                                text  \\\n",
      "0  ABBYY Retrieval & Morphology Engine\\nВ сообщен...   \n",
      "1  Речевые формулы в диалоге\\nПредложенная класси...   \n",
      "2  Географические названия и полнотекстовые докум...   \n",
      "3  Методы автоматического построения специализиро...   \n",
      "4  Закономерности построения дискурсивной последо...   \n",
      "\n",
      "                                               label  \n",
      "0  [[0, 35], [6, 15], [18, 35], [29, 35], [69, 88...  \n",
      "1  [[0, 15], [18, 25], [74, 99], [134, 140], [175...  \n",
      "2  [[0, 23], [26, 50], [54, 68], [169, 190], [181...  \n",
      "3  [[7, 63], [34, 63], [54, 63], [92, 128], [119,...  \n",
      "4  [[26, 57], [62, 76], [251, 265], [266, 280], [...  \n",
      "\n",
      "                                                text  \\\n",
      "0  АВТОМАТИЧЕСКИЙ АНАЛИЗ ТОНАЛЬНОСТИ ТЕКСТОВ НА О...   \n",
      "1  InBASE: ТЕХНОЛОГИЯ ПОСТРОЕНИЯ ЕЯ-ИНТЕРФЕЙСОВ К...   \n",
      "2  Выражение уважительности с помощью личных мест...   \n",
      "3  ДА ЧЕРТ ЛИ В ДЕТАЛЯХ?.. МЕРА ДЛЯ ОЦЕНКИ СОВПАД...   \n",
      "4  КОРПУСНАЯ ОЦЕНКА СОЧЕТАЕМОСТИ СЛОВ С ИСПОЛЬЗОВ...   \n",
      "\n",
      "                                               label  \n",
      "0  [[0, 33, specific], [22, 33, specific], [52, 7...  \n",
      "1  [[0, 6, nomen], [19, 44, specific], [30, 44, s...  \n",
      "2  [[0, 24, specific], [35, 53, specific], [42, 5...  \n",
      "3  [[51, 70, specific], [61, 70, specific], [116,...  \n",
      "4  [[0, 16, specific], [17, 34, specific], [30, 3...  \n",
      "\n",
      "Уникальных терминов во всём тренировочном наборе: 9761.\n",
      "\n"
     ]
    },
    {
     "name": "stderr",
     "output_type": "stream",
     "text": [
      "100%|██████████| 595/595 [00:06<00:00, 89.46it/s]\n",
      "100%|██████████| 695/695 [00:08<00:00, 83.31it/s]\n"
     ]
    }
   ],
   "source": [
    "df = pd.read_json ('train_t1_v1.jsonl', lines = True)\n",
    "df.drop (columns = ['id', 'keywords'], inplace = True)\n",
    "print (df.head ())\n",
    "print ()\n",
    "df_2 = pd.read_json ('./test_data/test1_t12_full_v2.jsonl', lines = True)\n",
    "df_2 = df_2 [['text', 'label']]\n",
    "print (df_2.head ())\n",
    "print ()\n",
    "\n",
    "val_data_txt, test_data_txt, val_labels_txt, test_labels_txt = train_test_split (df_2 ['text'], df_2 ['label'], test_size = 0.5, random_state = 14)\n",
    "\n",
    "train_data_lst = df ['text'].tolist ()\n",
    "train_labels_lst = df ['label'].tolist ()\n",
    "train_parallel_text, train_parallel_labels = create_parallels (train_data_lst, train_labels_lst)\n",
    "\n",
    "val_data_lst = val_data_txt.tolist ()\n",
    "val_labels_lst = label_constructor (val_labels_txt)\n",
    "val_parallel_text, val_parallel_labels = create_parallels (val_data_lst, val_labels_lst)\n",
    "\n",
    "test_data_lst = test_data_txt.tolist ()\n",
    "test_labels_lst = label_constructor (test_labels_txt)\n",
    "test_parallel_text, test_parallel_labels = create_parallels (test_data_lst, test_labels_lst)\n",
    "\n",
    "all_train_terms = set ()\n",
    "for line in train_parallel_labels:\n",
    "    all_train_terms |= set (line.split (SEP_TOKEN))\n",
    "all_train_terms -= set ([''])\n",
    "print (f'Уникальных терминов во всём тренировочном наборе: {len (all_train_terms)}.\\n')\n",
    "\n",
    "val_parallel_text_new = attach_dictionary_foundings (val_parallel_text, all_train_terms)\n",
    "test_parallel_text_new = attach_dictionary_foundings (test_parallel_text, all_train_terms)\n",
    "\n",
    "val_data = tokenizer (val_parallel_text_new, padding = 'max_length', truncation = True, max_length = SEQ_MAX_LENGTH, return_tensors = 'pt')\n",
    "val_labels = tokenizer (val_parallel_labels, padding = 'max_length', truncation = True, max_length = ANSWER_MAX_LENGTH, return_tensors = 'pt')\n",
    "\n",
    "test_data = tokenizer (test_parallel_text_new, padding = 'max_length', truncation = True, max_length = SEQ_MAX_LENGTH, return_tensors = 'pt')\n",
    "test_labels = tokenizer (test_parallel_labels, padding = 'max_length', truncation = True, max_length = ANSWER_MAX_LENGTH, return_tensors = 'pt')\n",
    "\n",
    "if ENABLE_LABEL_FIX:\n",
    "    \n",
    "    replaced = replace_padding (val_labels)\n",
    "    val_labels = replaced\n",
    "\n",
    "    replaced = replace_padding (test_labels)\n",
    "    test_labels = replaced\n",
    "\n",
    "val_dataset = Seq2SeqDataset (val_data, val_labels)\n",
    "test_dataset = Seq2SeqDataset (test_data, test_labels)\n",
    "\n",
    "val_loader = DataLoader (val_dataset, batch_size = EVAL_BATCH_SIZE)\n",
    "test_loader = DataLoader (test_dataset, batch_size = EVAL_BATCH_SIZE)"
   ]
  },
  {
   "cell_type": "code",
   "execution_count": null,
   "id": "cb4331b2",
   "metadata": {},
   "outputs": [
    {
     "name": "stdout",
     "output_type": "stream",
     "text": [
      "Уникальных терминов в 1-м тренировочном наборе: 800.\n"
     ]
    },
    {
     "name": "stderr",
     "output_type": "stream",
     "text": [
      "100%|██████████| 237/237 [00:00<00:00, 1410.62it/s]\n",
      "100%|██████████| 60/60 [00:07<00:00,  8.55it/s]\n"
     ]
    },
    {
     "name": "stdout",
     "output_type": "stream",
     "text": [
      "Epoch 58 / 114, Loss: 0.5470, Validation loss: 0.5609, 0.5633507853403141 / 0.4498327759197324 / 0.5002324500232449\n"
     ]
    },
    {
     "name": "stderr",
     "output_type": "stream",
     "text": [
      "100%|██████████| 60/60 [00:06<00:00,  8.75it/s]\n"
     ]
    },
    {
     "name": "stdout",
     "output_type": "stream",
     "text": [
      "Epoch 59 / 114, Loss: 0.4417, Validation loss: 0.5741, 0.5690217391304347 / 0.43770903010033446 / 0.49480151228733454\n"
     ]
    },
    {
     "name": "stderr",
     "output_type": "stream",
     "text": [
      "100%|██████████| 60/60 [00:06<00:00,  8.90it/s]\n"
     ]
    },
    {
     "name": "stdout",
     "output_type": "stream",
     "text": [
      "Epoch 60 / 114, Loss: 0.4124, Validation loss: 0.5682, 0.566304347826087 / 0.43561872909698995 / 0.4924385633270322\n",
      "Уникальных терминов в 2-м тренировочном наборе: 1529.\n"
     ]
    },
    {
     "name": "stderr",
     "output_type": "stream",
     "text": [
      "100%|██████████| 255/255 [00:00<00:00, 698.59it/s]\n",
      "100%|██████████| 64/64 [00:07<00:00,  8.86it/s]\n"
     ]
    },
    {
     "name": "stdout",
     "output_type": "stream",
     "text": [
      "Epoch 61 / 114, Loss: 0.5251, Validation loss: 0.5593, 0.5862451469772602 / 0.4418896321070234 / 0.5039332538736592\n"
     ]
    },
    {
     "name": "stderr",
     "output_type": "stream",
     "text": [
      "100%|██████████| 64/64 [00:07<00:00,  8.78it/s]\n"
     ]
    },
    {
     "name": "stdout",
     "output_type": "stream",
     "text": [
      "Epoch 62 / 114, Loss: 0.4478, Validation loss: 0.5461, 0.585792349726776 / 0.44816053511705684 / 0.5078162008526764\n"
     ]
    },
    {
     "name": "stderr",
     "output_type": "stream",
     "text": [
      "100%|██████████| 64/64 [00:07<00:00,  8.96it/s]\n"
     ]
    },
    {
     "name": "stdout",
     "output_type": "stream",
     "text": [
      "Epoch 63 / 114, Loss: 0.3902, Validation loss: 0.5560, 0.5815098468271335 / 0.4443979933110368 / 0.5037914691943127\n",
      "Уникальных терминов в 3-м тренировочном наборе: 2210.\n"
     ]
    },
    {
     "name": "stderr",
     "output_type": "stream",
     "text": [
      "100%|██████████| 274/274 [00:00<00:00, 500.88it/s]\n",
      "100%|██████████| 69/69 [00:07<00:00,  8.89it/s]\n"
     ]
    },
    {
     "name": "stdout",
     "output_type": "stream",
     "text": [
      "Epoch 64 / 114, Loss: 0.5221, Validation loss: 0.5463, 0.5791974656810982 / 0.45861204013377926 / 0.511899206719552\n"
     ]
    },
    {
     "name": "stderr",
     "output_type": "stream",
     "text": [
      "100%|██████████| 69/69 [00:07<00:00,  8.82it/s]\n"
     ]
    },
    {
     "name": "stdout",
     "output_type": "stream",
     "text": [
      "Epoch 65 / 114, Loss: 0.4539, Validation loss: 0.5718, 0.5503355704697986 / 0.44565217391304346 / 0.4924924924924925\n"
     ]
    },
    {
     "name": "stderr",
     "output_type": "stream",
     "text": [
      "100%|██████████| 69/69 [00:07<00:00,  8.90it/s]\n"
     ]
    },
    {
     "name": "stdout",
     "output_type": "stream",
     "text": [
      "Epoch 66 / 114, Loss: 0.3876, Validation loss: 0.5833, 0.5434565434565435 / 0.45484949832775917 / 0.4952207555757852\n",
      "Уникальных терминов в 4-м тренировочном наборе: 3002.\n"
     ]
    },
    {
     "name": "stderr",
     "output_type": "stream",
     "text": [
      "100%|██████████| 258/258 [00:00<00:00, 342.15it/s]\n",
      "100%|██████████| 65/65 [00:07<00:00,  8.87it/s]\n"
     ]
    },
    {
     "name": "stdout",
     "output_type": "stream",
     "text": [
      "Epoch 67 / 114, Loss: 0.4542, Validation loss: 0.5689, 0.5809628008752735 / 0.4439799331103679 / 0.5033175355450237\n"
     ]
    },
    {
     "name": "stderr",
     "output_type": "stream",
     "text": [
      "100%|██████████| 65/65 [00:07<00:00,  8.64it/s]\n"
     ]
    },
    {
     "name": "stdout",
     "output_type": "stream",
     "text": [
      "Epoch 68 / 114, Loss: 0.4034, Validation loss: 0.5845, 0.5633802816901409 / 0.451505016722408 / 0.5012763982362497\n"
     ]
    },
    {
     "name": "stderr",
     "output_type": "stream",
     "text": [
      "100%|██████████| 65/65 [00:07<00:00,  8.93it/s]\n"
     ]
    },
    {
     "name": "stdout",
     "output_type": "stream",
     "text": [
      "Epoch 69 / 114, Loss: 0.3623, Validation loss: 0.6071, 0.5625 / 0.44021739130434784 / 0.4939024390243902\n",
      "Уникальных терминов в 5-м тренировочном наборе: 3627.\n"
     ]
    },
    {
     "name": "stderr",
     "output_type": "stream",
     "text": [
      "100%|██████████| 179/179 [00:00<00:00, 274.94it/s]\n",
      "100%|██████████| 45/45 [00:05<00:00,  8.69it/s]\n"
     ]
    },
    {
     "name": "stdout",
     "output_type": "stream",
     "text": [
      "Epoch 70 / 114, Loss: 0.4291, Validation loss: 0.5676, 0.592800899887514 / 0.4406354515050167 / 0.5055155875299762\n"
     ]
    },
    {
     "name": "stderr",
     "output_type": "stream",
     "text": [
      "100%|██████████| 45/45 [00:05<00:00,  8.94it/s]\n"
     ]
    },
    {
     "name": "stdout",
     "output_type": "stream",
     "text": [
      "Epoch 71 / 114, Loss: 0.3790, Validation loss: 0.5750, 0.5564516129032258 / 0.4326923076923077 / 0.486829727187206\n"
     ]
    },
    {
     "name": "stderr",
     "output_type": "stream",
     "text": [
      "100%|██████████| 45/45 [00:04<00:00,  9.19it/s]\n"
     ]
    },
    {
     "name": "stdout",
     "output_type": "stream",
     "text": [
      "Epoch 72 / 114, Loss: 0.3303, Validation loss: 0.5642, 0.5862258953168044 / 0.44481605351170567 / 0.5058236272878536\n",
      "Уникальных терминов в 6-м тренировочном наборе: 4055.\n"
     ]
    },
    {
     "name": "stderr",
     "output_type": "stream",
     "text": [
      "100%|██████████| 197/197 [00:00<00:00, 239.64it/s]\n",
      "100%|██████████| 50/50 [00:05<00:00,  8.92it/s]\n"
     ]
    },
    {
     "name": "stdout",
     "output_type": "stream",
     "text": [
      "Epoch 73 / 114, Loss: 0.4210, Validation loss: 0.5462, 0.6120309050772627 / 0.463628762541806 / 0.527592768791627\n"
     ]
    },
    {
     "name": "stderr",
     "output_type": "stream",
     "text": [
      "100%|██████████| 50/50 [00:05<00:00,  8.93it/s]\n"
     ]
    },
    {
     "name": "stdout",
     "output_type": "stream",
     "text": [
      "Epoch 74 / 114, Loss: 0.3671, Validation loss: 0.5448, 0.618458075407991 / 0.45944816053511706 / 0.5272247541376829\n"
     ]
    },
    {
     "name": "stderr",
     "output_type": "stream",
     "text": [
      "100%|██████████| 50/50 [00:05<00:00,  8.85it/s]\n"
     ]
    },
    {
     "name": "stdout",
     "output_type": "stream",
     "text": [
      "Epoch 75 / 114, Loss: 0.3086, Validation loss: 0.5768, 0.6192584394023243 / 0.467809364548495 / 0.5329840438199571\n",
      "Уникальных терминов в 7-м тренировочном наборе: 4511.\n"
     ]
    },
    {
     "name": "stderr",
     "output_type": "stream",
     "text": [
      "100%|██████████| 174/174 [00:00<00:00, 217.21it/s]\n",
      "100%|██████████| 44/44 [00:04<00:00,  8.89it/s]\n"
     ]
    },
    {
     "name": "stdout",
     "output_type": "stream",
     "text": [
      "Epoch 76 / 114, Loss: 0.3894, Validation loss: 0.5460, 0.5942558746736293 / 0.47575250836120403 / 0.5284420710471326\n"
     ]
    },
    {
     "name": "stderr",
     "output_type": "stream",
     "text": [
      "100%|██████████| 44/44 [00:04<00:00,  8.98it/s]\n"
     ]
    },
    {
     "name": "stdout",
     "output_type": "stream",
     "text": [
      "Epoch 77 / 114, Loss: 0.3352, Validation loss: 0.5431, 0.6260869565217392 / 0.4816053511705686 / 0.5444234404536862\n"
     ]
    },
    {
     "name": "stderr",
     "output_type": "stream",
     "text": [
      "100%|██████████| 44/44 [00:04<00:00,  9.14it/s]\n"
     ]
    },
    {
     "name": "stdout",
     "output_type": "stream",
     "text": [
      "Epoch 78 / 114, Loss: 0.2785, Validation loss: 0.5584, 0.6264737406216506 / 0.4887123745819398 / 0.5490840770314701\n",
      "Уникальных терминов в 8-м тренировочном наборе: 4877.\n"
     ]
    },
    {
     "name": "stderr",
     "output_type": "stream",
     "text": [
      "100%|██████████| 168/168 [00:00<00:00, 200.23it/s]\n",
      "100%|██████████| 42/42 [00:04<00:00,  9.04it/s]\n"
     ]
    },
    {
     "name": "stdout",
     "output_type": "stream",
     "text": [
      "Epoch 79 / 114, Loss: 0.3788, Validation loss: 0.5581, 0.6153034300791557 / 0.4874581939799331 / 0.5439701422906462\n"
     ]
    },
    {
     "name": "stderr",
     "output_type": "stream",
     "text": [
      "100%|██████████| 42/42 [00:04<00:00,  8.79it/s]\n"
     ]
    },
    {
     "name": "stdout",
     "output_type": "stream",
     "text": [
      "Epoch 80 / 114, Loss: 0.3385, Validation loss: 0.5552, 0.6124933827421917 / 0.483695652173913 / 0.540527914038776\n"
     ]
    },
    {
     "name": "stderr",
     "output_type": "stream",
     "text": [
      "100%|██████████| 42/42 [00:04<00:00,  8.75it/s]\n"
     ]
    },
    {
     "name": "stdout",
     "output_type": "stream",
     "text": [
      "Epoch 81 / 114, Loss: 0.2948, Validation loss: 0.5580, 0.6203703703703703 / 0.4761705685618729 / 0.5387890255439926\n",
      "Уникальных терминов в 9-м тренировочном наборе: 5312.\n"
     ]
    },
    {
     "name": "stderr",
     "output_type": "stream",
     "text": [
      "100%|██████████| 175/175 [00:00<00:00, 183.62it/s]\n",
      "100%|██████████| 44/44 [00:04<00:00,  8.90it/s]\n"
     ]
    },
    {
     "name": "stdout",
     "output_type": "stream",
     "text": [
      "Epoch 82 / 114, Loss: 0.3963, Validation loss: 0.5708, 0.598411798071469 / 0.44105351170568563 / 0.5078219013237064\n"
     ]
    },
    {
     "name": "stderr",
     "output_type": "stream",
     "text": [
      "100%|██████████| 44/44 [00:04<00:00,  9.17it/s]\n"
     ]
    },
    {
     "name": "stdout",
     "output_type": "stream",
     "text": [
      "Epoch 83 / 114, Loss: 0.3364, Validation loss: 0.5661, 0.6097427476737821 / 0.4657190635451505 / 0.5280872244607726\n"
     ]
    },
    {
     "name": "stderr",
     "output_type": "stream",
     "text": [
      "100%|██████████| 44/44 [00:04<00:00,  9.05it/s]\n"
     ]
    },
    {
     "name": "stdout",
     "output_type": "stream",
     "text": [
      "Epoch 84 / 114, Loss: 0.3133, Validation loss: 0.5856, 0.5895800106326422 / 0.463628762541806 / 0.519073250643576\n",
      "Уникальных терминов в 10-м тренировочном наборе: 5723.\n"
     ]
    },
    {
     "name": "stderr",
     "output_type": "stream",
     "text": [
      "100%|██████████| 147/147 [00:00<00:00, 162.78it/s]\n",
      "100%|██████████| 37/37 [00:04<00:00,  8.95it/s]\n"
     ]
    },
    {
     "name": "stdout",
     "output_type": "stream",
     "text": [
      "Epoch 85 / 114, Loss: 0.3702, Validation loss: 0.5439, 0.6083423618634887 / 0.46948160535117056 / 0.5299669655497877\n"
     ]
    },
    {
     "name": "stderr",
     "output_type": "stream",
     "text": [
      "100%|██████████| 37/37 [00:04<00:00,  8.86it/s]\n"
     ]
    },
    {
     "name": "stdout",
     "output_type": "stream",
     "text": [
      "Epoch 86 / 114, Loss: 0.3478, Validation loss: 0.5305, 0.6238174735670562 / 0.46864548494983277 / 0.5352112676056338\n"
     ]
    },
    {
     "name": "stderr",
     "output_type": "stream",
     "text": [
      "100%|██████████| 37/37 [00:04<00:00,  8.99it/s]\n"
     ]
    },
    {
     "name": "stdout",
     "output_type": "stream",
     "text": [
      "Epoch 87 / 114, Loss: 0.2834, Validation loss: 0.5441, 0.6346801346801347 / 0.47282608695652173 / 0.5419262098706278\n",
      "Уникальных терминов в 11-м тренировочном наборе: 6069.\n"
     ]
    },
    {
     "name": "stderr",
     "output_type": "stream",
     "text": [
      "100%|██████████| 172/172 [00:01<00:00, 159.25it/s]\n",
      "100%|██████████| 43/43 [00:04<00:00,  8.96it/s]\n"
     ]
    },
    {
     "name": "stdout",
     "output_type": "stream",
     "text": [
      "Epoch 88 / 114, Loss: 0.3879, Validation loss: 0.5312, 0.6095774647887324 / 0.4523411371237458 / 0.5193184545236381\n"
     ]
    },
    {
     "name": "stderr",
     "output_type": "stream",
     "text": [
      "100%|██████████| 43/43 [00:04<00:00,  8.89it/s]\n"
     ]
    },
    {
     "name": "stdout",
     "output_type": "stream",
     "text": [
      "Epoch 89 / 114, Loss: 0.3136, Validation loss: 0.5475, 0.5838963963963963 / 0.4335284280936455 / 0.4976007677543186\n"
     ]
    },
    {
     "name": "stderr",
     "output_type": "stream",
     "text": [
      "100%|██████████| 43/43 [00:04<00:00,  8.70it/s]\n"
     ]
    },
    {
     "name": "stdout",
     "output_type": "stream",
     "text": [
      "Epoch 90 / 114, Loss: 0.2779, Validation loss: 0.5540, 0.5871313672922251 / 0.45777591973244147 / 0.514446793516561\n",
      "Уникальных терминов в 12-м тренировочном наборе: 6434.\n"
     ]
    },
    {
     "name": "stderr",
     "output_type": "stream",
     "text": [
      "100%|██████████| 161/161 [00:01<00:00, 146.89it/s]\n",
      "100%|██████████| 41/41 [00:04<00:00,  8.77it/s]\n"
     ]
    },
    {
     "name": "stdout",
     "output_type": "stream",
     "text": [
      "Epoch 91 / 114, Loss: 0.4398, Validation loss: 0.5310, 0.601303639326453 / 0.4627926421404682 / 0.5230333097094259\n"
     ]
    },
    {
     "name": "stderr",
     "output_type": "stream",
     "text": [
      "100%|██████████| 41/41 [00:04<00:00,  8.70it/s]\n"
     ]
    },
    {
     "name": "stdout",
     "output_type": "stream",
     "text": [
      "Epoch 92 / 114, Loss: 0.3655, Validation loss: 0.5446, 0.5876623376623377 / 0.4540133779264214 / 0.5122641509433963\n"
     ]
    },
    {
     "name": "stderr",
     "output_type": "stream",
     "text": [
      "100%|██████████| 41/41 [00:04<00:00,  8.93it/s]\n"
     ]
    },
    {
     "name": "stdout",
     "output_type": "stream",
     "text": [
      "Epoch 93 / 114, Loss: 0.2955, Validation loss: 0.5560, 0.5989041095890411 / 0.4569397993311037 / 0.5183779938344795\n",
      "Уникальных терминов в 13-м тренировочном наборе: 6766.\n"
     ]
    },
    {
     "name": "stderr",
     "output_type": "stream",
     "text": [
      "100%|██████████| 159/159 [00:01<00:00, 133.72it/s]\n",
      "100%|██████████| 40/40 [00:04<00:00,  9.02it/s]\n"
     ]
    },
    {
     "name": "stdout",
     "output_type": "stream",
     "text": [
      "Epoch 94 / 114, Loss: 0.4111, Validation loss: 0.5404, 0.5853107344632769 / 0.4331103678929766 / 0.4978375780874579\n"
     ]
    },
    {
     "name": "stderr",
     "output_type": "stream",
     "text": [
      "100%|██████████| 40/40 [00:04<00:00,  8.95it/s]\n"
     ]
    },
    {
     "name": "stdout",
     "output_type": "stream",
     "text": [
      "Epoch 95 / 114, Loss: 0.3473, Validation loss: 0.5586, 0.6095774647887324 / 0.4523411371237458 / 0.5193184545236381\n"
     ]
    },
    {
     "name": "stderr",
     "output_type": "stream",
     "text": [
      "100%|██████████| 40/40 [00:04<00:00,  8.84it/s]\n"
     ]
    },
    {
     "name": "stdout",
     "output_type": "stream",
     "text": [
      "Epoch 96 / 114, Loss: 0.2861, Validation loss: 0.6089, 0.5885386819484241 / 0.42934782608695654 / 0.4964950447183949\n",
      "Уникальных терминов в 14-м тренировочном наборе: 7069.\n"
     ]
    },
    {
     "name": "stderr",
     "output_type": "stream",
     "text": [
      "100%|██████████| 161/161 [00:01<00:00, 125.77it/s]\n",
      "100%|██████████| 41/41 [00:04<00:00,  8.74it/s]\n"
     ]
    },
    {
     "name": "stdout",
     "output_type": "stream",
     "text": [
      "Epoch 97 / 114, Loss: 0.4140, Validation loss: 0.5304, 0.6094104308390023 / 0.44941471571906355 / 0.5173243503368624\n"
     ]
    },
    {
     "name": "stderr",
     "output_type": "stream",
     "text": [
      " 56%|█████▌    | 23/41 [00:02<00:01,  9.06it/s]"
     ]
    }
   ],
   "source": [
    "kf = KFold (n_splits = NUM_OF_SPLITS)\n",
    "\n",
    "data = df ['text']\n",
    "labels = df ['label']\n",
    "\n",
    "inc_term_set = set ()\n",
    "for iteration, (train_index, test_index) in enumerate (kf.split (data)):\n",
    "    X_curr = data [test_index]\n",
    "    y_curr = labels [test_index]\n",
    "\n",
    "    train_data_lst = X_curr.tolist ()\n",
    "    train_labels_lst = y_curr.tolist ()\n",
    "    parallel_text, parallel_labels = create_parallels (train_data_lst, train_labels_lst)\n",
    "    \n",
    "    if iteration == 0:\n",
    "        for line in parallel_labels:\n",
    "            inc_term_set |= set (line.split (SEP_TOKEN))\n",
    "        inc_term_set -= set ([''])\n",
    "        print (f'Уникальных терминов в {iteration + 1}-м тренировочном наборе: {len (inc_term_set)}.')\n",
    "        continue\n",
    "\n",
    "    parallel_text_new = attach_dictionary_foundings (parallel_text, inc_term_set)\n",
    "\n",
    "    train_data = tokenizer (parallel_text_new, padding = 'max_length', truncation = True, max_length = SEQ_MAX_LENGTH, return_tensors = 'pt')\n",
    "    train_labels = tokenizer (parallel_labels, padding = 'max_length', truncation = True, max_length = ANSWER_MAX_LENGTH, return_tensors = 'pt')\n",
    "    \n",
    "    if ENABLE_LABEL_FIX:\n",
    "        replaced = replace_padding (train_labels)\n",
    "        train_labels = replaced\n",
    "\n",
    "    train_dataset = Seq2SeqDataset (train_data, train_labels)\n",
    "    train_loader = DataLoader (train_dataset, batch_size = BATCH_SIZE, shuffle = True)\n",
    "\n",
    "    for epoch in range (LOCAL_NUM_EPOCHS):\n",
    "        model.train ()  # Устанавливаем модель в режим обучения\n",
    "        total_loss = 0\n",
    "        \n",
    "        for batch in tqdm (train_loader):\n",
    "            \n",
    "            input_ids = batch ['input_ids'].to (model.device)\n",
    "            attention_mask = batch ['attention_mask'].to (model.device)\n",
    "            labels_fromdata = batch ['labels'].to (model.device)\n",
    "\n",
    "            outputs = model (input_ids = input_ids, attention_mask = attention_mask, labels = labels_fromdata)\n",
    "            loss = outputs.loss   ## DOUBLE CHECK if padding ...\n",
    "            total_loss += loss.item ()\n",
    "\n",
    "            loss.backward ()  # Обратное распространение\n",
    "            optimizer.step ()  # Обновление параметров\n",
    "            optimizer.zero_grad ()  # Обнуляем градиенты\n",
    "\n",
    "            #scheduler.step ()  # Обновление learning rate\n",
    "            torch.cuda.empty_cache ()\n",
    "        \n",
    "\n",
    "        avg_loss = total_loss / len (train_loader)\n",
    "\n",
    "        metrics ['train_loss'].append ((58+epoch + (iteration - 1) * LOCAL_NUM_EPOCHS, avg_loss))\n",
    "\n",
    "        # Оценка на валидационной выборке\n",
    "        model.eval ()  # Устанавливаем модель в режим оценки\n",
    "        val_preds, val_labels = [], []\n",
    "        total_val_loss = 0\n",
    "\n",
    "        with torch.no_grad ():\n",
    "            for batch in val_loader:\n",
    "                input_ids = batch ['input_ids'].to (model.device)\n",
    "                attention_mask = batch ['attention_mask'].to (model.device)\n",
    "                labels_fromdata = batch ['labels'].to (model.device)\n",
    "\n",
    "                outputs = model.generate (input_ids = input_ids, attention_mask = attention_mask)\n",
    "\n",
    "                total_val_loss += model (input_ids = input_ids, attention_mask = attention_mask, labels = labels_fromdata).loss.item ()\n",
    "\n",
    "                val_preds.extend (outputs)\n",
    "                val_labels.extend (labels_fromdata)\n",
    "                torch.cuda.empty_cache ()\n",
    "\n",
    "        avg_val_loss = total_val_loss / len (val_loader)\n",
    "\n",
    "        prec, recl, f1sc = sanity_check (val_preds, val_labels)\n",
    "\n",
    "        metrics ['val_loss'].append ((58+epoch + (iteration - 1) * LOCAL_NUM_EPOCHS, avg_val_loss))\n",
    "        metrics ['precision'].append ((58+epoch + (iteration - 1) * LOCAL_NUM_EPOCHS, prec))\n",
    "        metrics ['recall'].append ((58+epoch + (iteration - 1) * LOCAL_NUM_EPOCHS, recl))\n",
    "        metrics ['f1_score'].append ((58+epoch + (iteration - 1) * LOCAL_NUM_EPOCHS, f1sc))\n",
    "\n",
    "        print (f'Epoch {(57+epoch + 1) + (iteration - 1) * LOCAL_NUM_EPOCHS} / {57+(NUM_OF_SPLITS - 1) * LOCAL_NUM_EPOCHS}, Loss: {avg_loss:.4f}, Validation loss: {avg_val_loss:.4f}, {prec} / {recl} / {f1sc}')\n",
    "        \n",
    "        torch.cuda.empty_cache ()\n",
    "\n",
    "\n",
    "    for line in parallel_labels:\n",
    "        inc_term_set |= set (line.split (SEP_TOKEN))\n",
    "    inc_term_set -= set ([''])\n",
    "    print (f'Уникальных терминов в {iteration + 1}-м тренировочном наборе: {len (inc_term_set)}.')"
   ]
  },
  {
   "cell_type": "markdown",
   "id": "fda402f3",
   "metadata": {},
   "source": [
    "https://colab.research.google.com/github/NielsRogge/Transformers-Tutorials/blob/master/T5/Fine_tune_CodeT5_for_generating_docstrings_from_Ruby_code.ipynb#scrollTo=wvRHDkCIS91f"
   ]
  },
  {
   "cell_type": "code",
   "execution_count": null,
   "id": "a1cb38fc",
   "metadata": {},
   "outputs": [
    {
     "name": "stdout",
     "output_type": "stream",
     "text": [
      "{'train_loss': [(0, 2.402664778629939), (1, 1.4802897383769353), (2, 1.1357788811127345), (3, 1.2196182683110237), (4, 1.0205352762714028), (5, 0.8600779972039163), (6, 1.0175897228545037), (7, 0.8675009202266085), (8, 0.8079100169133449), (9, 0.8659808631126698), (10, 0.7561069162992331), (11, 0.6651957484392019), (12, 0.7900121483537886), (13, 0.6648818088902367), (14, 0.602575906780031), (15, 0.6979187053442001), (16, 0.6040897050499916), (17, 0.5839670723676682), (18, 0.6910249800844626), (19, 0.5911835323680531), (20, 0.5592435676265847), (21, 0.6570834992896943), (22, 0.5825586993069876), (23, 0.5311060373981794), (24, 0.639105764979666), (25, 0.5785576315088705), (26, 0.49271030351519585), (27, 0.6259480150970252), (28, 0.52777857313285), (29, 0.48042052259316315), (30, 0.609672088955724), (31, 0.5430086119923481), (32, 0.48377238144708234), (33, 0.6459287833876726), (34, 0.5771950665043621), (35, 0.5302978317912032), (36, 0.6753345929086209), (37, 0.6090926170349121), (38, 0.48371545411646366), (39, 0.7046410259677143), (40, 0.5686945024786926), (41, 0.48661523257813805), (42, 0.6297586212555567), (43, 0.5022256479219154), (44, 0.4297210200241319), (45, 0.6081855346759161), (46, 0.4751244615467768), (47, 0.3837254071046436), (48, 0.569137757474726), (49, 0.4721321574214733), (50, 0.40901989004377165), (51, 0.5816246939427925), (52, 0.5032923835696597), (53, 0.44688279949354404), (54, 0.5497849568724632), (55, 0.5024067935844262), (56, 0.4381734502812227)], 'val_loss': [(0, 1.8674944105901217), (1, 1.4377839502535368), (2, 1.2226461642666866), (3, 1.0161787224443335), (4, 0.962840851984526), (5, 0.9085575263751181), (6, 0.8960831588820407), (7, 0.8814159278806887), (8, 0.8391104293496985), (9, 0.7929078120934335), (10, 0.803095983831506), (11, 0.7968084592568246), (12, 0.7178140988475398), (13, 0.7120619698574668), (14, 0.7031303675551164), (15, 0.6982762625342921), (16, 0.7150826132611224), (17, 0.713849992344254), (18, 0.7036287188529968), (19, 0.66607955019725), (20, 0.6979178339242935), (21, 0.6539223437246523), (22, 0.6763038086263757), (23, 0.6732981683392274), (24, 0.6762812043491163), (25, 0.6449241387216669), (26, 0.6684764349146893), (27, 0.6123988095082735), (28, 0.6161888524105674), (29, 0.6326570408908945), (30, 0.6257025175972989), (31, 0.6447058265146456), (32, 0.6189387228928114), (33, 0.6280252039432526), (34, 0.6309143140127784), (35, 0.6456075836169092), (36, 0.6318291119839016), (37, 0.6074776814172143), (38, 0.6451285559880106), (39, 0.5945484842124739), (40, 0.6159254681122931), (41, 0.6223519138599697), (42, 0.5859125185953943), (43, 0.6031266529309122), (44, 0.6296015319071318), (45, 0.5489902778675682), (46, 0.5917073213740399), (47, 0.5836689044770441), (48, 0.5767678743914554), (49, 0.5935201233154849), (50, 0.6115931468574625), (51, 0.5889524825309452), (52, 0.5797124348188701), (53, 0.5786237740202954), (54, 0.5552089128055071), (55, 0.5705281119597586), (56, 0.5926166706179318)], 'precision': [(0, 0.15524475524475526), (1, 0.3543307086614173), (2, 0.39844256975989617), (3, 0.46287927695287284), (4, 0.49145299145299143), (5, 0.47253433208489387), (6, 0.4660633484162896), (7, 0.4735042735042735), (8, 0.468013468013468), (9, 0.4702247191011236), (10, 0.49489795918367346), (11, 0.4988479262672811), (12, 0.5035714285714286), (13, 0.5278113663845224), (14, 0.5603448275862069), (15, 0.5521013241220495), (16, 0.5550898203592814), (17, 0.568904593639576), (18, 0.5682997118155619), (19, 0.5540242557883132), (20, 0.564437194127243), (21, 0.5698802053622362), (22, 0.5706638115631691), (23, 0.5799658508821856), (24, 0.5193798449612403), (25, 0.5321570859419466), (26, 0.5378486055776892), (27, 0.5552913198573127), (28, 0.549438202247191), (29, 0.5537694013303769), (30, 0.537985368598762), (31, 0.5265753424657534), (32, 0.5485714285714286), (33, 0.540765391014975), (34, 0.5502824858757062), (35, 0.53037120359955), (36, 0.5751022793687902), (37, 0.5558690744920993), (38, 0.5589244851258581), (39, 0.5902578796561605), (40, 0.5642045454545455), (41, 0.5660805445263755), (42, 0.5938202247191011), (43, 0.5880066629650195), (44, 0.5910364145658263), (45, 0.5943238731218697), (46, 0.6326048434731246), (47, 0.5969247666117518), (48, 0.5922989807474519), (49, 0.5893470790378007), (50, 0.6141643059490085), (51, 0.5838888888888889), (52, 0.5722100656455142), (53, 0.5990126165660998), (54, 0.5559642669469259), (55, 0.5718849840255591), (56, 0.563034188034188)], 'recall': [(0, 0.04640468227424749), (1, 0.18812709030100336), (2, 0.25668896321070234), (3, 0.29974916387959866), (4, 0.33653846153846156), (5, 0.3164715719063545), (6, 0.34448160535117056), (7, 0.34740802675585286), (8, 0.3486622073578595), (9, 0.34991638795986624), (10, 0.3649665551839465), (11, 0.3620401337792642), (12, 0.3536789297658863), (13, 0.3649665551839465), (14, 0.3804347826086957), (15, 0.40091973244147155), (16, 0.3875418060200669), (17, 0.40384615384615385), (18, 0.4122073578595318), (19, 0.42015050167224083), (20, 0.43394648829431437), (21, 0.41764214046822745), (22, 0.44565217391304346), (23, 0.4260033444816054), (24, 0.39214046822742477), (25, 0.39088628762541805), (26, 0.395066889632107), (27, 0.3904682274247492), (28, 0.4088628762541806), (29, 0.41764214046822745), (30, 0.3996655518394649), (31, 0.40175585284280935), (32, 0.4013377926421405), (33, 0.4076086956521739), (34, 0.407190635451505), (35, 0.3942307692307692), (36, 0.411371237458194), (37, 0.41178929765886285), (38, 0.4084448160535117), (39, 0.4306020066889632), (40, 0.415133779264214), (41, 0.41722408026755853), (42, 0.4418896321070234), (43, 0.4427257525083612), (44, 0.44105351170568563), (45, 0.44648829431438125), (46, 0.44774247491638797), (47, 0.4544314381270903), (48, 0.43729096989966554), (49, 0.43018394648829433), (50, 0.4531772575250836), (51, 0.43938127090301005), (52, 0.43729096989966554), (53, 0.45652173913043476), (54, 0.4423076923076923), (55, 0.4489966555183946), (56, 0.4406354515050167)], 'f1_score': [(0, 0.07145156099130993), (1, 0.24576734025122887), (2, 0.3122298499872871), (3, 0.3638670388226338), (4, 0.3995037220843673), (5, 0.3790686029043565), (6, 0.39615384615384613), (7, 0.4007716421509525), (8, 0.39961667465261136), (9, 0.40124640460210936), (10, 0.4201154956689124), (11, 0.41957364341085274), (12, 0.4155206286836935), (13, 0.4315373208106772), (14, 0.4531872509960159), (15, 0.46451925405667227), (16, 0.4564254062038405), (17, 0.4723716381418093), (18, 0.47782893142718685), (19, 0.4778887303851641), (20, 0.4906641455920586), (21, 0.4820265379975875), (22, 0.500469483568075), (23, 0.49120269944564965), (24, 0.4468794664125775), (25, 0.4507110147023379), (26, 0.455531453362256), (27, 0.4585174275895926), (28, 0.46883988494726747), (29, 0.4761677788369876), (30, 0.4586231710242265), (31, 0.4557742470950913), (32, 0.4635441815548044), (33, 0.464839094159714), (34, 0.46804420951465636), (35, 0.45227817745803356), (36, 0.47964903728978797), (37, 0.47310278578290105), (38, 0.47198067632850244), (39, 0.49794537104181774), (40, 0.4783236994219653), (41, 0.4803850782190132), (42, 0.5067114093959733), (43, 0.505127593608395), (44, 0.5051472348575532), (45, 0.5099068990212462), (46, 0.5243574051407589), (47, 0.5160218371706622), (48, 0.5031265031265031), (49, 0.4973417109714839), (50, 0.5215299494828001), (51, 0.5014312977099237), (52, 0.495734597156398), (53, 0.5181494661921708), (54, 0.4926658905704307), (55, 0.5030444964871195), (56, 0.4943714821763603)]}\n"
     ]
    }
   ],
   "source": [
    "print (metrics)"
   ]
  },
  {
   "cell_type": "code",
   "execution_count": null,
   "id": "911466b0",
   "metadata": {},
   "outputs": [
    {
     "data": {
      "image/png": "[encoded data removed]",
      "text/plain": [
       "<Figure size 1000x400 with 1 Axes>"
      ]
     },
     "metadata": {},
     "output_type": "display_data"
    },
    {
     "data": {
      "image/png": "[encoded data removed]",
      "text/plain": [
       "<Figure size 1000x400 with 1 Axes>"
      ]
     },
     "metadata": {},
     "output_type": "display_data"
    },
    {
     "data": {
      "image/png": "[encoded data removed]",
      "text/plain": [
       "<Figure size 1000x400 with 1 Axes>"
      ]
     },
     "metadata": {},
     "output_type": "display_data"
    },
    {
     "data": {
      "image/png": "[encoded data removed]",
      "text/plain": [
       "<Figure size 1000x400 with 1 Axes>"
      ]
     },
     "metadata": {},
     "output_type": "display_data"
    },
    {
     "data": {
      "image/png": "[encoded data removed]",
      "text/plain": [
       "<Figure size 1000x400 with 1 Axes>"
      ]
     },
     "metadata": {},
     "output_type": "display_data"
    }
   ],
   "source": [
    "for i, (name, history) in enumerate (sorted (metrics.items ())):\n",
    "    #plt.plot (1, len (metrics), i + 1)\n",
    "    plt.figure (figsize = (10, 4))\n",
    "    plt.title (name)\n",
    "    plt.plot (*zip (*history))\n",
    "    plt.grid ()\n",
    "    plt.show ()"
   ]
  },
  {
   "cell_type": "code",
   "execution_count": null,
   "id": "fb5f9be2",
   "metadata": {},
   "outputs": [
    {
     "name": "stderr",
     "output_type": "stream",
     "text": [
      "100%|██████████| 38/38 [00:14<00:00,  2.54it/s]\n"
     ]
    },
    {
     "name": "stdout",
     "output_type": "stream",
     "text": [
      "Validation:  (0.563034188034188, 0.4406354515050167, 0.4943714821763603)\n"
     ]
    },
    {
     "name": "stderr",
     "output_type": "stream",
     "text": [
      "100%|██████████| 44/44 [00:17<00:00,  2.55it/s]\n"
     ]
    },
    {
     "name": "stdout",
     "output_type": "stream",
     "text": [
      "Test:  (0.5782149712092131, 0.45904761904761904, 0.5117859418135486)\n"
     ]
    }
   ],
   "source": [
    "\n",
    "\n",
    "model.eval ()  # Устанавливаем модель в режим оценки\n",
    "val_preds, val_labels_fromdata = [], []\n",
    "\n",
    "with torch.no_grad ():\n",
    "    for batch in tqdm (val_loader):\n",
    "        input_ids = batch ['input_ids'].to (model.device)\n",
    "        attention_mask = batch ['attention_mask'].to (model.device)\n",
    "        labels = batch ['labels'].to (model.device)\n",
    "        out = model.generate (input_ids = input_ids, attention_mask = attention_mask)\n",
    "\n",
    "        val_preds.extend (out)\n",
    "        val_labels_fromdata.extend (labels)\n",
    "        torch.cuda.empty_cache ()\n",
    "\n",
    "    print ('Validation: ', sanity_check (val_preds, val_labels_fromdata))\n",
    "\n",
    "\n",
    "val_preds, val_labels_fromdata = [], []\n",
    "\n",
    "with torch.no_grad ():\n",
    "    for batch in tqdm (test_loader):\n",
    "        input_ids = batch ['input_ids'].to (model.device)\n",
    "        attention_mask = batch ['attention_mask'].to (model.device)\n",
    "        labels = batch ['labels'].to (model.device)\n",
    "        out = model.generate (input_ids = input_ids, attention_mask = attention_mask)\n",
    "\n",
    "        val_preds.extend (out)\n",
    "        val_labels_fromdata.extend (labels)\n",
    "        torch.cuda.empty_cache ()\n",
    "\n",
    "    print ('Test: ', sanity_check (val_preds, val_labels_fromdata))\n"
   ]
  },
  {
   "cell_type": "code",
   "execution_count": null,
   "id": "c245fb7a",
   "metadata": {},
   "outputs": [
    {
     "name": "stderr",
     "output_type": "stream",
     "text": [
      "100%|██████████| 38/38 [01:18<00:00,  2.07s/it]\n"
     ]
    },
    {
     "name": "stdout",
     "output_type": "stream",
     "text": [
      "Validation wmax:  (0.5928231417063347, 0.6768394648829431, 0.6320515323052899)\n"
     ]
    },
    {
     "name": "stderr",
     "output_type": "stream",
     "text": [
      "100%|██████████| 44/44 [01:20<00:00,  1.82s/it]\n"
     ]
    },
    {
     "name": "stdout",
     "output_type": "stream",
     "text": [
      "Test wmax:  (0.6284039986211651, 0.6944761904761905, 0.659790083242852)\n"
     ]
    }
   ],
   "source": [
    "\n",
    "val_preds, val_labels_fromdata = [], []\n",
    "with torch.no_grad ():\n",
    "    for batch in tqdm (val_loader):\n",
    "        input_ids = batch ['input_ids'].to (model.device)\n",
    "        attention_mask = batch ['attention_mask'].to (model.device)\n",
    "        labels = batch ['labels'].to (model.device)\n",
    "        out = model.generate (input_ids = input_ids, attention_mask = attention_mask, max_length=SEQ_MAX_LENGTH)\n",
    "\n",
    "        val_preds.extend (out)\n",
    "        val_labels_fromdata.extend (labels)\n",
    "        torch.cuda.empty_cache ()\n",
    "\n",
    "    print ('Validation wmax: ', sanity_check (val_preds, val_labels_fromdata))\n",
    "\n",
    "val_preds, val_labels_fromdata = [], []\n",
    "with torch.no_grad ():\n",
    "    for batch in tqdm (test_loader):\n",
    "        input_ids = batch ['input_ids'].to (model.device)\n",
    "        attention_mask = batch ['attention_mask'].to (model.device)\n",
    "        labels = batch ['labels'].to (model.device)\n",
    "        out = model.generate (input_ids = input_ids, attention_mask = attention_mask, max_length=SEQ_MAX_LENGTH)\n",
    "\n",
    "        val_preds.extend (out)\n",
    "        val_labels_fromdata.extend (labels)\n",
    "        torch.cuda.empty_cache ()\n",
    "\n",
    "    print ('Test wmax: ', sanity_check (val_preds, val_labels_fromdata))\n"
   ]
  },
  {
   "cell_type": "code",
   "execution_count": null,
   "id": "5df71c63",
   "metadata": {},
   "outputs": [],
   "source": [
    "#model.save_pretrained ('./rut5base_fulltrain_novalid_dictionary_postfix')\n",
    "#tokenizer.save_pretrained ('./rut5base_fulltrain_novalid_dictionary_postfix')"
   ]
  },
  {
   "cell_type": "code",
   "execution_count": null,
   "id": "1cc32468",
   "metadata": {},
   "outputs": [
    {
     "name": "stdout",
     "output_type": "stream",
     "text": [
      "Такие сети отображаются на XML-файлы, которые служат для организации Баз Знаний, соответствующих семантических поисков, для решения логико-аналитических задач, а также для автоматического заполнения реляционных БД.\n"
     ]
    },
    {
     "data": {
      "text/plain": [
       "{'3-граммной моделью',\n",
       " 'базовой 3-граммной моделью',\n",
       " 'интерполированных',\n",
       " 'моделью',\n",
       " 'распознавания',\n",
       " 'распознавания слов',\n",
       " 'речи',\n",
       " 'сверхбольшим словарем',\n",
       " 'слитной русской речи',\n",
       " 'слов',\n",
       " 'словарем',\n",
       " 'факторных моделей языка'}"
      ]
     },
     "execution_count": 12,
     "metadata": {},
     "output_type": "execute_result"
    }
   ],
   "source": [
    "print (val_parallel_text [6])\n",
    "predicted_set = get_set (val_preds [6], ground_truth = False)\n",
    "predicted_set"
   ]
  },
  {
   "cell_type": "code",
   "execution_count": null,
   "id": "39bd0d04",
   "metadata": {},
   "outputs": [
    {
     "ename": "SyntaxError",
     "evalue": "Missing parentheses in call to 'print'. Did you mean print(...)? (928237153.py, line 1)",
     "output_type": "error",
     "traceback": [
      "\u001b[1;36m  Cell \u001b[1;32mIn[13], line 1\u001b[1;36m\u001b[0m\n\u001b[1;33m    print 4\u001b[0m\n\u001b[1;37m    ^\u001b[0m\n\u001b[1;31mSyntaxError\u001b[0m\u001b[1;31m:\u001b[0m Missing parentheses in call to 'print'. Did you mean print(...)?\n"
     ]
    }
   ],
   "source": [
    "print 4"
   ]
  },
  {
   "cell_type": "code",
   "execution_count": null,
   "id": "2bddd745",
   "metadata": {},
   "outputs": [],
   "source": [
    "model = MT5ForConditionalGeneration.from_pretrained ('./coint_rut5small_finetune_fulltrain_novalid')\n",
    "\n",
    "model.to (device)\n",
    "print (model.device)"
   ]
  },
  {
   "cell_type": "code",
   "execution_count": null,
   "id": "f9c897eb",
   "metadata": {},
   "outputs": [],
   "source": [
    "val_data = tokenizer (parallel_text_val_new, padding = 'max_length', truncation = True, max_length = SEQ_MAX_LENGTH, return_tensors = 'pt')\n",
    "val_labels = tokenizer (parallel_label_val, padding = 'max_length', truncation = True, max_length = ANSWER_MAX_LENGTH, return_tensors = 'pt')\n",
    "\n",
    "if ENABLE_LABEL_FIX:\n",
    "    rse = replace_padding (val_labels)\n",
    "    val_labels = rse\n",
    "\n",
    "val_dataset = Seq2SeqDataset (val_data, val_labels)\n",
    "\n",
    "val_loader = DataLoader (val_dataset, batch_size = EVAL_BATCH_SIZE)"
   ]
  },
  {
   "cell_type": "code",
   "execution_count": null,
   "id": "831aa035",
   "metadata": {},
   "outputs": [],
   "source": [
    "val_preds, val_labels = [], []\n",
    "with torch.no_grad ():\n",
    "    for batch in tqdm (val_loader):\n",
    "        input_ids = batch ['input_ids'].to (model.device)\n",
    "        attention_mask = batch ['attention_mask'].to (model.device)\n",
    "        labels = batch ['labels'].to (model.device)\n",
    "        out = model.generate (input_ids = input_ids, attention_mask = attention_mask, max_length=SEQ_MAX_LENGTH)\n",
    "\n",
    "        val_preds.extend (out)\n",
    "        val_labels.extend (labels)\n",
    "        torch.cuda.empty_cache ()\n",
    "\n",
    "    print ('Validation augmented: ', sanity_check (val_preds, val_labels))"
   ]
  },
  {
   "cell_type": "code",
   "execution_count": null,
   "id": "33f2447e",
   "metadata": {},
   "outputs": [],
   "source": [
    "\n",
    "parallel_text_val_augmented = []\n",
    "for i in range (len (val_preds)):\n",
    "    predicted_set = get_set (val_preds [i], ground_truth = False)\n",
    "    parallel_text_val_augmented.append (make_attachment (val_parallel_text [i], predicted_set))\n",
    "\n",
    "val_data = tokenizer (parallel_text_val_augmented, padding = 'max_length', truncation = True, max_length = SEQ_MAX_LENGTH, return_tensors = 'pt')\n",
    "val_labels = tokenizer (val_parallel_labels, padding = 'max_length', truncation = True, max_length = ANSWER_MAX_LENGTH, return_tensors = 'pt')\n",
    "\n",
    "if ENABLE_LABEL_FIX:\n",
    "    rse = replace_padding (val_labels)\n",
    "    val_labels = rse\n",
    "\n",
    "val_dataset = Seq2SeqDataset (val_data, val_labels)\n",
    "\n",
    "val_loader = DataLoader (val_dataset, batch_size = EVAL_BATCH_SIZE)"
   ]
  },
  {
   "cell_type": "code",
   "execution_count": null,
   "id": "2e906df2",
   "metadata": {},
   "outputs": [],
   "source": [
    "val_preds, val_labels = [], []\n",
    "with torch.no_grad ():\n",
    "    for batch in tqdm (val_loader):\n",
    "        input_ids = batch ['input_ids'].to (model.device)\n",
    "        attention_mask = batch ['attention_mask'].to (model.device)\n",
    "        labels = batch ['labels'].to (model.device)\n",
    "        out = model.generate (input_ids = input_ids, attention_mask = attention_mask, max_length=SEQ_MAX_LENGTH)\n",
    "\n",
    "        val_preds.extend (out)\n",
    "        val_labels.extend (labels)\n",
    "        torch.cuda.empty_cache ()\n",
    "\n",
    "    print ('Validation augmented: ', sanity_check (val_preds, val_labels))"
   ]
  },
  {
   "cell_type": "code",
   "execution_count": null,
   "id": "87afd93c",
   "metadata": {},
   "outputs": [],
   "source": [
    "prev_model = MT5ForConditionalGeneration.from_pretrained ('./coint_rut5small_finetune_fulltrain_novalid')\n",
    "\n",
    "prev_model.to (device)\n",
    "print (prev_model.device)"
   ]
  },
  {
   "cell_type": "code",
   "execution_count": null,
   "id": "0665c270",
   "metadata": {},
   "outputs": [],
   "source": [
    "\n",
    "val_data = tokenizer (parallel_text_val, padding = 'max_length', truncation = True, max_length = 150, return_tensors = 'pt')\n",
    "val_labels = tokenizer (parallel_label_val, padding = 'max_length', truncation = True, max_length = 150, return_tensors = 'pt')\n",
    "\n",
    "if ENABLE_LABEL_FIX:\n",
    "    rse = replace_padding (val_labels)\n",
    "    val_labels = rse\n",
    "\n",
    "val_dataset = Seq2SeqDataset (val_data, val_labels)\n",
    "\n",
    "val_loader = DataLoader (val_dataset, batch_size = EVAL_BATCH_SIZE)"
   ]
  },
  {
   "cell_type": "code",
   "execution_count": null,
   "id": "69027a6b",
   "metadata": {},
   "outputs": [],
   "source": [
    "val_preds, val_labels = [], []\n",
    "with torch.no_grad ():\n",
    "    for batch in tqdm (val_loader):\n",
    "        input_ids = batch ['input_ids'].to (prev_model.device)\n",
    "        attention_mask = batch ['attention_mask'].to (prev_model.device)\n",
    "        labels = batch ['labels'].to (prev_model.device)\n",
    "        out = prev_model.generate (input_ids = input_ids, attention_mask = attention_mask, max_length=SEQ_MAX_LENGTH)\n",
    "\n",
    "        val_preds.extend (out)\n",
    "        val_labels.extend (labels)\n",
    "        torch.cuda.empty_cache ()\n",
    "\n",
    "    print ('Validation augmented: ', sanity_check (val_preds, val_labels))"
   ]
  },
  {
   "cell_type": "code",
   "execution_count": null,
   "id": "59b50d21",
   "metadata": {},
   "outputs": [],
   "source": [
    "#model.save_pretrained('./rut5small_fulltrain_novalid_dictionary_postfix')\n",
    "#tokenizer.save_pretrained('./rut5small_fulltrain_novalid_dictionary_postfix')"
   ]
  },
  {
   "cell_type": "code",
   "execution_count": null,
   "id": "d9254fa1",
   "metadata": {},
   "outputs": [],
   "source": [
    "num_epochs = 20\n",
    "training_steps = len (train_data ['input_ids']) // BATCH_SIZE * num_epochs\n",
    "warmup_steps = int (training_steps * 0.1)\n",
    "print (f'Suggested train steps: {training_steps}\\n\\t warmup steps: {int (training_steps * 0.05)} - {int (training_steps * 0.1)}')"
   ]
  },
  {
   "cell_type": "code",
   "execution_count": null,
   "id": "9b29a7db",
   "metadata": {},
   "outputs": [],
   "source": [
    "#optimizer = AdamW (model.parameters (), lr = 1e-5)#, weight_decay = 0.05)\n",
    "optimizer = AdamW (filter (lambda p: p.requires_grad, model.parameters ()), lr = 5e-5, weight_decay = 0.01)\n",
    "\n",
    "#optimizer = Adafactor (model.parameters (), lr = 3e-5, scale_parameter = False, relative_step = False, weight_decay = 0.02)\n",
    "\n",
    "#scheduler = lr_scheduler.StepLR (optimizer, warmup_steps = 637, training_steps = 6375)\n",
    "scheduler = get_scheduler ('linear', optimizer = optimizer, num_warmup_steps = warmup_steps, num_training_steps = training_steps)"
   ]
  },
  {
   "cell_type": "code",
   "execution_count": null,
   "id": "54d067aa",
   "metadata": {},
   "outputs": [],
   "source": [
    "for epoch in range (num_epochs):\n",
    "    model.train ()  # Устанавливаем модель в режим обучения\n",
    "    total_loss = 0\n",
    "    \n",
    "    for batch in tqdm (val_loader):\n",
    "        \n",
    "        input_ids = batch ['input_ids'].to (model.device)\n",
    "        attention_mask = batch ['attention_mask'].to (model.device)\n",
    "        labels = batch ['labels'].to (model.device)\n",
    "\n",
    "        outputs = model (input_ids = input_ids, attention_mask = attention_mask, labels = labels)\n",
    "        loss = outputs.loss   ## DOUBLE CHECK if padding ...\n",
    "        total_loss += loss.item ()\n",
    "\n",
    "        loss.backward ()  # Обратное распространение\n",
    "        optimizer.step ()  # Обновление параметров\n",
    "        optimizer.zero_grad ()  # Обнуляем градиенты\n",
    "\n",
    "        scheduler.step ()  # Обновление learning rate\n",
    "    \n",
    "\n",
    "    avg_loss = total_loss / len (train_loader)\n",
    "\n",
    "    metrics ['train_loss'].append ((epoch, avg_loss))\n",
    "\n",
    "    # Оценка на валидационной выборке\n",
    "    model.eval ()  # Устанавливаем модель в режим оценки\n",
    "    val_preds, val_labels = [], []\n",
    "    total_val_loss = 0\n",
    "\n",
    "    with torch.no_grad ():\n",
    "        for batch in val_loader:\n",
    "            input_ids = batch ['input_ids'].to (model.device)\n",
    "            attention_mask = batch ['attention_mask'].to (model.device)\n",
    "            labels = batch ['labels'].to (model.device)\n",
    "\n",
    "            outputs = model.generate (input_ids = input_ids, attention_mask = attention_mask)\n",
    "\n",
    "            total_val_loss += model (input_ids = input_ids, attention_mask = attention_mask, labels = labels).loss.item ()\n",
    "\n",
    "            val_preds.extend (outputs)\n",
    "            val_labels.extend (labels)\n",
    "\n",
    "    avg_val_loss = total_val_loss / len (val_loader)\n",
    "\n",
    "    prec, recl, f1sc = sanity_check (val_preds, val_labels)\n",
    "\n",
    "    metrics ['val_loss'].append ((epoch, avg_val_loss))\n",
    "    metrics ['precision'].append ((epoch, prec))\n",
    "    metrics ['recall'].append ((epoch, recl))\n",
    "    metrics ['f1_score'].append ((epoch, f1sc))\n",
    "\n",
    "    print (f'Epoch {epoch + 1} / {num_epochs}, Loss: {avg_loss:.4f}, Validation loss: {avg_val_loss:.4f}, {prec} / {recl} / {f1sc}')"
   ]
  },
  {
   "cell_type": "code",
   "execution_count": null,
   "id": "53e6340d",
   "metadata": {},
   "outputs": [],
   "source": [
    "#model.save_pretrained('./rut5small_fulltrain_plusvalid')\n",
    "#tokenizer.save_pretrained('./rut5small_fulltrain_plusvalid')"
   ]
  },
  {
   "cell_type": "code",
   "execution_count": null,
   "id": "5720725f",
   "metadata": {},
   "outputs": [],
   "source": []
  }
 ],
 "metadata": {
  "kernelspec": {
   "display_name": "Python 3",
   "language": "python",
   "name": "python3"
  },
  "language_info": {
   "codemirror_mode": {
    "name": "ipython",
    "version": 3
   },
   "file_extension": ".py",
   "mimetype": "text/x-python",
   "name": "python",
   "nbconvert_exporter": "python",
   "pygments_lexer": "ipython3",
   "version": "3.10.11"
  }
 },
 "nbformat": 4,
 "nbformat_minor": 5
}
