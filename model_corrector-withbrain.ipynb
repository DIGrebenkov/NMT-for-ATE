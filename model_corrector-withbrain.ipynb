{
 "cells": [
  {
   "cell_type": "code",
   "execution_count": 1,
   "id": "553b9a1e",
   "metadata": {},
   "outputs": [
    {
     "name": "stdout",
     "output_type": "stream",
     "text": [
      "WARNING:tensorflow:From c:\\Users\\Enfi\\AppData\\Local\\Programs\\Python\\Python310\\lib\\site-packages\\keras\\src\\losses.py:2976: The name tf.losses.sparse_softmax_cross_entropy is deprecated. Please use tf.compat.v1.losses.sparse_softmax_cross_entropy instead.\n",
      "\n"
     ]
    }
   ],
   "source": [
    "import pandas as pd\n",
    "import regex as re\n",
    "\n",
    "from sklearn.model_selection import train_test_split\n",
    "from sklearn.model_selection import KFold\n",
    "\n",
    "import ahocorasick\n",
    "\n",
    "import torch\n",
    "from transformers import T5ForConditionalGeneration, AutoTokenizer, MT5ForConditionalGeneration, get_scheduler\n",
    "from torch.utils.data import DataLoader, Dataset\n",
    "from torch.optim import AdamW\n",
    "#from fairseq.optim.adafactor import Adafactor\n",
    "\n",
    "from tqdm import tqdm\n",
    "import matplotlib.pyplot as plt\n",
    "\n",
    "from copy import deepcopy"
   ]
  },
  {
   "cell_type": "code",
   "execution_count": 2,
   "id": "f2cd2a22",
   "metadata": {},
   "outputs": [],
   "source": [
    "# CONSTANTS:\n",
    "\n",
    "SEP_TOKEN = '▁<extra_id_0>'\n",
    "INPUT_PREFIX = ''\n",
    "\n",
    "NUM_OF_SPLITS = 40\n",
    "\n",
    "ATTACHMENT_TOKEN = '▁<extra_id_1>'\n",
    "LABEL_PREFIX_TOKEN = ATTACHMENT_TOKEN\n",
    "\n",
    "USED_MODEL_NAME = 'cointegrated/rut5-small'\n",
    "\n",
    "SEQ_MAX_LENGTH = 300\n",
    "ANSWER_MAX_LENGTH = 170\n",
    "BATCH_SIZE = 4\n",
    "EVAL_BATCH_SIZE = 24\n",
    "\n",
    "ENABLE_LABEL_FIX = True\n",
    "\n",
    "LOCAL_NUM_EPOCHS = 2"
   ]
  },
  {
   "cell_type": "code",
   "execution_count": 3,
   "id": "328190fa",
   "metadata": {},
   "outputs": [
    {
     "name": "stderr",
     "output_type": "stream",
     "text": [
      "You are using the default legacy behaviour of the <class 'transformers.models.t5.tokenization_t5.T5Tokenizer'>. This is expected, and simply means that the `legacy` (previous) behavior will be used so nothing changes for you. If you want to use the new behaviour, set `legacy=False`. This should only be set if you understand what it means, and thoroughly read the reason why this was added as explained in https://github.com/huggingface/transformers/pull/24565\n",
      "c:\\Users\\Enfi\\AppData\\Local\\Programs\\Python\\Python310\\lib\\site-packages\\transformers\\convert_slow_tokenizer.py:561: UserWarning: The sentencepiece tokenizer that you are converting to a fast tokenizer uses the byte fallback option which is not implemented in the fast tokenizers. In practice this means that the fast version of the tokenizer can produce unknown tokens whereas the sentencepiece version would have converted these unknown tokens into a sequence of byte tokens matching the original piece of text.\n",
      "  warnings.warn(\n"
     ]
    },
    {
     "name": "stdout",
     "output_type": "stream",
     "text": [
      "cuda:0\n"
     ]
    }
   ],
   "source": [
    "tokenizer = AutoTokenizer.from_pretrained (USED_MODEL_NAME)\n",
    "\n",
    "device = torch.device ('cuda' if torch.cuda.is_available () else 'cpu')\n",
    "#device = torch.device ('cpu')\n",
    "\n",
    "model = MT5ForConditionalGeneration.from_pretrained (USED_MODEL_NAME)\n",
    "\n",
    "model.to (device)\n",
    "print (model.device)\n",
    "\n",
    "num_epochs = 50\n",
    "#training_steps = len (train_data ['input_ids']) // BATCH_SIZE * num_epochs\n",
    "#warmup_steps = int (training_steps * 0.1)\n",
    "#print (f'Suggested train steps: {training_steps}\\n\\t warmup steps: {int (training_steps * 0.05)} - {int (training_steps * 0.1)}')\n",
    "\n",
    "#optimizer = AdamW (model.parameters (), lr = 1e-5)#, weight_decay = 0.05)\n",
    "optimizer = AdamW (filter (lambda p: p.requires_grad, model.parameters ()), lr = 1e-4, weight_decay = 0.01)\n",
    "#optimizer = Adafactor (model.parameters (), lr = 3e-5, scale_parameter = False, relative_step = False, weight_decay = 0.02)\n",
    "#scheduler = get_scheduler ('linear', optimizer = optimizer, num_warmup_steps = warmup_steps, num_training_steps = training_steps)\n",
    "\n",
    "metrics = {'train_loss': [], 'val_loss': [], 'precision': [], 'recall': [], 'f1_score': []}"
   ]
  },
  {
   "cell_type": "code",
   "execution_count": 4,
   "id": "f6da5da0",
   "metadata": {},
   "outputs": [],
   "source": [
    "\n",
    "# FUNCTIONS:\n",
    "\n",
    "def split_text (text, segments, delimiters = ['...', '.', '?!', '?', '!']):\n",
    "\n",
    "    delimiters_pattern = '|'.join (map (re.escape, delimiters))\n",
    "    \n",
    "    paragraphs = re.split (f'(?<=\\n[ ]*)', text)\n",
    "    \n",
    "    sentences_with_segments = []\n",
    "    \n",
    "    current_start_index = 0\n",
    "\n",
    "    for paragraph in paragraphs:\n",
    "\n",
    "        sentences = re.split (f'(?<=[{delimiters_pattern}] )(?=[A-ZА-ЯЁ])', paragraph)#.strip ())\n",
    "\n",
    "        for sentence in sentences:\n",
    "\n",
    "            start_index = current_start_index\n",
    "            end_index = start_index + len (sentence)\n",
    "\n",
    "            matched_segments = [\n",
    "                text [start: end] for start, end in segments if start >= start_index and end <= end_index\n",
    "            ]\n",
    "            sentences_with_segments.append ((sentence, matched_segments))\n",
    "\n",
    "            current_start_index = end_index\n",
    "    \n",
    "    return sentences_with_segments\n",
    "\n",
    "def create_parallels (data_lst, labels_lst):\n",
    "    parallel_text = []\n",
    "    parallel_label = []\n",
    "    for i in range (len (data_lst)):\n",
    "        text = data_lst [i]\n",
    "        segments = labels_lst [i]\n",
    "        splitted = split_text (text, segments)\n",
    "        for sentence, terms in splitted:\n",
    "            parallel_text.append (INPUT_PREFIX + sentence)\n",
    "            constructed_label = LABEL_PREFIX_TOKEN\n",
    "            for term in terms:\n",
    "                constructed_label += SEP_TOKEN + term.strip ()\n",
    "            parallel_label.append (constructed_label)\n",
    "    return parallel_text, parallel_label\n",
    "\n",
    "\n",
    "def label_constructor (labels):\n",
    "    res = []\n",
    "    for label in labels:\n",
    "        one_label = []\n",
    "        for start, end, cls in label:\n",
    "            one_label.append ([start, end])\n",
    "        res.append (one_label)\n",
    "    return res\n",
    "\n",
    "\n",
    "def one_finder (text, phrases):\n",
    "\n",
    "    if len (phrases) == 1 and '' in phrases:\n",
    "        return []\n",
    "\n",
    "    A = ahocorasick.Automaton ()\n",
    "    \n",
    "    for idx, phrase in enumerate (phrases):\n",
    "        A.add_word (phrase, (idx, phrase))\n",
    "    \n",
    "    A.make_automaton ()\n",
    "    \n",
    "    found = []\n",
    "    for end_index, (idx, phrase) in A.iter (text):\n",
    "        start_index = end_index - len (phrase) + 1\n",
    "\n",
    "        if start_index > 0 and text [start_index - 1].isalpha ():\n",
    "            continue\n",
    "        if end_index + 1 < len (text) and text [end_index + 1].isalpha ():\n",
    "            continue\n",
    "\n",
    "        found.append ((start_index, end_index + 1, phrase))\n",
    "    \n",
    "    return found\n",
    "\n",
    "def make_attachment (text, dictionary_terms):\n",
    "    found = one_finder (text, dictionary_terms)\n",
    "    found_terms = [item [2] for item in found]\n",
    "    res = text + ATTACHMENT_TOKEN\n",
    "    for term in found_terms:\n",
    "        res += SEP_TOKEN + term\n",
    "    return res\n",
    "\n",
    "def attach_dictionary_foundings (texts, dictionary_terms):\n",
    "    res_texts = []\n",
    "    for text in tqdm (texts):\n",
    "        res_texts.append (make_attachment (text, dictionary_terms))\n",
    "    return res_texts\n",
    "\n",
    "def replace_padding (labels):\n",
    "    for i in range (0, len (labels ['input_ids'])):\n",
    "        labels ['input_ids'] [i] = torch.tensor ([labl if labl != 0 else - 100 for labl in labels ['input_ids'] [i]])\n",
    "\n",
    "    return labels\n",
    "\n",
    "class Seq2SeqDataset (Dataset):\n",
    "    def __init__ (self, encodings, labels):\n",
    "        self.encodings = encodings\n",
    "        self.labels = labels\n",
    "\n",
    "    def __getitem__ (self, idx):\n",
    "        return {\n",
    "            'input_ids': self.encodings ['input_ids'] [idx],\n",
    "            'attention_mask': self.encodings ['attention_mask'] [idx],\n",
    "            'labels': self.labels ['input_ids'] [idx]\n",
    "        }\n",
    "\n",
    "    def __len__ (self):\n",
    "        return len (self.encodings ['input_ids'])\n",
    "\n",
    "def get_set (tensor, ground_truth = True, tokenizer = tokenizer):\n",
    "\n",
    "    separator: str\n",
    "    if SEP_TOKEN == '▁<extra_id_0>': separator = '<extra_id_0>'\n",
    "    else: separator = SEP_TOKEN\n",
    "\n",
    "    res: set\n",
    "\n",
    "    if ground_truth:\n",
    "        eos_idx = (tensor == 1).nonzero ()\n",
    "        if eos_idx.numel () > 0:\n",
    "            eos_idx = int (eos_idx [0] [0])\n",
    "        else:\n",
    "            eos_idx = len (tensor)\n",
    "        seq = tensor [:eos_idx]\n",
    "    \n",
    "    else:\n",
    "        seq = tensor [tensor != 0]\n",
    "        seq = seq [seq != - 100]\n",
    "        seq = seq [seq != 1]\n",
    "    \n",
    "    txt = tokenizer.decode (seq)\n",
    "    res = set ([item.strip () for item in txt.split (separator)])\n",
    "\n",
    "    if len (res) > 1:\n",
    "        res -= set ([''])\n",
    "    res -= set ([LABEL_PREFIX_TOKEN [1:]])\n",
    "    if len (res) == 0: res |= set ([''])\n",
    "\n",
    "    return res\n",
    "\n",
    "\n",
    "def sanity_check (preds, labels, to_print = False):\n",
    "\n",
    "    tps_sum = 0\n",
    "    fps_sum = 0\n",
    "    fns_sum = 0 \n",
    "\n",
    "    for i in range (len (labels)):\n",
    "        predicted_set = get_set (preds [i], ground_truth = False)\n",
    "        true_set = get_set (labels [i])\n",
    "\n",
    "        if to_print: print (f'True: {true_set}\\nPred: {predicted_set}')\n",
    "\n",
    "        tps_sum += len (true_set & predicted_set)  # Истинно положительные\n",
    "        fps_sum += len (predicted_set - true_set)     # Ложноположительные\n",
    "        fns_sum += len (true_set - predicted_set)     # Ложноотрицательные\n",
    "\n",
    "    precision = tps_sum / (tps_sum + fps_sum) if (tps_sum + fps_sum) > 0 else 0\n",
    "    recall = tps_sum / (tps_sum + fns_sum) if (tps_sum + fns_sum) > 0 else 0\n",
    "    f1_score = 2 * (precision * recall) / (precision + recall) if (precision + recall) > 0 else 0\n",
    "\n",
    "    return precision, recall, f1_score"
   ]
  },
  {
   "cell_type": "code",
   "execution_count": 5,
   "id": "b417c34f",
   "metadata": {},
   "outputs": [
    {
     "name": "stdout",
     "output_type": "stream",
     "text": [
      "                                                text  \\\n",
      "0  ABBYY Retrieval & Morphology Engine\\nВ сообщен...   \n",
      "1  Речевые формулы в диалоге\\nПредложенная класси...   \n",
      "2  Географические названия и полнотекстовые докум...   \n",
      "3  Методы автоматического построения специализиро...   \n",
      "4  Закономерности построения дискурсивной последо...   \n",
      "\n",
      "                                               label  \n",
      "0  [[0, 35], [6, 15], [18, 35], [29, 35], [69, 88...  \n",
      "1  [[0, 15], [18, 25], [74, 99], [134, 140], [175...  \n",
      "2  [[0, 23], [26, 50], [54, 68], [169, 190], [181...  \n",
      "3  [[7, 63], [34, 63], [54, 63], [92, 128], [119,...  \n",
      "4  [[26, 57], [62, 76], [251, 265], [266, 280], [...  \n",
      "\n",
      "                                                text  \\\n",
      "0  АВТОМАТИЧЕСКИЙ АНАЛИЗ ТОНАЛЬНОСТИ ТЕКСТОВ НА О...   \n",
      "1  InBASE: ТЕХНОЛОГИЯ ПОСТРОЕНИЯ ЕЯ-ИНТЕРФЕЙСОВ К...   \n",
      "2  Выражение уважительности с помощью личных мест...   \n",
      "3  ДА ЧЕРТ ЛИ В ДЕТАЛЯХ?.. МЕРА ДЛЯ ОЦЕНКИ СОВПАД...   \n",
      "4  КОРПУСНАЯ ОЦЕНКА СОЧЕТАЕМОСТИ СЛОВ С ИСПОЛЬЗОВ...   \n",
      "\n",
      "                                               label  \n",
      "0  [[0, 33, specific], [22, 33, specific], [52, 7...  \n",
      "1  [[0, 6, nomen], [19, 44, specific], [30, 44, s...  \n",
      "2  [[0, 24, specific], [35, 53, specific], [42, 5...  \n",
      "3  [[51, 70, specific], [61, 70, specific], [116,...  \n",
      "4  [[0, 16, specific], [17, 34, specific], [30, 3...  \n",
      "\n",
      "Уникальных терминов во всём тренировочном наборе: 9761.\n",
      "\n"
     ]
    },
    {
     "name": "stderr",
     "output_type": "stream",
     "text": [
      "100%|██████████| 595/595 [00:07<00:00, 79.60it/s]\n",
      "100%|██████████| 695/695 [00:08<00:00, 82.44it/s]\n"
     ]
    }
   ],
   "source": [
    "df = pd.read_json ('train_t1_v1.jsonl', lines = True)\n",
    "df.drop (columns = ['id', 'keywords'], inplace = True)\n",
    "print (df.head ())\n",
    "print ()\n",
    "df_2 = pd.read_json ('./test_data/test1_t12_full_v2.jsonl', lines = True)\n",
    "df_2 = df_2 [['text', 'label']]\n",
    "print (df_2.head ())\n",
    "print ()\n",
    "\n",
    "val_data_txt, test_data_txt, val_labels_txt, test_labels_txt = train_test_split (df_2 ['text'], df_2 ['label'], test_size = 0.5, random_state = 14)\n",
    "\n",
    "train_data_lst = df ['text'].tolist ()\n",
    "train_labels_lst = df ['label'].tolist ()\n",
    "train_parallel_text, train_parallel_labels = create_parallels (train_data_lst, train_labels_lst)\n",
    "\n",
    "val_data_lst = val_data_txt.tolist ()\n",
    "val_labels_lst = label_constructor (val_labels_txt)\n",
    "val_parallel_text, val_parallel_labels = create_parallels (val_data_lst, val_labels_lst)\n",
    "\n",
    "test_data_lst = test_data_txt.tolist ()\n",
    "test_labels_lst = label_constructor (test_labels_txt)\n",
    "test_parallel_text, test_parallel_labels = create_parallels (test_data_lst, test_labels_lst)\n",
    "\n",
    "all_train_terms = set ()\n",
    "for line in train_parallel_labels:\n",
    "    all_train_terms |= set (line.split (SEP_TOKEN))\n",
    "all_train_terms -= set ([''])\n",
    "all_train_terms -= set ([LABEL_PREFIX_TOKEN])\n",
    "print (f'Уникальных терминов во всём тренировочном наборе: {len (all_train_terms)}.\\n')\n",
    "\n",
    "val_parallel_text_new = attach_dictionary_foundings (val_parallel_text, all_train_terms)\n",
    "test_parallel_text_new = attach_dictionary_foundings (test_parallel_text, all_train_terms)\n",
    "\n",
    "val_data = tokenizer (val_parallel_text_new, padding = 'max_length', truncation = True, max_length = SEQ_MAX_LENGTH, return_tensors = 'pt')\n",
    "val_labels = tokenizer (val_parallel_labels, padding = 'max_length', truncation = True, max_length = ANSWER_MAX_LENGTH, return_tensors = 'pt')\n",
    "\n",
    "test_data = tokenizer (test_parallel_text_new, padding = 'max_length', truncation = True, max_length = SEQ_MAX_LENGTH, return_tensors = 'pt')\n",
    "test_labels = tokenizer (test_parallel_labels, padding = 'max_length', truncation = True, max_length = ANSWER_MAX_LENGTH, return_tensors = 'pt')\n",
    "\n",
    "if ENABLE_LABEL_FIX:\n",
    "    \n",
    "    replaced = replace_padding (val_labels)\n",
    "    val_labels = replaced\n",
    "\n",
    "    replaced = replace_padding (test_labels)\n",
    "    test_labels = replaced\n",
    "\n",
    "val_dataset = Seq2SeqDataset (val_data, val_labels)\n",
    "test_dataset = Seq2SeqDataset (test_data, test_labels)\n",
    "\n",
    "val_loader = DataLoader (val_dataset, batch_size = EVAL_BATCH_SIZE)\n",
    "test_loader = DataLoader (test_dataset, batch_size = EVAL_BATCH_SIZE)"
   ]
  },
  {
   "cell_type": "code",
   "execution_count": null,
   "id": "76ef5943",
   "metadata": {},
   "outputs": [],
   "source": [
    "kf = KFold (n_splits = NUM_OF_SPLITS)\n",
    "\n",
    "data = df ['text']\n",
    "labels = df ['label']\n",
    "\n",
    "inc_term_set = set ([''])\n",
    "for iteration, (train_index, test_index) in enumerate (kf.split (data)):\n",
    "    X_curr = data [test_index]\n",
    "    y_curr = labels [test_index]\n",
    "\n",
    "    train_data_lst = X_curr.tolist ()\n",
    "    train_labels_lst = y_curr.tolist ()\n",
    "    parallel_text, parallel_labels = create_parallels (train_data_lst, train_labels_lst)\n",
    "\n",
    "    parallel_text_new = attach_dictionary_foundings (parallel_text, inc_term_set)\n",
    "\n",
    "    train_data = tokenizer (parallel_text_new, padding = 'max_length', truncation = True, max_length = SEQ_MAX_LENGTH, return_tensors = 'pt')\n",
    "    train_labels = tokenizer (parallel_labels, padding = 'max_length', truncation = True, max_length = ANSWER_MAX_LENGTH, return_tensors = 'pt')\n",
    "    \n",
    "    if ENABLE_LABEL_FIX:\n",
    "        replaced = replace_padding (train_labels)\n",
    "        train_labels = replaced\n",
    "\n",
    "    train_dataset = Seq2SeqDataset (train_data, train_labels)\n",
    "    train_loader = DataLoader (train_dataset, batch_size = BATCH_SIZE, shuffle = True)\n",
    "\n",
    "    for epoch in range (LOCAL_NUM_EPOCHS):\n",
    "        model.train ()  # Устанавливаем модель в режим обучения\n",
    "        total_loss = 0\n",
    "        \n",
    "        for batch in tqdm (train_loader):\n",
    "            \n",
    "            input_ids = batch ['input_ids'].to (model.device)\n",
    "            attention_mask = batch ['attention_mask'].to (model.device)\n",
    "            labels_fromdata = batch ['labels'].to (model.device)\n",
    "\n",
    "            #outputs = model (input_ids = input_ids, attention_mask = attention_mask, labels = labels_fromdata)\n",
    "            outputs = model (input_ids = input_ids, attention_mask = attention_mask, labels = labels_fromdata)\n",
    "            loss = outputs.loss   ## DOUBLE CHECK if padding ...\n",
    "            total_loss += loss.item ()\n",
    "\n",
    "            loss.backward ()  # Обратное распространение\n",
    "            optimizer.step ()  # Обновление параметров\n",
    "            optimizer.zero_grad ()  # Обнуляем градиенты\n",
    "\n",
    "            #scheduler.step ()  # Обновление learning rate\n",
    "            torch.cuda.empty_cache ()\n",
    "        \n",
    "\n",
    "        avg_loss = total_loss / len (train_loader)\n",
    "\n",
    "        metrics ['train_loss'].append ((epoch + iteration * LOCAL_NUM_EPOCHS, avg_loss))\n",
    "\n",
    "        # Оценка на валидационной выборке\n",
    "        model.eval ()  # Устанавливаем модель в режим оценки\n",
    "        val_preds, val_labels = [], []\n",
    "        total_val_loss = 0\n",
    "\n",
    "        with torch.no_grad ():\n",
    "            for batch in val_loader:\n",
    "                input_ids = batch ['input_ids'].to (model.device)\n",
    "                attention_mask = batch ['attention_mask'].to (model.device)\n",
    "                labels_fromdata = batch ['labels'].to (model.device)\n",
    "\n",
    "                #outputs = model.generate (input_ids = input_ids, attention_mask = attention_mask)\n",
    "                outputs = model (input_ids = input_ids, attention_mask = attention_mask, labels = labels_fromdata)\n",
    "\n",
    "                total_val_loss += outputs.loss.item ()\n",
    "\n",
    "                outputs = outputs.logits.argmax (dim = -1)\n",
    "\n",
    "                val_preds.extend (outputs)\n",
    "                val_labels.extend (labels_fromdata)\n",
    "                torch.cuda.empty_cache ()\n",
    "\n",
    "        avg_val_loss = total_val_loss / len (val_loader)\n",
    "\n",
    "        prec, recl, f1sc = sanity_check (val_preds, val_labels)\n",
    "\n",
    "        metrics ['val_loss'].append ((epoch + iteration * LOCAL_NUM_EPOCHS, avg_val_loss))\n",
    "        metrics ['precision'].append ((epoch + iteration * LOCAL_NUM_EPOCHS, prec))\n",
    "        metrics ['recall'].append ((epoch + iteration * LOCAL_NUM_EPOCHS, recl))\n",
    "        metrics ['f1_score'].append ((epoch + iteration * LOCAL_NUM_EPOCHS, f1sc))\n",
    "\n",
    "        print (f'Epoch {(epoch + 1) + iteration * LOCAL_NUM_EPOCHS} / {NUM_OF_SPLITS * LOCAL_NUM_EPOCHS}, Loss: {avg_loss:.4f}, Validation loss: {avg_val_loss:.4f}, {prec} / {recl} / {f1sc}')\n",
    "        \n",
    "        torch.cuda.empty_cache ()\n",
    "\n",
    "\n",
    "    for line in parallel_labels:\n",
    "        inc_term_set |= set (line.split (SEP_TOKEN))\n",
    "    inc_term_set -= set ([''])\n",
    "    inc_term_set -= set ([LABEL_PREFIX_TOKEN])\n",
    "    print (f'Уникальных терминов в {iteration + 1}-м тренировочном наборе: {len (inc_term_set)}.')"
   ]
  },
  {
   "cell_type": "markdown",
   "id": "fda402f3",
   "metadata": {},
   "source": [
    "https://colab.research.google.com/github/NielsRogge/Transformers-Tutorials/blob/master/T5/Fine_tune_CodeT5_for_generating_docstrings_from_Ruby_code.ipynb#scrollTo=wvRHDkCIS91f"
   ]
  },
  {
   "cell_type": "code",
   "execution_count": 6,
   "id": "e1c593f7",
   "metadata": {},
   "outputs": [],
   "source": [
    "view_at_loss = True\n",
    "num_passed_epochs = 0"
   ]
  },
  {
   "cell_type": "code",
   "execution_count": 7,
   "id": "257682fa",
   "metadata": {},
   "outputs": [
    {
     "name": "stderr",
     "output_type": "stream",
     "text": [
      "100%|██████████| 111/111 [00:00<?, ?it/s]\n",
      "  0%|          | 0/28 [00:00<?, ?it/s]Passing a tuple of `past_key_values` is deprecated and will be removed in Transformers v4.48.0. You should pass an instance of `EncoderDecoderCache` instead, e.g. `past_key_values=EncoderDecoderCache.from_legacy_cache(past_key_values)`.\n",
      "100%|██████████| 28/28 [00:04<00:00,  6.30it/s]\n"
     ]
    },
    {
     "name": "stdout",
     "output_type": "stream",
     "text": [
      "Epoch 1 / ---, Loss: 3.2012, Validation loss: 2.3167, 0.08636977058029689 / 0.026755852842809364 / 0.04085541015001596\n"
     ]
    },
    {
     "name": "stderr",
     "output_type": "stream",
     "text": [
      "100%|██████████| 28/28 [00:04<00:00,  6.11it/s]\n"
     ]
    },
    {
     "name": "stdout",
     "output_type": "stream",
     "text": [
      "Epoch 2 / ---, Loss: 2.1793, Validation loss: 1.9207, 0.1583011583011583 / 0.05142140468227425 / 0.07762701167560745\n"
     ]
    },
    {
     "name": "stderr",
     "output_type": "stream",
     "text": [
      "100%|██████████| 28/28 [00:04<00:00,  6.06it/s]\n"
     ]
    },
    {
     "name": "stdout",
     "output_type": "stream",
     "text": [
      "Epoch 3 / ---, Loss: 1.7530, Validation loss: 1.6728, 0.38091603053435114 / 0.20861204013377926 / 0.26958400864397625\n"
     ]
    },
    {
     "name": "stderr",
     "output_type": "stream",
     "text": [
      "100%|██████████| 28/28 [00:04<00:00,  5.92it/s]\n"
     ]
    },
    {
     "name": "stdout",
     "output_type": "stream",
     "text": [
      "Epoch 4 / ---, Loss: 1.4076, Validation loss: 1.4585, 0.4430769230769231 / 0.3010033444816054 / 0.3584764749813294\n"
     ]
    },
    {
     "name": "stderr",
     "output_type": "stream",
     "text": [
      "100%|██████████| 28/28 [00:04<00:00,  5.70it/s]\n"
     ]
    },
    {
     "name": "stdout",
     "output_type": "stream",
     "text": [
      "Epoch 5 / ---, Loss: 1.1410, Validation loss: 1.2740, 0.48306148055207027 / 0.3219063545150502 / 0.386352232814852\n"
     ]
    },
    {
     "name": "stderr",
     "output_type": "stream",
     "text": [
      "100%|██████████| 28/28 [00:05<00:00,  5.58it/s]\n"
     ]
    },
    {
     "name": "stdout",
     "output_type": "stream",
     "text": [
      "Epoch 6 / ---, Loss: 0.9302, Validation loss: 1.2439, 0.48416050686378037 / 0.3833612040133779 / 0.4279048063462436\n"
     ]
    },
    {
     "name": "stderr",
     "output_type": "stream",
     "text": [
      "100%|██████████| 28/28 [00:05<00:00,  5.29it/s]\n"
     ]
    },
    {
     "name": "stdout",
     "output_type": "stream",
     "text": [
      "Epoch 7 / ---, Loss: 0.8314, Validation loss: 1.1951, 0.4882051282051282 / 0.3979933110367893 / 0.4385076001842469\n"
     ]
    },
    {
     "name": "stderr",
     "output_type": "stream",
     "text": [
      "100%|██████████| 28/28 [00:05<00:00,  5.52it/s]\n"
     ]
    },
    {
     "name": "stdout",
     "output_type": "stream",
     "text": [
      "Epoch 8 / ---, Loss: 0.7663, Validation loss: 1.1085, 0.4742718446601942 / 0.4084448160535117 / 0.43890386343216536\n"
     ]
    },
    {
     "name": "stderr",
     "output_type": "stream",
     "text": [
      "100%|██████████| 28/28 [00:05<00:00,  5.39it/s]\n"
     ]
    },
    {
     "name": "stdout",
     "output_type": "stream",
     "text": [
      "Epoch 9 / ---, Loss: 0.6622, Validation loss: 1.1424, 0.46815434681543466 / 0.4209866220735786 / 0.44331939247193486\n",
      "Уникальных терминов в 1-м тренировочном наборе: 401.\n"
     ]
    },
    {
     "name": "stderr",
     "output_type": "stream",
     "text": [
      "100%|██████████| 130/130 [00:00<00:00, 3095.23it/s]\n",
      "100%|██████████| 33/33 [00:05<00:00,  6.48it/s]\n"
     ]
    },
    {
     "name": "stdout",
     "output_type": "stream",
     "text": [
      "Epoch 9 / ---, Loss: 1.1476, Validation loss: 0.9822, 0.4969387755102041 / 0.407190635451505 / 0.4476102941176471\n"
     ]
    },
    {
     "name": "stderr",
     "output_type": "stream",
     "text": [
      "100%|██████████| 33/33 [00:03<00:00,  8.39it/s]\n"
     ]
    },
    {
     "name": "stdout",
     "output_type": "stream",
     "text": [
      "Epoch 10 / ---, Loss: 0.8935, Validation loss: 0.9114, 0.5046439628482973 / 0.4088628762541806 / 0.45173210161662825\n"
     ]
    },
    {
     "name": "stderr",
     "output_type": "stream",
     "text": [
      "100%|██████████| 33/33 [00:03<00:00,  8.43it/s]\n"
     ]
    },
    {
     "name": "stdout",
     "output_type": "stream",
     "text": [
      "Epoch 11 / ---, Loss: 0.8086, Validation loss: 0.9429, 0.5016062413951354 / 0.4569397993311037 / 0.4782323342813389\n",
      "Уникальных терминов в 2-м тренировочном наборе: 818.\n"
     ]
    },
    {
     "name": "stderr",
     "output_type": "stream",
     "text": [
      "100%|██████████| 130/130 [00:00<00:00, 1585.37it/s]\n",
      "100%|██████████| 33/33 [00:04<00:00,  8.07it/s]\n"
     ]
    },
    {
     "name": "stdout",
     "output_type": "stream",
     "text": [
      "Epoch 11 / ---, Loss: 0.9662, Validation loss: 0.8445, 0.5143154606975534 / 0.41304347826086957 / 0.4581497797356829\n"
     ]
    },
    {
     "name": "stderr",
     "output_type": "stream",
     "text": [
      "100%|██████████| 33/33 [00:03<00:00,  8.42it/s]\n"
     ]
    },
    {
     "name": "stdout",
     "output_type": "stream",
     "text": [
      "Epoch 12 / ---, Loss: 0.8615, Validation loss: 0.8651, 0.5081218274111675 / 0.41847826086956524 / 0.45896377808344796\n",
      "Уникальных терминов в 3-м тренировочном наборе: 1173.\n"
     ]
    },
    {
     "name": "stderr",
     "output_type": "stream",
     "text": [
      "100%|██████████| 112/112 [00:00<00:00, 1027.53it/s]\n",
      "100%|██████████| 28/28 [00:03<00:00,  8.11it/s]\n"
     ]
    },
    {
     "name": "stdout",
     "output_type": "stream",
     "text": [
      "Epoch 12 / ---, Loss: 0.9262, Validation loss: 0.8311, 0.5107142857142857 / 0.41847826086956524 / 0.46001838235294124\n"
     ]
    },
    {
     "name": "stderr",
     "output_type": "stream",
     "text": [
      "100%|██████████| 28/28 [00:03<00:00,  8.89it/s]\n"
     ]
    },
    {
     "name": "stdout",
     "output_type": "stream",
     "text": [
      "Epoch 13 / ---, Loss: 0.8295, Validation loss: 0.7964, 0.5100190839694656 / 0.4469063545150502 / 0.47638146167557927\n"
     ]
    },
    {
     "name": "stderr",
     "output_type": "stream",
     "text": [
      "100%|██████████| 28/28 [00:04<00:00,  5.85it/s]\n"
     ]
    },
    {
     "name": "stdout",
     "output_type": "stream",
     "text": [
      "Epoch 14 / ---, Loss: 0.7640, Validation loss: 0.8102, 0.4965277777777778 / 0.4782608695652174 / 0.48722316865417375\n",
      "Уникальных терминов в 4-м тренировочном наборе: 1565.\n"
     ]
    },
    {
     "name": "stderr",
     "output_type": "stream",
     "text": [
      "100%|██████████| 130/130 [00:00<00:00, 673.58it/s]\n",
      "100%|██████████| 33/33 [00:06<00:00,  5.25it/s]\n"
     ]
    },
    {
     "name": "stdout",
     "output_type": "stream",
     "text": [
      "Epoch 14 / ---, Loss: 0.9228, Validation loss: 0.7349, 0.5509453781512605 / 0.43854515050167225 / 0.4883612662942272\n"
     ]
    },
    {
     "name": "stderr",
     "output_type": "stream",
     "text": [
      "100%|██████████| 33/33 [00:05<00:00,  5.96it/s]\n"
     ]
    },
    {
     "name": "stdout",
     "output_type": "stream",
     "text": [
      "Epoch 15 / ---, Loss: 0.8074, Validation loss: 0.7230, 0.5504087193460491 / 0.4222408026755853 / 0.4778802933522593\n"
     ]
    },
    {
     "name": "stderr",
     "output_type": "stream",
     "text": [
      "100%|██████████| 33/33 [00:05<00:00,  6.55it/s]\n"
     ]
    },
    {
     "name": "stdout",
     "output_type": "stream",
     "text": [
      "Epoch 16 / ---, Loss: 0.7618, Validation loss: 0.7430, 0.5611111111111111 / 0.4644648829431438 / 0.5082342177493139\n",
      "Уникальных терминов в 5-м тренировочном наборе: 1908.\n"
     ]
    },
    {
     "name": "stderr",
     "output_type": "stream",
     "text": [
      "100%|██████████| 132/132 [00:00<00:00, 281.45it/s]\n",
      "100%|██████████| 33/33 [00:05<00:00,  5.54it/s]\n"
     ]
    },
    {
     "name": "stdout",
     "output_type": "stream",
     "text": [
      "Epoch 16 / ---, Loss: 0.8689, Validation loss: 0.7025, 0.522038567493113 / 0.4753344481605351 / 0.4975929978118162\n"
     ]
    },
    {
     "name": "stderr",
     "output_type": "stream",
     "text": [
      "100%|██████████| 33/33 [00:06<00:00,  5.24it/s]\n"
     ]
    },
    {
     "name": "stdout",
     "output_type": "stream",
     "text": [
      "Epoch 17 / ---, Loss: 0.7550, Validation loss: 0.7255, 0.5212909009412819 / 0.4862040133779264 / 0.5031364914557647\n",
      "Уникальных терминов в 6-м тренировочном наборе: 2257.\n"
     ]
    },
    {
     "name": "stderr",
     "output_type": "stream",
     "text": [
      "100%|██████████| 132/132 [00:00<00:00, 260.87it/s]\n",
      "100%|██████████| 33/33 [00:05<00:00,  6.38it/s]\n"
     ]
    },
    {
     "name": "stdout",
     "output_type": "stream",
     "text": [
      "Epoch 17 / ---, Loss: 0.8711, Validation loss: 0.7213, 0.5010241704219582 / 0.5112876254180602 / 0.506103869232361\n",
      "Уникальных терминов в 7-м тренировочном наборе: 2665.\n"
     ]
    },
    {
     "name": "stderr",
     "output_type": "stream",
     "text": [
      "100%|██████████| 147/147 [00:00<00:00, 399.46it/s]\n",
      "100%|██████████| 37/37 [00:04<00:00,  8.66it/s]\n"
     ]
    },
    {
     "name": "stdout",
     "output_type": "stream",
     "text": [
      "Epoch 17 / ---, Loss: 0.8963, Validation loss: 0.6968, 0.5418768920282543 / 0.4489966555183946 / 0.4910836762688614\n"
     ]
    },
    {
     "name": "stderr",
     "output_type": "stream",
     "text": [
      "100%|██████████| 37/37 [00:04<00:00,  7.84it/s]\n"
     ]
    },
    {
     "name": "stdout",
     "output_type": "stream",
     "text": [
      "Epoch 18 / ---, Loss: 0.7776, Validation loss: 0.7263, 0.5269461077844312 / 0.5150501672240803 / 0.5209302325581395\n",
      "Уникальных терминов в 8-м тренировочном наборе: 3053.\n"
     ]
    },
    {
     "name": "stderr",
     "output_type": "stream",
     "text": [
      "100%|██████████| 146/146 [00:00<00:00, 275.47it/s]\n",
      "100%|██████████| 37/37 [00:06<00:00,  5.53it/s]\n"
     ]
    },
    {
     "name": "stdout",
     "output_type": "stream",
     "text": [
      "Epoch 18 / ---, Loss: 0.8928, Validation loss: 0.6766, 0.5376610505450942 / 0.4535953177257525 / 0.4920634920634921\n"
     ]
    },
    {
     "name": "stderr",
     "output_type": "stream",
     "text": [
      "100%|██████████| 37/37 [00:06<00:00,  5.68it/s]\n"
     ]
    },
    {
     "name": "stdout",
     "output_type": "stream",
     "text": [
      "Epoch 19 / ---, Loss: 0.7339, Validation loss: 0.6982, 0.5221080839660562 / 0.4887123745819398 / 0.5048585618656877\n",
      "Уникальных терминов в 9-м тренировочном наборе: 3397.\n"
     ]
    },
    {
     "name": "stderr",
     "output_type": "stream",
     "text": [
      "100%|██████████| 113/113 [00:00<00:00, 284.64it/s]\n",
      "100%|██████████| 29/29 [00:04<00:00,  5.90it/s]\n"
     ]
    },
    {
     "name": "stdout",
     "output_type": "stream",
     "text": [
      "Epoch 19 / ---, Loss: 0.7626, Validation loss: 0.6941, 0.5116377486246297 / 0.5054347826086957 / 0.5085173501577287\n",
      "Уникальных терминов в 10-м тренировочном наборе: 3673.\n"
     ]
    },
    {
     "name": "stderr",
     "output_type": "stream",
     "text": [
      "100%|██████████| 84/84 [00:00<00:00, 234.64it/s]\n",
      "100%|██████████| 21/21 [00:04<00:00,  5.15it/s]\n"
     ]
    },
    {
     "name": "stdout",
     "output_type": "stream",
     "text": [
      "Epoch 19 / ---, Loss: 0.8684, Validation loss: 0.6965, 0.5084979329352319 / 0.4627926421404682 / 0.48456992777413\n",
      "Уникальных терминов в 11-м тренировочном наборе: 3890.\n"
     ]
    },
    {
     "name": "stderr",
     "output_type": "stream",
     "text": [
      "100%|██████████| 91/91 [00:00<00:00, 225.81it/s]\n",
      "100%|██████████| 23/23 [00:04<00:00,  5.11it/s]\n"
     ]
    },
    {
     "name": "stdout",
     "output_type": "stream",
     "text": [
      "Epoch 19 / ---, Loss: 0.7737, Validation loss: 0.6681, 0.5204034846400734 / 0.4744983277591973 / 0.4963918652963044\n"
     ]
    },
    {
     "name": "stderr",
     "output_type": "stream",
     "text": [
      "100%|██████████| 23/23 [00:04<00:00,  5.68it/s]\n"
     ]
    },
    {
     "name": "stdout",
     "output_type": "stream",
     "text": [
      "Epoch 20 / ---, Loss: 0.7395, Validation loss: 0.6452, 0.5390173410404624 / 0.467809364548495 / 0.5008952551477172\n"
     ]
    },
    {
     "name": "stderr",
     "output_type": "stream",
     "text": [
      "100%|██████████| 23/23 [00:03<00:00,  5.93it/s]\n"
     ]
    },
    {
     "name": "stdout",
     "output_type": "stream",
     "text": [
      "Epoch 21 / ---, Loss: 0.6531, Validation loss: 0.6489, 0.543661971830986 / 0.48411371237458195 / 0.5121627598407784\n",
      "Уникальных терминов в 12-м тренировочном наборе: 4083.\n"
     ]
    },
    {
     "name": "stderr",
     "output_type": "stream",
     "text": [
      "100%|██████████| 92/92 [00:00<00:00, 111.38it/s]\n",
      "100%|██████████| 23/23 [00:04<00:00,  5.54it/s]\n"
     ]
    },
    {
     "name": "stdout",
     "output_type": "stream",
     "text": [
      "Epoch 21 / ---, Loss: 0.7365, Validation loss: 0.6500, 0.5372670807453416 / 0.5062709030100334 / 0.5213086526043909\n",
      "Уникальных терминов в 13-м тренировочном наборе: 4294.\n"
     ]
    },
    {
     "name": "stderr",
     "output_type": "stream",
     "text": [
      "100%|██████████| 102/102 [00:01<00:00, 100.39it/s]\n",
      "100%|██████████| 26/26 [00:04<00:00,  5.36it/s]\n"
     ]
    },
    {
     "name": "stdout",
     "output_type": "stream",
     "text": [
      "Epoch 21 / ---, Loss: 0.6805, Validation loss: 0.6566, 0.5624696159455518 / 0.483695652173913 / 0.5201168801977972\n",
      "Уникальных терминов в 14-м тренировочном наборе: 4536.\n"
     ]
    },
    {
     "name": "stderr",
     "output_type": "stream",
     "text": [
      "100%|██████████| 83/83 [00:00<00:00, 101.84it/s]\n",
      "100%|██████████| 21/21 [00:03<00:00,  5.42it/s]\n"
     ]
    },
    {
     "name": "stdout",
     "output_type": "stream",
     "text": [
      "Epoch 21 / ---, Loss: 0.7211, Validation loss: 0.6546, 0.5509365006852444 / 0.504180602006689 / 0.5265225933202359\n",
      "Уникальных терминов в 15-м тренировочном наборе: 4705.\n"
     ]
    },
    {
     "name": "stderr",
     "output_type": "stream",
     "text": [
      "100%|██████████| 83/83 [00:00<00:00, 106.00it/s]\n",
      "100%|██████████| 21/21 [00:03<00:00,  6.34it/s]\n"
     ]
    },
    {
     "name": "stdout",
     "output_type": "stream",
     "text": [
      "Epoch 21 / ---, Loss: 0.7751, Validation loss: 0.6427, 0.5404483430799221 / 0.463628762541806 / 0.4990999099909991\n"
     ]
    },
    {
     "name": "stderr",
     "output_type": "stream",
     "text": [
      "100%|██████████| 21/21 [00:03<00:00,  6.59it/s]\n"
     ]
    },
    {
     "name": "stdout",
     "output_type": "stream",
     "text": [
      "Epoch 22 / ---, Loss: 0.6909, Validation loss: 0.6558, 0.5323426573426573 / 0.5091973244147158 / 0.5205128205128206\n",
      "Уникальных терминов в 16-м тренировочном наборе: 4897.\n"
     ]
    },
    {
     "name": "stderr",
     "output_type": "stream",
     "text": [
      "100%|██████████| 81/81 [00:00<00:00, 84.86it/s]\n",
      "100%|██████████| 21/21 [00:03<00:00,  6.34it/s]\n"
     ]
    },
    {
     "name": "stdout",
     "output_type": "stream",
     "text": [
      "Epoch 22 / ---, Loss: 0.7079, Validation loss: 0.6638, 0.5133752950432731 / 0.5455685618729097 / 0.5289825699229835\n",
      "Уникальных терминов в 17-м тренировочном наборе: 5092.\n"
     ]
    },
    {
     "name": "stderr",
     "output_type": "stream",
     "text": [
      "100%|██████████| 83/83 [00:00<00:00, 98.57it/s] \n",
      "100%|██████████| 21/21 [00:03<00:00,  6.34it/s]\n"
     ]
    },
    {
     "name": "stdout",
     "output_type": "stream",
     "text": [
      "Epoch 22 / ---, Loss: 0.7334, Validation loss: 0.6483, 0.5385942216472618 / 0.5221571906354515 / 0.530248354914031\n",
      "Уникальных терминов в 18-м тренировочном наборе: 5318.\n"
     ]
    },
    {
     "name": "stderr",
     "output_type": "stream",
     "text": [
      "100%|██████████| 88/88 [00:00<00:00, 95.55it/s]\n",
      "100%|██████████| 22/22 [00:03<00:00,  5.94it/s]\n"
     ]
    },
    {
     "name": "stdout",
     "output_type": "stream",
     "text": [
      "Epoch 22 / ---, Loss: 0.7405, Validation loss: 0.6665, 0.5291647223518432 / 0.47408026755852845 / 0.5001102535832415\n",
      "Уникальных терминов в 19-м тренировочном наборе: 5533.\n"
     ]
    },
    {
     "name": "stderr",
     "output_type": "stream",
     "text": [
      "100%|██████████| 85/85 [00:00<00:00, 87.99it/s]\n",
      "100%|██████████| 22/22 [00:03<00:00,  6.21it/s]\n"
     ]
    },
    {
     "name": "stdout",
     "output_type": "stream",
     "text": [
      "Epoch 22 / ---, Loss: 0.7328, Validation loss: 0.6589, 0.5214861235452104 / 0.4870401337792642 / 0.5036748811067877\n",
      "Уникальных терминов в 20-м тренировочном наборе: 5723.\n"
     ]
    },
    {
     "name": "stderr",
     "output_type": "stream",
     "text": [
      "100%|██████████| 72/72 [00:00<00:00, 164.01it/s]\n",
      "100%|██████████| 18/18 [00:02<00:00,  8.39it/s]\n"
     ]
    },
    {
     "name": "stdout",
     "output_type": "stream",
     "text": [
      "Epoch 22 / ---, Loss: 0.7020, Validation loss: 0.6577, 0.5388692579505301 / 0.5100334448160535 / 0.5240549828178694\n",
      "Уникальных терминов в 21-м тренировочном наборе: 5888.\n"
     ]
    },
    {
     "name": "stderr",
     "output_type": "stream",
     "text": [
      "100%|██████████| 75/75 [00:00<00:00, 148.52it/s]\n",
      "100%|██████████| 19/19 [00:02<00:00,  8.03it/s]\n"
     ]
    },
    {
     "name": "stdout",
     "output_type": "stream",
     "text": [
      "Epoch 22 / ---, Loss: 0.7458, Validation loss: 0.6519, 0.5185648727576136 / 0.5196488294314381 / 0.5191062852370015\n",
      "Уникальных терминов в 22-м тренировочном наборе: 6069.\n"
     ]
    },
    {
     "name": "stderr",
     "output_type": "stream",
     "text": [
      "100%|██████████| 83/83 [00:00<00:00, 146.13it/s]\n",
      "100%|██████████| 21/21 [00:02<00:00,  7.97it/s]\n"
     ]
    },
    {
     "name": "stdout",
     "output_type": "stream",
     "text": [
      "Epoch 22 / ---, Loss: 0.7471, Validation loss: 0.6740, 0.5051020408163265 / 0.49665551839464883 / 0.5008431703204047\n",
      "Уникальных терминов в 23-м тренировочном наборе: 6272.\n"
     ]
    },
    {
     "name": "stderr",
     "output_type": "stream",
     "text": [
      "100%|██████████| 89/89 [00:01<00:00, 70.47it/s]\n",
      "100%|██████████| 23/23 [00:03<00:00,  6.03it/s]\n"
     ]
    },
    {
     "name": "stdout",
     "output_type": "stream",
     "text": [
      "Epoch 22 / ---, Loss: 0.7202, Validation loss: 0.6477, 0.535483870967742 / 0.48578595317725753 / 0.5094256904866287\n",
      "Уникальных терминов в 24-м тренировочном наборе: 6434.\n"
     ]
    },
    {
     "name": "stderr",
     "output_type": "stream",
     "text": [
      "100%|██████████| 78/78 [00:01<00:00, 72.97it/s]\n",
      "100%|██████████| 20/20 [00:03<00:00,  6.05it/s]\n"
     ]
    },
    {
     "name": "stdout",
     "output_type": "stream",
     "text": [
      "Epoch 22 / ---, Loss: 0.7717, Validation loss: 0.6616, 0.5191863153028201 / 0.46948160535117056 / 0.4930845225027442\n",
      "Уникальных терминов в 25-м тренировочном наборе: 6585.\n"
     ]
    },
    {
     "name": "stderr",
     "output_type": "stream",
     "text": [
      "100%|██████████| 83/83 [00:01<00:00, 71.31it/s]\n",
      "100%|██████████| 21/21 [00:03<00:00,  5.98it/s]\n"
     ]
    },
    {
     "name": "stdout",
     "output_type": "stream",
     "text": [
      "Epoch 22 / ---, Loss: 0.7997, Validation loss: 0.6590, 0.5109789569990851 / 0.4669732441471572 / 0.48798602009611186\n",
      "Уникальных терминов в 26-м тренировочном наборе: 6766.\n"
     ]
    },
    {
     "name": "stderr",
     "output_type": "stream",
     "text": [
      "100%|██████████| 84/84 [00:01<00:00, 68.52it/s]\n",
      "100%|██████████| 21/21 [00:03<00:00,  6.13it/s]\n"
     ]
    },
    {
     "name": "stdout",
     "output_type": "stream",
     "text": [
      "Epoch 22 / ---, Loss: 0.7645, Validation loss: 0.6684, 0.5252525252525253 / 0.45652173913043476 / 0.48848132408857076\n",
      "Уникальных терминов в 27-м тренировочном наборе: 6911.\n"
     ]
    },
    {
     "name": "stderr",
     "output_type": "stream",
     "text": [
      "100%|██████████| 75/75 [00:01<00:00, 68.06it/s]\n",
      "100%|██████████| 19/19 [00:03<00:00,  5.88it/s]\n"
     ]
    },
    {
     "name": "stdout",
     "output_type": "stream",
     "text": [
      "Epoch 22 / ---, Loss: 0.8774, Validation loss: 0.6626, 0.5008771929824561 / 0.4774247491638796 / 0.48886986301369867\n",
      "Уникальных терминов в 28-м тренировочном наборе: 7069.\n"
     ]
    },
    {
     "name": "stderr",
     "output_type": "stream",
     "text": [
      "100%|██████████| 74/74 [00:01<00:00, 65.78it/s]\n",
      "100%|██████████| 19/19 [00:03<00:00,  6.03it/s]\n"
     ]
    },
    {
     "name": "stdout",
     "output_type": "stream",
     "text": [
      "Epoch 22 / ---, Loss: 0.8567, Validation loss: 0.6635, 0.5451713395638629 / 0.4389632107023411 / 0.4863362667901806\n",
      "Уникальных терминов в 29-м тренировочном наборе: 7225.\n"
     ]
    },
    {
     "name": "stderr",
     "output_type": "stream",
     "text": [
      "100%|██████████| 87/87 [00:01<00:00, 65.51it/s]\n",
      "100%|██████████| 22/22 [00:03<00:00,  5.91it/s]\n"
     ]
    },
    {
     "name": "stdout",
     "output_type": "stream",
     "text": [
      "Epoch 22 / ---, Loss: 0.8316, Validation loss: 0.6488, 0.5350140056022409 / 0.4790969899665552 / 0.505513895015439\n",
      "Уникальных терминов в 30-м тренировочном наборе: 7380.\n"
     ]
    },
    {
     "name": "stderr",
     "output_type": "stream",
     "text": [
      "100%|██████████| 83/83 [00:01<00:00, 62.45it/s]\n",
      "100%|██████████| 21/21 [00:03<00:00,  6.02it/s]\n"
     ]
    },
    {
     "name": "stdout",
     "output_type": "stream",
     "text": [
      "Epoch 22 / ---, Loss: 0.7712, Validation loss: 0.6652, 0.5150984682713348 / 0.49205685618729095 / 0.5033140902287792\n",
      "Уникальных терминов в 31-м тренировочном наборе: 7538.\n"
     ]
    },
    {
     "name": "stderr",
     "output_type": "stream",
     "text": [
      "100%|██████████| 131/131 [00:02<00:00, 58.98it/s]\n",
      "100%|██████████| 33/33 [00:05<00:00,  5.98it/s]\n"
     ]
    },
    {
     "name": "stdout",
     "output_type": "stream",
     "text": [
      "Epoch 22 / ---, Loss: 0.7587, Validation loss: 0.6557, 0.5618292113859076 / 0.5033444816053512 / 0.530981256890849\n",
      "Уникальных терминов в 32-м тренировочном наборе: 7797.\n"
     ]
    },
    {
     "name": "stderr",
     "output_type": "stream",
     "text": [
      "100%|██████████| 121/121 [00:02<00:00, 59.34it/s]\n",
      "100%|██████████| 31/31 [00:05<00:00,  5.97it/s]\n"
     ]
    },
    {
     "name": "stdout",
     "output_type": "stream",
     "text": [
      "Epoch 22 / ---, Loss: 0.7426, Validation loss: 0.6439, 0.5294871794871795 / 0.5179765886287625 / 0.5236686390532544\n",
      "Уникальных терминов в 33-м тренировочном наборе: 8016.\n"
     ]
    },
    {
     "name": "stderr",
     "output_type": "stream",
     "text": [
      "100%|██████████| 131/131 [00:02<00:00, 57.61it/s]\n",
      "100%|██████████| 33/33 [00:05<00:00,  5.85it/s]\n"
     ]
    },
    {
     "name": "stdout",
     "output_type": "stream",
     "text": [
      "Epoch 22 / ---, Loss: 0.6836, Validation loss: 0.6451, 0.5500679655641142 / 0.5075250836120402 / 0.52794085670798\n",
      "Уникальных терминов в 34-м тренировочном наборе: 8228.\n"
     ]
    },
    {
     "name": "stderr",
     "output_type": "stream",
     "text": [
      "100%|██████████| 129/129 [00:01<00:00, 107.77it/s]\n",
      "100%|██████████| 33/33 [00:03<00:00,  8.31it/s]\n"
     ]
    },
    {
     "name": "stdout",
     "output_type": "stream",
     "text": [
      "Epoch 22 / ---, Loss: 0.7884, Validation loss: 0.6423, 0.6097421203438396 / 0.44481605351170567 / 0.5143824027072759\n"
     ]
    },
    {
     "name": "stderr",
     "output_type": "stream",
     "text": [
      "100%|██████████| 33/33 [00:03<00:00,  8.49it/s]\n"
     ]
    },
    {
     "name": "stdout",
     "output_type": "stream",
     "text": [
      "Epoch 23 / ---, Loss: 0.6637, Validation loss: 0.6458, 0.5663759689922481 / 0.4887123745819398 / 0.5246858168761221\n",
      "Уникальных терминов в 35-м тренировочном наборе: 8440.\n"
     ]
    },
    {
     "name": "stderr",
     "output_type": "stream",
     "text": [
      "100%|██████████| 134/134 [00:02<00:00, 54.88it/s]\n",
      "100%|██████████| 34/34 [00:05<00:00,  5.81it/s]\n"
     ]
    },
    {
     "name": "stdout",
     "output_type": "stream",
     "text": [
      "Epoch 23 / ---, Loss: 0.7321, Validation loss: 0.6532, 0.5749872902897813 / 0.47282608695652173 / 0.5189263592567102\n",
      "Уникальных терминов в 36-м тренировочном наборе: 8667.\n"
     ]
    },
    {
     "name": "stderr",
     "output_type": "stream",
     "text": [
      "100%|██████████| 141/141 [00:02<00:00, 52.39it/s]\n",
      "100%|██████████| 36/36 [00:06<00:00,  5.82it/s]\n"
     ]
    },
    {
     "name": "stdout",
     "output_type": "stream",
     "text": [
      "Epoch 23 / ---, Loss: 0.8098, Validation loss: 0.6531, 0.5452425373134329 / 0.4887123745819398 / 0.5154320987654322\n",
      "Уникальных терминов в 37-м тренировочном наборе: 8963.\n"
     ]
    },
    {
     "name": "stderr",
     "output_type": "stream",
     "text": [
      "100%|██████████| 122/122 [00:02<00:00, 50.39it/s]\n",
      "100%|██████████| 31/31 [00:05<00:00,  5.93it/s]\n"
     ]
    },
    {
     "name": "stdout",
     "output_type": "stream",
     "text": [
      "Epoch 23 / ---, Loss: 0.7869, Validation loss: 0.6408, 0.532850022655188 / 0.4916387959866221 / 0.5114155251141552\n"
     ]
    },
    {
     "name": "stderr",
     "output_type": "stream",
     "text": [
      "100%|██████████| 31/31 [00:05<00:00,  6.15it/s]\n"
     ]
    },
    {
     "name": "stdout",
     "output_type": "stream",
     "text": [
      "Epoch 24 / ---, Loss: 0.6652, Validation loss: 0.6751, 0.5461993627674101 / 0.5016722408026756 / 0.5229897581172368\n",
      "Уникальных терминов в 38-м тренировочном наборе: 9224.\n"
     ]
    },
    {
     "name": "stderr",
     "output_type": "stream",
     "text": [
      "100%|██████████| 132/132 [00:02<00:00, 48.55it/s]\n",
      "100%|██████████| 33/33 [00:05<00:00,  6.05it/s]\n"
     ]
    },
    {
     "name": "stdout",
     "output_type": "stream",
     "text": [
      "Epoch 24 / ---, Loss: 0.7592, Validation loss: 0.6280, 0.5572207084468664 / 0.5129598662207357 / 0.5341750108837615\n"
     ]
    },
    {
     "name": "stderr",
     "output_type": "stream",
     "text": [
      "100%|██████████| 33/33 [00:05<00:00,  6.19it/s]\n"
     ]
    },
    {
     "name": "stdout",
     "output_type": "stream",
     "text": [
      "Epoch 25 / ---, Loss: 0.6647, Validation loss: 0.6276, 0.5729020159399906 / 0.5108695652173914 / 0.5401104972375691\n"
     ]
    },
    {
     "name": "stderr",
     "output_type": "stream",
     "text": [
      "100%|██████████| 33/33 [00:05<00:00,  6.35it/s]\n"
     ]
    },
    {
     "name": "stdout",
     "output_type": "stream",
     "text": [
      "Epoch 26 / ---, Loss: 0.6178, Validation loss: 0.6418, 0.5733151183970856 / 0.5263377926421404 / 0.548823016564952\n",
      "Уникальных терминов в 39-м тренировочном наборе: 9516.\n"
     ]
    },
    {
     "name": "stderr",
     "output_type": "stream",
     "text": [
      "100%|██████████| 105/105 [00:02<00:00, 47.04it/s]\n",
      "100%|██████████| 27/27 [00:04<00:00,  5.89it/s]\n"
     ]
    },
    {
     "name": "stdout",
     "output_type": "stream",
     "text": [
      "Epoch 26 / ---, Loss: 0.7181, Validation loss: 0.6402, 0.5478723404255319 / 0.5167224080267558 / 0.53184165232358\n",
      "Уникальных терминов в 40-м тренировочном наборе: 9761.\n"
     ]
    }
   ],
   "source": [
    "kf = KFold (n_splits = NUM_OF_SPLITS)\n",
    "\n",
    "data = df ['text']\n",
    "labels = df ['label']\n",
    "\n",
    "inc_term_set = set ([''])\n",
    "\n",
    "#prev_f1_score = 0\n",
    "prev_metric = 1000000 if view_at_loss else 0\n",
    "for iteration, (train_index, test_index) in enumerate (kf.split (data)):\n",
    "    X_curr = data [test_index]\n",
    "    y_curr = labels [test_index]\n",
    "\n",
    "    train_data_lst = X_curr.tolist ()\n",
    "    train_labels_lst = y_curr.tolist ()\n",
    "    parallel_text, parallel_labels = create_parallels (train_data_lst, train_labels_lst)\n",
    "\n",
    "    parallel_text_new = attach_dictionary_foundings (parallel_text, inc_term_set)\n",
    "\n",
    "    train_data = tokenizer (parallel_text_new, padding = 'max_length', truncation = True, max_length = SEQ_MAX_LENGTH, return_tensors = 'pt')\n",
    "    train_labels = tokenizer (parallel_labels, padding = 'max_length', truncation = True, max_length = ANSWER_MAX_LENGTH, return_tensors = 'pt')\n",
    "    \n",
    "    if ENABLE_LABEL_FIX:\n",
    "        replaced = replace_padding (train_labels)\n",
    "        train_labels = replaced\n",
    "\n",
    "    train_dataset = Seq2SeqDataset (train_data, train_labels)\n",
    "    train_loader = DataLoader (train_dataset, batch_size = BATCH_SIZE, shuffle = True)\n",
    "    \n",
    "    prev_model = deepcopy (model.state_dict ())\n",
    "    prev_optimizer = deepcopy (optimizer.state_dict ())\n",
    "    epoch = 0\n",
    "    #for epoch in range (LOCAL_NUM_EPOCHS):\n",
    "    while True:\n",
    "\n",
    "        model.train ()  # Устанавливаем модель в режим обучения\n",
    "        total_loss = 0\n",
    "        \n",
    "        for batch in tqdm (train_loader):\n",
    "            \n",
    "            input_ids = batch ['input_ids'].to (model.device)\n",
    "            attention_mask = batch ['attention_mask'].to (model.device)\n",
    "            labels_fromdata = batch ['labels'].to (model.device)\n",
    "\n",
    "            #outputs = model (input_ids = input_ids, attention_mask = attention_mask, labels = labels_fromdata)\n",
    "            outputs = model (input_ids = input_ids, attention_mask = attention_mask, labels = labels_fromdata)\n",
    "            loss = outputs.loss   ## DOUBLE CHECK if padding ...\n",
    "            total_loss += loss.item ()\n",
    "\n",
    "            loss.backward ()  # Обратное распространение\n",
    "            optimizer.step ()  # Обновление параметров\n",
    "            optimizer.zero_grad ()  # Обнуляем градиенты\n",
    "\n",
    "            #scheduler.step ()  # Обновление learning rate\n",
    "            torch.cuda.empty_cache ()\n",
    "        \n",
    "\n",
    "        avg_loss = total_loss / len (train_loader)\n",
    "\n",
    "        \n",
    "\n",
    "        # Оценка на валидационной выборке\n",
    "        model.eval ()  # Устанавливаем модель в режим оценки\n",
    "        val_preds, val_labels = [], []\n",
    "        total_val_loss = 0\n",
    "\n",
    "        with torch.no_grad ():\n",
    "            for batch in val_loader:\n",
    "                input_ids = batch ['input_ids'].to (model.device)\n",
    "                attention_mask = batch ['attention_mask'].to (model.device)\n",
    "                labels_fromdata = batch ['labels'].to (model.device)\n",
    "\n",
    "                outputs = model.generate (input_ids = input_ids, attention_mask = attention_mask, max_length=SEQ_MAX_LENGTH)\n",
    "\n",
    "                total_val_loss += model (input_ids = input_ids, attention_mask = attention_mask, labels = labels_fromdata).loss.item ()\n",
    "\n",
    "                val_preds.extend (outputs)\n",
    "                val_labels.extend (labels_fromdata)\n",
    "                torch.cuda.empty_cache ()\n",
    "\n",
    "        avg_val_loss = total_val_loss / len (val_loader)\n",
    "\n",
    "        prec, recl, f1sc = sanity_check (val_preds, val_labels)\n",
    "\n",
    "        print (f'Epoch {(epoch + 1) + num_passed_epochs} / ---, Loss: {avg_loss:.4f}, Validation loss: {avg_val_loss:.4f}, {prec} / {recl} / {f1sc}')\n",
    "        \n",
    "        torch.cuda.empty_cache ()\n",
    "\n",
    "        ### WHAT\n",
    "        if (view_at_loss and prev_metric < avg_val_loss) or (not view_at_loss and prev_metric > f1sc):\n",
    "            model.load_state_dict (prev_model)\n",
    "            optimizer.load_state_dict (prev_optimizer)\n",
    "            num_passed_epochs += epoch\n",
    "            break\n",
    "        epoch += 1\n",
    "        prev_metric = avg_val_loss if view_at_loss else f1sc\n",
    "        prev_model = deepcopy (model.state_dict ())\n",
    "        prev_optimizer = deepcopy (optimizer.state_dict ())\n",
    "\n",
    "        metrics ['train_loss'].append ((epoch + num_passed_epochs, avg_loss))\n",
    "        metrics ['val_loss'].append ((epoch + num_passed_epochs, avg_val_loss))\n",
    "        metrics ['precision'].append ((epoch + num_passed_epochs, prec))\n",
    "        metrics ['recall'].append ((epoch + num_passed_epochs, recl))\n",
    "        metrics ['f1_score'].append ((epoch + num_passed_epochs, f1sc))\n",
    "        \n",
    "\n",
    "    for line in parallel_labels:\n",
    "        inc_term_set |= set (line.split (SEP_TOKEN))\n",
    "    inc_term_set -= set ([''])\n",
    "    inc_term_set -= set ([LABEL_PREFIX_TOKEN])\n",
    "    print (f'Уникальных терминов в {iteration + 1}-м тренировочном наборе: {len (inc_term_set)}.')"
   ]
  },
  {
   "cell_type": "code",
   "execution_count": 8,
   "id": "a1cb38fc",
   "metadata": {},
   "outputs": [
    {
     "name": "stdout",
     "output_type": "stream",
     "text": [
      "{'train_loss': [(1, 3.2012209721973965), (2, 2.179275857550757), (3, 1.75304810489927), (4, 1.407612191779273), (5, 1.1410371852772576), (6, 0.930192191685949), (7, 0.8313952109643391), (8, 0.7662809725318637), (9, 1.1475937601291772), (10, 0.8935413830208055), (11, 0.9661878166776715), (12, 0.9262280698333468), (13, 0.8294541537761688), (14, 0.9228278813940106), (15, 0.8074090607238539), (16, 0.868854306864016), (17, 0.8962995313309334), (18, 0.8928210187602688), (19, 0.773685995651328), (20, 0.7395254127357317), (21, 0.7750902672608694), (22, 0.7883725821068792), (23, 0.7868669542574114), (24, 0.7592049511996183), (25, 0.6646691470435171)], 'val_loss': [(1, 2.316710910797119), (2, 1.9207111644744872), (3, 1.6727918815612792), (4, 1.458523259162903), (5, 1.2739595794677734), (6, 1.2438742399215699), (7, 1.1950511121749878), (8, 1.1084503626823425), (9, 0.9821990132331848), (10, 0.9113737154006958), (11, 0.8445185613632202), (12, 0.8311401867866516), (13, 0.7963870334625244), (14, 0.734856573343277), (15, 0.7230120086669922), (16, 0.7025136530399323), (17, 0.696840912103653), (18, 0.6765727782249451), (19, 0.668070855140686), (20, 0.6451963925361633), (21, 0.6427462530136109), (22, 0.642319495677948), (23, 0.6407657861709595), (24, 0.6280314135551452), (25, 0.6275770604610443)], 'precision': [(1, 0.08636977058029689), (2, 0.1583011583011583), (3, 0.38091603053435114), (4, 0.4430769230769231), (5, 0.48306148055207027), (6, 0.48416050686378037), (7, 0.4882051282051282), (8, 0.4742718446601942), (9, 0.4969387755102041), (10, 0.5046439628482973), (11, 0.5143154606975534), (12, 0.5107142857142857), (13, 0.5100190839694656), (14, 0.5509453781512605), (15, 0.5504087193460491), (16, 0.522038567493113), (17, 0.5418768920282543), (18, 0.5376610505450942), (19, 0.5204034846400734), (20, 0.5390173410404624), (21, 0.5404483430799221), (22, 0.6097421203438396), (23, 0.532850022655188), (24, 0.5572207084468664), (25, 0.5729020159399906)], 'recall': [(1, 0.026755852842809364), (2, 0.05142140468227425), (3, 0.20861204013377926), (4, 0.3010033444816054), (5, 0.3219063545150502), (6, 0.3833612040133779), (7, 0.3979933110367893), (8, 0.4084448160535117), (9, 0.407190635451505), (10, 0.4088628762541806), (11, 0.41304347826086957), (12, 0.41847826086956524), (13, 0.4469063545150502), (14, 0.43854515050167225), (15, 0.4222408026755853), (16, 0.4753344481605351), (17, 0.4489966555183946), (18, 0.4535953177257525), (19, 0.4744983277591973), (20, 0.467809364548495), (21, 0.463628762541806), (22, 0.44481605351170567), (23, 0.4916387959866221), (24, 0.5129598662207357), (25, 0.5108695652173914)], 'f1_score': [(1, 0.04085541015001596), (2, 0.07762701167560745), (3, 0.26958400864397625), (4, 0.3584764749813294), (5, 0.386352232814852), (6, 0.4279048063462436), (7, 0.4385076001842469), (8, 0.43890386343216536), (9, 0.4476102941176471), (10, 0.45173210161662825), (11, 0.4581497797356829), (12, 0.46001838235294124), (13, 0.47638146167557927), (14, 0.4883612662942272), (15, 0.4778802933522593), (16, 0.4975929978118162), (17, 0.4910836762688614), (18, 0.4920634920634921), (19, 0.4963918652963044), (20, 0.5008952551477172), (21, 0.4990999099909991), (22, 0.5143824027072759), (23, 0.5114155251141552), (24, 0.5341750108837615), (25, 0.5401104972375691)]}\n"
     ]
    }
   ],
   "source": [
    "print (metrics)"
   ]
  },
  {
   "cell_type": "code",
   "execution_count": 9,
   "id": "911466b0",
   "metadata": {},
   "outputs": [
    {
     "data": {
      "image/png": "[encoded data removed]",
      "text/plain": [
       "<Figure size 1000x400 with 1 Axes>"
      ]
     },
     "metadata": {},
     "output_type": "display_data"
    },
    {
     "data": {
      "image/png": "[encoded data removed]",
      "text/plain": [
       "<Figure size 1000x400 with 1 Axes>"
      ]
     },
     "metadata": {},
     "output_type": "display_data"
    },
    {
     "data": {
      "image/png": "[encoded data removed]",
      "text/plain": [
       "<Figure size 1000x400 with 1 Axes>"
      ]
     },
     "metadata": {},
     "output_type": "display_data"
    },
    {
     "data": {
      "image/png": "[encoded data removed]",
      "text/plain": [
       "<Figure size 1000x400 with 1 Axes>"
      ]
     },
     "metadata": {},
     "output_type": "display_data"
    },
    {
     "data": {
      "image/png": "[encoded data removed]",
      "text/plain": [
       "<Figure size 1000x400 with 1 Axes>"
      ]
     },
     "metadata": {},
     "output_type": "display_data"
    }
   ],
   "source": [
    "for i, (name, history) in enumerate (sorted (metrics.items ())):\n",
    "    #plt.plot (1, len (metrics), i + 1)\n",
    "    plt.figure (figsize = (10, 4))\n",
    "    plt.title (name)\n",
    "    plt.plot (*zip (*history))\n",
    "    plt.grid ()\n",
    "    plt.show ()"
   ]
  },
  {
   "cell_type": "code",
   "execution_count": 10,
   "id": "fb5f9be2",
   "metadata": {},
   "outputs": [
    {
     "name": "stderr",
     "output_type": "stream",
     "text": [
      "100%|██████████| 25/25 [00:11<00:00,  2.23it/s]\n"
     ]
    },
    {
     "name": "stdout",
     "output_type": "stream",
     "text": [
      "Validation:  (0.5140664961636828, 0.33612040133779264, 0.40647118301314455)\n"
     ]
    },
    {
     "name": "stderr",
     "output_type": "stream",
     "text": [
      "100%|██████████| 29/29 [00:12<00:00,  2.32it/s]\n"
     ]
    },
    {
     "name": "stdout",
     "output_type": "stream",
     "text": [
      "Test:  (0.5286908077994429, 0.3615238095238095, 0.4294117647058824)\n"
     ]
    }
   ],
   "source": [
    "\n",
    "\n",
    "model.eval ()  # Устанавливаем модель в режим оценки\n",
    "val_preds, val_labels_fromdata = [], []\n",
    "\n",
    "with torch.no_grad ():\n",
    "    for batch in tqdm (val_loader):\n",
    "        input_ids = batch ['input_ids'].to (model.device)\n",
    "        attention_mask = batch ['attention_mask'].to (model.device)\n",
    "        labels = batch ['labels'].to (model.device)\n",
    "        out = model.generate (input_ids = input_ids, attention_mask = attention_mask)\n",
    "\n",
    "        val_preds.extend (out)\n",
    "        val_labels_fromdata.extend (labels)\n",
    "        torch.cuda.empty_cache ()\n",
    "\n",
    "    print ('Validation: ', sanity_check (val_preds, val_labels_fromdata))\n",
    "\n",
    "\n",
    "val_preds, val_labels_fromdata = [], []\n",
    "\n",
    "with torch.no_grad ():\n",
    "    for batch in tqdm (test_loader):\n",
    "        input_ids = batch ['input_ids'].to (model.device)\n",
    "        attention_mask = batch ['attention_mask'].to (model.device)\n",
    "        labels = batch ['labels'].to (model.device)\n",
    "        out = model.generate (input_ids = input_ids, attention_mask = attention_mask)\n",
    "\n",
    "        val_preds.extend (out)\n",
    "        val_labels_fromdata.extend (labels)\n",
    "        torch.cuda.empty_cache ()\n",
    "\n",
    "    print ('Test: ', sanity_check (val_preds, val_labels_fromdata))\n"
   ]
  },
  {
   "cell_type": "code",
   "execution_count": 11,
   "id": "c245fb7a",
   "metadata": {},
   "outputs": [
    {
     "name": "stderr",
     "output_type": "stream",
     "text": [
      "100%|██████████| 25/25 [01:12<00:00,  2.88s/it]\n"
     ]
    },
    {
     "name": "stdout",
     "output_type": "stream",
     "text": [
      "Validation wmax:  (0.5729020159399906, 0.5108695652173914, 0.5401104972375691)\n"
     ]
    },
    {
     "name": "stderr",
     "output_type": "stream",
     "text": [
      "100%|██████████| 29/29 [01:00<00:00,  2.10s/it]\n"
     ]
    },
    {
     "name": "stdout",
     "output_type": "stream",
     "text": [
      "Test wmax:  (0.5843828715365239, 0.5302857142857142, 0.5560215698022768)\n"
     ]
    }
   ],
   "source": [
    "\n",
    "val_preds, val_labels_fromdata = [], []\n",
    "with torch.no_grad ():\n",
    "    for batch in tqdm (val_loader):\n",
    "        input_ids = batch ['input_ids'].to (model.device)\n",
    "        attention_mask = batch ['attention_mask'].to (model.device)\n",
    "        labels = batch ['labels'].to (model.device)\n",
    "        out = model.generate (input_ids = input_ids, attention_mask = attention_mask, max_length=SEQ_MAX_LENGTH)\n",
    "\n",
    "        val_preds.extend (out)\n",
    "        val_labels_fromdata.extend (labels)\n",
    "        torch.cuda.empty_cache ()\n",
    "\n",
    "    print ('Validation wmax: ', sanity_check (val_preds, val_labels_fromdata))\n",
    "\n",
    "val_preds, val_labels_fromdata = [], []\n",
    "with torch.no_grad ():\n",
    "    for batch in tqdm (test_loader):\n",
    "        input_ids = batch ['input_ids'].to (model.device)\n",
    "        attention_mask = batch ['attention_mask'].to (model.device)\n",
    "        labels = batch ['labels'].to (model.device)\n",
    "        out = model.generate (input_ids = input_ids, attention_mask = attention_mask, max_length=SEQ_MAX_LENGTH)\n",
    "\n",
    "        val_preds.extend (out)\n",
    "        val_labels_fromdata.extend (labels)\n",
    "        torch.cuda.empty_cache ()\n",
    "\n",
    "    print ('Test wmax: ', sanity_check (val_preds, val_labels_fromdata))\n"
   ]
  },
  {
   "cell_type": "code",
   "execution_count": 12,
   "id": "5df71c63",
   "metadata": {},
   "outputs": [],
   "source": [
    "#model.save_pretrained ('./rut5base_fulltrain_novalid_dictionary_postfix')\n",
    "#tokenizer.save_pretrained ('./rut5base_fulltrain_novalid_dictionary_postfix')"
   ]
  },
  {
   "cell_type": "code",
   "execution_count": 13,
   "id": "94aff113",
   "metadata": {},
   "outputs": [
    {
     "data": {
      "text/plain": [
       "'\\n\\nValidation wmax:  (0.6070240295748613, 0.6864548494983278, 0.6443005689621345)\\nTest wmax:  (0.6368438428524266, 0.7348571428571429, 0.6823487796250443)\\n\\n'"
      ]
     },
     "execution_count": 13,
     "metadata": {},
     "output_type": "execute_result"
    }
   ],
   "source": [
    "'''\n",
    "\n",
    "Validation wmax:  (0.6070240295748613, 0.6864548494983278, 0.6443005689621345)\n",
    "Test wmax:  (0.6368438428524266, 0.7348571428571429, 0.6823487796250443)\n",
    "\n",
    "'''"
   ]
  },
  {
   "cell_type": "code",
   "execution_count": 14,
   "id": "1cc32468",
   "metadata": {},
   "outputs": [
    {
     "name": "stdout",
     "output_type": "stream",
     "text": [
      "Такие сети отображаются на XML-файлы, которые служат для организации Баз Знаний, соответствующих семантических поисков, для решения логико-аналитических задач, а также для автоматического заполнения реляционных БД.\n"
     ]
    },
    {
     "data": {
      "text/plain": [
       "{'базовой 3-граммной моделью',\n",
       " 'интерполированных',\n",
       " 'моделей',\n",
       " 'моделью',\n",
       " 'распознавания',\n",
       " 'речи',\n",
       " 'слитной русской речи',\n",
       " 'словарем',\n",
       " 'факторных моделей',\n",
       " 'языка'}"
      ]
     },
     "execution_count": 14,
     "metadata": {},
     "output_type": "execute_result"
    }
   ],
   "source": [
    "print (val_parallel_text [6])\n",
    "predicted_set = get_set (val_preds [6], ground_truth = False)\n",
    "predicted_set"
   ]
  },
  {
   "cell_type": "code",
   "execution_count": 15,
   "id": "1d0d9daf",
   "metadata": {},
   "outputs": [],
   "source": [
    "#model.save_pretrained('./rut5small_fulltrain_dictpostfix_avg7209-7591')\n",
    "#tokenizer.save_pretrained('./rut5small_fulltrain_dictpostfix_avg7209-7591')"
   ]
  },
  {
   "cell_type": "code",
   "execution_count": 16,
   "id": "ac0cc6c4",
   "metadata": {},
   "outputs": [
    {
     "ename": "SyntaxError",
     "evalue": "Missing parentheses in call to 'print'. Did you mean print(...)? (1206750932.py, line 1)",
     "output_type": "error",
     "traceback": [
      "\u001b[1;36m  Cell \u001b[1;32mIn[16], line 1\u001b[1;36m\u001b[0m\n\u001b[1;33m    print 5\u001b[0m\n\u001b[1;37m    ^\u001b[0m\n\u001b[1;31mSyntaxError\u001b[0m\u001b[1;31m:\u001b[0m Missing parentheses in call to 'print'. Did you mean print(...)?\n"
     ]
    }
   ],
   "source": [
    "print 5"
   ]
  },
  {
   "cell_type": "code",
   "execution_count": null,
   "id": "2bddd745",
   "metadata": {},
   "outputs": [],
   "source": [
    "model = MT5ForConditionalGeneration.from_pretrained ('./coint_rut5small_finetune_fulltrain_novalid')\n",
    "\n",
    "model.to (device)\n",
    "print (model.device)"
   ]
  },
  {
   "cell_type": "code",
   "execution_count": null,
   "id": "831aa035",
   "metadata": {},
   "outputs": [],
   "source": [
    "val_preds, val_labels = [], []\n",
    "with torch.no_grad ():\n",
    "    for batch in tqdm (val_loader):\n",
    "        input_ids = batch ['input_ids'].to (model.device)\n",
    "        attention_mask = batch ['attention_mask'].to (model.device)\n",
    "        labels = batch ['labels'].to (model.device)\n",
    "        out = model.generate (input_ids = input_ids, attention_mask = attention_mask, max_length=SEQ_MAX_LENGTH)\n",
    "\n",
    "        val_preds.extend (out)\n",
    "        val_labels.extend (labels)\n",
    "        torch.cuda.empty_cache ()\n",
    "\n",
    "    print ('Validation augmented: ', sanity_check (val_preds, val_labels))"
   ]
  },
  {
   "cell_type": "code",
   "execution_count": null,
   "id": "33f2447e",
   "metadata": {},
   "outputs": [],
   "source": [
    "\n",
    "parallel_text_val_augmented = []\n",
    "for i in range (len (val_preds)):\n",
    "    predicted_set = get_set (val_preds [i], ground_truth = False)\n",
    "    parallel_text_val_augmented.append (make_attachment (val_parallel_text [i], predicted_set))\n",
    "\n",
    "val_data = tokenizer (parallel_text_val_augmented, padding = 'max_length', truncation = True, max_length = SEQ_MAX_LENGTH, return_tensors = 'pt')\n",
    "val_labels = tokenizer (val_parallel_labels, padding = 'max_length', truncation = True, max_length = ANSWER_MAX_LENGTH, return_tensors = 'pt')\n",
    "\n",
    "if ENABLE_LABEL_FIX:\n",
    "    rse = replace_padding (val_labels)\n",
    "    val_labels = rse\n",
    "\n",
    "val_dataset = Seq2SeqDataset (val_data, val_labels)\n",
    "\n",
    "val_loader = DataLoader (val_dataset, batch_size = EVAL_BATCH_SIZE)"
   ]
  },
  {
   "cell_type": "code",
   "execution_count": null,
   "id": "87afd93c",
   "metadata": {},
   "outputs": [],
   "source": [
    "prev_model = MT5ForConditionalGeneration.from_pretrained ('./coint_rut5small_finetune_fulltrain_novalid')\n",
    "\n",
    "prev_model.to (device)\n",
    "print (prev_model.device)"
   ]
  },
  {
   "cell_type": "code",
   "execution_count": null,
   "id": "0665c270",
   "metadata": {},
   "outputs": [],
   "source": [
    "\n",
    "val_data = tokenizer (parallel_text_val, padding = 'max_length', truncation = True, max_length = 150, return_tensors = 'pt')\n",
    "val_labels = tokenizer (parallel_label_val, padding = 'max_length', truncation = True, max_length = 150, return_tensors = 'pt')\n",
    "\n",
    "if ENABLE_LABEL_FIX:\n",
    "    rse = replace_padding (val_labels)\n",
    "    val_labels = rse\n",
    "\n",
    "val_dataset = Seq2SeqDataset (val_data, val_labels)\n",
    "\n",
    "val_loader = DataLoader (val_dataset, batch_size = EVAL_BATCH_SIZE)"
   ]
  },
  {
   "cell_type": "code",
   "execution_count": null,
   "id": "69027a6b",
   "metadata": {},
   "outputs": [],
   "source": [
    "val_preds, val_labels = [], []\n",
    "with torch.no_grad ():\n",
    "    for batch in tqdm (val_loader):\n",
    "        input_ids = batch ['input_ids'].to (prev_model.device)\n",
    "        attention_mask = batch ['attention_mask'].to (prev_model.device)\n",
    "        labels = batch ['labels'].to (prev_model.device)\n",
    "        out = prev_model.generate (input_ids = input_ids, attention_mask = attention_mask, max_length=SEQ_MAX_LENGTH)\n",
    "\n",
    "        val_preds.extend (out)\n",
    "        val_labels.extend (labels)\n",
    "        torch.cuda.empty_cache ()\n",
    "\n",
    "    print ('Validation augmented: ', sanity_check (val_preds, val_labels))"
   ]
  },
  {
   "cell_type": "code",
   "execution_count": null,
   "id": "59b50d21",
   "metadata": {},
   "outputs": [],
   "source": [
    "#model.save_pretrained('./rut5small_fulltrain_novalid_dictionary_postfix')\n",
    "#tokenizer.save_pretrained('./rut5small_fulltrain_novalid_dictionary_postfix')"
   ]
  },
  {
   "cell_type": "code",
   "execution_count": null,
   "id": "5720725f",
   "metadata": {},
   "outputs": [],
   "source": []
  }
 ],
 "metadata": {
  "kernelspec": {
   "display_name": "Python 3",
   "language": "python",
   "name": "python3"
  },
  "language_info": {
   "codemirror_mode": {
    "name": "ipython",
    "version": 3
   },
   "file_extension": ".py",
   "mimetype": "text/x-python",
   "name": "python",
   "nbconvert_exporter": "python",
   "pygments_lexer": "ipython3",
   "version": "3.10.11"
  }
 },
 "nbformat": 4,
 "nbformat_minor": 5
}
