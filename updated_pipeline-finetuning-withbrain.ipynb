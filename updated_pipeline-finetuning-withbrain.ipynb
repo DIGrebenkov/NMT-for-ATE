{
 "cells": [
  {
   "cell_type": "code",
   "execution_count": 1,
   "id": "553b9a1e",
   "metadata": {},
   "outputs": [
    {
     "name": "stdout",
     "output_type": "stream",
     "text": [
      "WARNING:tensorflow:From c:\\Users\\Enfi\\AppData\\Local\\Programs\\Python\\Python310\\lib\\site-packages\\keras\\src\\losses.py:2976: The name tf.losses.sparse_softmax_cross_entropy is deprecated. Please use tf.compat.v1.losses.sparse_softmax_cross_entropy instead.\n",
      "\n"
     ]
    }
   ],
   "source": [
    "import pandas as pd\n",
    "import regex as re\n",
    "\n",
    "from sklearn.model_selection import train_test_split\n",
    "\n",
    "import ahocorasick\n",
    "\n",
    "import torch\n",
    "from transformers import T5Tokenizer, T5ForConditionalGeneration, AutoTokenizer, MT5ForConditionalGeneration, get_scheduler\n",
    "from torch.utils.data import DataLoader, Dataset\n",
    "from torch.optim import AdamW, lr_scheduler\n",
    "\n",
    "from tqdm import tqdm\n",
    "import matplotlib.pyplot as plt"
   ]
  },
  {
   "cell_type": "code",
   "execution_count": 2,
   "id": "f2cd2a22",
   "metadata": {},
   "outputs": [],
   "source": [
    "SEP_TOKEN = '▁<extra_id_0>'\n",
    "INPUT_PREFIX = ''"
   ]
  },
  {
   "cell_type": "code",
   "execution_count": 3,
   "id": "b417c34f",
   "metadata": {},
   "outputs": [
    {
     "name": "stdout",
     "output_type": "stream",
     "text": [
      "                                                text  \\\n",
      "0  ABBYY Retrieval & Morphology Engine\\nВ сообщен...   \n",
      "1  Речевые формулы в диалоге\\nПредложенная класси...   \n",
      "2  Географические названия и полнотекстовые докум...   \n",
      "3  Методы автоматического построения специализиро...   \n",
      "4  Закономерности построения дискурсивной последо...   \n",
      "\n",
      "                                               label  \n",
      "0  [[0, 35], [6, 15], [18, 35], [29, 35], [69, 88...  \n",
      "1  [[0, 15], [18, 25], [74, 99], [134, 140], [175...  \n",
      "2  [[0, 23], [26, 50], [54, 68], [169, 190], [181...  \n",
      "3  [[7, 63], [34, 63], [54, 63], [92, 128], [119,...  \n",
      "4  [[26, 57], [62, 76], [251, 265], [266, 280], [...  \n"
     ]
    }
   ],
   "source": [
    "df = pd.read_json ('train_t1_v1.jsonl', lines = True)\n",
    "df.drop (columns = ['id', 'keywords'], inplace = True)\n",
    "print (df.head ())"
   ]
  },
  {
   "cell_type": "code",
   "execution_count": 4,
   "id": "f6da5da0",
   "metadata": {},
   "outputs": [],
   "source": [
    "def split_text (text, segments, delimiters = ['...', '.', '?!', '?', '!']):\n",
    "\n",
    "    # Фильтрация\n",
    "    #text = re.sub ('[“”]', '\\\"', text)\n",
    "\n",
    "    # Создаем регулярное выражение для разделителей\n",
    "    delimiters_pattern = '|'.join (map (re.escape, delimiters))\n",
    "    \n",
    "    # Разделяем текст на абзацы\n",
    "    #paragraphs = text.split ('\\n')\n",
    "    paragraphs = re.split (f'(?<=\\n[ ]*)', text)\n",
    "    \n",
    "    # Список для хранения предложений и их индексов\n",
    "    sentences_with_segments = []\n",
    "    \n",
    "    current_start_index = 0\n",
    "    # Обрабатываем каждый абзац\n",
    "    for paragraph in paragraphs:\n",
    "        # Разделяем абзац на предложения\n",
    "        sentences = re.split (f'(?<=[{delimiters_pattern}] )(?=[A-ZА-ЯЁ])', paragraph)#.strip ())\n",
    "\n",
    "        #print (f'\\nРассматривается параграф: <{paragraph}>.')\n",
    "        \n",
    "        # Сопоставляем предложения с сегментами\n",
    "        for sentence in sentences:\n",
    "            #print ('> Предложение:', sentence)\n",
    "            # Ищем индексы символов для текущего предложения\n",
    "            start_index = current_start_index\n",
    "            end_index = start_index + len (sentence)\n",
    "\n",
    "            #print (f'Current sentence (from split): <{sentence}>')\n",
    "            #print (f'Current sentence (by indices): <{text [start_index: end_index]}>')\n",
    "            #print (f'Sentence start index: {start_index}, end index: {end_index}.')\n",
    "            #print (f'Segments to match: {segments}')\n",
    "\n",
    "            matched_segments = [\n",
    "                text [start: end] for start, end in segments if start >= start_index and end <= end_index\n",
    "            ]\n",
    "            sentences_with_segments.append ((sentence, matched_segments))\n",
    "\n",
    "            #current_start_index += len (sentence) + MAGIC_NUMBER\n",
    "            current_start_index = end_index\n",
    "\n",
    "\n",
    "            #print ('Термины:', matched_segments)\n",
    "    \n",
    "    return sentences_with_segments"
   ]
  },
  {
   "cell_type": "code",
   "execution_count": 5,
   "id": "f5c09cc8",
   "metadata": {},
   "outputs": [],
   "source": [
    "train_data_txt, temp_data_txt, train_labels_txt, temp_labels_txt = train_test_split (df ['text'], df ['label'], test_size = 0.2, random_state = 14)\n",
    "val_data_txt, test_data_txt, val_labels_txt, test_labels_txt = train_test_split (temp_data_txt, temp_labels_txt, test_size = 0.5, random_state = 14)"
   ]
  },
  {
   "cell_type": "code",
   "execution_count": 6,
   "id": "cd417b87",
   "metadata": {},
   "outputs": [],
   "source": [
    "train_data_lst = train_data_txt.tolist ()\n",
    "train_labels_lst = train_labels_txt.tolist ()\n",
    "\n",
    "parallel_text = []\n",
    "parallel_label = []\n",
    "\n",
    "for i in range (len (train_data_lst)):\n",
    "    text = train_data_lst [i]\n",
    "    segments = train_labels_lst [i]\n",
    "    splitted = split_text (text, segments)\n",
    "    for sentence, terms in splitted:\n",
    "        parallel_text.append (INPUT_PREFIX + sentence)\n",
    "        constructed_label = ''\n",
    "        for term in terms:\n",
    "            constructed_label += term.strip () + SEP_TOKEN\n",
    "        if len (constructed_label) > 0:\n",
    "            parallel_label.append (constructed_label [: - len (SEP_TOKEN)])\n",
    "        else:\n",
    "            parallel_label.append ('')\n",
    "\n",
    "\n",
    "val_data_lst = val_data_txt.tolist ()\n",
    "val_labels_lst = val_labels_txt.tolist ()\n",
    "parallel_text_val = []\n",
    "parallel_label_val = []\n",
    "for i in range (len (val_data_lst)):\n",
    "    text = val_data_lst [i]\n",
    "    segments = val_labels_lst [i]\n",
    "    splitted = split_text (text, segments)\n",
    "    for sentence, terms in splitted:\n",
    "        parallel_text_val.append (INPUT_PREFIX + sentence)\n",
    "        constructed_label = ''\n",
    "        for term in terms:\n",
    "            constructed_label += term.strip () + SEP_TOKEN\n",
    "        if len (constructed_label) > 0:\n",
    "            parallel_label_val.append (constructed_label [: - len (SEP_TOKEN)])\n",
    "        else:\n",
    "            parallel_label_val.append ('')\n",
    "\n",
    "\n",
    "test_data_lst = test_data_txt.tolist ()\n",
    "test_labels_lst = test_labels_txt.tolist ()\n",
    "parallel_text_test = []\n",
    "parallel_label_test = []\n",
    "for i in range (len (test_data_lst)):\n",
    "    text = test_data_lst [i]\n",
    "    segments = test_labels_lst [i]\n",
    "    splitted = split_text (text, segments)\n",
    "    for sentence, terms in splitted:\n",
    "        parallel_text_test.append (INPUT_PREFIX + sentence)\n",
    "        constructed_label = ''\n",
    "        for term in terms:\n",
    "            constructed_label += term.strip () + SEP_TOKEN\n",
    "        if len (constructed_label) > 0:\n",
    "            parallel_label_test.append (constructed_label [: - len (SEP_TOKEN)])\n",
    "        else:\n",
    "            parallel_label_test.append ('')"
   ]
  },
  {
   "cell_type": "code",
   "execution_count": 7,
   "id": "87e7746c",
   "metadata": {},
   "outputs": [],
   "source": [
    "USED_MODEL_NAME = 'cointegrated/rut5-small'\n",
    "\n",
    "SEQ_MAX_LENGTH = 150\n",
    "BATCH_SIZE = 8\n",
    "EVAL_BATCH_SIZE = 20"
   ]
  },
  {
   "cell_type": "code",
   "execution_count": 8,
   "id": "0a964318",
   "metadata": {},
   "outputs": [
    {
     "name": "stderr",
     "output_type": "stream",
     "text": [
      "You are using the default legacy behaviour of the <class 'transformers.models.t5.tokenization_t5.T5Tokenizer'>. This is expected, and simply means that the `legacy` (previous) behavior will be used so nothing changes for you. If you want to use the new behaviour, set `legacy=False`. This should only be set if you understand what it means, and thoroughly read the reason why this was added as explained in https://github.com/huggingface/transformers/pull/24565\n",
      "c:\\Users\\Enfi\\AppData\\Local\\Programs\\Python\\Python310\\lib\\site-packages\\transformers\\convert_slow_tokenizer.py:561: UserWarning: The sentencepiece tokenizer that you are converting to a fast tokenizer uses the byte fallback option which is not implemented in the fast tokenizers. In practice this means that the fast version of the tokenizer can produce unknown tokens whereas the sentencepiece version would have converted these unknown tokens into a sequence of byte tokens matching the original piece of text.\n",
      "  warnings.warn(\n"
     ]
    }
   ],
   "source": [
    "tokenizer = AutoTokenizer.from_pretrained (USED_MODEL_NAME)"
   ]
  },
  {
   "cell_type": "code",
   "execution_count": 9,
   "id": "6ddc6bda",
   "metadata": {},
   "outputs": [],
   "source": [
    "train_data = tokenizer (parallel_text, padding = 'max_length', truncation = True, max_length = SEQ_MAX_LENGTH, return_tensors = 'pt')\n",
    "train_labels = tokenizer (parallel_label, padding = 'max_length', truncation = True, max_length = SEQ_MAX_LENGTH, return_tensors = 'pt')\n",
    "\n",
    "val_data = tokenizer (parallel_text_val, padding = 'max_length', truncation = True, max_length = SEQ_MAX_LENGTH, return_tensors = 'pt')\n",
    "val_labels = tokenizer (parallel_label_val, padding = 'max_length', truncation = True, max_length = SEQ_MAX_LENGTH, return_tensors = 'pt')\n",
    "\n",
    "test_data = tokenizer (parallel_text_test, padding = 'max_length', truncation = True, max_length = SEQ_MAX_LENGTH, return_tensors = 'pt')\n",
    "test_labels = tokenizer (parallel_label_test, padding = 'max_length', truncation = True, max_length = SEQ_MAX_LENGTH, return_tensors = 'pt')"
   ]
  },
  {
   "cell_type": "code",
   "execution_count": 10,
   "id": "298b6931",
   "metadata": {},
   "outputs": [
    {
     "data": {
      "text/plain": [
       "tensor([[14539,  7870,  6507,  ...,  -100,  -100,  -100],\n",
       "        [ 7788,  6252,  1609,  ...,  -100,  -100,  -100],\n",
       "        [ 8427,   324,   259,  ...,  -100,  -100,  -100],\n",
       "        ...,\n",
       "        [  259, 11749, 14078,  ...,  -100,  -100,  -100],\n",
       "        [  401, 13839, 17069,  ...,  -100,  -100,  -100],\n",
       "        [  259, 19330, 10686,  ...,  -100,  -100,  -100]])"
      ]
     },
     "execution_count": 10,
     "metadata": {},
     "output_type": "execute_result"
    }
   ],
   "source": [
    "### EXPERIMENTAL SOMETHING\n",
    "\n",
    "def replace_padding (labels):\n",
    "    for i in range (0, len (labels ['input_ids'])):\n",
    "        labels ['input_ids'] [i] = torch.tensor ([labl if labl != 0 else - 100 for labl in labels ['input_ids'] [i]])\n",
    "\n",
    "    return labels\n",
    "\n",
    "rse = replace_padding (train_labels)\n",
    "train_labels = rse\n",
    "\n",
    "rse = replace_padding (val_labels)\n",
    "val_labels = rse\n",
    "\n",
    "rse = replace_padding (test_labels)\n",
    "test_labels = rse\n",
    "\n",
    "rse ['input_ids']\n",
    "###"
   ]
  },
  {
   "cell_type": "code",
   "execution_count": 11,
   "id": "48c8519a",
   "metadata": {},
   "outputs": [],
   "source": [
    "class Seq2SeqDataset (Dataset):\n",
    "    def __init__ (self, encodings, labels):\n",
    "        self.encodings = encodings\n",
    "        self.labels = labels\n",
    "\n",
    "    def __getitem__ (self, idx):\n",
    "        return {\n",
    "            'input_ids': self.encodings ['input_ids'] [idx],\n",
    "            'attention_mask': self.encodings ['attention_mask'] [idx],\n",
    "            'labels': self.labels ['input_ids'] [idx]\n",
    "        }\n",
    "\n",
    "    def __len__ (self):\n",
    "        return len (self.encodings ['input_ids'])\n",
    "\n",
    "train_dataset = Seq2SeqDataset (train_data, train_labels)\n",
    "val_dataset = Seq2SeqDataset (val_data, val_labels)\n",
    "test_dataset = Seq2SeqDataset (test_data, test_labels)\n",
    "\n",
    "train_loader = DataLoader (train_dataset, batch_size = BATCH_SIZE, shuffle = True)\n",
    "val_loader = DataLoader (val_dataset, batch_size = EVAL_BATCH_SIZE)\n",
    "test_loader = DataLoader (test_dataset, batch_size = EVAL_BATCH_SIZE)"
   ]
  },
  {
   "cell_type": "code",
   "execution_count": 12,
   "id": "22b16df9",
   "metadata": {},
   "outputs": [
    {
     "name": "stdout",
     "output_type": "stream",
     "text": [
      "cuda:0\n"
     ]
    }
   ],
   "source": [
    "device = torch.device ('cuda' if torch.cuda.is_available () else 'cpu')\n",
    "\n",
    "model = MT5ForConditionalGeneration.from_pretrained (USED_MODEL_NAME)\n",
    "\n",
    "model.to (device)\n",
    "print (model.device)\n",
    "#model.train ()\n"
   ]
  },
  {
   "cell_type": "code",
   "execution_count": 13,
   "id": "6fdd09e6",
   "metadata": {},
   "outputs": [],
   "source": [
    "def get_set (tensor, ground_truth = True, tokenizer = tokenizer):\n",
    "\n",
    "    separator: str\n",
    "    if SEP_TOKEN == '▁<extra_id_0>': separator = '<extra_id_0>'\n",
    "    else: separator = SEP_TOKEN\n",
    "\n",
    "    res: set\n",
    "\n",
    "    if ground_truth:\n",
    "        eos_idx = (tensor == 1).nonzero ()\n",
    "        if eos_idx.numel () > 0:\n",
    "            eos_idx = int (eos_idx [0] [0])\n",
    "        else:\n",
    "            eos_idx = len (tensor)\n",
    "        seq = tensor [:eos_idx]\n",
    "    \n",
    "    else:\n",
    "        seq = tensor [tensor != 0]\n",
    "        seq = seq [seq != - 100]   ### WHAT?!\n",
    "        seq = seq [seq != 1]\n",
    "    \n",
    "    txt = tokenizer.decode (seq)\n",
    "    res = set ([item.strip () for item in txt.split (separator)])\n",
    "\n",
    "    if len (res) > 1:\n",
    "        res -= set ([''])\n",
    "\n",
    "    return res\n",
    "\n",
    "\n",
    "def sanity_check (preds, labels, to_print = False):\n",
    "\n",
    "    tps_sum = 0\n",
    "    fps_sum = 0\n",
    "    fns_sum = 0 \n",
    "\n",
    "    for i in range (len (labels)):\n",
    "        predicted_set = get_set (preds [i], ground_truth = False)\n",
    "        true_set = get_set (labels [i])\n",
    "\n",
    "        if to_print: print (f'True: {true_set}\\nPred: {predicted_set}')\n",
    "\n",
    "        tps_sum += len (true_set & predicted_set)  # Истинно положительные\n",
    "        fps_sum += len (predicted_set - true_set)     # Ложноположительные\n",
    "        fns_sum += len (true_set - predicted_set)     # Ложноотрицательные\n",
    "\n",
    "    precision = tps_sum / (tps_sum + fps_sum) if (tps_sum + fps_sum) > 0 else 0\n",
    "    recall = tps_sum / (tps_sum + fns_sum) if (tps_sum + fns_sum) > 0 else 0\n",
    "    f1_score = 2 * (precision * recall) / (precision + recall) if (precision + recall) > 0 else 0\n",
    "\n",
    "    return precision, recall, f1_score"
   ]
  },
  {
   "cell_type": "code",
   "execution_count": 14,
   "id": "af7feda5",
   "metadata": {},
   "outputs": [],
   "source": [
    "metrics = {'train_loss': [], 'val_loss': [], 'precision': [], 'recall': [], 'f1_score': []}"
   ]
  },
  {
   "cell_type": "code",
   "execution_count": 15,
   "id": "bf665fed",
   "metadata": {},
   "outputs": [
    {
     "name": "stdout",
     "output_type": "stream",
     "text": [
      "Suggested train steps: 31350\n",
      "\t warmup steps: 1567 - 3135\n"
     ]
    }
   ],
   "source": [
    "num_epochs = 75\n",
    "training_steps = len (train_data ['input_ids']) // BATCH_SIZE * num_epochs\n",
    "warmup_steps = int (training_steps * 0.1)\n",
    "print (f'Suggested train steps: {training_steps}\\n\\t warmup steps: {int (training_steps * 0.05)} - {int (training_steps * 0.1)}')"
   ]
  },
  {
   "cell_type": "code",
   "execution_count": 16,
   "id": "6d3db8d1",
   "metadata": {},
   "outputs": [
    {
     "name": "stderr",
     "output_type": "stream",
     "text": [
      "2025-05-13 15:23:37 | INFO | fairseq.tasks.text_to_speech | Please install tensorboardX: pip install tensorboardX\n"
     ]
    }
   ],
   "source": [
    "from fairseq.optim.adafactor import Adafactor"
   ]
  },
  {
   "cell_type": "code",
   "execution_count": 17,
   "id": "f3d5eb25",
   "metadata": {},
   "outputs": [],
   "source": [
    "#optimizer = AdamW (model.parameters (), lr = 1e-5)#, weight_decay = 0.05)\n",
    "#optimizer = AdamW (filter (lambda p: p.requires_grad, model.parameters ()), lr = 1e-4, weight_decay = 0.01)\n",
    "\n",
    "optimizer = Adafactor (model.parameters (), lr = 2e-5, scale_parameter = False, relative_step = False, weight_decay = 0.02)\n",
    "\n",
    "#scheduler = lr_scheduler.StepLR (optimizer, warmup_steps = 637, training_steps = 6375)\n",
    "scheduler = get_scheduler ('linear', optimizer = optimizer, num_warmup_steps = warmup_steps, num_training_steps = training_steps)"
   ]
  },
  {
   "cell_type": "code",
   "execution_count": 18,
   "id": "84e76a12",
   "metadata": {},
   "outputs": [
    {
     "name": "stderr",
     "output_type": "stream",
     "text": [
      "  0%|          | 0/418 [00:00<?, ?it/s]Passing a tuple of `past_key_values` is deprecated and will be removed in Transformers v4.48.0. You should pass an instance of `EncoderDecoderCache` instead, e.g. `past_key_values=EncoderDecoderCache.from_legacy_cache(past_key_values)`.\n",
      "100%|██████████| 418/418 [00:46<00:00,  8.93it/s]\n"
     ]
    },
    {
     "name": "stdout",
     "output_type": "stream",
     "text": [
      "Epoch 1 / 75, Loss: 3.6230, Validation loss: 2.7017, 0.0024271844660194173 / 0.0005549389567147614 / 0.000903342366757001\n"
     ]
    },
    {
     "name": "stderr",
     "output_type": "stream",
     "text": [
      "100%|██████████| 418/418 [00:46<00:00,  9.00it/s]\n"
     ]
    },
    {
     "name": "stdout",
     "output_type": "stream",
     "text": [
      "Epoch 2 / 75, Loss: 2.7224, Validation loss: 1.7719, 0.007281553398058253 / 0.001664816870144284 / 0.0027100271002710027\n"
     ]
    },
    {
     "name": "stderr",
     "output_type": "stream",
     "text": [
      "100%|██████████| 418/418 [00:45<00:00,  9.13it/s]\n"
     ]
    },
    {
     "name": "stdout",
     "output_type": "stream",
     "text": [
      "Epoch 3 / 75, Loss: 2.0482, Validation loss: 1.3602, 0.06857142857142857 / 0.01997780244173141 / 0.030941125913192955\n"
     ]
    },
    {
     "name": "stderr",
     "output_type": "stream",
     "text": [
      "100%|██████████| 418/418 [00:48<00:00,  8.56it/s]\n"
     ]
    },
    {
     "name": "stdout",
     "output_type": "stream",
     "text": [
      "Epoch 4 / 75, Loss: 1.6881, Validation loss: 1.1113, 0.32506527415143605 / 0.1381798002219756 / 0.1939252336448598\n"
     ]
    },
    {
     "name": "stderr",
     "output_type": "stream",
     "text": [
      "100%|██████████| 418/418 [00:49<00:00,  8.52it/s]\n"
     ]
    },
    {
     "name": "stdout",
     "output_type": "stream",
     "text": [
      "Epoch 5 / 75, Loss: 1.4168, Validation loss: 0.8479, 0.4915572232645403 / 0.290788013318535 / 0.36541143654114366\n"
     ]
    },
    {
     "name": "stderr",
     "output_type": "stream",
     "text": [
      "100%|██████████| 418/418 [00:48<00:00,  8.62it/s]\n"
     ]
    },
    {
     "name": "stdout",
     "output_type": "stream",
     "text": [
      "Epoch 6 / 75, Loss: 1.1718, Validation loss: 0.6855, 0.5217777777777778 / 0.3257491675915649 / 0.4010932695592757\n"
     ]
    },
    {
     "name": "stderr",
     "output_type": "stream",
     "text": [
      "100%|██████████| 418/418 [00:54<00:00,  7.73it/s]\n"
     ]
    },
    {
     "name": "stdout",
     "output_type": "stream",
     "text": [
      "Epoch 7 / 75, Loss: 1.0267, Validation loss: 0.6132, 0.5708367854183927 / 0.38235294117647056 / 0.45795945496842805\n"
     ]
    },
    {
     "name": "stderr",
     "output_type": "stream",
     "text": [
      "100%|██████████| 418/418 [00:53<00:00,  7.85it/s]\n"
     ]
    },
    {
     "name": "stdout",
     "output_type": "stream",
     "text": [
      "Epoch 8 / 75, Loss: 0.9232, Validation loss: 0.5517, 0.5746268656716418 / 0.38457269700332963 / 0.4607712765957447\n"
     ]
    },
    {
     "name": "stderr",
     "output_type": "stream",
     "text": [
      "100%|██████████| 418/418 [00:52<00:00,  7.99it/s]\n"
     ]
    },
    {
     "name": "stdout",
     "output_type": "stream",
     "text": [
      "Epoch 9 / 75, Loss: 0.8366, Validation loss: 0.5110, 0.5853462157809984 / 0.4034406215316315 / 0.4776609724047306\n"
     ]
    },
    {
     "name": "stderr",
     "output_type": "stream",
     "text": [
      "100%|██████████| 418/418 [00:52<00:00,  7.98it/s]\n"
     ]
    },
    {
     "name": "stdout",
     "output_type": "stream",
     "text": [
      "Epoch 10 / 75, Loss: 0.7825, Validation loss: 0.4924, 0.6040816326530613 / 0.41065482796892344 / 0.4889329369012224\n"
     ]
    },
    {
     "name": "stderr",
     "output_type": "stream",
     "text": [
      "100%|██████████| 418/418 [00:53<00:00,  7.80it/s]\n"
     ]
    },
    {
     "name": "stdout",
     "output_type": "stream",
     "text": [
      "Epoch 11 / 75, Loss: 0.7331, Validation loss: 0.4630, 0.5916398713826366 / 0.40843507214206437 / 0.4832567301378858\n"
     ]
    },
    {
     "name": "stderr",
     "output_type": "stream",
     "text": [
      "100%|██████████| 418/418 [00:51<00:00,  8.05it/s]\n"
     ]
    },
    {
     "name": "stdout",
     "output_type": "stream",
     "text": [
      "Epoch 12 / 75, Loss: 0.6837, Validation loss: 0.4443, 0.582089552238806 / 0.41120976692563815 / 0.4819512195121951\n"
     ]
    },
    {
     "name": "stderr",
     "output_type": "stream",
     "text": [
      "100%|██████████| 418/418 [00:51<00:00,  8.13it/s]\n"
     ]
    },
    {
     "name": "stdout",
     "output_type": "stream",
     "text": [
      "Epoch 13 / 75, Loss: 0.6592, Validation loss: 0.4351, 0.5830745341614907 / 0.4167591564927858 / 0.486084142394822\n"
     ]
    },
    {
     "name": "stderr",
     "output_type": "stream",
     "text": [
      "100%|██████████| 418/418 [00:51<00:00,  8.14it/s]\n"
     ]
    },
    {
     "name": "stdout",
     "output_type": "stream",
     "text": [
      "Epoch 14 / 75, Loss: 0.6269, Validation loss: 0.4191, 0.5982839313572543 / 0.42563817980022195 / 0.4974059662775616\n"
     ]
    },
    {
     "name": "stderr",
     "output_type": "stream",
     "text": [
      "100%|██████████| 418/418 [00:51<00:00,  8.17it/s]\n"
     ]
    },
    {
     "name": "stdout",
     "output_type": "stream",
     "text": [
      "Epoch 15 / 75, Loss: 0.6009, Validation loss: 0.4057, 0.600312256049961 / 0.4267480577136515 / 0.4988647421342848\n"
     ]
    },
    {
     "name": "stderr",
     "output_type": "stream",
     "text": [
      "100%|██████████| 418/418 [00:51<00:00,  8.17it/s]\n"
     ]
    },
    {
     "name": "stdout",
     "output_type": "stream",
     "text": [
      "Epoch 16 / 75, Loss: 0.5811, Validation loss: 0.3966, 0.6088992974238876 / 0.4328523862375139 / 0.5060006487187805\n"
     ]
    },
    {
     "name": "stderr",
     "output_type": "stream",
     "text": [
      "100%|██████████| 418/418 [00:50<00:00,  8.20it/s]\n"
     ]
    },
    {
     "name": "stdout",
     "output_type": "stream",
     "text": [
      "Epoch 17 / 75, Loss: 0.5571, Validation loss: 0.3894, 0.6074130105900152 / 0.44561598224195337 / 0.5140845070422536\n"
     ]
    },
    {
     "name": "stderr",
     "output_type": "stream",
     "text": [
      "100%|██████████| 418/418 [00:53<00:00,  7.87it/s]\n"
     ]
    },
    {
     "name": "stdout",
     "output_type": "stream",
     "text": [
      "Epoch 18 / 75, Loss: 0.5370, Validation loss: 0.3878, 0.6171516079632465 / 0.44728079911209767 / 0.5186615186615187\n"
     ]
    },
    {
     "name": "stderr",
     "output_type": "stream",
     "text": [
      "100%|██████████| 418/418 [00:50<00:00,  8.21it/s]\n"
     ]
    },
    {
     "name": "stdout",
     "output_type": "stream",
     "text": [
      "Epoch 19 / 75, Loss: 0.5216, Validation loss: 0.3743, 0.6176470588235294 / 0.45449500554938954 / 0.5236572890025576\n"
     ]
    },
    {
     "name": "stderr",
     "output_type": "stream",
     "text": [
      "100%|██████████| 418/418 [00:51<00:00,  8.18it/s]\n"
     ]
    },
    {
     "name": "stdout",
     "output_type": "stream",
     "text": [
      "Epoch 20 / 75, Loss: 0.5135, Validation loss: 0.3777, 0.6172360248447205 / 0.4411764705882353 / 0.5145631067961166\n"
     ]
    },
    {
     "name": "stderr",
     "output_type": "stream",
     "text": [
      "100%|██████████| 418/418 [00:51<00:00,  8.16it/s]\n"
     ]
    },
    {
     "name": "stdout",
     "output_type": "stream",
     "text": [
      "Epoch 21 / 75, Loss: 0.4973, Validation loss: 0.3705, 0.6137931034482759 / 0.4445061043285239 / 0.5156099130994529\n"
     ]
    },
    {
     "name": "stderr",
     "output_type": "stream",
     "text": [
      "100%|██████████| 418/418 [00:50<00:00,  8.20it/s]\n"
     ]
    },
    {
     "name": "stdout",
     "output_type": "stream",
     "text": [
      "Epoch 22 / 75, Loss: 0.4871, Validation loss: 0.3651, 0.6238532110091743 / 0.4528301886792453 / 0.5247588424437298\n"
     ]
    },
    {
     "name": "stderr",
     "output_type": "stream",
     "text": [
      "100%|██████████| 418/418 [00:51<00:00,  8.12it/s]\n"
     ]
    },
    {
     "name": "stdout",
     "output_type": "stream",
     "text": [
      "Epoch 23 / 75, Loss: 0.4689, Validation loss: 0.3698, 0.6222558667676003 / 0.45615982241953384 / 0.526416906820365\n"
     ]
    },
    {
     "name": "stderr",
     "output_type": "stream",
     "text": [
      "100%|██████████| 418/418 [00:52<00:00,  8.00it/s]\n"
     ]
    },
    {
     "name": "stdout",
     "output_type": "stream",
     "text": [
      "Epoch 24 / 75, Loss: 0.4600, Validation loss: 0.3600, 0.6356648731744812 / 0.4589345172031077 / 0.5330325491459877\n"
     ]
    },
    {
     "name": "stderr",
     "output_type": "stream",
     "text": [
      "100%|██████████| 418/418 [00:50<00:00,  8.24it/s]\n"
     ]
    },
    {
     "name": "stdout",
     "output_type": "stream",
     "text": [
      "Epoch 25 / 75, Loss: 0.4516, Validation loss: 0.3609, 0.6385264773599386 / 0.46170921198668147 / 0.5359098228663447\n"
     ]
    },
    {
     "name": "stderr",
     "output_type": "stream",
     "text": [
      "100%|██████████| 418/418 [00:50<00:00,  8.25it/s]\n"
     ]
    },
    {
     "name": "stdout",
     "output_type": "stream",
     "text": [
      "Epoch 26 / 75, Loss: 0.4421, Validation loss: 0.3499, 0.6379573170731707 / 0.46448390677025525 / 0.53757225433526\n"
     ]
    },
    {
     "name": "stderr",
     "output_type": "stream",
     "text": [
      "100%|██████████| 418/418 [00:50<00:00,  8.24it/s]\n"
     ]
    },
    {
     "name": "stdout",
     "output_type": "stream",
     "text": [
      "Epoch 27 / 75, Loss: 0.4317, Validation loss: 0.3481, 0.6506483600305111 / 0.4733629300776915 / 0.5480244137487953\n"
     ]
    },
    {
     "name": "stderr",
     "output_type": "stream",
     "text": [
      "100%|██████████| 418/418 [00:50<00:00,  8.28it/s]\n"
     ]
    },
    {
     "name": "stdout",
     "output_type": "stream",
     "text": [
      "Epoch 28 / 75, Loss: 0.4238, Validation loss: 0.3509, 0.6475095785440613 / 0.46892341842397334 / 0.5439330543933054\n"
     ]
    },
    {
     "name": "stderr",
     "output_type": "stream",
     "text": [
      "100%|██████████| 418/418 [00:50<00:00,  8.21it/s]\n"
     ]
    },
    {
     "name": "stdout",
     "output_type": "stream",
     "text": [
      "Epoch 29 / 75, Loss: 0.4171, Validation loss: 0.3506, 0.6326996197718631 / 0.46170921198668147 / 0.5338466474173885\n"
     ]
    },
    {
     "name": "stderr",
     "output_type": "stream",
     "text": [
      "100%|██████████| 418/418 [00:50<00:00,  8.20it/s]\n"
     ]
    },
    {
     "name": "stdout",
     "output_type": "stream",
     "text": [
      "Epoch 30 / 75, Loss: 0.4005, Validation loss: 0.3487, 0.6434519303557911 / 0.4716981132075472 / 0.5443483829650977\n"
     ]
    },
    {
     "name": "stderr",
     "output_type": "stream",
     "text": [
      "100%|██████████| 418/418 [00:50<00:00,  8.26it/s]\n"
     ]
    },
    {
     "name": "stdout",
     "output_type": "stream",
     "text": [
      "Epoch 31 / 75, Loss: 0.3997, Validation loss: 0.3418, 0.6580152671755726 / 0.47835738068812433 / 0.5539845758354757\n"
     ]
    },
    {
     "name": "stderr",
     "output_type": "stream",
     "text": [
      "100%|██████████| 418/418 [00:50<00:00,  8.25it/s]\n"
     ]
    },
    {
     "name": "stdout",
     "output_type": "stream",
     "text": [
      "Epoch 32 / 75, Loss: 0.3975, Validation loss: 0.3423, 0.6451127819548872 / 0.47613762486126526 / 0.5478927203065134\n"
     ]
    },
    {
     "name": "stderr",
     "output_type": "stream",
     "text": [
      "100%|██████████| 418/418 [00:50<00:00,  8.22it/s]\n"
     ]
    },
    {
     "name": "stdout",
     "output_type": "stream",
     "text": [
      "Epoch 33 / 75, Loss: 0.3928, Validation loss: 0.3420, 0.6500754147812972 / 0.47835738068812433 / 0.551150895140665\n"
     ]
    },
    {
     "name": "stderr",
     "output_type": "stream",
     "text": [
      "100%|██████████| 418/418 [00:51<00:00,  8.18it/s]\n"
     ]
    },
    {
     "name": "stdout",
     "output_type": "stream",
     "text": [
      "Epoch 34 / 75, Loss: 0.3823, Validation loss: 0.3381, 0.6457229371688115 / 0.4733629300776915 / 0.5462696125520333\n"
     ]
    },
    {
     "name": "stderr",
     "output_type": "stream",
     "text": [
      "100%|██████████| 418/418 [00:48<00:00,  8.55it/s]\n"
     ]
    },
    {
     "name": "stdout",
     "output_type": "stream",
     "text": [
      "Epoch 35 / 75, Loss: 0.3743, Validation loss: 0.3401, 0.6461307287753568 / 0.4772475027746948 / 0.5489945738908395\n"
     ]
    },
    {
     "name": "stderr",
     "output_type": "stream",
     "text": [
      "100%|██████████| 418/418 [00:47<00:00,  8.77it/s]\n"
     ]
    },
    {
     "name": "stdout",
     "output_type": "stream",
     "text": [
      "Epoch 36 / 75, Loss: 0.3744, Validation loss: 0.3399, 0.6487915407854985 / 0.47669256381798003 / 0.5495841330774153\n"
     ]
    },
    {
     "name": "stderr",
     "output_type": "stream",
     "text": [
      "100%|██████████| 418/418 [00:48<00:00,  8.67it/s]\n"
     ]
    },
    {
     "name": "stdout",
     "output_type": "stream",
     "text": [
      "Epoch 37 / 75, Loss: 0.3680, Validation loss: 0.3352, 0.6519421172886519 / 0.4750277469478357 / 0.5495987158908507\n"
     ]
    },
    {
     "name": "stderr",
     "output_type": "stream",
     "text": [
      "100%|██████████| 418/418 [00:47<00:00,  8.71it/s]\n"
     ]
    },
    {
     "name": "stdout",
     "output_type": "stream",
     "text": [
      "Epoch 38 / 75, Loss: 0.3596, Validation loss: 0.3343, 0.6523053665910808 / 0.47891231964483905 / 0.5523199999999999\n"
     ]
    },
    {
     "name": "stderr",
     "output_type": "stream",
     "text": [
      "100%|██████████| 418/418 [00:47<00:00,  8.83it/s]\n"
     ]
    },
    {
     "name": "stdout",
     "output_type": "stream",
     "text": [
      "Epoch 39 / 75, Loss: 0.3511, Validation loss: 0.3341, 0.6547799696509864 / 0.47891231964483905 / 0.5532051282051281\n"
     ]
    },
    {
     "name": "stderr",
     "output_type": "stream",
     "text": [
      "100%|██████████| 418/418 [00:55<00:00,  7.57it/s]\n"
     ]
    },
    {
     "name": "stdout",
     "output_type": "stream",
     "text": [
      "Epoch 40 / 75, Loss: 0.3508, Validation loss: 0.3400, 0.653353428786737 / 0.4811320754716981 / 0.5541706615532118\n"
     ]
    },
    {
     "name": "stderr",
     "output_type": "stream",
     "text": [
      "100%|██████████| 418/418 [00:53<00:00,  7.83it/s]\n"
     ]
    },
    {
     "name": "stdout",
     "output_type": "stream",
     "text": [
      "Epoch 41 / 75, Loss: 0.3519, Validation loss: 0.3366, 0.6511976047904192 / 0.4827968923418424 / 0.5544933078393882\n"
     ]
    },
    {
     "name": "stderr",
     "output_type": "stream",
     "text": [
      "100%|██████████| 418/418 [00:52<00:00,  7.90it/s]\n"
     ]
    },
    {
     "name": "stdout",
     "output_type": "stream",
     "text": [
      "Epoch 42 / 75, Loss: 0.3426, Validation loss: 0.3331, 0.6570996978851964 / 0.4827968923418424 / 0.5566218809980806\n"
     ]
    },
    {
     "name": "stderr",
     "output_type": "stream",
     "text": [
      "100%|██████████| 418/418 [00:52<00:00,  7.98it/s]\n"
     ]
    },
    {
     "name": "stdout",
     "output_type": "stream",
     "text": [
      "Epoch 43 / 75, Loss: 0.3438, Validation loss: 0.3324, 0.654833836858006 / 0.4811320754716981 / 0.5547024952015355\n"
     ]
    },
    {
     "name": "stderr",
     "output_type": "stream",
     "text": [
      "100%|██████████| 418/418 [00:52<00:00,  7.96it/s]\n"
     ]
    },
    {
     "name": "stdout",
     "output_type": "stream",
     "text": [
      "Epoch 44 / 75, Loss: 0.3378, Validation loss: 0.3309, 0.6548069644208933 / 0.4800221975582686 / 0.5539545308997758\n"
     ]
    },
    {
     "name": "stderr",
     "output_type": "stream",
     "text": [
      "100%|██████████| 418/418 [00:52<00:00,  8.03it/s]\n"
     ]
    },
    {
     "name": "stdout",
     "output_type": "stream",
     "text": [
      "Epoch 45 / 75, Loss: 0.3314, Validation loss: 0.3297, 0.6628959276018099 / 0.4877913429522753 / 0.5620204603580563\n"
     ]
    },
    {
     "name": "stderr",
     "output_type": "stream",
     "text": [
      "100%|██████████| 418/418 [00:51<00:00,  8.07it/s]\n"
     ]
    },
    {
     "name": "stdout",
     "output_type": "stream",
     "text": [
      "Epoch 46 / 75, Loss: 0.3282, Validation loss: 0.3290, 0.665402124430956 / 0.48668146503884574 / 0.5621794871794872\n"
     ]
    },
    {
     "name": "stderr",
     "output_type": "stream",
     "text": [
      "100%|██████████| 418/418 [00:52<00:00,  8.02it/s]\n"
     ]
    },
    {
     "name": "stdout",
     "output_type": "stream",
     "text": [
      "Epoch 47 / 75, Loss: 0.3235, Validation loss: 0.3341, 0.6598173515981736 / 0.4811320754716981 / 0.5564826700898589\n"
     ]
    },
    {
     "name": "stderr",
     "output_type": "stream",
     "text": [
      "100%|██████████| 418/418 [00:51<00:00,  8.11it/s]\n"
     ]
    },
    {
     "name": "stdout",
     "output_type": "stream",
     "text": [
      "Epoch 48 / 75, Loss: 0.3218, Validation loss: 0.3326, 0.6600458365164248 / 0.4794672586015538 / 0.5554484088717454\n"
     ]
    },
    {
     "name": "stderr",
     "output_type": "stream",
     "text": [
      "100%|██████████| 418/418 [00:52<00:00,  7.97it/s]\n"
     ]
    },
    {
     "name": "stdout",
     "output_type": "stream",
     "text": [
      "Epoch 49 / 75, Loss: 0.3238, Validation loss: 0.3311, 0.6532012195121951 / 0.4755826859045505 / 0.5504174694926139\n"
     ]
    },
    {
     "name": "stderr",
     "output_type": "stream",
     "text": [
      "100%|██████████| 418/418 [00:51<00:00,  8.18it/s]\n"
     ]
    },
    {
     "name": "stdout",
     "output_type": "stream",
     "text": [
      "Epoch 50 / 75, Loss: 0.3124, Validation loss: 0.3306, 0.6600760456273764 / 0.4816870144284129 / 0.5569457811998717\n"
     ]
    },
    {
     "name": "stderr",
     "output_type": "stream",
     "text": [
      "100%|██████████| 418/418 [00:50<00:00,  8.21it/s]\n"
     ]
    },
    {
     "name": "stdout",
     "output_type": "stream",
     "text": [
      "Epoch 51 / 75, Loss: 0.3131, Validation loss: 0.3303, 0.6568848758465011 / 0.48446170921198667 / 0.5576493133184286\n"
     ]
    },
    {
     "name": "stderr",
     "output_type": "stream",
     "text": [
      "100%|██████████| 418/418 [00:51<00:00,  8.19it/s]\n"
     ]
    },
    {
     "name": "stdout",
     "output_type": "stream",
     "text": [
      "Epoch 52 / 75, Loss: 0.3098, Validation loss: 0.3303, 0.6593323216995448 / 0.48224195338512765 / 0.5570512820512821\n"
     ]
    },
    {
     "name": "stderr",
     "output_type": "stream",
     "text": [
      "100%|██████████| 418/418 [00:51<00:00,  8.04it/s]\n"
     ]
    },
    {
     "name": "stdout",
     "output_type": "stream",
     "text": [
      "Epoch 53 / 75, Loss: 0.3058, Validation loss: 0.3302, 0.6592987804878049 / 0.4800221975582686 / 0.5555555555555555\n"
     ]
    },
    {
     "name": "stderr",
     "output_type": "stream",
     "text": [
      "100%|██████████| 418/418 [00:51<00:00,  8.17it/s]\n"
     ]
    },
    {
     "name": "stdout",
     "output_type": "stream",
     "text": [
      "Epoch 54 / 75, Loss: 0.3085, Validation loss: 0.3311, 0.6638783269961978 / 0.48446170921198667 / 0.5601539942252166\n"
     ]
    },
    {
     "name": "stderr",
     "output_type": "stream",
     "text": [
      "100%|██████████| 418/418 [00:51<00:00,  8.13it/s]\n"
     ]
    },
    {
     "name": "stdout",
     "output_type": "stream",
     "text": [
      "Epoch 55 / 75, Loss: 0.3059, Validation loss: 0.3294, 0.6575550493545937 / 0.48057713651498335 / 0.5553061878807309\n"
     ]
    },
    {
     "name": "stderr",
     "output_type": "stream",
     "text": [
      "100%|██████████| 418/418 [00:51<00:00,  8.19it/s]\n"
     ]
    },
    {
     "name": "stdout",
     "output_type": "stream",
     "text": [
      "Epoch 56 / 75, Loss: 0.3057, Validation loss: 0.3302, 0.66868840030326 / 0.4894561598224195 / 0.5652034604293495\n"
     ]
    },
    {
     "name": "stderr",
     "output_type": "stream",
     "text": [
      "100%|██████████| 418/418 [00:51<00:00,  8.16it/s]\n"
     ]
    },
    {
     "name": "stdout",
     "output_type": "stream",
     "text": [
      "Epoch 57 / 75, Loss: 0.3022, Validation loss: 0.3298, 0.6621212121212121 / 0.48501664816870144 / 0.5598975016015374\n"
     ]
    },
    {
     "name": "stderr",
     "output_type": "stream",
     "text": [
      "100%|██████████| 418/418 [00:51<00:00,  8.17it/s]\n"
     ]
    },
    {
     "name": "stdout",
     "output_type": "stream",
     "text": [
      "Epoch 58 / 75, Loss: 0.2994, Validation loss: 0.3286, 0.6626231993934799 / 0.48501664816870144 / 0.5600768984299903\n"
     ]
    },
    {
     "name": "stderr",
     "output_type": "stream",
     "text": [
      "100%|██████████| 418/418 [00:51<00:00,  8.17it/s]\n"
     ]
    },
    {
     "name": "stdout",
     "output_type": "stream",
     "text": [
      "Epoch 59 / 75, Loss: 0.2968, Validation loss: 0.3289, 0.6649016641452344 / 0.4877913429522753 / 0.5627400768245839\n"
     ]
    },
    {
     "name": "stderr",
     "output_type": "stream",
     "text": [
      "100%|██████████| 418/418 [00:51<00:00,  8.17it/s]\n"
     ]
    },
    {
     "name": "stdout",
     "output_type": "stream",
     "text": [
      "Epoch 60 / 75, Loss: 0.3001, Validation loss: 0.3281, 0.6691900075700227 / 0.49056603773584906 / 0.5661223182837015\n"
     ]
    },
    {
     "name": "stderr",
     "output_type": "stream",
     "text": [
      "100%|██████████| 418/418 [00:51<00:00,  8.19it/s]\n"
     ]
    },
    {
     "name": "stdout",
     "output_type": "stream",
     "text": [
      "Epoch 61 / 75, Loss: 0.2952, Validation loss: 0.3288, 0.6689342403628118 / 0.4911209766925638 / 0.5664\n"
     ]
    },
    {
     "name": "stderr",
     "output_type": "stream",
     "text": [
      "100%|██████████| 418/418 [00:50<00:00,  8.22it/s]\n"
     ]
    },
    {
     "name": "stdout",
     "output_type": "stream",
     "text": [
      "Epoch 62 / 75, Loss: 0.2929, Validation loss: 0.3300, 0.669433962264151 / 0.49223085460599336 / 0.5673169171730092\n"
     ]
    },
    {
     "name": "stderr",
     "output_type": "stream",
     "text": [
      "100%|██████████| 418/418 [00:51<00:00,  8.09it/s]\n"
     ]
    },
    {
     "name": "stdout",
     "output_type": "stream",
     "text": [
      "Epoch 63 / 75, Loss: 0.2895, Validation loss: 0.3278, 0.6621315192743764 / 0.48612652608213097 / 0.5606399999999999\n"
     ]
    },
    {
     "name": "stderr",
     "output_type": "stream",
     "text": [
      "100%|██████████| 418/418 [00:51<00:00,  8.18it/s]\n"
     ]
    },
    {
     "name": "stdout",
     "output_type": "stream",
     "text": [
      "Epoch 64 / 75, Loss: 0.2933, Validation loss: 0.3274, 0.6649056603773585 / 0.48890122086570476 / 0.5634793732011513\n"
     ]
    },
    {
     "name": "stderr",
     "output_type": "stream",
     "text": [
      "100%|██████████| 418/418 [00:51<00:00,  8.18it/s]\n"
     ]
    },
    {
     "name": "stdout",
     "output_type": "stream",
     "text": [
      "Epoch 65 / 75, Loss: 0.2918, Validation loss: 0.3274, 0.6707132018209409 / 0.49056603773584906 / 0.5666666666666667\n"
     ]
    },
    {
     "name": "stderr",
     "output_type": "stream",
     "text": [
      "100%|██████████| 418/418 [00:51<00:00,  8.19it/s]\n"
     ]
    },
    {
     "name": "stdout",
     "output_type": "stream",
     "text": [
      "Epoch 66 / 75, Loss: 0.2855, Validation loss: 0.3272, 0.6626415094339623 / 0.4872364039955605 / 0.5615606012152222\n"
     ]
    },
    {
     "name": "stderr",
     "output_type": "stream",
     "text": [
      "100%|██████████| 418/418 [00:51<00:00,  8.13it/s]\n"
     ]
    },
    {
     "name": "stdout",
     "output_type": "stream",
     "text": [
      "Epoch 67 / 75, Loss: 0.2870, Validation loss: 0.3269, 0.6646525679758308 / 0.48834628190899 / 0.5630198336532309\n"
     ]
    },
    {
     "name": "stderr",
     "output_type": "stream",
     "text": [
      "100%|██████████| 418/418 [00:50<00:00,  8.21it/s]\n"
     ]
    },
    {
     "name": "stdout",
     "output_type": "stream",
     "text": [
      "Epoch 68 / 75, Loss: 0.2886, Validation loss: 0.3287, 0.6649016641452344 / 0.4877913429522753 / 0.5627400768245839\n"
     ]
    },
    {
     "name": "stderr",
     "output_type": "stream",
     "text": [
      "100%|██████████| 418/418 [00:50<00:00,  8.22it/s]\n"
     ]
    },
    {
     "name": "stdout",
     "output_type": "stream",
     "text": [
      "Epoch 69 / 75, Loss: 0.2844, Validation loss: 0.3291, 0.6666666666666666 / 0.4894561598224195 / 0.56448\n"
     ]
    },
    {
     "name": "stderr",
     "output_type": "stream",
     "text": [
      "100%|██████████| 418/418 [00:52<00:00,  8.02it/s]\n"
     ]
    },
    {
     "name": "stdout",
     "output_type": "stream",
     "text": [
      "Epoch 70 / 75, Loss: 0.2838, Validation loss: 0.3290, 0.6664139499620925 / 0.4877913429522753 / 0.5632809996795899\n"
     ]
    },
    {
     "name": "stderr",
     "output_type": "stream",
     "text": [
      "100%|██████████| 418/418 [00:51<00:00,  8.15it/s]\n"
     ]
    },
    {
     "name": "stdout",
     "output_type": "stream",
     "text": [
      "Epoch 71 / 75, Loss: 0.2834, Validation loss: 0.3295, 0.6664139499620925 / 0.4877913429522753 / 0.5632809996795899\n"
     ]
    },
    {
     "name": "stderr",
     "output_type": "stream",
     "text": [
      "100%|██████████| 418/418 [00:52<00:00,  8.03it/s]\n"
     ]
    },
    {
     "name": "stdout",
     "output_type": "stream",
     "text": [
      "Epoch 72 / 75, Loss: 0.2807, Validation loss: 0.3298, 0.6661608497723824 / 0.4872364039955605 / 0.5628205128205128\n"
     ]
    },
    {
     "name": "stderr",
     "output_type": "stream",
     "text": [
      "100%|██████████| 418/418 [00:51<00:00,  8.10it/s]\n"
     ]
    },
    {
     "name": "stdout",
     "output_type": "stream",
     "text": [
      "Epoch 73 / 75, Loss: 0.2858, Validation loss: 0.3294, 0.6666666666666666 / 0.48834628190899 / 0.563741191543882\n"
     ]
    },
    {
     "name": "stderr",
     "output_type": "stream",
     "text": [
      "100%|██████████| 418/418 [00:51<00:00,  8.05it/s]\n"
     ]
    },
    {
     "name": "stdout",
     "output_type": "stream",
     "text": [
      "Epoch 74 / 75, Loss: 0.2814, Validation loss: 0.3294, 0.6664145234493192 / 0.48890122086570476 / 0.5640204865556978\n"
     ]
    },
    {
     "name": "stderr",
     "output_type": "stream",
     "text": [
      "100%|██████████| 418/418 [00:51<00:00,  8.05it/s]\n"
     ]
    },
    {
     "name": "stdout",
     "output_type": "stream",
     "text": [
      "Epoch 75 / 75, Loss: 0.2851, Validation loss: 0.3292, 0.6669190007570023 / 0.48890122086570476 / 0.5642010886967659\n"
     ]
    }
   ],
   "source": [
    "for epoch in range (num_epochs):\n",
    "    model.train ()  # Устанавливаем модель в режим обучения\n",
    "    total_loss = 0\n",
    "    \n",
    "    for batch in tqdm (train_loader):\n",
    "        \n",
    "        input_ids = batch ['input_ids'].to (model.device)\n",
    "        attention_mask = batch ['attention_mask'].to (model.device)\n",
    "        labels = batch ['labels'].to (model.device)\n",
    "\n",
    "        outputs = model (input_ids = input_ids, attention_mask = attention_mask, labels = labels)\n",
    "        loss = outputs.loss   ## DOUBLE CHECK if padding ...\n",
    "        total_loss += loss.item ()\n",
    "\n",
    "        loss.backward ()  # Обратное распространение\n",
    "        optimizer.step ()  # Обновление параметров\n",
    "        optimizer.zero_grad ()  # Обнуляем градиенты\n",
    "\n",
    "        scheduler.step ()  # Обновление learning rate\n",
    "    \n",
    "\n",
    "    avg_loss = total_loss / len (train_loader)\n",
    "\n",
    "    metrics ['train_loss'].append ((epoch, avg_loss))\n",
    "\n",
    "    # Оценка на валидационной выборке\n",
    "    model.eval ()  # Устанавливаем модель в режим оценки\n",
    "    val_preds, val_labels = [], []\n",
    "    total_val_loss = 0\n",
    "\n",
    "    with torch.no_grad ():\n",
    "        for batch in val_loader:\n",
    "            input_ids = batch ['input_ids'].to (model.device)\n",
    "            attention_mask = batch ['attention_mask'].to (model.device)\n",
    "            labels = batch ['labels'].to (model.device)\n",
    "\n",
    "            outputs = model.generate (input_ids = input_ids, attention_mask = attention_mask)\n",
    "\n",
    "            total_val_loss += model (input_ids = input_ids, attention_mask = attention_mask, labels = labels).loss.item ()\n",
    "\n",
    "            val_preds.extend (outputs)\n",
    "            val_labels.extend (labels)\n",
    "\n",
    "    avg_val_loss = total_val_loss / len (val_loader)\n",
    "\n",
    "    prec, recl, f1sc = sanity_check (val_preds, val_labels)\n",
    "\n",
    "    metrics ['val_loss'].append ((epoch, avg_val_loss))\n",
    "    metrics ['precision'].append ((epoch, prec))\n",
    "    metrics ['recall'].append ((epoch, recl))\n",
    "    metrics ['f1_score'].append ((epoch, f1sc))\n",
    "\n",
    "    print (f'Epoch {epoch + 1} / {num_epochs}, Loss: {avg_loss:.4f}, Validation loss: {avg_val_loss:.4f}, {prec} / {recl} / {f1sc}')"
   ]
  },
  {
   "cell_type": "markdown",
   "id": "fda402f3",
   "metadata": {},
   "source": [
    "https://colab.research.google.com/github/NielsRogge/Transformers-Tutorials/blob/master/T5/Fine_tune_CodeT5_for_generating_docstrings_from_Ruby_code.ipynb#scrollTo=wvRHDkCIS91f"
   ]
  },
  {
   "cell_type": "code",
   "execution_count": 19,
   "id": "a1cb38fc",
   "metadata": {},
   "outputs": [
    {
     "name": "stdout",
     "output_type": "stream",
     "text": [
      "{'train_loss': [(0, 3.6229527572695717), (1, 2.722422282091168), (2, 2.0481764985043465), (3, 1.688060536624142), (4, 1.4168013680779763), (5, 1.1718312768559707), (6, 1.0267310905399505), (7, 0.9231698409649745), (8, 0.8365504750937366), (9, 0.7824603749091545), (10, 0.7331466961420324), (11, 0.6837406019417293), (12, 0.6592194342442106), (13, 0.6268524580309836), (14, 0.6008663723628487), (15, 0.5810627577977888), (16, 0.5570532466022021), (17, 0.5369826858266119), (18, 0.5216167504992781), (19, 0.5134983020322175), (20, 0.4972798874574985), (21, 0.48710958559832507), (22, 0.4689412990397814), (23, 0.4600045467820464), (24, 0.4515945658301623), (25, 0.4421000713081451), (26, 0.43165203690101084), (27, 0.4237904499093311), (28, 0.41713554037815076), (29, 0.40045753345962914), (30, 0.3996646681613329), (31, 0.3975399694089114), (32, 0.3927827832872788), (33, 0.38225570538540204), (34, 0.3743315996807158), (35, 0.3744143081481377), (36, 0.367983831279871), (37, 0.3595675423955233), (38, 0.35108234412504724), (39, 0.3507695474871323), (40, 0.3519117068231961), (41, 0.3425610117150836), (42, 0.3437854327510989), (43, 0.3378489453648551), (44, 0.33140691606835887), (45, 0.3281944459527018), (46, 0.32350896748059105), (47, 0.32180017102777103), (48, 0.3237769281643144), (49, 0.3124181369061105), (50, 0.31308745544706806), (51, 0.30978010154583235), (52, 0.30581710245192906), (53, 0.3085342061897499), (54, 0.30588116457587794), (55, 0.3056869358715543), (56, 0.30222835441668067), (57, 0.29936457956521706), (58, 0.29679051467605183), (59, 0.30007832992875405), (60, 0.29517893216897995), (61, 0.29288626731368916), (62, 0.2894825590462491), (63, 0.2933354841892799), (64, 0.29176492090715744), (65, 0.28548505346170455), (66, 0.28701730655354746), (67, 0.288562149611529), (68, 0.28437008517994833), (69, 0.2838285963750627), (70, 0.2833750465590703), (71, 0.2807366243033318), (72, 0.28576574950483424), (73, 0.2814201319403055), (74, 0.28514367256438333)], 'val_loss': [(0, 2.701660599027361), (1, 1.7718757390975952), (2, 1.3602432353155953), (3, 1.111250326746986), (4, 0.8479420258885338), (5, 0.6854822252477918), (6, 0.6131945862656548), (7, 0.5517082299504962), (8, 0.5110267258825756), (9, 0.49238702796754386), (10, 0.4630304461433774), (11, 0.4443248439402807), (12, 0.4351143467993963), (13, 0.4190973100208101), (14, 0.4057223158223288), (15, 0.3966036900168374), (16, 0.3893968015909195), (17, 0.38775074836753665), (18, 0.3742501913082032), (19, 0.37773713824294863), (20, 0.3705049625464848), (21, 0.3650624404350917), (22, 0.3698448496205466), (23, 0.3599634383405958), (24, 0.360884448602086), (25, 0.3499331623315811), (26, 0.34812629577659426), (27, 0.35087997076057253), (28, 0.35059413810571033), (29, 0.3487155529714766), (30, 0.341768116468475), (31, 0.34226674622013453), (32, 0.34201374082338243), (33, 0.3381158432790211), (34, 0.3401409082469486), (35, 0.33990020624228884), (36, 0.3352201623576028), (37, 0.33425121080307735), (38, 0.33412995082991465), (39, 0.3400322496891022), (40, 0.3365697477545057), (41, 0.33313649396101636), (42, 0.3323736105646406), (43, 0.3309136281410853), (44, 0.329684174486569), (45, 0.3290167869556518), (46, 0.33407249053319293), (47, 0.3326202453601928), (48, 0.33106635014216107), (49, 0.33060855595838456), (50, 0.33030782143274945), (51, 0.3302599404539381), (52, 0.3302311251560847), (53, 0.3311434799716586), (54, 0.32940347208863213), (55, 0.3302094496431805), (56, 0.32982204996404196), (57, 0.3285541009335291), (58, 0.32893040776252747), (59, 0.3280838983399527), (60, 0.3287825960488546), (61, 0.33000383774439496), (62, 0.32776879696618944), (63, 0.32735399830909), (64, 0.3273581883737019), (65, 0.32722972830136615), (66, 0.3269280422301519), (67, 0.32874895277477445), (68, 0.32913200628189815), (69, 0.3289793715590522), (70, 0.32946803527218954), (71, 0.3297599589540845), (72, 0.32943130532900494), (73, 0.32937344979672206), (74, 0.3292302851166044)], 'precision': [(0, 0.0024271844660194173), (1, 0.007281553398058253), (2, 0.06857142857142857), (3, 0.32506527415143605), (4, 0.4915572232645403), (5, 0.5217777777777778), (6, 0.5708367854183927), (7, 0.5746268656716418), (8, 0.5853462157809984), (9, 0.6040816326530613), (10, 0.5916398713826366), (11, 0.582089552238806), (12, 0.5830745341614907), (13, 0.5982839313572543), (14, 0.600312256049961), (15, 0.6088992974238876), (16, 0.6074130105900152), (17, 0.6171516079632465), (18, 0.6176470588235294), (19, 0.6172360248447205), (20, 0.6137931034482759), (21, 0.6238532110091743), (22, 0.6222558667676003), (23, 0.6356648731744812), (24, 0.6385264773599386), (25, 0.6379573170731707), (26, 0.6506483600305111), (27, 0.6475095785440613), (28, 0.6326996197718631), (29, 0.6434519303557911), (30, 0.6580152671755726), (31, 0.6451127819548872), (32, 0.6500754147812972), (33, 0.6457229371688115), (34, 0.6461307287753568), (35, 0.6487915407854985), (36, 0.6519421172886519), (37, 0.6523053665910808), (38, 0.6547799696509864), (39, 0.653353428786737), (40, 0.6511976047904192), (41, 0.6570996978851964), (42, 0.654833836858006), (43, 0.6548069644208933), (44, 0.6628959276018099), (45, 0.665402124430956), (46, 0.6598173515981736), (47, 0.6600458365164248), (48, 0.6532012195121951), (49, 0.6600760456273764), (50, 0.6568848758465011), (51, 0.6593323216995448), (52, 0.6592987804878049), (53, 0.6638783269961978), (54, 0.6575550493545937), (55, 0.66868840030326), (56, 0.6621212121212121), (57, 0.6626231993934799), (58, 0.6649016641452344), (59, 0.6691900075700227), (60, 0.6689342403628118), (61, 0.669433962264151), (62, 0.6621315192743764), (63, 0.6649056603773585), (64, 0.6707132018209409), (65, 0.6626415094339623), (66, 0.6646525679758308), (67, 0.6649016641452344), (68, 0.6666666666666666), (69, 0.6664139499620925), (70, 0.6664139499620925), (71, 0.6661608497723824), (72, 0.6666666666666666), (73, 0.6664145234493192), (74, 0.6669190007570023)], 'recall': [(0, 0.0005549389567147614), (1, 0.001664816870144284), (2, 0.01997780244173141), (3, 0.1381798002219756), (4, 0.290788013318535), (5, 0.3257491675915649), (6, 0.38235294117647056), (7, 0.38457269700332963), (8, 0.4034406215316315), (9, 0.41065482796892344), (10, 0.40843507214206437), (11, 0.41120976692563815), (12, 0.4167591564927858), (13, 0.42563817980022195), (14, 0.4267480577136515), (15, 0.4328523862375139), (16, 0.44561598224195337), (17, 0.44728079911209767), (18, 0.45449500554938954), (19, 0.4411764705882353), (20, 0.4445061043285239), (21, 0.4528301886792453), (22, 0.45615982241953384), (23, 0.4589345172031077), (24, 0.46170921198668147), (25, 0.46448390677025525), (26, 0.4733629300776915), (27, 0.46892341842397334), (28, 0.46170921198668147), (29, 0.4716981132075472), (30, 0.47835738068812433), (31, 0.47613762486126526), (32, 0.47835738068812433), (33, 0.4733629300776915), (34, 0.4772475027746948), (35, 0.47669256381798003), (36, 0.4750277469478357), (37, 0.47891231964483905), (38, 0.47891231964483905), (39, 0.4811320754716981), (40, 0.4827968923418424), (41, 0.4827968923418424), (42, 0.4811320754716981), (43, 0.4800221975582686), (44, 0.4877913429522753), (45, 0.48668146503884574), (46, 0.4811320754716981), (47, 0.4794672586015538), (48, 0.4755826859045505), (49, 0.4816870144284129), (50, 0.48446170921198667), (51, 0.48224195338512765), (52, 0.4800221975582686), (53, 0.48446170921198667), (54, 0.48057713651498335), (55, 0.4894561598224195), (56, 0.48501664816870144), (57, 0.48501664816870144), (58, 0.4877913429522753), (59, 0.49056603773584906), (60, 0.4911209766925638), (61, 0.49223085460599336), (62, 0.48612652608213097), (63, 0.48890122086570476), (64, 0.49056603773584906), (65, 0.4872364039955605), (66, 0.48834628190899), (67, 0.4877913429522753), (68, 0.4894561598224195), (69, 0.4877913429522753), (70, 0.4877913429522753), (71, 0.4872364039955605), (72, 0.48834628190899), (73, 0.48890122086570476), (74, 0.48890122086570476)], 'f1_score': [(0, 0.000903342366757001), (1, 0.0027100271002710027), (2, 0.030941125913192955), (3, 0.1939252336448598), (4, 0.36541143654114366), (5, 0.4010932695592757), (6, 0.45795945496842805), (7, 0.4607712765957447), (8, 0.4776609724047306), (9, 0.4889329369012224), (10, 0.4832567301378858), (11, 0.4819512195121951), (12, 0.486084142394822), (13, 0.4974059662775616), (14, 0.4988647421342848), (15, 0.5060006487187805), (16, 0.5140845070422536), (17, 0.5186615186615187), (18, 0.5236572890025576), (19, 0.5145631067961166), (20, 0.5156099130994529), (21, 0.5247588424437298), (22, 0.526416906820365), (23, 0.5330325491459877), (24, 0.5359098228663447), (25, 0.53757225433526), (26, 0.5480244137487953), (27, 0.5439330543933054), (28, 0.5338466474173885), (29, 0.5443483829650977), (30, 0.5539845758354757), (31, 0.5478927203065134), (32, 0.551150895140665), (33, 0.5462696125520333), (34, 0.5489945738908395), (35, 0.5495841330774153), (36, 0.5495987158908507), (37, 0.5523199999999999), (38, 0.5532051282051281), (39, 0.5541706615532118), (40, 0.5544933078393882), (41, 0.5566218809980806), (42, 0.5547024952015355), (43, 0.5539545308997758), (44, 0.5620204603580563), (45, 0.5621794871794872), (46, 0.5564826700898589), (47, 0.5554484088717454), (48, 0.5504174694926139), (49, 0.5569457811998717), (50, 0.5576493133184286), (51, 0.5570512820512821), (52, 0.5555555555555555), (53, 0.5601539942252166), (54, 0.5553061878807309), (55, 0.5652034604293495), (56, 0.5598975016015374), (57, 0.5600768984299903), (58, 0.5627400768245839), (59, 0.5661223182837015), (60, 0.5664), (61, 0.5673169171730092), (62, 0.5606399999999999), (63, 0.5634793732011513), (64, 0.5666666666666667), (65, 0.5615606012152222), (66, 0.5630198336532309), (67, 0.5627400768245839), (68, 0.56448), (69, 0.5632809996795899), (70, 0.5632809996795899), (71, 0.5628205128205128), (72, 0.563741191543882), (73, 0.5640204865556978), (74, 0.5642010886967659)]}\n"
     ]
    }
   ],
   "source": [
    "print (metrics)"
   ]
  },
  {
   "cell_type": "code",
   "execution_count": 20,
   "id": "911466b0",
   "metadata": {},
   "outputs": [
    {
     "data": {
      "image/png": "[encoded data removed]",
      "text/plain": [
       "<Figure size 1000x400 with 1 Axes>"
      ]
     },
     "metadata": {},
     "output_type": "display_data"
    },
    {
     "data": {
      "image/png": "[encoded data removed]",
      "text/plain": [
       "<Figure size 1000x400 with 1 Axes>"
      ]
     },
     "metadata": {},
     "output_type": "display_data"
    },
    {
     "data": {
      "image/png": "[encoded data removed]",
      "text/plain": [
       "<Figure size 1000x400 with 1 Axes>"
      ]
     },
     "metadata": {},
     "output_type": "display_data"
    },
    {
     "data": {
      "image/png": "[encoded data removed]",
      "text/plain": [
       "<Figure size 1000x400 with 1 Axes>"
      ]
     },
     "metadata": {},
     "output_type": "display_data"
    },
    {
     "data": {
      "image/png": "[encoded data removed]",
      "text/plain": [
       "<Figure size 1000x400 with 1 Axes>"
      ]
     },
     "metadata": {},
     "output_type": "display_data"
    }
   ],
   "source": [
    "for i, (name, history) in enumerate (sorted (metrics.items ())):\n",
    "    #plt.plot (1, len (metrics), i + 1)\n",
    "    plt.figure (figsize = (10, 4))\n",
    "    plt.title (name)\n",
    "    plt.plot (*zip (*history))\n",
    "    plt.grid ()\n",
    "    plt.show ()"
   ]
  },
  {
   "cell_type": "code",
   "execution_count": 21,
   "id": "b0fb61fc",
   "metadata": {},
   "outputs": [
    {
     "ename": "OverflowError",
     "evalue": "can't convert negative int to unsigned",
     "output_type": "error",
     "traceback": [
      "\u001b[1;31m---------------------------------------------------------------------------\u001b[0m",
      "\u001b[1;31mOverflowError\u001b[0m                             Traceback (most recent call last)",
      "Cell \u001b[1;32mIn[21], line 14\u001b[0m\n\u001b[0;32m     11\u001b[0m outputs \u001b[38;5;241m=\u001b[39m outputs\u001b[38;5;241m.\u001b[39mlogits\u001b[38;5;241m.\u001b[39margmax(\u001b[38;5;241m-\u001b[39m\u001b[38;5;241m1\u001b[39m)\n\u001b[0;32m     13\u001b[0m \u001b[38;5;66;03m#print (outputs)\u001b[39;00m\n\u001b[1;32m---> 14\u001b[0m \u001b[38;5;28mprint\u001b[39m (\u001b[43mtokenizer\u001b[49m\u001b[38;5;241;43m.\u001b[39;49m\u001b[43mbatch_decode\u001b[49m\u001b[43m \u001b[49m\u001b[43m(\u001b[49m\u001b[43mlabels\u001b[49m\u001b[43m)\u001b[49m)\n\u001b[0;32m     15\u001b[0m \u001b[38;5;28mprint\u001b[39m (tokenizer\u001b[38;5;241m.\u001b[39mbatch_decode (outputs))\n\u001b[0;32m     17\u001b[0m out \u001b[38;5;241m=\u001b[39m model\u001b[38;5;241m.\u001b[39mgenerate (input_ids \u001b[38;5;241m=\u001b[39m input_ids, attention_mask \u001b[38;5;241m=\u001b[39m attention_mask)\n",
      "File \u001b[1;32mc:\\Users\\Enfi\\AppData\\Local\\Programs\\Python\\Python310\\lib\\site-packages\\transformers\\tokenization_utils_base.py:3803\u001b[0m, in \u001b[0;36mPreTrainedTokenizerBase.batch_decode\u001b[1;34m(self, sequences, skip_special_tokens, clean_up_tokenization_spaces, **kwargs)\u001b[0m\n\u001b[0;32m   3779\u001b[0m \u001b[38;5;28;01mdef\u001b[39;00m \u001b[38;5;21mbatch_decode\u001b[39m(\n\u001b[0;32m   3780\u001b[0m     \u001b[38;5;28mself\u001b[39m,\n\u001b[0;32m   3781\u001b[0m     sequences: Union[List[\u001b[38;5;28mint\u001b[39m], List[List[\u001b[38;5;28mint\u001b[39m]], \u001b[38;5;124m\"\u001b[39m\u001b[38;5;124mnp.ndarray\u001b[39m\u001b[38;5;124m\"\u001b[39m, \u001b[38;5;124m\"\u001b[39m\u001b[38;5;124mtorch.Tensor\u001b[39m\u001b[38;5;124m\"\u001b[39m, \u001b[38;5;124m\"\u001b[39m\u001b[38;5;124mtf.Tensor\u001b[39m\u001b[38;5;124m\"\u001b[39m],\n\u001b[1;32m   (...)\u001b[0m\n\u001b[0;32m   3784\u001b[0m     \u001b[38;5;241m*\u001b[39m\u001b[38;5;241m*\u001b[39mkwargs,\n\u001b[0;32m   3785\u001b[0m ) \u001b[38;5;241m-\u001b[39m\u001b[38;5;241m>\u001b[39m List[\u001b[38;5;28mstr\u001b[39m]:\n\u001b[0;32m   3786\u001b[0m \u001b[38;5;250m    \u001b[39m\u001b[38;5;124;03m\"\"\"\u001b[39;00m\n\u001b[0;32m   3787\u001b[0m \u001b[38;5;124;03m    Convert a list of lists of token ids into a list of strings by calling decode.\u001b[39;00m\n\u001b[0;32m   3788\u001b[0m \n\u001b[1;32m   (...)\u001b[0m\n\u001b[0;32m   3801\u001b[0m \u001b[38;5;124;03m        `List[str]`: The list of decoded sentences.\u001b[39;00m\n\u001b[0;32m   3802\u001b[0m \u001b[38;5;124;03m    \"\"\"\u001b[39;00m\n\u001b[1;32m-> 3803\u001b[0m     \u001b[38;5;28;01mreturn\u001b[39;00m [\n\u001b[0;32m   3804\u001b[0m         \u001b[38;5;28mself\u001b[39m\u001b[38;5;241m.\u001b[39mdecode(\n\u001b[0;32m   3805\u001b[0m             seq,\n\u001b[0;32m   3806\u001b[0m             skip_special_tokens\u001b[38;5;241m=\u001b[39mskip_special_tokens,\n\u001b[0;32m   3807\u001b[0m             clean_up_tokenization_spaces\u001b[38;5;241m=\u001b[39mclean_up_tokenization_spaces,\n\u001b[0;32m   3808\u001b[0m             \u001b[38;5;241m*\u001b[39m\u001b[38;5;241m*\u001b[39mkwargs,\n\u001b[0;32m   3809\u001b[0m         )\n\u001b[0;32m   3810\u001b[0m         \u001b[38;5;28;01mfor\u001b[39;00m seq \u001b[38;5;129;01min\u001b[39;00m sequences\n\u001b[0;32m   3811\u001b[0m     ]\n",
      "File \u001b[1;32mc:\\Users\\Enfi\\AppData\\Local\\Programs\\Python\\Python310\\lib\\site-packages\\transformers\\tokenization_utils_base.py:3804\u001b[0m, in \u001b[0;36m<listcomp>\u001b[1;34m(.0)\u001b[0m\n\u001b[0;32m   3779\u001b[0m \u001b[38;5;28;01mdef\u001b[39;00m \u001b[38;5;21mbatch_decode\u001b[39m(\n\u001b[0;32m   3780\u001b[0m     \u001b[38;5;28mself\u001b[39m,\n\u001b[0;32m   3781\u001b[0m     sequences: Union[List[\u001b[38;5;28mint\u001b[39m], List[List[\u001b[38;5;28mint\u001b[39m]], \u001b[38;5;124m\"\u001b[39m\u001b[38;5;124mnp.ndarray\u001b[39m\u001b[38;5;124m\"\u001b[39m, \u001b[38;5;124m\"\u001b[39m\u001b[38;5;124mtorch.Tensor\u001b[39m\u001b[38;5;124m\"\u001b[39m, \u001b[38;5;124m\"\u001b[39m\u001b[38;5;124mtf.Tensor\u001b[39m\u001b[38;5;124m\"\u001b[39m],\n\u001b[1;32m   (...)\u001b[0m\n\u001b[0;32m   3784\u001b[0m     \u001b[38;5;241m*\u001b[39m\u001b[38;5;241m*\u001b[39mkwargs,\n\u001b[0;32m   3785\u001b[0m ) \u001b[38;5;241m-\u001b[39m\u001b[38;5;241m>\u001b[39m List[\u001b[38;5;28mstr\u001b[39m]:\n\u001b[0;32m   3786\u001b[0m \u001b[38;5;250m    \u001b[39m\u001b[38;5;124;03m\"\"\"\u001b[39;00m\n\u001b[0;32m   3787\u001b[0m \u001b[38;5;124;03m    Convert a list of lists of token ids into a list of strings by calling decode.\u001b[39;00m\n\u001b[0;32m   3788\u001b[0m \n\u001b[1;32m   (...)\u001b[0m\n\u001b[0;32m   3801\u001b[0m \u001b[38;5;124;03m        `List[str]`: The list of decoded sentences.\u001b[39;00m\n\u001b[0;32m   3802\u001b[0m \u001b[38;5;124;03m    \"\"\"\u001b[39;00m\n\u001b[0;32m   3803\u001b[0m     \u001b[38;5;28;01mreturn\u001b[39;00m [\n\u001b[1;32m-> 3804\u001b[0m         \u001b[38;5;28mself\u001b[39m\u001b[38;5;241m.\u001b[39mdecode(\n\u001b[0;32m   3805\u001b[0m             seq,\n\u001b[0;32m   3806\u001b[0m             skip_special_tokens\u001b[38;5;241m=\u001b[39mskip_special_tokens,\n\u001b[0;32m   3807\u001b[0m             clean_up_tokenization_spaces\u001b[38;5;241m=\u001b[39mclean_up_tokenization_spaces,\n\u001b[0;32m   3808\u001b[0m             \u001b[38;5;241m*\u001b[39m\u001b[38;5;241m*\u001b[39mkwargs,\n\u001b[0;32m   3809\u001b[0m         )\n\u001b[0;32m   3810\u001b[0m         \u001b[38;5;28;01mfor\u001b[39;00m seq \u001b[38;5;129;01min\u001b[39;00m sequences\n\u001b[0;32m   3811\u001b[0m     ]\n",
      "File \u001b[1;32mc:\\Users\\Enfi\\AppData\\Local\\Programs\\Python\\Python310\\lib\\site-packages\\transformers\\tokenization_utils_base.py:3843\u001b[0m, in \u001b[0;36mPreTrainedTokenizerBase.decode\u001b[1;34m(self, token_ids, skip_special_tokens, clean_up_tokenization_spaces, **kwargs)\u001b[0m\n\u001b[0;32m   3840\u001b[0m \u001b[38;5;66;03m# Convert inputs to python lists\u001b[39;00m\n\u001b[0;32m   3841\u001b[0m token_ids \u001b[38;5;241m=\u001b[39m to_py_obj(token_ids)\n\u001b[1;32m-> 3843\u001b[0m \u001b[38;5;28;01mreturn\u001b[39;00m \u001b[38;5;28mself\u001b[39m\u001b[38;5;241m.\u001b[39m_decode(\n\u001b[0;32m   3844\u001b[0m     token_ids\u001b[38;5;241m=\u001b[39mtoken_ids,\n\u001b[0;32m   3845\u001b[0m     skip_special_tokens\u001b[38;5;241m=\u001b[39mskip_special_tokens,\n\u001b[0;32m   3846\u001b[0m     clean_up_tokenization_spaces\u001b[38;5;241m=\u001b[39mclean_up_tokenization_spaces,\n\u001b[0;32m   3847\u001b[0m     \u001b[38;5;241m*\u001b[39m\u001b[38;5;241m*\u001b[39mkwargs,\n\u001b[0;32m   3848\u001b[0m )\n",
      "File \u001b[1;32mc:\\Users\\Enfi\\AppData\\Local\\Programs\\Python\\Python310\\lib\\site-packages\\transformers\\tokenization_utils_fast.py:655\u001b[0m, in \u001b[0;36mPreTrainedTokenizerFast._decode\u001b[1;34m(self, token_ids, skip_special_tokens, clean_up_tokenization_spaces, **kwargs)\u001b[0m\n\u001b[0;32m    653\u001b[0m \u001b[38;5;28;01mif\u001b[39;00m \u001b[38;5;28misinstance\u001b[39m(token_ids, \u001b[38;5;28mint\u001b[39m):\n\u001b[0;32m    654\u001b[0m     token_ids \u001b[38;5;241m=\u001b[39m [token_ids]\n\u001b[1;32m--> 655\u001b[0m text \u001b[38;5;241m=\u001b[39m \u001b[38;5;28;43mself\u001b[39;49m\u001b[38;5;241;43m.\u001b[39;49m\u001b[43m_tokenizer\u001b[49m\u001b[38;5;241;43m.\u001b[39;49m\u001b[43mdecode\u001b[49m\u001b[43m(\u001b[49m\u001b[43mtoken_ids\u001b[49m\u001b[43m,\u001b[49m\u001b[43m \u001b[49m\u001b[43mskip_special_tokens\u001b[49m\u001b[38;5;241;43m=\u001b[39;49m\u001b[43mskip_special_tokens\u001b[49m\u001b[43m)\u001b[49m\n\u001b[0;32m    657\u001b[0m clean_up_tokenization_spaces \u001b[38;5;241m=\u001b[39m (\n\u001b[0;32m    658\u001b[0m     clean_up_tokenization_spaces\n\u001b[0;32m    659\u001b[0m     \u001b[38;5;28;01mif\u001b[39;00m clean_up_tokenization_spaces \u001b[38;5;129;01mis\u001b[39;00m \u001b[38;5;129;01mnot\u001b[39;00m \u001b[38;5;28;01mNone\u001b[39;00m\n\u001b[0;32m    660\u001b[0m     \u001b[38;5;28;01melse\u001b[39;00m \u001b[38;5;28mself\u001b[39m\u001b[38;5;241m.\u001b[39mclean_up_tokenization_spaces\n\u001b[0;32m    661\u001b[0m )\n\u001b[0;32m    662\u001b[0m \u001b[38;5;28;01mif\u001b[39;00m clean_up_tokenization_spaces:\n",
      "\u001b[1;31mOverflowError\u001b[0m: can't convert negative int to unsigned"
     ]
    }
   ],
   "source": [
    "model.eval()\n",
    "with torch.no_grad():\n",
    "    for batch in test_loader:\n",
    "        \n",
    "        input_ids = batch['input_ids'].to(model.device)\n",
    "        attention_mask = batch['attention_mask'].to(model.device)\n",
    "        labels = batch['labels'].to(model.device)\n",
    "\n",
    "        outputs = model (input_ids=input_ids, attention_mask=attention_mask, labels=labels)\n",
    "\n",
    "        outputs = outputs.logits.argmax(-1)\n",
    "\n",
    "        #print (outputs)\n",
    "        print (tokenizer.batch_decode (labels))\n",
    "        print (tokenizer.batch_decode (outputs))\n",
    "\n",
    "        out = model.generate (input_ids = input_ids, attention_mask = attention_mask)\n",
    "\n",
    "        print (sanity_check (outputs, labels, to_print = True))\n",
    "\n",
    "        break"
   ]
  },
  {
   "cell_type": "code",
   "execution_count": 22,
   "id": "fb5f9be2",
   "metadata": {},
   "outputs": [
    {
     "name": "stderr",
     "output_type": "stream",
     "text": [
      "100%|██████████| 21/21 [00:03<00:00,  5.58it/s]\n"
     ]
    },
    {
     "name": "stdout",
     "output_type": "stream",
     "text": [
      "Validation:  (0.6669190007570023, 0.48890122086570476, 0.5642010886967659)\n"
     ]
    },
    {
     "name": "stderr",
     "output_type": "stream",
     "text": [
      "100%|██████████| 22/22 [00:03<00:00,  5.74it/s]\n"
     ]
    },
    {
     "name": "stdout",
     "output_type": "stream",
     "text": [
      "Test:  (0.6484318016046682, 0.4855270344074276, 0.5552779512804497)\n"
     ]
    }
   ],
   "source": [
    "\n",
    "\n",
    "model.eval ()  # Устанавливаем модель в режим оценки\n",
    "val_preds, val_labels = [], []\n",
    "\n",
    "with torch.no_grad ():\n",
    "    for batch in tqdm (val_loader):\n",
    "        input_ids = batch ['input_ids'].to (model.device)\n",
    "        attention_mask = batch ['attention_mask'].to (model.device)\n",
    "        labels = batch ['labels'].to (model.device)\n",
    "        out = model.generate (input_ids = input_ids, attention_mask = attention_mask)\n",
    "\n",
    "        val_preds.extend (out)\n",
    "        val_labels.extend (labels)\n",
    "\n",
    "    print ('Validation: ', sanity_check (val_preds, val_labels))\n",
    "\n",
    "\n",
    "val_preds, val_labels = [], []\n",
    "\n",
    "with torch.no_grad ():\n",
    "    for batch in tqdm (test_loader):\n",
    "        input_ids = batch ['input_ids'].to (model.device)\n",
    "        attention_mask = batch ['attention_mask'].to (model.device)\n",
    "        labels = batch ['labels'].to (model.device)\n",
    "        out = model.generate (input_ids = input_ids, attention_mask = attention_mask)\n",
    "\n",
    "        val_preds.extend (out)\n",
    "        val_labels.extend (labels)\n",
    "\n",
    "    print ('Test: ', sanity_check (val_preds, val_labels))"
   ]
  },
  {
   "cell_type": "code",
   "execution_count": 23,
   "id": "c245fb7a",
   "metadata": {},
   "outputs": [
    {
     "name": "stderr",
     "output_type": "stream",
     "text": [
      "100%|██████████| 21/21 [00:13<00:00,  1.56it/s]\n"
     ]
    },
    {
     "name": "stdout",
     "output_type": "stream",
     "text": [
      "Validation wmax:  (0.7249742002063984, 0.7796892341842397, 0.7513368983957219)\n"
     ]
    },
    {
     "name": "stderr",
     "output_type": "stream",
     "text": [
      "100%|██████████| 22/22 [00:14<00:00,  1.56it/s]\n"
     ]
    },
    {
     "name": "stdout",
     "output_type": "stream",
     "text": [
      "Test wmax:  (0.7156614292954891, 0.7711632987438558, 0.7423764458464774)\n"
     ]
    }
   ],
   "source": [
    "\n",
    "val_preds, val_labels = [], []\n",
    "with torch.no_grad ():\n",
    "    for batch in tqdm (val_loader):\n",
    "        input_ids = batch ['input_ids'].to (model.device)\n",
    "        attention_mask = batch ['attention_mask'].to (model.device)\n",
    "        labels = batch ['labels'].to (model.device)\n",
    "        out = model.generate (input_ids = input_ids, attention_mask = attention_mask, max_length=SEQ_MAX_LENGTH)\n",
    "\n",
    "        val_preds.extend (out)\n",
    "        val_labels.extend (labels)\n",
    "\n",
    "    print ('Validation wmax: ', sanity_check (val_preds, val_labels))\n",
    "\n",
    "\n",
    "val_preds, val_labels = [], []\n",
    "with torch.no_grad ():\n",
    "    for batch in tqdm (test_loader):\n",
    "        input_ids = batch ['input_ids'].to (model.device)\n",
    "        attention_mask = batch ['attention_mask'].to (model.device)\n",
    "        labels = batch ['labels'].to (model.device)\n",
    "        out = model.generate (input_ids = input_ids, attention_mask = attention_mask, max_length=SEQ_MAX_LENGTH)\n",
    "\n",
    "        val_preds.extend (out)\n",
    "        val_labels.extend (labels)\n",
    "\n",
    "    print ('Test wmax: ', sanity_check (val_preds, val_labels))"
   ]
  },
  {
   "cell_type": "code",
   "execution_count": 24,
   "id": "59b50d21",
   "metadata": {},
   "outputs": [],
   "source": [
    "#model.save_pretrained('./coint_rut5small_finetune_ttsseed14_7722')\n",
    "#tokenizer.save_pretrained('./coint_rut5small_finetune_ttsseed14_7722')"
   ]
  },
  {
   "cell_type": "code",
   "execution_count": 25,
   "id": "f7d0438f",
   "metadata": {},
   "outputs": [],
   "source": [
    "def raw_splitter (text, delimiters = ['...', '.', '?!', '?', '!']):\n",
    "\n",
    "    delimiters_pattern = '|'.join (map (re.escape, delimiters))\n",
    "    paragraphs = re.split (f'(?<=\\n[ ]*)', text)\n",
    "    \n",
    "    sentences_with_indices = []\n",
    "    current_start_index = 0\n",
    "\n",
    "    for paragraph in paragraphs:\n",
    "\n",
    "        sentences = re.split (f'(?<=[{delimiters_pattern}] )(?=[A-ZА-ЯЁ])', paragraph)#.strip ())\n",
    "\n",
    "        for sentence in sentences:\n",
    "\n",
    "            start_index = current_start_index\n",
    "            end_index = start_index + len (sentence)\n",
    "\n",
    "            sentences_with_indices.append ((sentence, (start_index, end_index)))\n",
    "\n",
    "            current_start_index = end_index\n",
    "    \n",
    "    return sentences_with_indices\n",
    "\n",
    "def one_finder (text, phrases):\n",
    "\n",
    "    A = ahocorasick.Automaton ()\n",
    "    \n",
    "    for idx, phrase in enumerate (phrases):\n",
    "        A.add_word (phrase, (idx, phrase))\n",
    "    \n",
    "    A.make_automaton ()\n",
    "    \n",
    "    found = []\n",
    "    for end_index, (idx, phrase) in A.iter (text):\n",
    "        start_index = end_index - len (phrase) + 1\n",
    "\n",
    "        if start_index > 0 and text [start_index - 1].isalpha ():\n",
    "            continue\n",
    "        if end_index + 1 < len (text) and text [end_index + 1].isalpha ():\n",
    "            continue\n",
    "\n",
    "        found.append ((start_index, end_index + 1, phrase))\n",
    "    \n",
    "    return found\n",
    "\n",
    "def answerer (text, term_set):\n",
    "    sentences_w_ind = raw_splitter (text)\n",
    "\n",
    "    answers = []\n",
    "    for sentence, (start, end) in sentences_w_ind:\n",
    "        found = one_finder (sentence, term_set)\n",
    "        answers += [[item [0] + start, item [1] + start] for item in found]\n",
    "\n",
    "    return answers\n",
    "\n",
    "def comparator (pred, labl):\n",
    "\n",
    "    pred = set ([tuple (item) for item in pred])\n",
    "    labl = set ([tuple (item) for item in labl])\n",
    "\n",
    "    true_positives = len (pred & labl)\n",
    "    false_positives = len (pred - labl)\n",
    "    false_negatives = len (labl - pred)\n",
    "\n",
    "    return true_positives, false_positives, false_negatives\n",
    "\n",
    "def metricator (preds, labels):\n",
    "\n",
    "    tps_sum = 0\n",
    "    fps_sum = 0\n",
    "    fns_sum = 0 \n",
    "\n",
    "    for i in range (len (labels)):\n",
    "\n",
    "        true_positives, false_positives, false_negatives = comparator (preds [i], labels [i])\n",
    "\n",
    "        tps_sum += true_positives   # Истинно положительные\n",
    "        fps_sum += false_positives     # Ложноположительные\n",
    "        fns_sum += false_negatives     # Ложноотрицательные\n",
    "\n",
    "    precision = tps_sum / (tps_sum + fps_sum) if (tps_sum + fps_sum) > 0 else 0\n",
    "    recall = tps_sum / (tps_sum + fns_sum) if (tps_sum + fns_sum) > 0 else 0\n",
    "    f1_score = 2 * (precision * recall) / (precision + recall) if (precision + recall) > 0 else 0\n",
    "\n",
    "    return precision, recall, f1_score"
   ]
  }
 ],
 "metadata": {
  "kernelspec": {
   "display_name": "Python 3",
   "language": "python",
   "name": "python3"
  },
  "language_info": {
   "codemirror_mode": {
    "name": "ipython",
    "version": 3
   },
   "file_extension": ".py",
   "mimetype": "text/x-python",
   "name": "python",
   "nbconvert_exporter": "python",
   "pygments_lexer": "ipython3",
   "version": "3.10.11"
  }
 },
 "nbformat": 4,
 "nbformat_minor": 5
}
