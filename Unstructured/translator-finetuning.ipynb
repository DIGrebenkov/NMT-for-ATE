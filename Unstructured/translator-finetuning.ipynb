{
 "cells": [
  {
   "cell_type": "code",
   "execution_count": 1,
   "id": "461ea578",
   "metadata": {},
   "outputs": [
    {
     "name": "stdout",
     "output_type": "stream",
     "text": [
      "WARNING:tensorflow:From c:\\Users\\Enfi\\AppData\\Local\\Programs\\Python\\Python310\\lib\\site-packages\\keras\\src\\losses.py:2976: The name tf.losses.sparse_softmax_cross_entropy is deprecated. Please use tf.compat.v1.losses.sparse_softmax_cross_entropy instead.\n",
      "\n"
     ]
    }
   ],
   "source": [
    "import pandas as pd\n",
    "import regex as re\n",
    "import numpy as np\n",
    "\n",
    "import torch\n",
    "from sklearn.model_selection import train_test_split\n",
    "from transformers import T5Tokenizer, T5ForConditionalGeneration, AutoTokenizer, MT5ForConditionalGeneration, get_scheduler\n",
    "from torch.utils.data import DataLoader, Dataset\n",
    "from torch.optim import AdamW, lr_scheduler\n",
    "\n",
    "from tqdm import tqdm\n",
    "import matplotlib.pyplot as plt"
   ]
  },
  {
   "cell_type": "code",
   "execution_count": 2,
   "id": "39a81f54",
   "metadata": {},
   "outputs": [],
   "source": [
    "SEP_TOKEN = '▁<extra_id_0>'    #' ; '"
   ]
  },
  {
   "cell_type": "code",
   "execution_count": 3,
   "id": "eb3b29ae",
   "metadata": {},
   "outputs": [
    {
     "name": "stdout",
     "output_type": "stream",
     "text": [
      "                                                text  \\\n",
      "0  ABBYY Retrieval & Morphology Engine\\nВ сообщен...   \n",
      "1  Речевые формулы в диалоге\\nПредложенная класси...   \n",
      "2  Географические названия и полнотекстовые докум...   \n",
      "3  Методы автоматического построения специализиро...   \n",
      "4  Закономерности построения дискурсивной последо...   \n",
      "\n",
      "                                               label  \n",
      "0  [[0, 35], [6, 15], [18, 35], [29, 35], [69, 88...  \n",
      "1  [[0, 15], [18, 25], [74, 99], [134, 140], [175...  \n",
      "2  [[0, 23], [26, 50], [54, 68], [169, 190], [181...  \n",
      "3  [[7, 63], [34, 63], [54, 63], [92, 128], [119,...  \n",
      "4  [[26, 57], [62, 76], [251, 265], [266, 280], [...  \n"
     ]
    }
   ],
   "source": [
    "df = pd.read_json ('train_t1_v1.jsonl', lines = True)\n",
    "df.drop (columns = ['id', 'keywords'], inplace = True)\n",
    "print (df.head ())\n",
    "\n",
    "def split_text (text, segments, delimiters = ['...', '.', '?!', '?', '!']):\n",
    "\n",
    "    # Фильтрация\n",
    "    text = re.sub ('``', '\\\"', text)\n",
    "    text = re.sub ('\\'\\'', '\\\"', text)\n",
    "    text = re.sub ('[“”]', '\\\"', text)\n",
    "\n",
    "    # Создаем регулярное выражение для разделителей\n",
    "    delimiters_pattern = '|'.join(map(re.escape, delimiters))\n",
    "    \n",
    "    # Разделяем текст на абзацы\n",
    "    paragraphs = text.split ('\\n')\n",
    "    \n",
    "    # Список для хранения предложений и их индексов\n",
    "    sentences_with_segments = []\n",
    "    \n",
    "    current_start_index = 0\n",
    "    # Обрабатываем каждый абзац\n",
    "    for paragraph in paragraphs:\n",
    "        # Разделяем абзац на предложения\n",
    "        sentences = re.split (f'(?<=[{delimiters_pattern}]) (?=[A-ZА-ЯЁ])', paragraph.strip ())\n",
    "\n",
    "        #print ('\\nРассматривается параграф: ', paragraph)\n",
    "        \n",
    "        # Сопоставляем предложения с сегментами\n",
    "        for sentence in sentences:\n",
    "            #print ('> Предложение:', sentence)\n",
    "            # Ищем индексы символов для текущего предложения\n",
    "            start_index = current_start_index\n",
    "            end_index = start_index + len (sentence)\n",
    "            matched_segments = [\n",
    "                text [start: end] for start, end in segments if start >= start_index and end <= end_index\n",
    "            ]\n",
    "            sentences_with_segments.append ((sentence, matched_segments))\n",
    "\n",
    "            current_start_index += len (sentence)\n",
    "\n",
    "            #print ('Термины:', matched_segments)\n",
    "    \n",
    "    return sentences_with_segments\n",
    "\n",
    "parallel_text = []\n",
    "parallel_label = []\n",
    "#for i, row in tqdm (df.iterrows (), total = df.shape [0], desc = \"Processing texts: \"):\n",
    "for i, row in df.iterrows ():\n",
    "    text = row ['text']\n",
    "    segments = row ['label']\n",
    "    splitted = split_text (text, segments)\n",
    "    for sentence, terms in splitted:\n",
    "        parallel_text.append (sentence)\n",
    "        constructed_label = ''\n",
    "        for term in terms:\n",
    "            constructed_label += term.strip () + SEP_TOKEN\n",
    "        if len (constructed_label) > 0:\n",
    "            parallel_label.append (constructed_label [: - len (SEP_TOKEN)])\n",
    "        else:\n",
    "            parallel_label.append ('')"
   ]
  },
  {
   "cell_type": "code",
   "execution_count": 4,
   "id": "1dd55c52",
   "metadata": {},
   "outputs": [],
   "source": [
    "USED_MODEL_NAME = 'cointegrated/rut5-small'\n",
    "#USED_MODEL_NAME = './coint_rut5small_finetune_5875'\n",
    "#USED_MODEL_NAME = 'ai-forever/ruT5-base'\n",
    "SEQ_MAX_LENGTH = 150\n",
    "BATCH_SIZE = 8\n",
    "EVAL_BATCH_SIZE = 8"
   ]
  },
  {
   "cell_type": "code",
   "execution_count": 5,
   "id": "eb823812",
   "metadata": {},
   "outputs": [
    {
     "name": "stderr",
     "output_type": "stream",
     "text": [
      "You are using the default legacy behaviour of the <class 'transformers.models.t5.tokenization_t5.T5Tokenizer'>. This is expected, and simply means that the `legacy` (previous) behavior will be used so nothing changes for you. If you want to use the new behaviour, set `legacy=False`. This should only be set if you understand what it means, and thoroughly read the reason why this was added as explained in https://github.com/huggingface/transformers/pull/24565\n",
      "c:\\Users\\Enfi\\AppData\\Local\\Programs\\Python\\Python310\\lib\\site-packages\\transformers\\convert_slow_tokenizer.py:561: UserWarning: The sentencepiece tokenizer that you are converting to a fast tokenizer uses the byte fallback option which is not implemented in the fast tokenizers. In practice this means that the fast version of the tokenizer can produce unknown tokens whereas the sentencepiece version would have converted these unknown tokens into a sequence of byte tokens matching the original piece of text.\n",
      "  warnings.warn(\n"
     ]
    },
    {
     "data": {
      "text/plain": [
       "T5TokenizerFast(name_or_path='cointegrated/rut5-small', vocab_size=20200, model_max_length=1000000000000000019884624838656, is_fast=True, padding_side='right', truncation_side='right', special_tokens={'eos_token': '</s>', 'unk_token': '<unk>', 'pad_token': '<pad>', 'additional_special_tokens': ['<extra_id_0>', '<extra_id_1>', '<extra_id_2>', '<extra_id_3>', '<extra_id_4>', '<extra_id_5>', '<extra_id_6>', '<extra_id_7>', '<extra_id_8>', '<extra_id_9>', '<extra_id_10>', '<extra_id_11>', '<extra_id_12>', '<extra_id_13>', '<extra_id_14>', '<extra_id_15>', '<extra_id_16>', '<extra_id_17>', '<extra_id_18>', '<extra_id_19>', '<extra_id_20>', '<extra_id_21>', '<extra_id_22>', '<extra_id_23>', '<extra_id_24>', '<extra_id_25>', '<extra_id_26>', '<extra_id_27>', '<extra_id_28>', '<extra_id_29>', '<extra_id_30>', '<extra_id_31>', '<extra_id_32>', '<extra_id_33>', '<extra_id_34>', '<extra_id_35>', '<extra_id_36>', '<extra_id_37>', '<extra_id_38>', '<extra_id_39>', '<extra_id_40>', '<extra_id_41>', '<extra_id_42>', '<extra_id_43>', '<extra_id_44>', '<extra_id_45>', '<extra_id_46>', '<extra_id_47>', '<extra_id_48>', '<extra_id_49>', '<extra_id_50>', '<extra_id_51>', '<extra_id_52>', '<extra_id_53>', '<extra_id_54>', '<extra_id_55>', '<extra_id_56>', '<extra_id_57>', '<extra_id_58>', '<extra_id_59>', '<extra_id_60>', '<extra_id_61>', '<extra_id_62>', '<extra_id_63>', '<extra_id_64>', '<extra_id_65>', '<extra_id_66>', '<extra_id_67>', '<extra_id_68>', '<extra_id_69>', '<extra_id_70>', '<extra_id_71>', '<extra_id_72>', '<extra_id_73>', '<extra_id_74>', '<extra_id_75>', '<extra_id_76>', '<extra_id_77>', '<extra_id_78>', '<extra_id_79>', '<extra_id_80>', '<extra_id_81>', '<extra_id_82>', '<extra_id_83>', '<extra_id_84>', '<extra_id_85>', '<extra_id_86>', '<extra_id_87>', '<extra_id_88>', '<extra_id_89>', '<extra_id_90>', '<extra_id_91>', '<extra_id_92>', '<extra_id_93>', '<extra_id_94>', '<extra_id_95>', '<extra_id_96>', '<extra_id_97>', '<extra_id_98>', '<extra_id_99>']}, clean_up_tokenization_spaces=False, added_tokens_decoder={\n",
       "\t0: AddedToken(\"<pad>\", rstrip=False, lstrip=False, single_word=False, normalized=False, special=True),\n",
       "\t1: AddedToken(\"</s>\", rstrip=False, lstrip=False, single_word=False, normalized=False, special=True),\n",
       "\t2: AddedToken(\"<unk>\", rstrip=False, lstrip=False, single_word=False, normalized=False, special=True),\n",
       "\t20000: AddedToken(\"▁<extra_id_99>\", rstrip=False, lstrip=False, single_word=False, normalized=False, special=False),\n",
       "\t20001: AddedToken(\"▁<extra_id_98>\", rstrip=False, lstrip=False, single_word=False, normalized=False, special=False),\n",
       "\t20002: AddedToken(\"▁<extra_id_97>\", rstrip=False, lstrip=False, single_word=False, normalized=False, special=False),\n",
       "\t20003: AddedToken(\"▁<extra_id_96>\", rstrip=False, lstrip=False, single_word=False, normalized=False, special=False),\n",
       "\t20004: AddedToken(\"▁<extra_id_95>\", rstrip=False, lstrip=False, single_word=False, normalized=False, special=False),\n",
       "\t20005: AddedToken(\"▁<extra_id_94>\", rstrip=False, lstrip=False, single_word=False, normalized=False, special=False),\n",
       "\t20006: AddedToken(\"▁<extra_id_93>\", rstrip=False, lstrip=False, single_word=False, normalized=False, special=False),\n",
       "\t20007: AddedToken(\"▁<extra_id_92>\", rstrip=False, lstrip=False, single_word=False, normalized=False, special=False),\n",
       "\t20008: AddedToken(\"▁<extra_id_91>\", rstrip=False, lstrip=False, single_word=False, normalized=False, special=False),\n",
       "\t20009: AddedToken(\"▁<extra_id_90>\", rstrip=False, lstrip=False, single_word=False, normalized=False, special=False),\n",
       "\t20010: AddedToken(\"▁<extra_id_89>\", rstrip=False, lstrip=False, single_word=False, normalized=False, special=False),\n",
       "\t20011: AddedToken(\"▁<extra_id_88>\", rstrip=False, lstrip=False, single_word=False, normalized=False, special=False),\n",
       "\t20012: AddedToken(\"▁<extra_id_87>\", rstrip=False, lstrip=False, single_word=False, normalized=False, special=False),\n",
       "\t20013: AddedToken(\"▁<extra_id_86>\", rstrip=False, lstrip=False, single_word=False, normalized=False, special=False),\n",
       "\t20014: AddedToken(\"▁<extra_id_85>\", rstrip=False, lstrip=False, single_word=False, normalized=False, special=False),\n",
       "\t20015: AddedToken(\"▁<extra_id_84>\", rstrip=False, lstrip=False, single_word=False, normalized=False, special=False),\n",
       "\t20016: AddedToken(\"▁<extra_id_83>\", rstrip=False, lstrip=False, single_word=False, normalized=False, special=False),\n",
       "\t20017: AddedToken(\"▁<extra_id_82>\", rstrip=False, lstrip=False, single_word=False, normalized=False, special=False),\n",
       "\t20018: AddedToken(\"▁<extra_id_81>\", rstrip=False, lstrip=False, single_word=False, normalized=False, special=False),\n",
       "\t20019: AddedToken(\"▁<extra_id_80>\", rstrip=False, lstrip=False, single_word=False, normalized=False, special=False),\n",
       "\t20020: AddedToken(\"▁<extra_id_79>\", rstrip=False, lstrip=False, single_word=False, normalized=False, special=False),\n",
       "\t20021: AddedToken(\"▁<extra_id_78>\", rstrip=False, lstrip=False, single_word=False, normalized=False, special=False),\n",
       "\t20022: AddedToken(\"▁<extra_id_77>\", rstrip=False, lstrip=False, single_word=False, normalized=False, special=False),\n",
       "\t20023: AddedToken(\"▁<extra_id_76>\", rstrip=False, lstrip=False, single_word=False, normalized=False, special=False),\n",
       "\t20024: AddedToken(\"▁<extra_id_75>\", rstrip=False, lstrip=False, single_word=False, normalized=False, special=False),\n",
       "\t20025: AddedToken(\"▁<extra_id_74>\", rstrip=False, lstrip=False, single_word=False, normalized=False, special=False),\n",
       "\t20026: AddedToken(\"▁<extra_id_73>\", rstrip=False, lstrip=False, single_word=False, normalized=False, special=False),\n",
       "\t20027: AddedToken(\"▁<extra_id_72>\", rstrip=False, lstrip=False, single_word=False, normalized=False, special=False),\n",
       "\t20028: AddedToken(\"▁<extra_id_71>\", rstrip=False, lstrip=False, single_word=False, normalized=False, special=False),\n",
       "\t20029: AddedToken(\"▁<extra_id_70>\", rstrip=False, lstrip=False, single_word=False, normalized=False, special=False),\n",
       "\t20030: AddedToken(\"▁<extra_id_69>\", rstrip=False, lstrip=False, single_word=False, normalized=False, special=False),\n",
       "\t20031: AddedToken(\"▁<extra_id_68>\", rstrip=False, lstrip=False, single_word=False, normalized=False, special=False),\n",
       "\t20032: AddedToken(\"▁<extra_id_67>\", rstrip=False, lstrip=False, single_word=False, normalized=False, special=False),\n",
       "\t20033: AddedToken(\"▁<extra_id_66>\", rstrip=False, lstrip=False, single_word=False, normalized=False, special=False),\n",
       "\t20034: AddedToken(\"▁<extra_id_65>\", rstrip=False, lstrip=False, single_word=False, normalized=False, special=False),\n",
       "\t20035: AddedToken(\"▁<extra_id_64>\", rstrip=False, lstrip=False, single_word=False, normalized=False, special=False),\n",
       "\t20036: AddedToken(\"▁<extra_id_63>\", rstrip=False, lstrip=False, single_word=False, normalized=False, special=False),\n",
       "\t20037: AddedToken(\"▁<extra_id_62>\", rstrip=False, lstrip=False, single_word=False, normalized=False, special=False),\n",
       "\t20038: AddedToken(\"▁<extra_id_61>\", rstrip=False, lstrip=False, single_word=False, normalized=False, special=False),\n",
       "\t20039: AddedToken(\"▁<extra_id_60>\", rstrip=False, lstrip=False, single_word=False, normalized=False, special=False),\n",
       "\t20040: AddedToken(\"▁<extra_id_59>\", rstrip=False, lstrip=False, single_word=False, normalized=False, special=False),\n",
       "\t20041: AddedToken(\"▁<extra_id_58>\", rstrip=False, lstrip=False, single_word=False, normalized=False, special=False),\n",
       "\t20042: AddedToken(\"▁<extra_id_57>\", rstrip=False, lstrip=False, single_word=False, normalized=False, special=False),\n",
       "\t20043: AddedToken(\"▁<extra_id_56>\", rstrip=False, lstrip=False, single_word=False, normalized=False, special=False),\n",
       "\t20044: AddedToken(\"▁<extra_id_55>\", rstrip=False, lstrip=False, single_word=False, normalized=False, special=False),\n",
       "\t20045: AddedToken(\"▁<extra_id_54>\", rstrip=False, lstrip=False, single_word=False, normalized=False, special=False),\n",
       "\t20046: AddedToken(\"▁<extra_id_53>\", rstrip=False, lstrip=False, single_word=False, normalized=False, special=False),\n",
       "\t20047: AddedToken(\"▁<extra_id_52>\", rstrip=False, lstrip=False, single_word=False, normalized=False, special=False),\n",
       "\t20048: AddedToken(\"▁<extra_id_51>\", rstrip=False, lstrip=False, single_word=False, normalized=False, special=False),\n",
       "\t20049: AddedToken(\"▁<extra_id_50>\", rstrip=False, lstrip=False, single_word=False, normalized=False, special=False),\n",
       "\t20050: AddedToken(\"▁<extra_id_49>\", rstrip=False, lstrip=False, single_word=False, normalized=False, special=False),\n",
       "\t20051: AddedToken(\"▁<extra_id_48>\", rstrip=False, lstrip=False, single_word=False, normalized=False, special=False),\n",
       "\t20052: AddedToken(\"▁<extra_id_47>\", rstrip=False, lstrip=False, single_word=False, normalized=False, special=False),\n",
       "\t20053: AddedToken(\"▁<extra_id_46>\", rstrip=False, lstrip=False, single_word=False, normalized=False, special=False),\n",
       "\t20054: AddedToken(\"▁<extra_id_45>\", rstrip=False, lstrip=False, single_word=False, normalized=False, special=False),\n",
       "\t20055: AddedToken(\"▁<extra_id_44>\", rstrip=False, lstrip=False, single_word=False, normalized=False, special=False),\n",
       "\t20056: AddedToken(\"▁<extra_id_43>\", rstrip=False, lstrip=False, single_word=False, normalized=False, special=False),\n",
       "\t20057: AddedToken(\"▁<extra_id_42>\", rstrip=False, lstrip=False, single_word=False, normalized=False, special=False),\n",
       "\t20058: AddedToken(\"▁<extra_id_41>\", rstrip=False, lstrip=False, single_word=False, normalized=False, special=False),\n",
       "\t20059: AddedToken(\"▁<extra_id_40>\", rstrip=False, lstrip=False, single_word=False, normalized=False, special=False),\n",
       "\t20060: AddedToken(\"▁<extra_id_39>\", rstrip=False, lstrip=False, single_word=False, normalized=False, special=False),\n",
       "\t20061: AddedToken(\"▁<extra_id_38>\", rstrip=False, lstrip=False, single_word=False, normalized=False, special=False),\n",
       "\t20062: AddedToken(\"▁<extra_id_37>\", rstrip=False, lstrip=False, single_word=False, normalized=False, special=False),\n",
       "\t20063: AddedToken(\"▁<extra_id_36>\", rstrip=False, lstrip=False, single_word=False, normalized=False, special=False),\n",
       "\t20064: AddedToken(\"▁<extra_id_35>\", rstrip=False, lstrip=False, single_word=False, normalized=False, special=False),\n",
       "\t20065: AddedToken(\"▁<extra_id_34>\", rstrip=False, lstrip=False, single_word=False, normalized=False, special=False),\n",
       "\t20066: AddedToken(\"▁<extra_id_33>\", rstrip=False, lstrip=False, single_word=False, normalized=False, special=False),\n",
       "\t20067: AddedToken(\"▁<extra_id_32>\", rstrip=False, lstrip=False, single_word=False, normalized=False, special=False),\n",
       "\t20068: AddedToken(\"▁<extra_id_31>\", rstrip=False, lstrip=False, single_word=False, normalized=False, special=False),\n",
       "\t20069: AddedToken(\"▁<extra_id_30>\", rstrip=False, lstrip=False, single_word=False, normalized=False, special=False),\n",
       "\t20070: AddedToken(\"▁<extra_id_29>\", rstrip=False, lstrip=False, single_word=False, normalized=False, special=False),\n",
       "\t20071: AddedToken(\"▁<extra_id_28>\", rstrip=False, lstrip=False, single_word=False, normalized=False, special=False),\n",
       "\t20072: AddedToken(\"▁<extra_id_27>\", rstrip=False, lstrip=False, single_word=False, normalized=False, special=False),\n",
       "\t20073: AddedToken(\"▁<extra_id_26>\", rstrip=False, lstrip=False, single_word=False, normalized=False, special=False),\n",
       "\t20074: AddedToken(\"▁<extra_id_25>\", rstrip=False, lstrip=False, single_word=False, normalized=False, special=False),\n",
       "\t20075: AddedToken(\"▁<extra_id_24>\", rstrip=False, lstrip=False, single_word=False, normalized=False, special=False),\n",
       "\t20076: AddedToken(\"▁<extra_id_23>\", rstrip=False, lstrip=False, single_word=False, normalized=False, special=False),\n",
       "\t20077: AddedToken(\"▁<extra_id_22>\", rstrip=False, lstrip=False, single_word=False, normalized=False, special=False),\n",
       "\t20078: AddedToken(\"▁<extra_id_21>\", rstrip=False, lstrip=False, single_word=False, normalized=False, special=False),\n",
       "\t20079: AddedToken(\"▁<extra_id_20>\", rstrip=False, lstrip=False, single_word=False, normalized=False, special=False),\n",
       "\t20080: AddedToken(\"▁<extra_id_19>\", rstrip=False, lstrip=False, single_word=False, normalized=False, special=False),\n",
       "\t20081: AddedToken(\"▁<extra_id_18>\", rstrip=False, lstrip=False, single_word=False, normalized=False, special=False),\n",
       "\t20082: AddedToken(\"▁<extra_id_17>\", rstrip=False, lstrip=False, single_word=False, normalized=False, special=False),\n",
       "\t20083: AddedToken(\"▁<extra_id_16>\", rstrip=False, lstrip=False, single_word=False, normalized=False, special=False),\n",
       "\t20084: AddedToken(\"▁<extra_id_15>\", rstrip=False, lstrip=False, single_word=False, normalized=False, special=False),\n",
       "\t20085: AddedToken(\"▁<extra_id_14>\", rstrip=False, lstrip=False, single_word=False, normalized=False, special=False),\n",
       "\t20086: AddedToken(\"▁<extra_id_13>\", rstrip=False, lstrip=False, single_word=False, normalized=False, special=False),\n",
       "\t20087: AddedToken(\"▁<extra_id_12>\", rstrip=False, lstrip=False, single_word=False, normalized=False, special=False),\n",
       "\t20088: AddedToken(\"▁<extra_id_11>\", rstrip=False, lstrip=False, single_word=False, normalized=False, special=False),\n",
       "\t20089: AddedToken(\"▁<extra_id_10>\", rstrip=False, lstrip=False, single_word=False, normalized=False, special=False),\n",
       "\t20090: AddedToken(\"▁<extra_id_9>\", rstrip=False, lstrip=False, single_word=False, normalized=False, special=False),\n",
       "\t20091: AddedToken(\"▁<extra_id_8>\", rstrip=False, lstrip=False, single_word=False, normalized=False, special=False),\n",
       "\t20092: AddedToken(\"▁<extra_id_7>\", rstrip=False, lstrip=False, single_word=False, normalized=False, special=False),\n",
       "\t20093: AddedToken(\"▁<extra_id_6>\", rstrip=False, lstrip=False, single_word=False, normalized=False, special=False),\n",
       "\t20094: AddedToken(\"▁<extra_id_5>\", rstrip=False, lstrip=False, single_word=False, normalized=False, special=False),\n",
       "\t20095: AddedToken(\"▁<extra_id_4>\", rstrip=False, lstrip=False, single_word=False, normalized=False, special=False),\n",
       "\t20096: AddedToken(\"▁<extra_id_3>\", rstrip=False, lstrip=False, single_word=False, normalized=False, special=False),\n",
       "\t20097: AddedToken(\"▁<extra_id_2>\", rstrip=False, lstrip=False, single_word=False, normalized=False, special=False),\n",
       "\t20098: AddedToken(\"▁<extra_id_1>\", rstrip=False, lstrip=False, single_word=False, normalized=False, special=False),\n",
       "\t20099: AddedToken(\"▁<extra_id_0>\", rstrip=False, lstrip=False, single_word=False, normalized=False, special=False),\n",
       "\t20100: AddedToken(\"<extra_id_99>\", rstrip=False, lstrip=False, single_word=False, normalized=False, special=True),\n",
       "\t20101: AddedToken(\"<extra_id_98>\", rstrip=False, lstrip=False, single_word=False, normalized=False, special=True),\n",
       "\t20102: AddedToken(\"<extra_id_97>\", rstrip=False, lstrip=False, single_word=False, normalized=False, special=True),\n",
       "\t20103: AddedToken(\"<extra_id_96>\", rstrip=False, lstrip=False, single_word=False, normalized=False, special=True),\n",
       "\t20104: AddedToken(\"<extra_id_95>\", rstrip=False, lstrip=False, single_word=False, normalized=False, special=True),\n",
       "\t20105: AddedToken(\"<extra_id_94>\", rstrip=False, lstrip=False, single_word=False, normalized=False, special=True),\n",
       "\t20106: AddedToken(\"<extra_id_93>\", rstrip=False, lstrip=False, single_word=False, normalized=False, special=True),\n",
       "\t20107: AddedToken(\"<extra_id_92>\", rstrip=False, lstrip=False, single_word=False, normalized=False, special=True),\n",
       "\t20108: AddedToken(\"<extra_id_91>\", rstrip=False, lstrip=False, single_word=False, normalized=False, special=True),\n",
       "\t20109: AddedToken(\"<extra_id_90>\", rstrip=False, lstrip=False, single_word=False, normalized=False, special=True),\n",
       "\t20110: AddedToken(\"<extra_id_89>\", rstrip=False, lstrip=False, single_word=False, normalized=False, special=True),\n",
       "\t20111: AddedToken(\"<extra_id_88>\", rstrip=False, lstrip=False, single_word=False, normalized=False, special=True),\n",
       "\t20112: AddedToken(\"<extra_id_87>\", rstrip=False, lstrip=False, single_word=False, normalized=False, special=True),\n",
       "\t20113: AddedToken(\"<extra_id_86>\", rstrip=False, lstrip=False, single_word=False, normalized=False, special=True),\n",
       "\t20114: AddedToken(\"<extra_id_85>\", rstrip=False, lstrip=False, single_word=False, normalized=False, special=True),\n",
       "\t20115: AddedToken(\"<extra_id_84>\", rstrip=False, lstrip=False, single_word=False, normalized=False, special=True),\n",
       "\t20116: AddedToken(\"<extra_id_83>\", rstrip=False, lstrip=False, single_word=False, normalized=False, special=True),\n",
       "\t20117: AddedToken(\"<extra_id_82>\", rstrip=False, lstrip=False, single_word=False, normalized=False, special=True),\n",
       "\t20118: AddedToken(\"<extra_id_81>\", rstrip=False, lstrip=False, single_word=False, normalized=False, special=True),\n",
       "\t20119: AddedToken(\"<extra_id_80>\", rstrip=False, lstrip=False, single_word=False, normalized=False, special=True),\n",
       "\t20120: AddedToken(\"<extra_id_79>\", rstrip=False, lstrip=False, single_word=False, normalized=False, special=True),\n",
       "\t20121: AddedToken(\"<extra_id_78>\", rstrip=False, lstrip=False, single_word=False, normalized=False, special=True),\n",
       "\t20122: AddedToken(\"<extra_id_77>\", rstrip=False, lstrip=False, single_word=False, normalized=False, special=True),\n",
       "\t20123: AddedToken(\"<extra_id_76>\", rstrip=False, lstrip=False, single_word=False, normalized=False, special=True),\n",
       "\t20124: AddedToken(\"<extra_id_75>\", rstrip=False, lstrip=False, single_word=False, normalized=False, special=True),\n",
       "\t20125: AddedToken(\"<extra_id_74>\", rstrip=False, lstrip=False, single_word=False, normalized=False, special=True),\n",
       "\t20126: AddedToken(\"<extra_id_73>\", rstrip=False, lstrip=False, single_word=False, normalized=False, special=True),\n",
       "\t20127: AddedToken(\"<extra_id_72>\", rstrip=False, lstrip=False, single_word=False, normalized=False, special=True),\n",
       "\t20128: AddedToken(\"<extra_id_71>\", rstrip=False, lstrip=False, single_word=False, normalized=False, special=True),\n",
       "\t20129: AddedToken(\"<extra_id_70>\", rstrip=False, lstrip=False, single_word=False, normalized=False, special=True),\n",
       "\t20130: AddedToken(\"<extra_id_69>\", rstrip=False, lstrip=False, single_word=False, normalized=False, special=True),\n",
       "\t20131: AddedToken(\"<extra_id_68>\", rstrip=False, lstrip=False, single_word=False, normalized=False, special=True),\n",
       "\t20132: AddedToken(\"<extra_id_67>\", rstrip=False, lstrip=False, single_word=False, normalized=False, special=True),\n",
       "\t20133: AddedToken(\"<extra_id_66>\", rstrip=False, lstrip=False, single_word=False, normalized=False, special=True),\n",
       "\t20134: AddedToken(\"<extra_id_65>\", rstrip=False, lstrip=False, single_word=False, normalized=False, special=True),\n",
       "\t20135: AddedToken(\"<extra_id_64>\", rstrip=False, lstrip=False, single_word=False, normalized=False, special=True),\n",
       "\t20136: AddedToken(\"<extra_id_63>\", rstrip=False, lstrip=False, single_word=False, normalized=False, special=True),\n",
       "\t20137: AddedToken(\"<extra_id_62>\", rstrip=False, lstrip=False, single_word=False, normalized=False, special=True),\n",
       "\t20138: AddedToken(\"<extra_id_61>\", rstrip=False, lstrip=False, single_word=False, normalized=False, special=True),\n",
       "\t20139: AddedToken(\"<extra_id_60>\", rstrip=False, lstrip=False, single_word=False, normalized=False, special=True),\n",
       "\t20140: AddedToken(\"<extra_id_59>\", rstrip=False, lstrip=False, single_word=False, normalized=False, special=True),\n",
       "\t20141: AddedToken(\"<extra_id_58>\", rstrip=False, lstrip=False, single_word=False, normalized=False, special=True),\n",
       "\t20142: AddedToken(\"<extra_id_57>\", rstrip=False, lstrip=False, single_word=False, normalized=False, special=True),\n",
       "\t20143: AddedToken(\"<extra_id_56>\", rstrip=False, lstrip=False, single_word=False, normalized=False, special=True),\n",
       "\t20144: AddedToken(\"<extra_id_55>\", rstrip=False, lstrip=False, single_word=False, normalized=False, special=True),\n",
       "\t20145: AddedToken(\"<extra_id_54>\", rstrip=False, lstrip=False, single_word=False, normalized=False, special=True),\n",
       "\t20146: AddedToken(\"<extra_id_53>\", rstrip=False, lstrip=False, single_word=False, normalized=False, special=True),\n",
       "\t20147: AddedToken(\"<extra_id_52>\", rstrip=False, lstrip=False, single_word=False, normalized=False, special=True),\n",
       "\t20148: AddedToken(\"<extra_id_51>\", rstrip=False, lstrip=False, single_word=False, normalized=False, special=True),\n",
       "\t20149: AddedToken(\"<extra_id_50>\", rstrip=False, lstrip=False, single_word=False, normalized=False, special=True),\n",
       "\t20150: AddedToken(\"<extra_id_49>\", rstrip=False, lstrip=False, single_word=False, normalized=False, special=True),\n",
       "\t20151: AddedToken(\"<extra_id_48>\", rstrip=False, lstrip=False, single_word=False, normalized=False, special=True),\n",
       "\t20152: AddedToken(\"<extra_id_47>\", rstrip=False, lstrip=False, single_word=False, normalized=False, special=True),\n",
       "\t20153: AddedToken(\"<extra_id_46>\", rstrip=False, lstrip=False, single_word=False, normalized=False, special=True),\n",
       "\t20154: AddedToken(\"<extra_id_45>\", rstrip=False, lstrip=False, single_word=False, normalized=False, special=True),\n",
       "\t20155: AddedToken(\"<extra_id_44>\", rstrip=False, lstrip=False, single_word=False, normalized=False, special=True),\n",
       "\t20156: AddedToken(\"<extra_id_43>\", rstrip=False, lstrip=False, single_word=False, normalized=False, special=True),\n",
       "\t20157: AddedToken(\"<extra_id_42>\", rstrip=False, lstrip=False, single_word=False, normalized=False, special=True),\n",
       "\t20158: AddedToken(\"<extra_id_41>\", rstrip=False, lstrip=False, single_word=False, normalized=False, special=True),\n",
       "\t20159: AddedToken(\"<extra_id_40>\", rstrip=False, lstrip=False, single_word=False, normalized=False, special=True),\n",
       "\t20160: AddedToken(\"<extra_id_39>\", rstrip=False, lstrip=False, single_word=False, normalized=False, special=True),\n",
       "\t20161: AddedToken(\"<extra_id_38>\", rstrip=False, lstrip=False, single_word=False, normalized=False, special=True),\n",
       "\t20162: AddedToken(\"<extra_id_37>\", rstrip=False, lstrip=False, single_word=False, normalized=False, special=True),\n",
       "\t20163: AddedToken(\"<extra_id_36>\", rstrip=False, lstrip=False, single_word=False, normalized=False, special=True),\n",
       "\t20164: AddedToken(\"<extra_id_35>\", rstrip=False, lstrip=False, single_word=False, normalized=False, special=True),\n",
       "\t20165: AddedToken(\"<extra_id_34>\", rstrip=False, lstrip=False, single_word=False, normalized=False, special=True),\n",
       "\t20166: AddedToken(\"<extra_id_33>\", rstrip=False, lstrip=False, single_word=False, normalized=False, special=True),\n",
       "\t20167: AddedToken(\"<extra_id_32>\", rstrip=False, lstrip=False, single_word=False, normalized=False, special=True),\n",
       "\t20168: AddedToken(\"<extra_id_31>\", rstrip=False, lstrip=False, single_word=False, normalized=False, special=True),\n",
       "\t20169: AddedToken(\"<extra_id_30>\", rstrip=False, lstrip=False, single_word=False, normalized=False, special=True),\n",
       "\t20170: AddedToken(\"<extra_id_29>\", rstrip=False, lstrip=False, single_word=False, normalized=False, special=True),\n",
       "\t20171: AddedToken(\"<extra_id_28>\", rstrip=False, lstrip=False, single_word=False, normalized=False, special=True),\n",
       "\t20172: AddedToken(\"<extra_id_27>\", rstrip=False, lstrip=False, single_word=False, normalized=False, special=True),\n",
       "\t20173: AddedToken(\"<extra_id_26>\", rstrip=False, lstrip=False, single_word=False, normalized=False, special=True),\n",
       "\t20174: AddedToken(\"<extra_id_25>\", rstrip=False, lstrip=False, single_word=False, normalized=False, special=True),\n",
       "\t20175: AddedToken(\"<extra_id_24>\", rstrip=False, lstrip=False, single_word=False, normalized=False, special=True),\n",
       "\t20176: AddedToken(\"<extra_id_23>\", rstrip=False, lstrip=False, single_word=False, normalized=False, special=True),\n",
       "\t20177: AddedToken(\"<extra_id_22>\", rstrip=False, lstrip=False, single_word=False, normalized=False, special=True),\n",
       "\t20178: AddedToken(\"<extra_id_21>\", rstrip=False, lstrip=False, single_word=False, normalized=False, special=True),\n",
       "\t20179: AddedToken(\"<extra_id_20>\", rstrip=False, lstrip=False, single_word=False, normalized=False, special=True),\n",
       "\t20180: AddedToken(\"<extra_id_19>\", rstrip=False, lstrip=False, single_word=False, normalized=False, special=True),\n",
       "\t20181: AddedToken(\"<extra_id_18>\", rstrip=False, lstrip=False, single_word=False, normalized=False, special=True),\n",
       "\t20182: AddedToken(\"<extra_id_17>\", rstrip=False, lstrip=False, single_word=False, normalized=False, special=True),\n",
       "\t20183: AddedToken(\"<extra_id_16>\", rstrip=False, lstrip=False, single_word=False, normalized=False, special=True),\n",
       "\t20184: AddedToken(\"<extra_id_15>\", rstrip=False, lstrip=False, single_word=False, normalized=False, special=True),\n",
       "\t20185: AddedToken(\"<extra_id_14>\", rstrip=False, lstrip=False, single_word=False, normalized=False, special=True),\n",
       "\t20186: AddedToken(\"<extra_id_13>\", rstrip=False, lstrip=False, single_word=False, normalized=False, special=True),\n",
       "\t20187: AddedToken(\"<extra_id_12>\", rstrip=False, lstrip=False, single_word=False, normalized=False, special=True),\n",
       "\t20188: AddedToken(\"<extra_id_11>\", rstrip=False, lstrip=False, single_word=False, normalized=False, special=True),\n",
       "\t20189: AddedToken(\"<extra_id_10>\", rstrip=False, lstrip=False, single_word=False, normalized=False, special=True),\n",
       "\t20190: AddedToken(\"<extra_id_9>\", rstrip=False, lstrip=False, single_word=False, normalized=False, special=True),\n",
       "\t20191: AddedToken(\"<extra_id_8>\", rstrip=False, lstrip=False, single_word=False, normalized=False, special=True),\n",
       "\t20192: AddedToken(\"<extra_id_7>\", rstrip=False, lstrip=False, single_word=False, normalized=False, special=True),\n",
       "\t20193: AddedToken(\"<extra_id_6>\", rstrip=False, lstrip=False, single_word=False, normalized=False, special=True),\n",
       "\t20194: AddedToken(\"<extra_id_5>\", rstrip=False, lstrip=False, single_word=False, normalized=False, special=True),\n",
       "\t20195: AddedToken(\"<extra_id_4>\", rstrip=False, lstrip=False, single_word=False, normalized=False, special=True),\n",
       "\t20196: AddedToken(\"<extra_id_3>\", rstrip=False, lstrip=False, single_word=False, normalized=False, special=True),\n",
       "\t20197: AddedToken(\"<extra_id_2>\", rstrip=False, lstrip=False, single_word=False, normalized=False, special=True),\n",
       "\t20198: AddedToken(\"<extra_id_1>\", rstrip=False, lstrip=False, single_word=False, normalized=False, special=True),\n",
       "\t20199: AddedToken(\"<extra_id_0>\", rstrip=False, lstrip=False, single_word=False, normalized=False, special=True),\n",
       "}\n",
       ")"
      ]
     },
     "execution_count": 5,
     "metadata": {},
     "output_type": "execute_result"
    }
   ],
   "source": [
    "#tokenizer = T5Tokenizer.from_pretrained (USED_MODEL_NAME)\n",
    "tokenizer = AutoTokenizer.from_pretrained (USED_MODEL_NAME)\n",
    "tokenizer"
   ]
  },
  {
   "cell_type": "code",
   "execution_count": 6,
   "id": "0a12f5a3",
   "metadata": {},
   "outputs": [],
   "source": [
    "#tokenizer.add_special_tokens ({'additional_special_tokens': str (SEP_TOKEN)})\n",
    "#tokenizer"
   ]
  },
  {
   "cell_type": "code",
   "execution_count": 7,
   "id": "5d1f4ff7",
   "metadata": {},
   "outputs": [
    {
     "data": {
      "text/plain": [
       "{'input_ids': tensor([[ 5269,  1531,  8484,  9304,   433, 20099,  6972, 17003,     1,     0,\n",
       "             0,     0,     0,     0,     0,     0,     0,     0,     0,     0,\n",
       "             0,     0,     0,     0,     0,     0,     0,     0,     0,     0,\n",
       "             0,     0,     0,     0,     0,     0,     0,     0,     0,     0,\n",
       "             0,     0,     0,     0,     0,     0,     0,     0,     0,     0,\n",
       "             0,     0,     0,     0,     0,     0,     0,     0,     0,     0,\n",
       "             0,     0,     0,     0,     0,     0,     0,     0,     0,     0,\n",
       "             0,     0,     0,     0,     0,     0,     0,     0,     0,     0,\n",
       "             0,     0,     0,     0,     0,     0,     0,     0,     0,     0,\n",
       "             0,     0,     0,     0,     0,     0,     0,     0,     0,     0,\n",
       "             0,     0,     0,     0,     0,     0,     0,     0,     0,     0,\n",
       "             0,     0,     0,     0,     0,     0,     0,     0,     0,     0,\n",
       "             0,     0,     0,     0,     0,     0,     0,     0,     0,     0,\n",
       "             0,     0,     0,     0,     0,     0,     0,     0,     0,     0,\n",
       "             0,     0,     0,     0,     0,     0,     0,     0,     0,     0]]), 'attention_mask': tensor([[1, 1, 1, 1, 1, 1, 1, 1, 1, 0, 0, 0, 0, 0, 0, 0, 0, 0, 0, 0, 0, 0, 0, 0,\n",
       "         0, 0, 0, 0, 0, 0, 0, 0, 0, 0, 0, 0, 0, 0, 0, 0, 0, 0, 0, 0, 0, 0, 0, 0,\n",
       "         0, 0, 0, 0, 0, 0, 0, 0, 0, 0, 0, 0, 0, 0, 0, 0, 0, 0, 0, 0, 0, 0, 0, 0,\n",
       "         0, 0, 0, 0, 0, 0, 0, 0, 0, 0, 0, 0, 0, 0, 0, 0, 0, 0, 0, 0, 0, 0, 0, 0,\n",
       "         0, 0, 0, 0, 0, 0, 0, 0, 0, 0, 0, 0, 0, 0, 0, 0, 0, 0, 0, 0, 0, 0, 0, 0,\n",
       "         0, 0, 0, 0, 0, 0, 0, 0, 0, 0, 0, 0, 0, 0, 0, 0, 0, 0, 0, 0, 0, 0, 0, 0,\n",
       "         0, 0, 0, 0, 0, 0]])}"
      ]
     },
     "execution_count": 7,
     "metadata": {},
     "output_type": "execute_result"
    }
   ],
   "source": [
    "enc = tokenizer (parallel_label [3], padding = 'max_length', truncation = True, max_length = SEQ_MAX_LENGTH, return_tensors = 'pt')\n",
    "enc\n"
   ]
  },
  {
   "cell_type": "code",
   "execution_count": 8,
   "id": "2a74fff6",
   "metadata": {},
   "outputs": [
    {
     "data": {
      "text/plain": [
       "['Речевые формулы <extra_id_0> диалоге</s><pad><pad><pad><pad><pad><pad><pad><pad><pad><pad><pad><pad><pad><pad><pad><pad><pad><pad><pad><pad><pad><pad><pad><pad><pad><pad><pad><pad><pad><pad><pad><pad><pad><pad><pad><pad><pad><pad><pad><pad><pad><pad><pad><pad><pad><pad><pad><pad><pad><pad><pad><pad><pad><pad><pad><pad><pad><pad><pad><pad><pad><pad><pad><pad><pad><pad><pad><pad><pad><pad><pad><pad><pad><pad><pad><pad><pad><pad><pad><pad><pad><pad><pad><pad><pad><pad><pad><pad><pad><pad><pad><pad><pad><pad><pad><pad><pad><pad><pad><pad><pad><pad><pad><pad><pad><pad><pad><pad><pad><pad><pad><pad><pad><pad><pad><pad><pad><pad><pad><pad><pad><pad><pad><pad><pad><pad><pad><pad><pad><pad><pad><pad><pad><pad><pad><pad><pad><pad><pad><pad><pad>']"
      ]
     },
     "execution_count": 8,
     "metadata": {},
     "output_type": "execute_result"
    }
   ],
   "source": [
    "tokenizer.batch_decode (enc ['input_ids'])"
   ]
  },
  {
   "cell_type": "code",
   "execution_count": 9,
   "id": "4b31e379",
   "metadata": {},
   "outputs": [],
   "source": [
    "train_data_txt, temp_data_txt, train_labels_txt, temp_labels_txt = train_test_split (parallel_text, parallel_label, test_size = 0.2, random_state = 14)\n",
    "val_data_txt, test_data_txt, val_labels_txt, test_labels_txt = train_test_split (temp_data_txt, temp_labels_txt, test_size = 0.5, random_state = 14)"
   ]
  },
  {
   "cell_type": "code",
   "execution_count": 10,
   "id": "6d680ab9",
   "metadata": {},
   "outputs": [],
   "source": [
    "train_data = tokenizer (train_data_txt, padding = 'max_length', truncation = True, max_length = SEQ_MAX_LENGTH, return_tensors = 'pt')\n",
    "train_labels = tokenizer (train_labels_txt, padding = 'max_length', truncation = True, max_length = SEQ_MAX_LENGTH, return_tensors = 'pt')\n",
    "\n",
    "val_data = tokenizer (val_data_txt, padding = 'max_length', truncation = True, max_length = SEQ_MAX_LENGTH, return_tensors = 'pt')\n",
    "val_labels = tokenizer (val_labels_txt, padding = 'max_length', truncation = True, max_length = SEQ_MAX_LENGTH, return_tensors = 'pt')\n",
    "\n",
    "test_data = tokenizer (test_data_txt, padding = 'max_length', truncation = True, max_length = SEQ_MAX_LENGTH, return_tensors = 'pt')\n",
    "test_labels = tokenizer (test_labels_txt, padding = 'max_length', truncation = True, max_length = SEQ_MAX_LENGTH, return_tensors = 'pt')"
   ]
  },
  {
   "cell_type": "code",
   "execution_count": 11,
   "id": "19a137d1",
   "metadata": {},
   "outputs": [],
   "source": [
    "class Seq2SeqDataset (Dataset):\n",
    "    def __init__ (self, encodings, labels):\n",
    "        self.encodings = encodings\n",
    "        self.labels = labels\n",
    "\n",
    "    def __getitem__ (self, idx):\n",
    "        return {\n",
    "            'input_ids': self.encodings ['input_ids'] [idx],\n",
    "            'attention_mask': self.encodings ['attention_mask'] [idx],\n",
    "            'labels': self.labels ['input_ids'] [idx]\n",
    "        }\n",
    "\n",
    "    def __len__ (self):\n",
    "        return len (self.encodings ['input_ids'])\n",
    "\n",
    "train_dataset = Seq2SeqDataset (train_data, train_labels)\n",
    "val_dataset = Seq2SeqDataset (val_data, val_labels)\n",
    "test_dataset = Seq2SeqDataset (test_data, test_labels)\n",
    "\n",
    "train_loader = DataLoader (train_dataset, batch_size = BATCH_SIZE, shuffle = True)\n",
    "val_loader = DataLoader (val_dataset, batch_size = EVAL_BATCH_SIZE)\n",
    "test_loader = DataLoader (test_dataset, batch_size = EVAL_BATCH_SIZE)"
   ]
  },
  {
   "cell_type": "code",
   "execution_count": 12,
   "id": "aa4e6364",
   "metadata": {},
   "outputs": [
    {
     "name": "stdout",
     "output_type": "stream",
     "text": [
      "cuda:0\n"
     ]
    }
   ],
   "source": [
    "device = torch.device ('cuda' if torch.cuda.is_available () else 'cpu')\n",
    "\n",
    "model = MT5ForConditionalGeneration.from_pretrained (USED_MODEL_NAME)\n",
    "\n",
    "model.to (device)\n",
    "print (model.device)\n",
    "#model.train ()\n"
   ]
  },
  {
   "cell_type": "code",
   "execution_count": 13,
   "id": "f1a1a750",
   "metadata": {},
   "outputs": [],
   "source": [
    "def get_set (tensor, ground_truth = True, tokenizer = tokenizer):\n",
    "\n",
    "    separator: str\n",
    "    if SEP_TOKEN == '▁<extra_id_0>': separator = '<extra_id_0>'\n",
    "    else: separator = SEP_TOKEN\n",
    "\n",
    "    res: set\n",
    "\n",
    "    if ground_truth:\n",
    "        eos_idx = (tensor == 1).nonzero ()\n",
    "        if eos_idx.numel () > 0:\n",
    "            eos_idx = int (eos_idx [0] [0])\n",
    "        else:\n",
    "            eos_idx = len (tensor)\n",
    "        seq = tensor [:eos_idx]\n",
    "    \n",
    "    else:\n",
    "        seq = tensor [tensor != 0]\n",
    "        seq = seq [seq != 1]\n",
    "    \n",
    "    txt = tokenizer.decode (seq)\n",
    "    res = set ([item.strip () for item in txt.split (separator)])\n",
    "\n",
    "    if len (res) > 1:\n",
    "        res -= set ([''])\n",
    "\n",
    "    return res\n",
    "\n",
    "\n",
    "def sanity_check (preds, labels, to_print = False):\n",
    "\n",
    "    tps_sum = 0\n",
    "    fps_sum = 0\n",
    "    fns_sum = 0 \n",
    "\n",
    "    for i in range (len (labels)):\n",
    "        predicted_set = get_set (preds [i], ground_truth = False)\n",
    "        true_set = get_set (labels [i])\n",
    "\n",
    "        if to_print: print (f'True: {true_set}\\nPred: {predicted_set}')\n",
    "\n",
    "        tps_sum += len (true_set & predicted_set)  # Истинно положительные\n",
    "        fps_sum += len (predicted_set - true_set)     # Ложноположительные\n",
    "        fns_sum += len (true_set - predicted_set)     # Ложноотрицательные\n",
    "\n",
    "    precision = tps_sum / (tps_sum + fps_sum) if (tps_sum + fps_sum) > 0 else 0\n",
    "    recall = tps_sum / (tps_sum + fns_sum) if (tps_sum + fns_sum) > 0 else 0\n",
    "    f1_score = 2 * (precision * recall) / (precision + recall) if (precision + recall) > 0 else 0\n",
    "\n",
    "    return precision, recall, f1_score"
   ]
  },
  {
   "cell_type": "code",
   "execution_count": 14,
   "id": "1dd023e2",
   "metadata": {},
   "outputs": [],
   "source": [
    "metrics = {'train_loss': [], 'val_loss': [], 'precision': [], 'recall': [], 'f1_score': []}"
   ]
  },
  {
   "cell_type": "code",
   "execution_count": null,
   "id": "ed1e721f",
   "metadata": {},
   "outputs": [],
   "source": [
    "for param in model.parameters ():\n",
    "    param.requires_grad = True"
   ]
  },
  {
   "cell_type": "code",
   "execution_count": 18,
   "id": "ce0d19c1",
   "metadata": {},
   "outputs": [
    {
     "name": "stdout",
     "output_type": "stream",
     "text": [
      "Suggested train steps: 20900\n",
      "\t warmup steps: 1045 - 2090\n"
     ]
    }
   ],
   "source": [
    "num_epochs = 50\n",
    "training_steps = len (train_data ['input_ids']) // BATCH_SIZE * num_epochs\n",
    "print (f'Suggested train steps: {training_steps}\\n\\t warmup steps: {int (training_steps * 0.05)} - {int (training_steps * 0.1)}')"
   ]
  },
  {
   "cell_type": "code",
   "execution_count": null,
   "id": "82840686",
   "metadata": {},
   "outputs": [],
   "source": [
    "#optimizer = AdamW (model.parameters (), lr = 1e-5)#, weight_decay = 0.05)\n",
    "optimizer = AdamW (filter (lambda p: p.requires_grad, model.parameters ()), lr = 1e-4, weight_decay = 0.01)\n",
    "#scheduler = lr_scheduler.StepLR (optimizer, warmup_steps = 637, training_steps = 6375)\n",
    "scheduler = get_scheduler ('linear', optimizer = optimizer, num_warmup_steps = 2000, num_training_steps = 21000)"
   ]
  },
  {
   "cell_type": "code",
   "execution_count": null,
   "id": "74b5c532",
   "metadata": {},
   "outputs": [
    {
     "name": "stderr",
     "output_type": "stream",
     "text": [
      "  0%|          | 0/419 [00:00<?, ?it/s]Passing a tuple of `past_key_values` is deprecated and will be removed in Transformers v4.48.0. You should pass an instance of `EncoderDecoderCache` instead, e.g. `past_key_values=EncoderDecoderCache.from_legacy_cache(past_key_values)`.\n",
      "100%|██████████| 419/419 [00:41<00:00, 10.10it/s]\n"
     ]
    },
    {
     "name": "stdout",
     "output_type": "stream",
     "text": [
      "Epoch 1 / 50, Loss: 21.0087, Validation loss: 20.1674, 0.0 / 0.0 / 0\n"
     ]
    },
    {
     "name": "stderr",
     "output_type": "stream",
     "text": [
      "100%|██████████| 419/419 [00:40<00:00, 10.33it/s]\n"
     ]
    },
    {
     "name": "stdout",
     "output_type": "stream",
     "text": [
      "Epoch 2 / 50, Loss: 18.1358, Validation loss: 13.9995, 0.0 / 0.0 / 0\n"
     ]
    },
    {
     "name": "stderr",
     "output_type": "stream",
     "text": [
      "100%|██████████| 419/419 [00:40<00:00, 10.22it/s]\n"
     ]
    },
    {
     "name": "stdout",
     "output_type": "stream",
     "text": [
      "Epoch 3 / 50, Loss: 13.7335, Validation loss: 10.8358, 0.0 / 0.0 / 0\n"
     ]
    },
    {
     "name": "stderr",
     "output_type": "stream",
     "text": [
      "100%|██████████| 419/419 [00:41<00:00, 10.00it/s]\n"
     ]
    },
    {
     "name": "stdout",
     "output_type": "stream",
     "text": [
      "Epoch 4 / 50, Loss: 10.8694, Validation loss: 8.6822, 0.0 / 0.0 / 0\n"
     ]
    },
    {
     "name": "stderr",
     "output_type": "stream",
     "text": [
      "100%|██████████| 419/419 [00:42<00:00,  9.92it/s]\n"
     ]
    },
    {
     "name": "stdout",
     "output_type": "stream",
     "text": [
      "Epoch 5 / 50, Loss: 7.4668, Validation loss: 4.4505, 0.007058823529411765 / 0.001763668430335097 / 0.002822201317027281\n"
     ]
    },
    {
     "name": "stderr",
     "output_type": "stream",
     "text": [
      "100%|██████████| 419/419 [00:41<00:00, 10.20it/s]\n"
     ]
    },
    {
     "name": "stdout",
     "output_type": "stream",
     "text": [
      "Epoch 6 / 50, Loss: 4.1742, Validation loss: 2.5124, 0.04784688995215311 / 0.011757789535567314 / 0.018876828692779613\n"
     ]
    },
    {
     "name": "stderr",
     "output_type": "stream",
     "text": [
      "100%|██████████| 419/419 [00:42<00:00,  9.95it/s]\n"
     ]
    },
    {
     "name": "stdout",
     "output_type": "stream",
     "text": [
      "Epoch 7 / 50, Loss: 1.9026, Validation loss: 0.5142, 0.05741626794258373 / 0.014109347442680775 / 0.022652194431335537\n"
     ]
    },
    {
     "name": "stderr",
     "output_type": "stream",
     "text": [
      "100%|██████████| 419/419 [00:45<00:00,  9.25it/s]\n"
     ]
    },
    {
     "name": "stdout",
     "output_type": "stream",
     "text": [
      "Epoch 8 / 50, Loss: 0.8904, Validation loss: 0.3673, 0.05741626794258373 / 0.014109347442680775 / 0.022652194431335537\n"
     ]
    },
    {
     "name": "stderr",
     "output_type": "stream",
     "text": [
      "100%|██████████| 419/419 [00:45<00:00,  9.28it/s]\n"
     ]
    },
    {
     "name": "stdout",
     "output_type": "stream",
     "text": [
      "Epoch 9 / 50, Loss: 0.6154, Validation loss: 0.2953, 0.05787037037037037 / 0.014697236919459141 / 0.02344116268166901\n"
     ]
    },
    {
     "name": "stderr",
     "output_type": "stream",
     "text": [
      "100%|██████████| 419/419 [00:45<00:00,  9.30it/s]\n"
     ]
    },
    {
     "name": "stdout",
     "output_type": "stream",
     "text": [
      "Epoch 10 / 50, Loss: 0.4664, Validation loss: 0.2423, 0.13028169014084506 / 0.04350382128159906 / 0.06522697223446453\n"
     ]
    },
    {
     "name": "stderr",
     "output_type": "stream",
     "text": [
      "100%|██████████| 419/419 [00:40<00:00, 10.37it/s]\n"
     ]
    },
    {
     "name": "stdout",
     "output_type": "stream",
     "text": [
      "Epoch 11 / 50, Loss: 0.3739, Validation loss: 0.2104, 0.1951501154734411 / 0.0993533215755438 / 0.13167121153097003\n"
     ]
    },
    {
     "name": "stderr",
     "output_type": "stream",
     "text": [
      "100%|██████████| 419/419 [00:52<00:00,  7.93it/s]\n"
     ]
    },
    {
     "name": "stdout",
     "output_type": "stream",
     "text": [
      "Epoch 12 / 50, Loss: 0.3207, Validation loss: 0.1881, 0.23414634146341465 / 0.14109347442680775 / 0.1760821716801174\n"
     ]
    },
    {
     "name": "stderr",
     "output_type": "stream",
     "text": [
      "100%|██████████| 419/419 [00:48<00:00,  8.57it/s]\n"
     ]
    },
    {
     "name": "stdout",
     "output_type": "stream",
     "text": [
      "Epoch 13 / 50, Loss: 0.2754, Validation loss: 0.1724, 0.26394052044609667 / 0.16696061140505586 / 0.204537270435722\n"
     ]
    },
    {
     "name": "stderr",
     "output_type": "stream",
     "text": [
      "100%|██████████| 419/419 [00:48<00:00,  8.70it/s]\n"
     ]
    },
    {
     "name": "stdout",
     "output_type": "stream",
     "text": [
      "Epoch 14 / 50, Loss: 0.2508, Validation loss: 0.1596, 0.2888086642599278 / 0.18812463256907702 / 0.22783908864364544\n"
     ]
    },
    {
     "name": "stderr",
     "output_type": "stream",
     "text": [
      "100%|██████████| 419/419 [00:48<00:00,  8.59it/s]\n"
     ]
    },
    {
     "name": "stdout",
     "output_type": "stream",
     "text": [
      "Epoch 15 / 50, Loss: 0.2296, Validation loss: 0.1503, 0.30572687224669604 / 0.2039976484420929 / 0.2447108603667137\n"
     ]
    },
    {
     "name": "stderr",
     "output_type": "stream",
     "text": [
      "100%|██████████| 419/419 [00:49<00:00,  8.50it/s]\n"
     ]
    },
    {
     "name": "stdout",
     "output_type": "stream",
     "text": [
      "Epoch 16 / 50, Loss: 0.2133, Validation loss: 0.1411, 0.337617823479006 / 0.23162845385067607 / 0.27475592747559274\n"
     ]
    },
    {
     "name": "stderr",
     "output_type": "stream",
     "text": [
      "100%|██████████| 419/419 [00:48<00:00,  8.72it/s]\n"
     ]
    },
    {
     "name": "stdout",
     "output_type": "stream",
     "text": [
      "Epoch 17 / 50, Loss: 0.1977, Validation loss: 0.1337, 0.35598980458793544 / 0.24632569077013522 / 0.291174426685198\n"
     ]
    },
    {
     "name": "stderr",
     "output_type": "stream",
     "text": [
      "100%|██████████| 419/419 [00:47<00:00,  8.75it/s]\n"
     ]
    },
    {
     "name": "stdout",
     "output_type": "stream",
     "text": [
      "Epoch 18 / 50, Loss: 0.1912, Validation loss: 0.1278, 0.37193575655114114 / 0.2586713697824809 / 0.30513176144244103\n"
     ]
    },
    {
     "name": "stderr",
     "output_type": "stream",
     "text": [
      "100%|██████████| 419/419 [00:47<00:00,  8.77it/s]\n"
     ]
    },
    {
     "name": "stdout",
     "output_type": "stream",
     "text": [
      "Epoch 19 / 50, Loss: 0.1793, Validation loss: 0.1230, 0.39243697478991596 / 0.27454438565549677 / 0.32307160152196474\n"
     ]
    },
    {
     "name": "stderr",
     "output_type": "stream",
     "text": [
      "100%|██████████| 419/419 [00:48<00:00,  8.73it/s]\n"
     ]
    },
    {
     "name": "stdout",
     "output_type": "stream",
     "text": [
      "Epoch 20 / 50, Loss: 0.1697, Validation loss: 0.1176, 0.409688013136289 / 0.2933568489124045 / 0.34189791024323396\n"
     ]
    },
    {
     "name": "stderr",
     "output_type": "stream",
     "text": [
      "100%|██████████| 419/419 [00:47<00:00,  8.85it/s]\n"
     ]
    },
    {
     "name": "stdout",
     "output_type": "stream",
     "text": [
      "Epoch 21 / 50, Loss: 0.1641, Validation loss: 0.1128, 0.4110479285134037 / 0.29747207524985303 / 0.3451568894952251\n"
     ]
    },
    {
     "name": "stderr",
     "output_type": "stream",
     "text": [
      "100%|██████████| 419/419 [00:47<00:00,  8.84it/s]\n"
     ]
    },
    {
     "name": "stdout",
     "output_type": "stream",
     "text": [
      "Epoch 22 / 50, Loss: 0.1571, Validation loss: 0.1093, 0.4206219312602291 / 0.30217519106408 / 0.35169346561751624\n"
     ]
    },
    {
     "name": "stderr",
     "output_type": "stream",
     "text": [
      "100%|██████████| 419/419 [00:47<00:00,  8.81it/s]\n"
     ]
    },
    {
     "name": "stdout",
     "output_type": "stream",
     "text": [
      "Epoch 23 / 50, Loss: 0.1502, Validation loss: 0.1054, 0.436 / 0.3203997648442093 / 0.3693663165028804\n"
     ]
    },
    {
     "name": "stderr",
     "output_type": "stream",
     "text": [
      "100%|██████████| 419/419 [00:47<00:00,  8.82it/s]\n"
     ]
    },
    {
     "name": "stdout",
     "output_type": "stream",
     "text": [
      "Epoch 24 / 50, Loss: 0.1460, Validation loss: 0.1019, 0.4392 / 0.32275132275132273 / 0.3720772619451033\n"
     ]
    },
    {
     "name": "stderr",
     "output_type": "stream",
     "text": [
      "100%|██████████| 419/419 [00:47<00:00,  8.79it/s]\n"
     ]
    },
    {
     "name": "stdout",
     "output_type": "stream",
     "text": [
      "Epoch 25 / 50, Loss: 0.1395, Validation loss: 0.0996, 0.4510268562401264 / 0.3356848912404468 / 0.3849005729693294\n"
     ]
    },
    {
     "name": "stderr",
     "output_type": "stream",
     "text": [
      "100%|██████████| 419/419 [00:47<00:00,  8.82it/s]\n"
     ]
    },
    {
     "name": "stdout",
     "output_type": "stream",
     "text": [
      "Epoch 26 / 50, Loss: 0.1356, Validation loss: 0.0963, 0.45591739475774423 / 0.3374485596707819 / 0.3878378378378379\n"
     ]
    },
    {
     "name": "stderr",
     "output_type": "stream",
     "text": [
      "100%|██████████| 419/419 [00:47<00:00,  8.83it/s]\n"
     ]
    },
    {
     "name": "stdout",
     "output_type": "stream",
     "text": [
      "Epoch 27 / 50, Loss: 0.1301, Validation loss: 0.0935, 0.47431781701444625 / 0.3474426807760141 / 0.4010858500169664\n"
     ]
    },
    {
     "name": "stderr",
     "output_type": "stream",
     "text": [
      "100%|██████████| 419/419 [00:42<00:00,  9.95it/s]\n"
     ]
    },
    {
     "name": "stdout",
     "output_type": "stream",
     "text": [
      "Epoch 28 / 50, Loss: 0.1258, Validation loss: 0.0922, 0.47959183673469385 / 0.3592004703115814 / 0.4107563025210084\n"
     ]
    },
    {
     "name": "stderr",
     "output_type": "stream",
     "text": [
      "100%|██████████| 419/419 [00:41<00:00, 10.13it/s]\n"
     ]
    },
    {
     "name": "stdout",
     "output_type": "stream",
     "text": [
      "Epoch 29 / 50, Loss: 0.1230, Validation loss: 0.0898, 0.489344909234412 / 0.3644914756025867 / 0.4177897574123989\n"
     ]
    },
    {
     "name": "stderr",
     "output_type": "stream",
     "text": [
      "100%|██████████| 419/419 [00:44<00:00,  9.32it/s]\n"
     ]
    },
    {
     "name": "stdout",
     "output_type": "stream",
     "text": [
      "Epoch 30 / 50, Loss: 0.1194, Validation loss: 0.0864, 0.49290220820189273 / 0.36743092298647856 / 0.421017177500842\n"
     ]
    },
    {
     "name": "stderr",
     "output_type": "stream",
     "text": [
      "100%|██████████| 419/419 [00:44<00:00,  9.31it/s]\n"
     ]
    },
    {
     "name": "stdout",
     "output_type": "stream",
     "text": [
      "Epoch 31 / 50, Loss: 0.1160, Validation loss: 0.0852, 0.48402182385035075 / 0.36507936507936506 / 0.4162198391420912\n"
     ]
    },
    {
     "name": "stderr",
     "output_type": "stream",
     "text": [
      "100%|██████████| 419/419 [00:44<00:00,  9.33it/s]\n"
     ]
    },
    {
     "name": "stdout",
     "output_type": "stream",
     "text": [
      "Epoch 32 / 50, Loss: 0.1141, Validation loss: 0.0836, 0.495260663507109 / 0.36860670194003525 / 0.42264914054600605\n"
     ]
    },
    {
     "name": "stderr",
     "output_type": "stream",
     "text": [
      "100%|██████████| 419/419 [00:39<00:00, 10.56it/s]\n"
     ]
    },
    {
     "name": "stdout",
     "output_type": "stream",
     "text": [
      "Epoch 33 / 50, Loss: 0.1113, Validation loss: 0.0830, 0.5016 / 0.36860670194003525 / 0.42494069806845136\n"
     ]
    },
    {
     "name": "stderr",
     "output_type": "stream",
     "text": [
      "100%|██████████| 419/419 [00:48<00:00,  8.67it/s]\n"
     ]
    },
    {
     "name": "stdout",
     "output_type": "stream",
     "text": [
      "Epoch 34 / 50, Loss: 0.1090, Validation loss: 0.0818, 0.5024077046548957 / 0.3680188124632569 / 0.4248388191381065\n"
     ]
    },
    {
     "name": "stderr",
     "output_type": "stream",
     "text": [
      "100%|██████████| 419/419 [00:49<00:00,  8.44it/s]\n"
     ]
    },
    {
     "name": "stdout",
     "output_type": "stream",
     "text": [
      "Epoch 35 / 50, Loss: 0.1066, Validation loss: 0.0800, 0.5043824701195219 / 0.37213403880070545 / 0.4282814614343707\n"
     ]
    },
    {
     "name": "stderr",
     "output_type": "stream",
     "text": [
      "100%|██████████| 419/419 [00:47<00:00,  8.77it/s]\n"
     ]
    },
    {
     "name": "stdout",
     "output_type": "stream",
     "text": [
      "Epoch 36 / 50, Loss: 0.1039, Validation loss: 0.0789, 0.5068714632174616 / 0.36860670194003525 / 0.4268209666439755\n"
     ]
    },
    {
     "name": "stderr",
     "output_type": "stream",
     "text": [
      "100%|██████████| 419/419 [00:47<00:00,  8.76it/s]\n"
     ]
    },
    {
     "name": "stdout",
     "output_type": "stream",
     "text": [
      "Epoch 37 / 50, Loss: 0.1023, Validation loss: 0.0779, 0.5168539325842697 / 0.3786008230452675 / 0.4370546318289787\n"
     ]
    },
    {
     "name": "stderr",
     "output_type": "stream",
     "text": [
      "100%|██████████| 419/419 [00:48<00:00,  8.72it/s]\n"
     ]
    },
    {
     "name": "stdout",
     "output_type": "stream",
     "text": [
      "Epoch 38 / 50, Loss: 0.1010, Validation loss: 0.0770, 0.5210696920583469 / 0.37801293356848914 / 0.438160136286201\n"
     ]
    },
    {
     "name": "stderr",
     "output_type": "stream",
     "text": [
      "100%|██████████| 419/419 [00:48<00:00,  8.59it/s]\n"
     ]
    },
    {
     "name": "stdout",
     "output_type": "stream",
     "text": [
      "Epoch 39 / 50, Loss: 0.1002, Validation loss: 0.0756, 0.5267358339984038 / 0.3880070546737213 / 0.44685172647257954\n"
     ]
    },
    {
     "name": "stderr",
     "output_type": "stream",
     "text": [
      "100%|██████████| 419/419 [00:46<00:00,  8.94it/s]\n"
     ]
    },
    {
     "name": "stdout",
     "output_type": "stream",
     "text": [
      "Epoch 40 / 50, Loss: 0.0984, Validation loss: 0.0755, 0.5235008103727715 / 0.37977660199882424 / 0.4402044293015332\n"
     ]
    },
    {
     "name": "stderr",
     "output_type": "stream",
     "text": [
      "100%|██████████| 419/419 [00:48<00:00,  8.57it/s]\n"
     ]
    },
    {
     "name": "stdout",
     "output_type": "stream",
     "text": [
      "Epoch 41 / 50, Loss: 0.0958, Validation loss: 0.0746, 0.5251623376623377 / 0.3803644914756026 / 0.4411864984657347\n"
     ]
    },
    {
     "name": "stderr",
     "output_type": "stream",
     "text": [
      "100%|██████████| 419/419 [00:47<00:00,  8.87it/s]\n"
     ]
    },
    {
     "name": "stdout",
     "output_type": "stream",
     "text": [
      "Epoch 42 / 50, Loss: 0.0962, Validation loss: 0.0745, 0.5309446254071661 / 0.38330393885949443 / 0.4452031410037556\n"
     ]
    },
    {
     "name": "stderr",
     "output_type": "stream",
     "text": [
      "100%|██████████| 419/419 [00:46<00:00,  8.98it/s]\n"
     ]
    },
    {
     "name": "stdout",
     "output_type": "stream",
     "text": [
      "Epoch 43 / 50, Loss: 0.0950, Validation loss: 0.0732, 0.5314799672935405 / 0.3821281599059377 / 0.44459644322845415\n"
     ]
    },
    {
     "name": "stderr",
     "output_type": "stream",
     "text": [
      "100%|██████████| 419/419 [00:47<00:00,  8.75it/s]\n"
     ]
    },
    {
     "name": "stdout",
     "output_type": "stream",
     "text": [
      "Epoch 44 / 50, Loss: 0.0935, Validation loss: 0.0726, 0.5446355446355446 / 0.39094650205761317 / 0.45516769336071183\n"
     ]
    },
    {
     "name": "stderr",
     "output_type": "stream",
     "text": [
      "100%|██████████| 419/419 [00:46<00:00,  8.97it/s]\n"
     ]
    },
    {
     "name": "stdout",
     "output_type": "stream",
     "text": [
      "Epoch 45 / 50, Loss: 0.0917, Validation loss: 0.0720, 0.5543744889615699 / 0.3985890652557319 / 0.4637482900136799\n"
     ]
    },
    {
     "name": "stderr",
     "output_type": "stream",
     "text": [
      "100%|██████████| 419/419 [00:46<00:00,  9.09it/s]\n"
     ]
    },
    {
     "name": "stdout",
     "output_type": "stream",
     "text": [
      "Epoch 46 / 50, Loss: 0.0918, Validation loss: 0.0715, 0.5489396411092985 / 0.3956496178718401 / 0.45985650837034503\n"
     ]
    },
    {
     "name": "stderr",
     "output_type": "stream",
     "text": [
      "100%|██████████| 419/419 [00:46<00:00,  9.01it/s]\n"
     ]
    },
    {
     "name": "stdout",
     "output_type": "stream",
     "text": [
      "Epoch 47 / 50, Loss: 0.0895, Validation loss: 0.0711, 0.5547504025764896 / 0.40505584950029394 / 0.4682296975874958\n"
     ]
    },
    {
     "name": "stderr",
     "output_type": "stream",
     "text": [
      "100%|██████████| 419/419 [00:46<00:00,  9.10it/s]\n"
     ]
    },
    {
     "name": "stdout",
     "output_type": "stream",
     "text": [
      "Epoch 48 / 50, Loss: 0.0895, Validation loss: 0.0706, 0.5557363710333605 / 0.40152851263962375 / 0.46621160409556317\n"
     ]
    },
    {
     "name": "stderr",
     "output_type": "stream",
     "text": [
      "100%|██████████| 419/419 [00:46<00:00,  8.92it/s]\n"
     ]
    },
    {
     "name": "stdout",
     "output_type": "stream",
     "text": [
      "Epoch 49 / 50, Loss: 0.0889, Validation loss: 0.0707, 0.5495568090249798 / 0.4009406231628454 / 0.46363018354860636\n"
     ]
    },
    {
     "name": "stderr",
     "output_type": "stream",
     "text": [
      "100%|██████████| 419/419 [00:46<00:00,  9.00it/s]\n"
     ]
    },
    {
     "name": "stdout",
     "output_type": "stream",
     "text": [
      "Epoch 50 / 50, Loss: 0.0874, Validation loss: 0.0698, 0.5645933014354066 / 0.41622574955908287 / 0.47918781725888326\n"
     ]
    }
   ],
   "source": [
    "num_epochs = 50\n",
    "for epoch in range (num_epochs):\n",
    "    model.train ()  # Устанавливаем модель в режим обучения\n",
    "    total_loss = 0\n",
    "    \n",
    "    for batch in tqdm (train_loader):\n",
    "        \n",
    "        input_ids = batch ['input_ids'].to (model.device)\n",
    "        attention_mask = batch ['attention_mask'].to (model.device)\n",
    "        labels = batch ['labels'].to (model.device)\n",
    "\n",
    "        outputs = model (input_ids = input_ids, attention_mask = attention_mask, labels = labels)\n",
    "        loss = outputs.loss   ## DOUBLE CHECK if padding ...\n",
    "        total_loss += loss.item ()\n",
    "\n",
    "        loss.backward ()  # Обратное распространение\n",
    "        optimizer.step ()  # Обновление параметров\n",
    "        optimizer.zero_grad ()  # Обнуляем градиенты\n",
    "\n",
    "        #scheduler.step ()  # Обновление learning rate\n",
    "    \n",
    "\n",
    "    avg_loss = total_loss / len (train_loader)\n",
    "\n",
    "    metrics ['train_loss'].append ((epoch, avg_loss))\n",
    "\n",
    "    # Оценка на валидационной выборке\n",
    "    model.eval ()  # Устанавливаем модель в режим оценки\n",
    "    val_preds, val_labels = [], []\n",
    "    total_val_loss = 0\n",
    "\n",
    "    with torch.no_grad ():\n",
    "        for batch in val_loader:\n",
    "            input_ids = batch ['input_ids'].to (model.device)\n",
    "            attention_mask = batch ['attention_mask'].to (model.device)\n",
    "            labels = batch ['labels'].to (model.device)\n",
    "\n",
    "            outputs = model.generate (input_ids = input_ids, attention_mask = attention_mask)\n",
    "\n",
    "            total_val_loss += model (input_ids = input_ids, attention_mask = attention_mask, labels = labels).loss.item ()\n",
    "\n",
    "            val_preds.extend (outputs)\n",
    "            val_labels.extend (labels)\n",
    "\n",
    "    avg_val_loss = total_val_loss / len (val_loader)\n",
    "\n",
    "    prec, recl, f1sc = sanity_check (val_preds, val_labels)\n",
    "\n",
    "    metrics ['val_loss'].append ((epoch, avg_val_loss))\n",
    "    metrics ['precision'].append ((epoch, prec))\n",
    "    metrics ['recall'].append ((epoch, recl))\n",
    "    metrics ['f1_score'].append ((epoch, f1sc))\n",
    "\n",
    "    print (f'Epoch {epoch + 1} / {num_epochs}, Loss: {avg_loss:.4f}, Validation loss: {avg_val_loss:.4f}, {prec} / {recl} / {f1sc}')"
   ]
  },
  {
   "cell_type": "code",
   "execution_count": 26,
   "id": "8672aa0d",
   "metadata": {},
   "outputs": [
    {
     "name": "stdout",
     "output_type": "stream",
     "text": [
      "{'train_loss': [(0, 21.008715213056394), (1, 18.13579106160166), (2, 13.733483055041912), (3, 10.869415146638783), (4, 7.466796026025012), (5, 4.174229146757103), (6, 1.902561530862048), (7, 0.8904160240527269), (8, 0.6154083133739617), (9, 0.46644882907588614), (10, 0.3738522673279118), (11, 0.32068731719383475), (12, 0.2753611700098099), (13, 0.25084968690086945), (14, 0.22964872391383231), (15, 0.21332832866821766), (16, 0.19768128472964916), (17, 0.19119161070460067), (18, 0.1792821837033463), (19, 0.16967072646380324), (20, 0.16411304520109674), (21, 0.15714640627328422), (22, 0.15022482344245), (23, 0.1459752017085336), (24, 0.13953390093364693), (25, 0.13556966406953364), (26, 0.1301487281313944), (27, 0.12576427099101584), (28, 0.12302053681528084), (29, 0.11944237080244859), (30, 0.11599375440034491), (31, 0.11409338660591542), (32, 0.11130635736861348), (33, 0.109043741869898), (34, 0.10661749031421393), (35, 0.10394671164577503), (36, 0.10230708545905166), (37, 0.10097452838124979), (38, 0.10015674383515105), (39, 0.09835916818486336), (40, 0.09579396392785564), (41, 0.09624627741111491), (42, 0.09498222533231135), (43, 0.09347884428991907), (44, 0.09172504158748362), (45, 0.09184004239702424), (46, 0.0894561512595785), (47, 0.08948868937203594), (48, 0.08888318538132317), (49, 0.08741683751646971), (50, 0.08669693672447187), (51, 0.08605282651015995), (52, 0.08580321760354719), (53, 0.08337947110998886), (54, 0.08331283978975616), (55, 0.08343437988408853), (56, 0.08246505343597516), (57, 0.08114005560788876), (58, 0.08137743708039667), (59, 0.0801276870845397), (60, 0.08026459244099893), (61, 0.07985449557443791), (62, 0.07975419160969964), (63, 0.07938302440350978), (64, 0.07807267778208546), (65, 0.07852990324731232), (66, 0.07871885182945), (67, 0.07770975120587892), (68, 0.07736911579770946), (69, 0.0768953271850339), (70, 0.07774338947257876), (71, 0.07740507971468717), (72, 0.07644469517245356), (73, 0.07682379583221347), (74, 0.07653798490567111), (75, 0.07615542343788756), (76, 0.0761577622022542), (77, 0.07493418661837503), (78, 0.07549548021079817), (79, 0.07584792251091868), (80, 0.07561074834770405), (81, 0.07585727176262257), (82, 0.0744720889446559), (83, 0.07564264679936634), (84, 0.07492303405054856), (85, 0.07529593220865242), (86, 0.07430392521964764), (87, 0.07589555518848373), (88, 0.07552603556194425), (89, 0.07563133433745699), (90, 0.07476360125907282), (91, 0.07576923408414413), (92, 0.07477884620499213), (93, 0.07591973458525673), (94, 0.07544550461458989), (95, 0.07513273885220217), (96, 0.07549851781161844), (97, 0.07549777064641364), (98, 0.07575537870706978), (99, 0.0750516904673599)], 'val_loss': [(0, 20.16735181268656), (1, 13.999518106568534), (2, 10.835830814433548), (3, 8.682190652163523), (4, 4.450532004518329), (5, 2.512448400821326), (6, 0.5142359874158535), (7, 0.36728398333180623), (8, 0.29525510179546643), (9, 0.24226633585848897), (10, 0.21042162967178057), (11, 0.1881253900674154), (12, 0.17243954975087689), (13, 0.15955748901052294), (14, 0.15028914289092118), (15, 0.14107890652035768), (16, 0.133717602575725), (17, 0.12778395062909936), (18, 0.12300692948530305), (19, 0.11758986691821297), (20, 0.11284506250664873), (21, 0.10928606986999512), (22, 0.10544146274058323), (23, 0.1019116001871397), (24, 0.09962952010474115), (25, 0.09633485340284852), (26, 0.09348655597500082), (27, 0.09223245084285736), (28, 0.08978408012750014), (29, 0.08637465902094571), (30, 0.08521510639561797), (31, 0.08363215913468937), (32, 0.08296753030340627), (33, 0.08176591261377875), (34, 0.08001340342298993), (35, 0.07892021621173283), (36, 0.07788501068387392), (37, 0.07696862715595174), (38, 0.0756447434706508), (39, 0.07554599565436255), (40, 0.07458406989023371), (41, 0.07449431843915076), (42, 0.07318610297340267), (43, 0.07259003853179374), (44, 0.07197297870550516), (45, 0.07146733162819215), (46, 0.07113986504527758), (47, 0.07061609421979706), (48, 0.07065109015916879), (49, 0.06983109001281126), (50, 0.0690681774801803), (51, 0.06973524412737703), (52, 0.06908637032193958), (53, 0.06837383313280232), (54, 0.06869295239448547), (55, 0.06790758992703456), (56, 0.06768127572986316), (57, 0.06714932775160051), (58, 0.0673033907868952), (59, 0.0674229104704452), (60, 0.06698054637549058), (61, 0.06674358051902843), (62, 0.0665182777030288), (63, 0.06613435596227646), (64, 0.06655629576658303), (65, 0.06632331027737204), (66, 0.06568015025893473), (67, 0.06571279887883168), (68, 0.06572104684727371), (69, 0.06562409957624832), (70, 0.06534913621561707), (71, 0.06536149033257421), (72, 0.06515647130051874), (73, 0.06519579237221547), (74, 0.06504223523837216), (75, 0.06490264776742684), (76, 0.06490673922564623), (77, 0.06497440764785938), (78, 0.06498159714183717), (79, 0.06496652598791527), (80, 0.06499922563726047), (81, 0.06500107310009452), (82, 0.0649679959663805), (83, 0.06496187313547674), (84, 0.06496187313547674), (85, 0.06496187313547674), (86, 0.06496187313547674), (87, 0.06496187313547674), (88, 0.06496187313547674), (89, 0.06496187313547674), (90, 0.06496187313547674), (91, 0.06496187313547674), (92, 0.06496187313547674), (93, 0.06496187313547674), (94, 0.06496187313547674), (95, 0.06496187313547674), (96, 0.06496187313547674), (97, 0.06496187313547674), (98, 0.06496187313547674), (99, 0.06496187313547674)], 'precision': [(0, 0.0), (1, 0.0), (2, 0.0), (3, 0.0), (4, 0.007058823529411765), (5, 0.04784688995215311), (6, 0.05741626794258373), (7, 0.05741626794258373), (8, 0.05787037037037037), (9, 0.13028169014084506), (10, 0.1951501154734411), (11, 0.23414634146341465), (12, 0.26394052044609667), (13, 0.2888086642599278), (14, 0.30572687224669604), (15, 0.337617823479006), (16, 0.35598980458793544), (17, 0.37193575655114114), (18, 0.39243697478991596), (19, 0.409688013136289), (20, 0.4110479285134037), (21, 0.4206219312602291), (22, 0.436), (23, 0.4392), (24, 0.4510268562401264), (25, 0.45591739475774423), (26, 0.47431781701444625), (27, 0.47959183673469385), (28, 0.489344909234412), (29, 0.49290220820189273), (30, 0.48402182385035075), (31, 0.495260663507109), (32, 0.5016), (33, 0.5024077046548957), (34, 0.5043824701195219), (35, 0.5068714632174616), (36, 0.5168539325842697), (37, 0.5210696920583469), (38, 0.5267358339984038), (39, 0.5235008103727715), (40, 0.5251623376623377), (41, 0.5309446254071661), (42, 0.5314799672935405), (43, 0.5446355446355446), (44, 0.5543744889615699), (45, 0.5489396411092985), (46, 0.5547504025764896), (47, 0.5557363710333605), (48, 0.5495568090249798), (49, 0.5645933014354066), (50, 0.5586319218241043), (51, 0.547945205479452), (52, 0.5650406504065041), (53, 0.5678104575163399), (54, 0.568724279835391), (55, 0.5647540983606557), (56, 0.5718954248366013), (57, 0.5723524656426839), (58, 0.5757085020242915), (59, 0.5787337662337663), (60, 0.5747776879547292), (61, 0.5810147299509002), (62, 0.5749185667752443), (63, 0.5812244897959183), (64, 0.5741042345276873), (65, 0.5764802631578947), (66, 0.5838103025347506), (67, 0.5841503267973857), (68, 0.5841503267973857), (69, 0.5861224489795919), (70, 0.5815660685154975), (71, 0.5852459016393443), (72, 0.5855855855855856), (73, 0.5838103025347506), (74, 0.5851063829787234), (75, 0.5853061224489796), (76, 0.5821749795584628), (77, 0.5828571428571429), (78, 0.5844262295081967), (79, 0.5833333333333334), (80, 0.5823817292006526), (81, 0.5812244897959183), (82, 0.5815660685154975), (83, 0.5815660685154975), (84, 0.5815660685154975), (85, 0.5815660685154975), (86, 0.5815660685154975), (87, 0.5815660685154975), (88, 0.5815660685154975), (89, 0.5815660685154975), (90, 0.5815660685154975), (91, 0.5815660685154975), (92, 0.5815660685154975), (93, 0.5815660685154975), (94, 0.5815660685154975), (95, 0.5815660685154975), (96, 0.5815660685154975), (97, 0.5815660685154975), (98, 0.5815660685154975), (99, 0.5815660685154975)], 'recall': [(0, 0.0), (1, 0.0), (2, 0.0), (3, 0.0), (4, 0.001763668430335097), (5, 0.011757789535567314), (6, 0.014109347442680775), (7, 0.014109347442680775), (8, 0.014697236919459141), (9, 0.04350382128159906), (10, 0.0993533215755438), (11, 0.14109347442680775), (12, 0.16696061140505586), (13, 0.18812463256907702), (14, 0.2039976484420929), (15, 0.23162845385067607), (16, 0.24632569077013522), (17, 0.2586713697824809), (18, 0.27454438565549677), (19, 0.2933568489124045), (20, 0.29747207524985303), (21, 0.30217519106408), (22, 0.3203997648442093), (23, 0.32275132275132273), (24, 0.3356848912404468), (25, 0.3374485596707819), (26, 0.3474426807760141), (27, 0.3592004703115814), (28, 0.3644914756025867), (29, 0.36743092298647856), (30, 0.36507936507936506), (31, 0.36860670194003525), (32, 0.36860670194003525), (33, 0.3680188124632569), (34, 0.37213403880070545), (35, 0.36860670194003525), (36, 0.3786008230452675), (37, 0.37801293356848914), (38, 0.3880070546737213), (39, 0.37977660199882424), (40, 0.3803644914756026), (41, 0.38330393885949443), (42, 0.3821281599059377), (43, 0.39094650205761317), (44, 0.3985890652557319), (45, 0.3956496178718401), (46, 0.40505584950029394), (47, 0.40152851263962375), (48, 0.4009406231628454), (49, 0.41622574955908287), (50, 0.40329218106995884), (51, 0.39976484420928865), (52, 0.40858318636096413), (53, 0.40858318636096413), (54, 0.4062316284538507), (55, 0.40505584950029394), (56, 0.411522633744856), (57, 0.41622574955908287), (58, 0.41798941798941797), (59, 0.4191651969429747), (60, 0.41798941798941797), (61, 0.4174015285126396), (62, 0.4150499706055262), (63, 0.41857730746619637), (64, 0.4144620811287478), (65, 0.41211052322163433), (66, 0.41975308641975306), (67, 0.42034097589653147), (68, 0.42034097589653147), (69, 0.42210464432686656), (70, 0.4191651969429747), (71, 0.41975308641975306), (72, 0.42034097589653147), (73, 0.41975308641975306), (74, 0.42034097589653147), (75, 0.42151675485008816), (76, 0.41857730746619637), (77, 0.41975308641975306), (78, 0.4191651969429747), (79, 0.41975308641975306), (80, 0.41975308641975306), (81, 0.41857730746619637), (82, 0.4191651969429747), (83, 0.4191651969429747), (84, 0.4191651969429747), (85, 0.4191651969429747), (86, 0.4191651969429747), (87, 0.4191651969429747), (88, 0.4191651969429747), (89, 0.4191651969429747), (90, 0.4191651969429747), (91, 0.4191651969429747), (92, 0.4191651969429747), (93, 0.4191651969429747), (94, 0.4191651969429747), (95, 0.4191651969429747), (96, 0.4191651969429747), (97, 0.4191651969429747), (98, 0.4191651969429747), (99, 0.4191651969429747)], 'f1_score': [(0, 0), (1, 0), (2, 0), (3, 0), (4, 0.002822201317027281), (5, 0.018876828692779613), (6, 0.022652194431335537), (7, 0.022652194431335537), (8, 0.02344116268166901), (9, 0.06522697223446453), (10, 0.13167121153097003), (11, 0.1760821716801174), (12, 0.204537270435722), (13, 0.22783908864364544), (14, 0.2447108603667137), (15, 0.27475592747559274), (16, 0.291174426685198), (17, 0.30513176144244103), (18, 0.32307160152196474), (19, 0.34189791024323396), (20, 0.3451568894952251), (21, 0.35169346561751624), (22, 0.3693663165028804), (23, 0.3720772619451033), (24, 0.3849005729693294), (25, 0.3878378378378379), (26, 0.4010858500169664), (27, 0.4107563025210084), (28, 0.4177897574123989), (29, 0.421017177500842), (30, 0.4162198391420912), (31, 0.42264914054600605), (32, 0.42494069806845136), (33, 0.4248388191381065), (34, 0.4282814614343707), (35, 0.4268209666439755), (36, 0.4370546318289787), (37, 0.438160136286201), (38, 0.44685172647257954), (39, 0.4402044293015332), (40, 0.4411864984657347), (41, 0.4452031410037556), (42, 0.44459644322845415), (43, 0.45516769336071183), (44, 0.4637482900136799), (45, 0.45985650837034503), (46, 0.4682296975874958), (47, 0.46621160409556317), (48, 0.46363018354860636), (49, 0.47918781725888326), (50, 0.4684192557186754), (51, 0.4622705642420122), (52, 0.47424087342204024), (53, 0.47521367521367525), (54, 0.47393689986282583), (55, 0.4717562478603218), (56, 0.4786324786324786), (57, 0.48196051735874745), (58, 0.48433242506811985), (59, 0.48619161268325944), (60, 0.484002722940776), (61, 0.48580225795415666), (62, 0.48207579378627524), (63, 0.48667122351332875), (64, 0.4813929668828952), (65, 0.4806307850531368), (66, 0.48837209302325585), (67, 0.488888888888889), (68, 0.488888888888889), (69, 0.4907723855092277), (70, 0.4871882473522378), (71, 0.48887367339952076), (72, 0.4893908281998631), (73, 0.48837209302325585), (74, 0.48922340061580577), (75, 0.4900888585099112), (76, 0.4870041039671683), (77, 0.48803827751196166), (78, 0.4881889763779527), (79, 0.4882051282051282), (80, 0.487871540826785), (81, 0.48667122351332875), (82, 0.4871882473522378), (83, 0.4871882473522378), (84, 0.4871882473522378), (85, 0.4871882473522378), (86, 0.4871882473522378), (87, 0.4871882473522378), (88, 0.4871882473522378), (89, 0.4871882473522378), (90, 0.4871882473522378), (91, 0.4871882473522378), (92, 0.4871882473522378), (93, 0.4871882473522378), (94, 0.4871882473522378), (95, 0.4871882473522378), (96, 0.4871882473522378), (97, 0.4871882473522378), (98, 0.4871882473522378), (99, 0.4871882473522378)]}\n"
     ]
    }
   ],
   "source": [
    "print (metrics)"
   ]
  },
  {
   "cell_type": "code",
   "execution_count": 27,
   "id": "d0baa512",
   "metadata": {},
   "outputs": [
    {
     "data": {
      "image/png": "[encoded data removed]",
      "text/plain": [
       "<Figure size 1000x400 with 1 Axes>"
      ]
     },
     "metadata": {},
     "output_type": "display_data"
    },
    {
     "data": {
      "image/png": "[encoded data removed]",
      "text/plain": [
       "<Figure size 1000x400 with 1 Axes>"
      ]
     },
     "metadata": {},
     "output_type": "display_data"
    },
    {
     "data": {
      "image/png": "[encoded data removed]",
      "text/plain": [
       "<Figure size 1000x400 with 1 Axes>"
      ]
     },
     "metadata": {},
     "output_type": "display_data"
    },
    {
     "data": {
      "image/png": "[encoded data removed]",
      "text/plain": [
       "<Figure size 1000x400 with 1 Axes>"
      ]
     },
     "metadata": {},
     "output_type": "display_data"
    },
    {
     "data": {
      "image/png": "[encoded data removed]",
      "text/plain": [
       "<Figure size 1000x400 with 1 Axes>"
      ]
     },
     "metadata": {},
     "output_type": "display_data"
    }
   ],
   "source": [
    "'''plt.figure (figsize = (10, 4))\n",
    "for i, (name, history) in enumerate (sorted (metrics.items ())):\n",
    "    plt.subplot (1, len (metrics), i + 1)\n",
    "    plt.title (name)\n",
    "    plt.plot (*zip (*history))\n",
    "    plt.grid ()\n",
    "plt.show ()'''\n",
    "\n",
    "for i, (name, history) in enumerate (sorted (metrics.items ())):\n",
    "    #plt.plot (1, len (metrics), i + 1)\n",
    "    plt.figure (figsize = (10, 4))\n",
    "    plt.title (name)\n",
    "    plt.plot (*zip (*history))\n",
    "    plt.grid ()\n",
    "    plt.show ()\n"
   ]
  },
  {
   "cell_type": "code",
   "execution_count": 28,
   "id": "d87b8734",
   "metadata": {},
   "outputs": [
    {
     "name": "stdout",
     "output_type": "stream",
     "text": [
      "['семантики <extra_id_0> термина <extra_id_0> терминоведения <extra_id_0> переводоведения <extra_id_0> лексикографии</s><pad><pad><pad><pad><pad><pad><pad><pad><pad><pad><pad><pad><pad><pad><pad><pad><pad><pad><pad><pad><pad><pad><pad><pad><pad><pad><pad><pad><pad><pad><pad><pad><pad><pad><pad><pad><pad><pad><pad><pad><pad><pad><pad><pad><pad><pad><pad><pad><pad><pad><pad><pad><pad><pad><pad><pad><pad><pad><pad><pad><pad><pad><pad><pad><pad><pad><pad><pad><pad><pad><pad><pad><pad><pad><pad><pad><pad><pad><pad><pad><pad><pad><pad><pad><pad><pad><pad><pad><pad><pad><pad><pad><pad><pad><pad><pad><pad><pad><pad><pad><pad><pad><pad><pad><pad><pad><pad><pad><pad><pad><pad><pad><pad><pad><pad><pad><pad><pad><pad><pad><pad><pad><pad><pad><pad><pad><pad><pad><pad><pad><pad>', 'глобальную оптимизацию <extra_id_0> оптимизацию <extra_id_0> генетического алгоритма <extra_id_0> алгоритма <extra_id_0> эвристик <extra_id_0> размерность задачи</s><pad><pad><pad><pad><pad><pad><pad><pad><pad><pad><pad><pad><pad><pad><pad><pad><pad><pad><pad><pad><pad><pad><pad><pad><pad><pad><pad><pad><pad><pad><pad><pad><pad><pad><pad><pad><pad><pad><pad><pad><pad><pad><pad><pad><pad><pad><pad><pad><pad><pad><pad><pad><pad><pad><pad><pad><pad><pad><pad><pad><pad><pad><pad><pad><pad><pad><pad><pad><pad><pad><pad><pad><pad><pad><pad><pad><pad><pad><pad><pad><pad><pad><pad><pad><pad><pad><pad><pad><pad><pad><pad><pad><pad><pad><pad><pad><pad><pad><pad><pad><pad><pad><pad><pad><pad><pad><pad><pad><pad><pad><pad><pad><pad><pad><pad><pad><pad><pad><pad><pad><pad><pad><pad>', 'паузы хезитации <extra_id_0> синтаксической структуры предложения <extra_id_0> предложения <extra_id_0> носителями <extra_id_0> русского языка <extra_id_0> языка</s><pad><pad><pad><pad><pad><pad><pad><pad><pad><pad><pad><pad><pad><pad><pad><pad><pad><pad><pad><pad><pad><pad><pad><pad><pad><pad><pad><pad><pad><pad><pad><pad><pad><pad><pad><pad><pad><pad><pad><pad><pad><pad><pad><pad><pad><pad><pad><pad><pad><pad><pad><pad><pad><pad><pad><pad><pad><pad><pad><pad><pad><pad><pad><pad><pad><pad><pad><pad><pad><pad><pad><pad><pad><pad><pad><pad><pad><pad><pad><pad><pad><pad><pad><pad><pad><pad><pad><pad><pad><pad><pad><pad><pad><pad><pad><pad><pad><pad><pad><pad><pad><pad><pad><pad><pad><pad><pad><pad><pad><pad><pad><pad><pad><pad><pad><pad><pad><pad><pad><pad><pad><pad><pad>', '</s><pad><pad><pad><pad><pad><pad><pad><pad><pad><pad><pad><pad><pad><pad><pad><pad><pad><pad><pad><pad><pad><pad><pad><pad><pad><pad><pad><pad><pad><pad><pad><pad><pad><pad><pad><pad><pad><pad><pad><pad><pad><pad><pad><pad><pad><pad><pad><pad><pad><pad><pad><pad><pad><pad><pad><pad><pad><pad><pad><pad><pad><pad><pad><pad><pad><pad><pad><pad><pad><pad><pad><pad><pad><pad><pad><pad><pad><pad><pad><pad><pad><pad><pad><pad><pad><pad><pad><pad><pad><pad><pad><pad><pad><pad><pad><pad><pad><pad><pad><pad><pad><pad><pad><pad><pad><pad><pad><pad><pad><pad><pad><pad><pad><pad><pad><pad><pad><pad><pad><pad><pad><pad><pad><pad><pad><pad><pad><pad><pad><pad><pad><pad><pad><pad><pad><pad><pad><pad><pad><pad><pad><pad><pad><pad><pad><pad><pad><pad><pad>', 'АИС <extra_id_0> АИС «Языки России: Социолингвистический портрет» <extra_id_0> Социолингвистический портрет <extra_id_0> реляционная база данных <extra_id_0> база данных <extra_id_0> данных <extra_id_0> языков</s><pad><pad><pad><pad><pad><pad><pad><pad><pad><pad><pad><pad><pad><pad><pad><pad><pad><pad><pad><pad><pad><pad><pad><pad><pad><pad><pad><pad><pad><pad><pad><pad><pad><pad><pad><pad><pad><pad><pad><pad><pad><pad><pad><pad><pad><pad><pad><pad><pad><pad><pad><pad><pad><pad><pad><pad><pad><pad><pad><pad><pad><pad><pad><pad><pad><pad><pad><pad><pad><pad><pad><pad><pad><pad><pad><pad><pad><pad><pad><pad><pad><pad><pad><pad><pad><pad><pad><pad><pad><pad><pad><pad><pad><pad><pad><pad><pad><pad><pad><pad><pad><pad><pad><pad><pad><pad><pad><pad><pad>', 'отклонений от нормы <extra_id_0> авторская неология <extra_id_0> неология <extra_id_0> языковая игра</s><pad><pad><pad><pad><pad><pad><pad><pad><pad><pad><pad><pad><pad><pad><pad><pad><pad><pad><pad><pad><pad><pad><pad><pad><pad><pad><pad><pad><pad><pad><pad><pad><pad><pad><pad><pad><pad><pad><pad><pad><pad><pad><pad><pad><pad><pad><pad><pad><pad><pad><pad><pad><pad><pad><pad><pad><pad><pad><pad><pad><pad><pad><pad><pad><pad><pad><pad><pad><pad><pad><pad><pad><pad><pad><pad><pad><pad><pad><pad><pad><pad><pad><pad><pad><pad><pad><pad><pad><pad><pad><pad><pad><pad><pad><pad><pad><pad><pad><pad><pad><pad><pad><pad><pad><pad><pad><pad><pad><pad><pad><pad><pad><pad><pad><pad><pad><pad><pad><pad><pad><pad><pad><pad><pad><pad><pad><pad><pad><pad><pad><pad>', 'семантики <extra_id_0> глаголов <extra_id_0> глаголов вращения <extra_id_0> языков <extra_id_0> семантической карты <extra_id_0> поля</s><pad><pad><pad><pad><pad><pad><pad><pad><pad><pad><pad><pad><pad><pad><pad><pad><pad><pad><pad><pad><pad><pad><pad><pad><pad><pad><pad><pad><pad><pad><pad><pad><pad><pad><pad><pad><pad><pad><pad><pad><pad><pad><pad><pad><pad><pad><pad><pad><pad><pad><pad><pad><pad><pad><pad><pad><pad><pad><pad><pad><pad><pad><pad><pad><pad><pad><pad><pad><pad><pad><pad><pad><pad><pad><pad><pad><pad><pad><pad><pad><pad><pad><pad><pad><pad><pad><pad><pad><pad><pad><pad><pad><pad><pad><pad><pad><pad><pad><pad><pad><pad><pad><pad><pad><pad><pad><pad><pad><pad><pad><pad><pad><pad><pad><pad><pad><pad><pad><pad><pad><pad><pad><pad><pad><pad><pad>', 'МИНОРИТАРНЫЕ ЯЗЫКИ РОССИИ <extra_id_0> ИНТЕРНЕТЕ <extra_id_0> ОПИСАТЕЛЬНАЯ СТАТИСТИКА <extra_id_0> СТАТИСТИКА</s><pad><pad><pad><pad><pad><pad><pad><pad><pad><pad><pad><pad><pad><pad><pad><pad><pad><pad><pad><pad><pad><pad><pad><pad><pad><pad><pad><pad><pad><pad><pad><pad><pad><pad><pad><pad><pad><pad><pad><pad><pad><pad><pad><pad><pad><pad><pad><pad><pad><pad><pad><pad><pad><pad><pad><pad><pad><pad><pad><pad><pad><pad><pad><pad><pad><pad><pad><pad><pad><pad><pad><pad><pad><pad><pad><pad><pad><pad><pad><pad><pad><pad><pad><pad><pad><pad><pad><pad><pad><pad><pad><pad><pad><pad><pad><pad><pad><pad><pad><pad><pad><pad><pad><pad><pad><pad>']\n",
      "['моделимантики термин термина <extra_id_0> терминоведения <extra_id_0> переводоведения <extra_id_0> лексикографии</s><pad><pad><pad><pad><pad><pad><pad><pad><pad><pad><pad><pad><pad><pad><pad><pad><pad><pad><pad><pad><pad><pad><pad><pad><pad><pad><pad><pad><pad><pad><pad><pad><pad><pad><pad><pad><pad><pad><pad><pad><pad><pad><pad><pad><pad><pad><pad><pad><pad><pad><pad><pad><pad><pad><pad><pad><pad><pad><pad><pad><pad><pad><pad><pad><pad><pad><pad><pad><pad><pad><pad><pad><pad><pad><pad><pad><pad><pad><pad><pad><pad><pad><pad><pad><pad><pad><pad><pad><pad><pad><pad><pad><pad><pad><pad><pad><pad><pad><pad><pad><pad><pad><pad><pad><pad><pad><pad><pad><pad><pad><pad><pad><pad><pad><pad><pad><pad><pad><pad><pad><pad><pad><pad><pad><pad><pad><pad><pad><pad><pad><pad>', 'глобальную оптимизацию <extra_id_0> генеацию <extra_id_0> генетического алгоритма <extra_id_0> эвалгоритма <extra_id_0> эвристик <extra_id_0> допуность</s>и</s><pad><pad><pad><pad><pad><pad><pad><pad><pad><pad><pad><pad><pad><pad><pad><pad><pad><pad><pad><pad><pad><pad><pad><pad><pad><pad><pad><pad><pad><pad><pad><pad><pad><pad><pad><pad><pad><pad><pad><pad><pad><pad><pad><pad><pad><pad><pad><pad><pad><pad><pad><pad><pad><pad><pad><pad><pad><pad><pad><pad><pad><pad><pad><pad><pad><pad><pad><pad><pad><pad><pad><pad><pad><pad><pad><pad><pad><pad><pad><pad><pad><pad><pad><pad><pad><pad><pad><pad><pad><pad><pad><pad><pad><pad><pad><pad><pad><pad><pad><pad><pad><pad><pad><pad><pad><pad><pad><pad><pad><pad><pad><pad><pad><pad><pad><pad><pad><pad><pad><pad><pad><pad><pad>', 'паузы <extra_id_0>зитации <extra_id_0> синтаксической структуры предложения <extra_id_0> предложения <extra_id_0> носителями русск русского языка <extra_id_0> языка</s><pad><pad><pad><pad><pad><pad><pad><pad><pad><pad><pad><pad><pad><pad><pad><pad><pad><pad><pad><pad><pad><pad><pad><pad><pad><pad><pad><pad><pad><pad><pad><pad><pad><pad><pad><pad><pad><pad><pad><pad><pad><pad><pad><pad><pad><pad><pad><pad><pad><pad><pad><pad><pad><pad><pad><pad><pad><pad><pad><pad><pad><pad><pad><pad><pad><pad><pad><pad><pad><pad><pad><pad><pad><pad><pad><pad><pad><pad><pad><pad><pad><pad><pad><pad><pad><pad><pad><pad><pad><pad><pad><pad><pad><pad><pad><pad><pad><pad><pad><pad><pad><pad><pad><pad><pad><pad><pad><pad><pad><pad><pad><pad><pad><pad><pad><pad><pad><pad><pad><pad><pad><pad><pad>', '<pad><pad><pad><pad><pad><pad><pad><pad><pad><pad><pad><pad><pad><pad><pad><pad><pad><pad><pad><pad><pad><pad><pad><pad><pad><pad><pad><pad><pad><pad><pad><pad><pad><pad><pad><pad><pad><pad><pad><pad><pad><pad><pad><pad><pad><pad><pad><pad><pad><pad><pad><pad><pad><pad><pad><pad><pad><pad><pad><pad><pad><pad><pad><pad><pad><pad><pad><pad><pad><pad><pad><pad><pad><pad><pad><pad><pad><pad><pad><pad><pad><pad><pad><pad><pad><pad><pad><pad><pad><pad><pad><pad><pad><pad><pad><pad><pad><pad><pad><pad><pad><pad><pad><pad><pad><pad><pad><pad><pad><pad><pad><pad><pad><pad><pad><pad><pad><pad><pad><pad><pad><pad><pad><pad><pad><pad><pad><pad><pad><pad><pad><pad><pad><pad><pad><pad><pad><pad><pad><pad><pad><pad><pad><pad><pad><pad><pad><pad><pad>', 'АИС <extra_id_0> ЯИС «Языки России <extra_id_0> Социолингвистический портрет» <extra_id_0> олингвистический портрет <extra_id_0> реляционная база данных <extra_id_0> база данных <extra_id_0> данных</s> функционов</s><pad><pad><pad><pad><pad><pad><pad><pad><pad><pad><pad><pad><pad><pad><pad><pad><pad><pad><pad><pad><pad><pad><pad><pad><pad><pad><pad><pad><pad><pad><pad><pad><pad><pad><pad><pad><pad><pad><pad><pad><pad><pad><pad><pad><pad><pad><pad><pad><pad><pad><pad><pad><pad><pad><pad><pad><pad><pad><pad><pad><pad><pad><pad><pad><pad><pad><pad><pad><pad><pad><pad><pad><pad><pad><pad><pad><pad><pad><pad><pad><pad><pad><pad><pad><pad><pad><pad><pad><pad><pad><pad><pad><pad><pad><pad><pad><pad><pad><pad><pad><pad><pad><pad><pad><pad><pad><pad><pad><pad>', 'отклонений <extra_id_0> нормы <extra_id_0> авторская неология <extra_id_0> неология <extra_id_0> языковая игра <extra_id_0><pad><pad><pad><pad><pad><pad><pad><pad><pad><pad><pad><pad><pad><pad><pad><pad><pad><pad><pad><pad><pad><pad><pad><pad><pad><pad><pad><pad><pad><pad><pad><pad><pad><pad><pad><pad><pad><pad><pad><pad><pad><pad><pad><pad><pad><pad><pad><pad><pad><pad><pad><pad><pad><pad><pad><pad><pad><pad><pad><pad><pad><pad><pad><pad><pad><pad><pad><pad><pad><pad><pad><pad><pad><pad><pad><pad><pad><pad><pad><pad><pad><pad><pad><pad><pad><pad><pad><pad><pad><pad><pad><pad><pad><pad><pad><pad><pad><pad><pad><pad><pad><pad><pad><pad><pad><pad><pad><pad><pad><pad><pad><pad><pad><pad><pad><pad><pad><pad><pad><pad><pad><pad><pad><pad><pad><pad><pad><pad><pad><pad><pad>', 'семантики <extra_id_0> глаголов <extra_id_0> языкголов вращения <extra_id_0> языков <extra_id_0> семантической карты <extra_id_0> </s><pad><pad><pad><pad><pad><pad><pad><pad><pad><pad><pad><pad><pad><pad><pad><pad><pad><pad><pad><pad><pad><pad><pad><pad><pad><pad><pad><pad><pad><pad><pad><pad><pad><pad><pad><pad><pad><pad><pad><pad><pad><pad><pad><pad><pad><pad><pad><pad><pad><pad><pad><pad><pad><pad><pad><pad><pad><pad><pad><pad><pad><pad><pad><pad><pad><pad><pad><pad><pad><pad><pad><pad><pad><pad><pad><pad><pad><pad><pad><pad><pad><pad><pad><pad><pad><pad><pad><pad><pad><pad><pad><pad><pad><pad><pad><pad><pad><pad><pad><pad><pad><pad><pad><pad><pad><pad><pad><pad><pad><pad><pad><pad><pad><pad><pad><pad><pad><pad><pad><pad><pad><pad><pad><pad><pad><pad>', 'МИНОРИТАРНЫЕ ЯЗЫКИ РОССИИ <extra_id_0> ЯТЕРНЕТЕ <extra_id_0> ОПИСАТЕЛЬНАЯ СТАТИСТИКА</s> СТАТИСТИКА</s><pad><pad><pad><pad><pad><pad><pad><pad><pad><pad><pad><pad><pad><pad><pad><pad><pad><pad><pad><pad><pad><pad><pad><pad><pad><pad><pad><pad><pad><pad><pad><pad><pad><pad><pad><pad><pad><pad><pad><pad><pad><pad><pad><pad><pad><pad><pad><pad><pad><pad><pad><pad><pad><pad><pad><pad><pad><pad><pad><pad><pad><pad><pad><pad><pad><pad><pad><pad><pad><pad><pad><pad><pad><pad><pad><pad><pad><pad><pad><pad><pad><pad><pad><pad><pad><pad><pad><pad><pad><pad><pad><pad><pad><pad><pad><pad><pad><pad><pad><pad><pad><pad><pad><pad><pad><pad>']\n",
      "True: {'семантики', 'лексикографии', 'терминоведения', 'термина', 'переводоведения'}\n",
      "Pred: {'переводоведения', 'лексикографии', 'моделимантики термин термина', 'терминоведения'}\n",
      "True: {'алгоритма', 'размерность задачи', 'оптимизацию', 'глобальную оптимизацию', 'генетического алгоритма', 'эвристик'}\n",
      "Pred: {'допуностьи', 'глобальную оптимизацию', 'генетического алгоритма', 'генеацию', 'эвалгоритма', 'эвристик'}\n",
      "True: {'предложения', 'паузы хезитации', 'языка', 'носителями', 'синтаксической структуры предложения', 'русского языка'}\n",
      "Pred: {'предложения', 'паузы', 'языка', 'носителями русск русского языка', 'синтаксической структуры предложения', 'зитации'}\n",
      "True: {''}\n",
      "Pred: {''}\n",
      "True: {'данных', 'база данных', 'языков', 'АИС', 'реляционная база данных', 'Социолингвистический портрет', 'АИС «Языки России: Социолингвистический портрет»'}\n",
      "Pred: {'база данных', 'АИС', 'данных функционов', 'реляционная база данных', 'ЯИС «Языки России', 'олингвистический портрет', 'Социолингвистический портрет»'}\n",
      "True: {'авторская неология', 'языковая игра', 'неология', 'отклонений от нормы'}\n",
      "Pred: {'нормы', 'отклонений', 'авторская неология', 'неология', 'языковая игра'}\n",
      "True: {'глаголов', 'языков', 'глаголов вращения', 'семантики', 'поля', 'семантической карты'}\n",
      "Pred: {'глаголов', 'языкголов вращения', 'языков', 'семантики', 'семантической карты'}\n",
      "True: {'СТАТИСТИКА', 'ИНТЕРНЕТЕ', 'ОПИСАТЕЛЬНАЯ СТАТИСТИКА', 'МИНОРИТАРНЫЕ ЯЗЫКИ РОССИИ'}\n",
      "Pred: {'ЯТЕРНЕТЕ', 'ОПИСАТЕЛЬНАЯ СТАТИСТИКА СТАТИСТИКА', 'МИНОРИТАРНЫЕ ЯЗЫКИ РОССИИ'}\n",
      "(0.5675675675675675, 0.5384615384615384, 0.5526315789473685)\n"
     ]
    }
   ],
   "source": [
    "model.eval()\n",
    "with torch.no_grad():\n",
    "    for batch in test_loader:\n",
    "        \n",
    "        input_ids = batch['input_ids'].to(model.device)\n",
    "        attention_mask = batch['attention_mask'].to(model.device)\n",
    "        labels = batch['labels'].to(model.device)\n",
    "\n",
    "        outputs = model (input_ids=input_ids, attention_mask=attention_mask, labels=labels)\n",
    "\n",
    "        outputs = outputs.logits.argmax(-1)\n",
    "\n",
    "        #print (outputs)\n",
    "        print (tokenizer.batch_decode (labels))\n",
    "        print (tokenizer.batch_decode (outputs))\n",
    "\n",
    "        out = model.generate (input_ids = input_ids, attention_mask = attention_mask)\n",
    "\n",
    "        print (sanity_check (outputs, labels, to_print = True))\n",
    "\n",
    "        break"
   ]
  },
  {
   "cell_type": "code",
   "execution_count": 29,
   "id": "03e24fcd",
   "metadata": {},
   "outputs": [
    {
     "data": {
      "text/plain": [
       "MT5ForConditionalGeneration(\n",
       "  (shared): Embedding(20100, 512)\n",
       "  (encoder): MT5Stack(\n",
       "    (embed_tokens): Embedding(20100, 512)\n",
       "    (block): ModuleList(\n",
       "      (0): MT5Block(\n",
       "        (layer): ModuleList(\n",
       "          (0): MT5LayerSelfAttention(\n",
       "            (SelfAttention): MT5Attention(\n",
       "              (q): Linear(in_features=512, out_features=384, bias=False)\n",
       "              (k): Linear(in_features=512, out_features=384, bias=False)\n",
       "              (v): Linear(in_features=512, out_features=384, bias=False)\n",
       "              (o): Linear(in_features=384, out_features=512, bias=False)\n",
       "              (relative_attention_bias): Embedding(32, 6)\n",
       "            )\n",
       "            (layer_norm): MT5LayerNorm()\n",
       "            (dropout): Dropout(p=0.1, inplace=False)\n",
       "          )\n",
       "          (1): MT5LayerFF(\n",
       "            (DenseReluDense): MT5DenseGatedActDense(\n",
       "              (wi_0): Linear(in_features=512, out_features=1024, bias=False)\n",
       "              (wi_1): Linear(in_features=512, out_features=1024, bias=False)\n",
       "              (wo): Linear(in_features=1024, out_features=512, bias=False)\n",
       "              (dropout): Dropout(p=0.1, inplace=False)\n",
       "              (act): NewGELUActivation()\n",
       "            )\n",
       "            (layer_norm): MT5LayerNorm()\n",
       "            (dropout): Dropout(p=0.1, inplace=False)\n",
       "          )\n",
       "        )\n",
       "      )\n",
       "      (1-7): 7 x MT5Block(\n",
       "        (layer): ModuleList(\n",
       "          (0): MT5LayerSelfAttention(\n",
       "            (SelfAttention): MT5Attention(\n",
       "              (q): Linear(in_features=512, out_features=384, bias=False)\n",
       "              (k): Linear(in_features=512, out_features=384, bias=False)\n",
       "              (v): Linear(in_features=512, out_features=384, bias=False)\n",
       "              (o): Linear(in_features=384, out_features=512, bias=False)\n",
       "            )\n",
       "            (layer_norm): MT5LayerNorm()\n",
       "            (dropout): Dropout(p=0.1, inplace=False)\n",
       "          )\n",
       "          (1): MT5LayerFF(\n",
       "            (DenseReluDense): MT5DenseGatedActDense(\n",
       "              (wi_0): Linear(in_features=512, out_features=1024, bias=False)\n",
       "              (wi_1): Linear(in_features=512, out_features=1024, bias=False)\n",
       "              (wo): Linear(in_features=1024, out_features=512, bias=False)\n",
       "              (dropout): Dropout(p=0.1, inplace=False)\n",
       "              (act): NewGELUActivation()\n",
       "            )\n",
       "            (layer_norm): MT5LayerNorm()\n",
       "            (dropout): Dropout(p=0.1, inplace=False)\n",
       "          )\n",
       "        )\n",
       "      )\n",
       "    )\n",
       "    (final_layer_norm): MT5LayerNorm()\n",
       "    (dropout): Dropout(p=0.1, inplace=False)\n",
       "  )\n",
       "  (decoder): MT5Stack(\n",
       "    (embed_tokens): Embedding(20100, 512)\n",
       "    (block): ModuleList(\n",
       "      (0): MT5Block(\n",
       "        (layer): ModuleList(\n",
       "          (0): MT5LayerSelfAttention(\n",
       "            (SelfAttention): MT5Attention(\n",
       "              (q): Linear(in_features=512, out_features=384, bias=False)\n",
       "              (k): Linear(in_features=512, out_features=384, bias=False)\n",
       "              (v): Linear(in_features=512, out_features=384, bias=False)\n",
       "              (o): Linear(in_features=384, out_features=512, bias=False)\n",
       "              (relative_attention_bias): Embedding(32, 6)\n",
       "            )\n",
       "            (layer_norm): MT5LayerNorm()\n",
       "            (dropout): Dropout(p=0.1, inplace=False)\n",
       "          )\n",
       "          (1): MT5LayerCrossAttention(\n",
       "            (EncDecAttention): MT5Attention(\n",
       "              (q): Linear(in_features=512, out_features=384, bias=False)\n",
       "              (k): Linear(in_features=512, out_features=384, bias=False)\n",
       "              (v): Linear(in_features=512, out_features=384, bias=False)\n",
       "              (o): Linear(in_features=384, out_features=512, bias=False)\n",
       "            )\n",
       "            (layer_norm): MT5LayerNorm()\n",
       "            (dropout): Dropout(p=0.1, inplace=False)\n",
       "          )\n",
       "          (2): MT5LayerFF(\n",
       "            (DenseReluDense): MT5DenseGatedActDense(\n",
       "              (wi_0): Linear(in_features=512, out_features=1024, bias=False)\n",
       "              (wi_1): Linear(in_features=512, out_features=1024, bias=False)\n",
       "              (wo): Linear(in_features=1024, out_features=512, bias=False)\n",
       "              (dropout): Dropout(p=0.1, inplace=False)\n",
       "              (act): NewGELUActivation()\n",
       "            )\n",
       "            (layer_norm): MT5LayerNorm()\n",
       "            (dropout): Dropout(p=0.1, inplace=False)\n",
       "          )\n",
       "        )\n",
       "      )\n",
       "      (1-7): 7 x MT5Block(\n",
       "        (layer): ModuleList(\n",
       "          (0): MT5LayerSelfAttention(\n",
       "            (SelfAttention): MT5Attention(\n",
       "              (q): Linear(in_features=512, out_features=384, bias=False)\n",
       "              (k): Linear(in_features=512, out_features=384, bias=False)\n",
       "              (v): Linear(in_features=512, out_features=384, bias=False)\n",
       "              (o): Linear(in_features=384, out_features=512, bias=False)\n",
       "            )\n",
       "            (layer_norm): MT5LayerNorm()\n",
       "            (dropout): Dropout(p=0.1, inplace=False)\n",
       "          )\n",
       "          (1): MT5LayerCrossAttention(\n",
       "            (EncDecAttention): MT5Attention(\n",
       "              (q): Linear(in_features=512, out_features=384, bias=False)\n",
       "              (k): Linear(in_features=512, out_features=384, bias=False)\n",
       "              (v): Linear(in_features=512, out_features=384, bias=False)\n",
       "              (o): Linear(in_features=384, out_features=512, bias=False)\n",
       "            )\n",
       "            (layer_norm): MT5LayerNorm()\n",
       "            (dropout): Dropout(p=0.1, inplace=False)\n",
       "          )\n",
       "          (2): MT5LayerFF(\n",
       "            (DenseReluDense): MT5DenseGatedActDense(\n",
       "              (wi_0): Linear(in_features=512, out_features=1024, bias=False)\n",
       "              (wi_1): Linear(in_features=512, out_features=1024, bias=False)\n",
       "              (wo): Linear(in_features=1024, out_features=512, bias=False)\n",
       "              (dropout): Dropout(p=0.1, inplace=False)\n",
       "              (act): NewGELUActivation()\n",
       "            )\n",
       "            (layer_norm): MT5LayerNorm()\n",
       "            (dropout): Dropout(p=0.1, inplace=False)\n",
       "          )\n",
       "        )\n",
       "      )\n",
       "    )\n",
       "    (final_layer_norm): MT5LayerNorm()\n",
       "    (dropout): Dropout(p=0.1, inplace=False)\n",
       "  )\n",
       "  (lm_head): Linear(in_features=512, out_features=20100, bias=False)\n",
       ")"
      ]
     },
     "execution_count": 29,
     "metadata": {},
     "output_type": "execute_result"
    }
   ],
   "source": [
    "model"
   ]
  },
  {
   "cell_type": "code",
   "execution_count": 30,
   "id": "49e10ccb",
   "metadata": {},
   "outputs": [
    {
     "name": "stderr",
     "output_type": "stream",
     "text": [
      "100%|██████████| 53/53 [00:10<00:00,  4.99it/s]\n"
     ]
    },
    {
     "name": "stdout",
     "output_type": "stream",
     "text": [
      "Validation:  (0.5815660685154975, 0.4191651969429747, 0.4871882473522378)\n"
     ]
    },
    {
     "name": "stderr",
     "output_type": "stream",
     "text": [
      "100%|██████████| 53/53 [00:10<00:00,  5.10it/s]\n"
     ]
    },
    {
     "name": "stdout",
     "output_type": "stream",
     "text": [
      "Test:  (0.584934665641814, 0.47296457426973276, 0.5230240549828178)\n"
     ]
    }
   ],
   "source": [
    "\n",
    "\n",
    "model.eval ()  # Устанавливаем модель в режим оценки\n",
    "val_preds, val_labels = [], []\n",
    "\n",
    "with torch.no_grad ():\n",
    "    for batch in tqdm (val_loader):\n",
    "        input_ids = batch ['input_ids'].to (model.device)\n",
    "        attention_mask = batch ['attention_mask'].to (model.device)\n",
    "        labels = batch ['labels'].to (model.device)\n",
    "        out = model.generate (input_ids = input_ids, attention_mask = attention_mask)\n",
    "\n",
    "        val_preds.extend (out)\n",
    "        val_labels.extend (labels)\n",
    "\n",
    "    print ('Validation: ', sanity_check (val_preds, val_labels))\n",
    "\n",
    "\n",
    "val_preds, val_labels = [], []\n",
    "\n",
    "with torch.no_grad ():\n",
    "    for batch in tqdm (test_loader):\n",
    "        input_ids = batch ['input_ids'].to (model.device)\n",
    "        attention_mask = batch ['attention_mask'].to (model.device)\n",
    "        labels = batch ['labels'].to (model.device)\n",
    "        out = model.generate (input_ids = input_ids, attention_mask = attention_mask)\n",
    "\n",
    "        val_preds.extend (out)\n",
    "        val_labels.extend (labels)\n",
    "\n",
    "    print ('Test: ', sanity_check (val_preds, val_labels))"
   ]
  },
  {
   "cell_type": "code",
   "execution_count": 31,
   "id": "7c0a2d47",
   "metadata": {},
   "outputs": [
    {
     "name": "stderr",
     "output_type": "stream",
     "text": [
      "100%|██████████| 53/53 [00:31<00:00,  1.70it/s]\n"
     ]
    },
    {
     "name": "stdout",
     "output_type": "stream",
     "text": [
      "Validation wmax:  (0.6291946308724832, 0.6613756613756614, 0.644883920894239)\n"
     ]
    },
    {
     "name": "stderr",
     "output_type": "stream",
     "text": [
      "100%|██████████| 53/53 [00:29<00:00,  1.79it/s]\n"
     ]
    },
    {
     "name": "stdout",
     "output_type": "stream",
     "text": [
      "Test wmax:  (0.6287015945330297, 0.6861404599129894, 0.6561664190193165)\n"
     ]
    }
   ],
   "source": [
    "\n",
    "NUM_BEAMS = 1\n",
    "\n",
    "val_preds, val_labels = [], []\n",
    "with torch.no_grad ():\n",
    "    for batch in tqdm (val_loader):\n",
    "        input_ids = batch ['input_ids'].to (model.device)\n",
    "        attention_mask = batch ['attention_mask'].to (model.device)\n",
    "        labels = batch ['labels'].to (model.device)\n",
    "        out = model.generate (input_ids = input_ids, attention_mask = attention_mask, max_length=SEQ_MAX_LENGTH)\n",
    "\n",
    "        val_preds.extend (out)\n",
    "        val_labels.extend (labels)\n",
    "\n",
    "    print ('Validation wmax: ', sanity_check (val_preds, val_labels))\n",
    "\n",
    "\n",
    "val_preds, val_labels = [], []\n",
    "with torch.no_grad ():\n",
    "    for batch in tqdm (test_loader):\n",
    "        input_ids = batch ['input_ids'].to (model.device)\n",
    "        attention_mask = batch ['attention_mask'].to (model.device)\n",
    "        labels = batch ['labels'].to (model.device)\n",
    "        out = model.generate (input_ids = input_ids, attention_mask = attention_mask, max_length=SEQ_MAX_LENGTH)\n",
    "\n",
    "        val_preds.extend (out)\n",
    "        val_labels.extend (labels)\n",
    "\n",
    "    print ('Test wmax: ', sanity_check (val_preds, val_labels))"
   ]
  },
  {
   "cell_type": "code",
   "execution_count": 32,
   "id": "158c7e3b",
   "metadata": {},
   "outputs": [
    {
     "data": {
      "text/plain": [
       "tensor([    0,  7389,  6587,   544, 19868,   657, 10332,   308, 20099,   544,\n",
       "        19868,   657, 10332,   308, 20099, 10332,   411,  6335, 20099,  8419,\n",
       "          411,  6335, 20099, 17374,  1040, 17519,     1,     0,     0,     0,\n",
       "            0,     0,     0,     0,     0,     0], device='cuda:0')"
      ]
     },
     "execution_count": 32,
     "metadata": {},
     "output_type": "execute_result"
    }
   ],
   "source": [
    "val_preds [0]"
   ]
  },
  {
   "cell_type": "code",
   "execution_count": 33,
   "id": "8205f85f",
   "metadata": {},
   "outputs": [],
   "source": [
    "#model.save_pretrained('./coint_rut5small_finetune_5875')\n",
    "#tokenizer.save_pretrained('./coint_rut5small_finetune_5875')"
   ]
  },
  {
   "cell_type": "code",
   "execution_count": null,
   "id": "f39be4a9",
   "metadata": {},
   "outputs": [],
   "source": []
  }
 ],
 "metadata": {
  "kernelspec": {
   "display_name": "Python 3",
   "language": "python",
   "name": "python3"
  },
  "language_info": {
   "codemirror_mode": {
    "name": "ipython",
    "version": 3
   },
   "file_extension": ".py",
   "mimetype": "text/x-python",
   "name": "python",
   "nbconvert_exporter": "python",
   "pygments_lexer": "ipython3",
   "version": "3.10.11"
  }
 },
 "nbformat": 4,
 "nbformat_minor": 5
}
