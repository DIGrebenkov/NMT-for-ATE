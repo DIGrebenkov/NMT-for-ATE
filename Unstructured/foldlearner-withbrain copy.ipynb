{
 "cells": [
  {
   "cell_type": "code",
   "execution_count": 1,
   "id": "553b9a1e",
   "metadata": {},
   "outputs": [
    {
     "name": "stdout",
     "output_type": "stream",
     "text": [
      "WARNING:tensorflow:From c:\\Users\\Enfi\\AppData\\Local\\Programs\\Python\\Python310\\lib\\site-packages\\keras\\src\\losses.py:2976: The name tf.losses.sparse_softmax_cross_entropy is deprecated. Please use tf.compat.v1.losses.sparse_softmax_cross_entropy instead.\n",
      "\n"
     ]
    }
   ],
   "source": [
    "import pandas as pd\n",
    "import regex as re\n",
    "\n",
    "from sklearn.model_selection import train_test_split\n",
    "from sklearn.model_selection import KFold\n",
    "\n",
    "import ahocorasick\n",
    "\n",
    "import torch\n",
    "from transformers import T5ForConditionalGeneration, AutoTokenizer, MT5ForConditionalGeneration, get_scheduler\n",
    "from torch.utils.data import DataLoader, Dataset\n",
    "from torch.optim import AdamW\n",
    "#from fairseq.optim.adafactor import Adafactor\n",
    "\n",
    "from tqdm import tqdm\n",
    "import matplotlib.pyplot as plt\n",
    "\n",
    "from copy import deepcopy"
   ]
  },
  {
   "cell_type": "code",
   "execution_count": 2,
   "id": "f2cd2a22",
   "metadata": {},
   "outputs": [],
   "source": [
    "# CONSTANTS:\n",
    "\n",
    "SEP_TOKEN = '▁<extra_id_0>'\n",
    "INPUT_PREFIX = ''\n",
    "\n",
    "NUM_OF_SPLITS = 50\n",
    "\n",
    "ATTACHMENT_TOKEN = '▁<extra_id_1>'\n",
    "LABEL_PREFIX_TOKEN = ATTACHMENT_TOKEN\n",
    "\n",
    "USED_MODEL_NAME = 'cointegrated/rut5-small'#'./coint_rut5small_finetune_fulltrain_novalid'#'./coint_rut5small_finetune_6171-8031'#'cointegrated/rut5-small'\n",
    "\n",
    "SEQ_MAX_LENGTH = 150\n",
    "ANSWER_MAX_LENGTH = 150\n",
    "BATCH_SIZE = 4\n",
    "EVAL_BATCH_SIZE = 64\n",
    "\n",
    "ENABLE_LABEL_FIX = True\n",
    "\n",
    "LOCAL_NUM_EPOCHS = 2"
   ]
  },
  {
   "cell_type": "code",
   "execution_count": 3,
   "id": "328190fa",
   "metadata": {},
   "outputs": [
    {
     "name": "stderr",
     "output_type": "stream",
     "text": [
      "You are using the default legacy behaviour of the <class 'transformers.models.t5.tokenization_t5.T5Tokenizer'>. This is expected, and simply means that the `legacy` (previous) behavior will be used so nothing changes for you. If you want to use the new behaviour, set `legacy=False`. This should only be set if you understand what it means, and thoroughly read the reason why this was added as explained in https://github.com/huggingface/transformers/pull/24565\n",
      "c:\\Users\\Enfi\\AppData\\Local\\Programs\\Python\\Python310\\lib\\site-packages\\transformers\\convert_slow_tokenizer.py:561: UserWarning: The sentencepiece tokenizer that you are converting to a fast tokenizer uses the byte fallback option which is not implemented in the fast tokenizers. In practice this means that the fast version of the tokenizer can produce unknown tokens whereas the sentencepiece version would have converted these unknown tokens into a sequence of byte tokens matching the original piece of text.\n",
      "  warnings.warn(\n"
     ]
    },
    {
     "name": "stdout",
     "output_type": "stream",
     "text": [
      "cuda:0\n"
     ]
    }
   ],
   "source": [
    "tokenizer = AutoTokenizer.from_pretrained (USED_MODEL_NAME)\n",
    "\n",
    "device = torch.device ('cuda' if torch.cuda.is_available () else 'cpu')\n",
    "#device = torch.device ('cpu')\n",
    "\n",
    "model = MT5ForConditionalGeneration.from_pretrained (USED_MODEL_NAME)\n",
    "\n",
    "model.to (device)\n",
    "print (model.device)\n",
    "\n",
    "num_epochs = 50\n",
    "#training_steps = len (train_data ['input_ids']) // BATCH_SIZE * num_epochs\n",
    "#warmup_steps = int (training_steps * 0.1)\n",
    "#print (f'Suggested train steps: {training_steps}\\n\\t warmup steps: {int (training_steps * 0.05)} - {int (training_steps * 0.1)}')\n",
    "\n",
    "#optimizer = AdamW (model.parameters (), lr = 1e-5)#, weight_decay = 0.05)\n",
    "optimizer = AdamW (filter (lambda p: p.requires_grad, model.parameters ()), lr = 5e-5, weight_decay = 0.01)\n",
    "#optimizer = Adafactor (model.parameters (), lr = 3e-5, scale_parameter = False, relative_step = False, weight_decay = 0.02)\n",
    "#scheduler = get_scheduler ('linear', optimizer = optimizer, num_warmup_steps = warmup_steps, num_training_steps = training_steps)\n",
    "\n",
    "metrics = {'train_loss': [], 'val_loss': [], 'precision': [], 'recall': [], 'f1_score': []}"
   ]
  },
  {
   "cell_type": "code",
   "execution_count": 4,
   "id": "f6da5da0",
   "metadata": {},
   "outputs": [],
   "source": [
    "\n",
    "# FUNCTIONS:\n",
    "\n",
    "def split_text (text, segments, delimiters = ['...', '.', '?!', '?', '!']):\n",
    "\n",
    "    delimiters_pattern = '|'.join (map (re.escape, delimiters))\n",
    "    \n",
    "    paragraphs = re.split (f'(?<=\\n[ ]*)', text)\n",
    "    \n",
    "    sentences_with_segments = []\n",
    "    \n",
    "    current_start_index = 0\n",
    "\n",
    "    for paragraph in paragraphs:\n",
    "\n",
    "        sentences = re.split (f'(?<=[{delimiters_pattern}] )(?=[A-ZА-ЯЁ])', paragraph)#.strip ())\n",
    "\n",
    "        for sentence in sentences:\n",
    "\n",
    "            start_index = current_start_index\n",
    "            end_index = start_index + len (sentence)\n",
    "\n",
    "            matched_segments = [\n",
    "                text [start: end] for start, end in segments if start >= start_index and end <= end_index\n",
    "            ]\n",
    "            sentences_with_segments.append ((sentence, matched_segments))\n",
    "\n",
    "            current_start_index = end_index\n",
    "    \n",
    "    return sentences_with_segments\n",
    "\n",
    "def create_parallels (data_lst, labels_lst, with_dict = False):\n",
    "    parallel_text = []\n",
    "    parallel_label = []\n",
    "    for i in range (len (data_lst)):\n",
    "        text = data_lst [i]\n",
    "        segments = labels_lst [i]\n",
    "        splitted = split_text (text, segments)\n",
    "        for sentence, terms in splitted:\n",
    "            parallel_text.append (INPUT_PREFIX + sentence)\n",
    "\n",
    "            constructed_label = ''\n",
    "            if with_dict:\n",
    "                constructed_label += LABEL_PREFIX_TOKEN\n",
    "                for term in terms:\n",
    "                    constructed_label += SEP_TOKEN + term.strip ()\n",
    "            else:\n",
    "                for term in terms:\n",
    "                    constructed_label += term.strip () + SEP_TOKEN\n",
    "\n",
    "            parallel_label.append (constructed_label)\n",
    "    return parallel_text, parallel_label\n",
    "\n",
    "\n",
    "def label_constructor (labels):\n",
    "    res = []\n",
    "    for label in labels:\n",
    "        one_label = []\n",
    "        for start, end, cls in label:\n",
    "            one_label.append ([start, end])\n",
    "        res.append (one_label)\n",
    "    return res\n",
    "\n",
    "\n",
    "def one_finder (text, phrases):\n",
    "\n",
    "    if len (phrases) == 1 and '' in phrases:\n",
    "        return []\n",
    "\n",
    "    A = ahocorasick.Automaton ()\n",
    "    \n",
    "    for idx, phrase in enumerate (phrases):\n",
    "        A.add_word (phrase, (idx, phrase))\n",
    "    \n",
    "    A.make_automaton ()\n",
    "    \n",
    "    found = []\n",
    "    for end_index, (idx, phrase) in A.iter (text):\n",
    "        start_index = end_index - len (phrase) + 1\n",
    "\n",
    "        if start_index > 0 and text [start_index - 1].isalpha ():\n",
    "            continue\n",
    "        if end_index + 1 < len (text) and text [end_index + 1].isalpha ():\n",
    "            continue\n",
    "\n",
    "        found.append ((start_index, end_index + 1, phrase))\n",
    "    \n",
    "    return found\n",
    "\n",
    "def make_attachment (text, dictionary_terms):\n",
    "    found = one_finder (text, dictionary_terms)\n",
    "    found_terms = [item [2] for item in found]\n",
    "    res = text + ATTACHMENT_TOKEN\n",
    "    for term in found_terms:\n",
    "        res += SEP_TOKEN + term\n",
    "    return res\n",
    "\n",
    "def attach_dictionary_foundings (texts, dictionary_terms):\n",
    "    res_texts = []\n",
    "    for text in tqdm (texts):\n",
    "        res_texts.append (make_attachment (text, dictionary_terms))\n",
    "    return res_texts\n",
    "\n",
    "def replace_padding (labels):\n",
    "    for i in range (0, len (labels ['input_ids'])):\n",
    "        labels ['input_ids'] [i] = torch.tensor ([labl if labl != 0 else - 100 for labl in labels ['input_ids'] [i]])\n",
    "\n",
    "    return labels\n",
    "\n",
    "class Seq2SeqDataset (Dataset):\n",
    "    def __init__ (self, encodings, labels):\n",
    "        self.encodings = encodings\n",
    "        self.labels = labels\n",
    "\n",
    "    def __getitem__ (self, idx):\n",
    "        return {\n",
    "            'input_ids': self.encodings ['input_ids'] [idx],\n",
    "            'attention_mask': self.encodings ['attention_mask'] [idx],\n",
    "            'labels': self.labels ['input_ids'] [idx]\n",
    "        }\n",
    "\n",
    "    def __len__ (self):\n",
    "        return len (self.encodings ['input_ids'])\n",
    "\n",
    "def get_set (tensor, ground_truth = True, tokenizer = tokenizer):\n",
    "\n",
    "    separator: str\n",
    "    if SEP_TOKEN == '▁<extra_id_0>': separator = '<extra_id_0>'\n",
    "    else: separator = SEP_TOKEN\n",
    "\n",
    "    res: set\n",
    "\n",
    "    if ground_truth:\n",
    "        eos_idx = (tensor == 1).nonzero ()\n",
    "        if eos_idx.numel () > 0:\n",
    "            eos_idx = int (eos_idx [0] [0])\n",
    "        else:\n",
    "            eos_idx = len (tensor)\n",
    "        seq = tensor [:eos_idx]\n",
    "    \n",
    "    else:\n",
    "        seq = tensor [tensor != 0]\n",
    "        seq = seq [seq != - 100]\n",
    "        seq = seq [seq != 1]\n",
    "    \n",
    "    txt = tokenizer.decode (seq)\n",
    "    res = set ([item.strip () for item in txt.split (separator)])\n",
    "\n",
    "    if len (res) > 1:\n",
    "        res -= set ([''])\n",
    "    res -= set ([LABEL_PREFIX_TOKEN [1:]])\n",
    "    if len (res) == 0: res |= set ([''])\n",
    "\n",
    "    return res\n",
    "\n",
    "\n",
    "def sanity_check (preds, labels, to_print = False):\n",
    "\n",
    "    tps_sum = 0\n",
    "    fps_sum = 0\n",
    "    fns_sum = 0 \n",
    "\n",
    "    for i in range (len (labels)):\n",
    "        predicted_set = get_set (preds [i], ground_truth = False)\n",
    "        true_set = get_set (labels [i])\n",
    "\n",
    "        if to_print: print (f'True: {true_set}\\nPred: {predicted_set}')\n",
    "\n",
    "        tps_sum += len (true_set & predicted_set)  # Истинно положительные\n",
    "        fps_sum += len (predicted_set - true_set)     # Ложноположительные\n",
    "        fns_sum += len (true_set - predicted_set)     # Ложноотрицательные\n",
    "\n",
    "    precision = tps_sum / (tps_sum + fps_sum) if (tps_sum + fps_sum) > 0 else 0\n",
    "    recall = tps_sum / (tps_sum + fns_sum) if (tps_sum + fns_sum) > 0 else 0\n",
    "    f1_score = 2 * (precision * recall) / (precision + recall) if (precision + recall) > 0 else 0\n",
    "\n",
    "    return precision, recall, f1_score"
   ]
  },
  {
   "cell_type": "code",
   "execution_count": 5,
   "id": "b417c34f",
   "metadata": {},
   "outputs": [
    {
     "name": "stdout",
     "output_type": "stream",
     "text": [
      "                                                text  \\\n",
      "0  ABBYY Retrieval & Morphology Engine\\nВ сообщен...   \n",
      "1  Речевые формулы в диалоге\\nПредложенная класси...   \n",
      "2  Географические названия и полнотекстовые докум...   \n",
      "3  Методы автоматического построения специализиро...   \n",
      "4  Закономерности построения дискурсивной последо...   \n",
      "\n",
      "                                               label  \n",
      "0  [[0, 35], [6, 15], [18, 35], [29, 35], [69, 88...  \n",
      "1  [[0, 15], [18, 25], [74, 99], [134, 140], [175...  \n",
      "2  [[0, 23], [26, 50], [54, 68], [169, 190], [181...  \n",
      "3  [[7, 63], [34, 63], [54, 63], [92, 128], [119,...  \n",
      "4  [[26, 57], [62, 76], [251, 265], [266, 280], [...  \n",
      "\n",
      "                                                text  \\\n",
      "0  АВТОМАТИЧЕСКИЙ АНАЛИЗ ТОНАЛЬНОСТИ ТЕКСТОВ НА О...   \n",
      "1  InBASE: ТЕХНОЛОГИЯ ПОСТРОЕНИЯ ЕЯ-ИНТЕРФЕЙСОВ К...   \n",
      "2  Выражение уважительности с помощью личных мест...   \n",
      "3  ДА ЧЕРТ ЛИ В ДЕТАЛЯХ?.. МЕРА ДЛЯ ОЦЕНКИ СОВПАД...   \n",
      "4  КОРПУСНАЯ ОЦЕНКА СОЧЕТАЕМОСТИ СЛОВ С ИСПОЛЬЗОВ...   \n",
      "\n",
      "                                               label  \n",
      "0  [[0, 33, specific], [22, 33, specific], [52, 7...  \n",
      "1  [[0, 6, nomen], [19, 44, specific], [30, 44, s...  \n",
      "2  [[0, 24, specific], [35, 53, specific], [42, 5...  \n",
      "3  [[51, 70, specific], [61, 70, specific], [116,...  \n",
      "4  [[0, 16, specific], [17, 34, specific], [30, 3...  \n",
      "\n",
      "Уникальных терминов во всём тренировочном наборе: 9761.\n",
      "\n"
     ]
    }
   ],
   "source": [
    "df = pd.read_json ('train_t1_v1.jsonl', lines = True)\n",
    "df.drop (columns = ['id', 'keywords'], inplace = True)\n",
    "print (df.head ())\n",
    "print ()\n",
    "df_2 = pd.read_json ('./test_data/test1_t12_full_v2.jsonl', lines = True)\n",
    "df_2 = df_2 [['text', 'label']]\n",
    "print (df_2.head ())\n",
    "print ()\n",
    "\n",
    "val_data_txt, test_data_txt, val_labels_txt, test_labels_txt = train_test_split (df_2 ['text'], df_2 ['label'], test_size = 0.5, random_state = 14)\n",
    "\n",
    "train_data_lst = df ['text'].tolist ()\n",
    "train_labels_lst = df ['label'].tolist ()\n",
    "train_parallel_text, train_parallel_labels = create_parallels (train_data_lst, train_labels_lst)\n",
    "\n",
    "val_data_lst = val_data_txt.tolist ()\n",
    "val_labels_lst = label_constructor (val_labels_txt)\n",
    "val_parallel_text, val_parallel_labels = create_parallels (val_data_lst, val_labels_lst)\n",
    "\n",
    "test_data_lst = test_data_txt.tolist ()\n",
    "test_labels_lst = label_constructor (test_labels_txt)\n",
    "test_parallel_text, test_parallel_labels = create_parallels (test_data_lst, test_labels_lst)\n",
    "\n",
    "all_train_terms = set ()\n",
    "for line in train_parallel_labels:\n",
    "    all_train_terms |= set (line.split (SEP_TOKEN))\n",
    "all_train_terms -= set ([''])\n",
    "all_train_terms -= set ([LABEL_PREFIX_TOKEN])\n",
    "print (f'Уникальных терминов во всём тренировочном наборе: {len (all_train_terms)}.\\n')\n",
    "\n",
    "val_parallel_text_new = val_parallel_text#attach_dictionary_foundings (val_parallel_text, all_train_terms)\n",
    "test_parallel_text_new = test_parallel_text#attach_dictionary_foundings (test_parallel_text, all_train_terms)\n",
    "\n",
    "val_data = tokenizer (val_parallel_text_new, padding = 'max_length', truncation = True, max_length = SEQ_MAX_LENGTH, return_tensors = 'pt')\n",
    "val_labels = tokenizer (val_parallel_labels, padding = 'max_length', truncation = True, max_length = ANSWER_MAX_LENGTH, return_tensors = 'pt')\n",
    "\n",
    "test_data = tokenizer (test_parallel_text_new, padding = 'max_length', truncation = True, max_length = SEQ_MAX_LENGTH, return_tensors = 'pt')\n",
    "test_labels = tokenizer (test_parallel_labels, padding = 'max_length', truncation = True, max_length = ANSWER_MAX_LENGTH, return_tensors = 'pt')\n",
    "\n",
    "if ENABLE_LABEL_FIX:\n",
    "    \n",
    "    replaced = replace_padding (val_labels)\n",
    "    val_labels = replaced\n",
    "\n",
    "    replaced = replace_padding (test_labels)\n",
    "    test_labels = replaced\n",
    "\n",
    "val_dataset = Seq2SeqDataset (val_data, val_labels)\n",
    "test_dataset = Seq2SeqDataset (test_data, test_labels)\n",
    "\n",
    "val_loader = DataLoader (val_dataset, batch_size = EVAL_BATCH_SIZE)\n",
    "test_loader = DataLoader (test_dataset, batch_size = EVAL_BATCH_SIZE)"
   ]
  },
  {
   "cell_type": "code",
   "execution_count": 6,
   "id": "8cc8109c",
   "metadata": {},
   "outputs": [
    {
     "data": {
      "text/plain": [
       "(array([2.272e+03, 1.870e+03, 8.130e+02, 3.400e+02, 1.160e+02, 4.000e+01,\n",
       "        1.600e+01, 5.000e+00, 1.000e+00, 1.000e+00]),\n",
       " array([  1.,  18.,  35.,  52.,  69.,  86., 103., 120., 137., 154., 171.]),\n",
       " <BarContainer object of 10 artists>)"
      ]
     },
     "execution_count": 6,
     "metadata": {},
     "output_type": "execute_result"
    },
    {
     "data": {
      "image/png": "[encoded data removed]",
      "text/plain": [
       "<Figure size 640x480 with 1 Axes>"
      ]
     },
     "metadata": {},
     "output_type": "display_data"
    }
   ],
   "source": [
    "\n",
    "lengths = []\n",
    "\n",
    "tknz = tokenizer (train_parallel_labels)\n",
    "for tnsr in tknz ['input_ids']:\n",
    "    lengths.append (len (tnsr))\n",
    "\n",
    "tknz = tokenizer (val_parallel_labels)\n",
    "for tnsr in tknz ['input_ids']:\n",
    "    lengths.append (len (tnsr))\n",
    "\n",
    "tknz = tokenizer (test_parallel_labels)\n",
    "for tnsr in tknz ['input_ids']:\n",
    "    lengths.append (len (tnsr))\n",
    "\n",
    "plt.hist (lengths)"
   ]
  },
  {
   "cell_type": "code",
   "execution_count": 7,
   "id": "24ecf756",
   "metadata": {},
   "outputs": [],
   "source": [
    "#checkpoint = torch.load ('./rut5small_7332-7420/checkpoint.pth')\n",
    "#model.load_state_dict (checkpoint['model'])\n",
    "#optimizer.load_state_dict (checkpoint['optimizer'])"
   ]
  },
  {
   "cell_type": "code",
   "execution_count": 8,
   "id": "ee808cf8",
   "metadata": {},
   "outputs": [],
   "source": [
    "num_passed_epochs = 0\n",
    "view_at_loss = True"
   ]
  },
  {
   "cell_type": "code",
   "execution_count": 9,
   "id": "142c9422",
   "metadata": {},
   "outputs": [],
   "source": [
    "kf = KFold (n_splits = NUM_OF_SPLITS if NUM_OF_SPLITS > 1 else 2)\n",
    "\n",
    "data = df ['text']\n",
    "labels = df ['label']\n",
    "\n",
    "test_indices = list (kf.split (data))\n",
    "#test_indices.reverse ()\n"
   ]
  },
  {
   "cell_type": "code",
   "execution_count": 10,
   "id": "89c17f27",
   "metadata": {},
   "outputs": [],
   "source": [
    "import numpy as np\n",
    "\n",
    "if NUM_OF_SPLITS == 1:\n",
    "    test_indices = [(0, np.concatenate ([test_indices [0] [1], test_indices [0] [0]]))]\n"
   ]
  },
  {
   "cell_type": "code",
   "execution_count": 11,
   "id": "babab7fe",
   "metadata": {},
   "outputs": [],
   "source": [
    "prev_metric = 1000000 if view_at_loss else 0.5537\n",
    "prev_model = deepcopy (model.state_dict ())\n",
    "prev_optimizer = deepcopy (optimizer.state_dict ())"
   ]
  },
  {
   "cell_type": "code",
   "execution_count": 12,
   "id": "cb4331b2",
   "metadata": {},
   "outputs": [
    {
     "name": "stderr",
     "output_type": "stream",
     "text": [
      "  0%|          | 0/21 [00:00<?, ?it/s]Passing a tuple of `past_key_values` is deprecated and will be removed in Transformers v4.48.0. You should pass an instance of `EncoderDecoderCache` instead, e.g. `past_key_values=EncoderDecoderCache.from_legacy_cache(past_key_values)`.\n",
      "100%|██████████| 21/21 [00:02<00:00,  9.78it/s]\n"
     ]
    },
    {
     "name": "stdout",
     "output_type": "stream",
     "text": [
      "Epoch 1 / 100, Loss: 3.5946, Validation loss: 2.9137, 0.0016806722689075631 / 0.0004182350480970305 / 0.0006697923643670462\n"
     ]
    },
    {
     "name": "stderr",
     "output_type": "stream",
     "text": [
      "100%|██████████| 21/21 [00:02<00:00, 10.35it/s]\n"
     ]
    },
    {
     "name": "stdout",
     "output_type": "stream",
     "text": [
      "Epoch 2 / 100, Loss: 2.7233, Validation loss: 2.3829, 0.0033112582781456954 / 0.000836470096194061 / 0.001335559265442404\n"
     ]
    },
    {
     "name": "stderr",
     "output_type": "stream",
     "text": [
      "100%|██████████| 27/27 [00:02<00:00,  9.69it/s]\n"
     ]
    },
    {
     "name": "stdout",
     "output_type": "stream",
     "text": [
      "Epoch 3 / 100, Loss: 2.4828, Validation loss: 2.0455, 0.07019438444924406 / 0.027185278126306986 / 0.03919204100090443\n"
     ]
    },
    {
     "name": "stderr",
     "output_type": "stream",
     "text": [
      "100%|██████████| 27/27 [00:04<00:00,  6.41it/s]\n"
     ]
    },
    {
     "name": "stdout",
     "output_type": "stream",
     "text": [
      "Epoch 4 / 100, Loss: 2.1166, Validation loss: 1.8377, 0.1506849315068493 / 0.06900878293601004 / 0.0946643717728055\n"
     ]
    },
    {
     "name": "stderr",
     "output_type": "stream",
     "text": [
      "100%|██████████| 22/22 [00:03<00:00,  6.47it/s]\n"
     ]
    },
    {
     "name": "stdout",
     "output_type": "stream",
     "text": [
      "Epoch 5 / 100, Loss: 2.0276, Validation loss: 1.7496, 0.17770034843205576 / 0.08531994981179424 / 0.11528680418197233\n"
     ]
    },
    {
     "name": "stderr",
     "output_type": "stream",
     "text": [
      "100%|██████████| 22/22 [00:03<00:00,  6.41it/s]\n"
     ]
    },
    {
     "name": "stdout",
     "output_type": "stream",
     "text": [
      "Epoch 6 / 100, Loss: 1.8452, Validation loss: 1.6574, 0.22814321398834306 / 0.11459640317858637 / 0.15256124721603564\n"
     ]
    },
    {
     "name": "stderr",
     "output_type": "stream",
     "text": [
      "100%|██████████| 26/26 [00:04<00:00,  6.07it/s]\n"
     ]
    },
    {
     "name": "stdout",
     "output_type": "stream",
     "text": [
      "Epoch 7 / 100, Loss: 1.5700, Validation loss: 1.5342, 0.2818116462976276 / 0.16394813885403597 / 0.20729772607086197\n"
     ]
    },
    {
     "name": "stderr",
     "output_type": "stream",
     "text": [
      "100%|██████████| 26/26 [00:03<00:00,  6.51it/s]\n"
     ]
    },
    {
     "name": "stdout",
     "output_type": "stream",
     "text": [
      "Epoch 8 / 100, Loss: 1.4430, Validation loss: 1.3890, 0.35058823529411764 / 0.18695106649937265 / 0.24386252045826512\n"
     ]
    },
    {
     "name": "stderr",
     "output_type": "stream",
     "text": [
      "100%|██████████| 24/24 [00:03<00:00,  6.77it/s]\n"
     ]
    },
    {
     "name": "stdout",
     "output_type": "stream",
     "text": [
      "Epoch 9 / 100, Loss: 1.5272, Validation loss: 1.3302, 0.322884012539185 / 0.1723128398159766 / 0.22470684483228798\n"
     ]
    },
    {
     "name": "stderr",
     "output_type": "stream",
     "text": [
      "100%|██████████| 24/24 [00:03<00:00,  6.92it/s]\n"
     ]
    },
    {
     "name": "stdout",
     "output_type": "stream",
     "text": [
      "Epoch 10 / 100, Loss: 1.2562, Validation loss: 1.2255, 0.3564493758668516 / 0.21497281472187368 / 0.26819723454213407\n"
     ]
    },
    {
     "name": "stderr",
     "output_type": "stream",
     "text": [
      "100%|██████████| 25/25 [00:03<00:00,  6.67it/s]\n"
     ]
    },
    {
     "name": "stdout",
     "output_type": "stream",
     "text": [
      "Epoch 11 / 100, Loss: 1.3473, Validation loss: 1.1482, 0.37668161434977576 / 0.2107904642409034 / 0.27031375703942073\n"
     ]
    },
    {
     "name": "stderr",
     "output_type": "stream",
     "text": [
      "100%|██████████| 25/25 [00:03<00:00,  6.78it/s]\n"
     ]
    },
    {
     "name": "stdout",
     "output_type": "stream",
     "text": [
      "Epoch 12 / 100, Loss: 1.2494, Validation loss: 1.0749, 0.4109014675052411 / 0.24592220828105396 / 0.3076923076923077\n"
     ]
    },
    {
     "name": "stderr",
     "output_type": "stream",
     "text": [
      "100%|██████████| 23/23 [00:03<00:00,  6.84it/s]\n"
     ]
    },
    {
     "name": "stdout",
     "output_type": "stream",
     "text": [
      "Epoch 13 / 100, Loss: 1.2005, Validation loss: 1.0458, 0.417312661498708 / 0.2701798410706817 / 0.328002030972328\n"
     ]
    },
    {
     "name": "stderr",
     "output_type": "stream",
     "text": [
      "100%|██████████| 23/23 [00:03<00:00,  6.72it/s]\n"
     ]
    },
    {
     "name": "stdout",
     "output_type": "stream",
     "text": [
      "Epoch 14 / 100, Loss: 1.1802, Validation loss: 1.0198, 0.43190416141235816 / 0.2864910079464659 / 0.34448076439527286\n"
     ]
    },
    {
     "name": "stderr",
     "output_type": "stream",
     "text": [
      "100%|██████████| 27/27 [00:03<00:00,  6.86it/s]\n"
     ]
    },
    {
     "name": "stdout",
     "output_type": "stream",
     "text": [
      "Epoch 15 / 100, Loss: 1.1287, Validation loss: 0.9998, 0.44397759103641454 / 0.26516102049351736 / 0.33202409007593614\n"
     ]
    },
    {
     "name": "stderr",
     "output_type": "stream",
     "text": [
      "100%|██████████| 27/27 [00:03<00:00,  6.89it/s]\n"
     ]
    },
    {
     "name": "stdout",
     "output_type": "stream",
     "text": [
      "Epoch 16 / 100, Loss: 1.0252, Validation loss: 0.9828, 0.45448227936066715 / 0.27352572145545795 / 0.3415143603133159\n"
     ]
    },
    {
     "name": "stderr",
     "output_type": "stream",
     "text": [
      "100%|██████████| 25/25 [00:03<00:00,  6.83it/s]\n"
     ]
    },
    {
     "name": "stdout",
     "output_type": "stream",
     "text": [
      "Epoch 17 / 100, Loss: 1.2042, Validation loss: 0.9728, 0.4528301886792453 / 0.3312421580928482 / 0.3826086956521739\n"
     ]
    },
    {
     "name": "stderr",
     "output_type": "stream",
     "text": [
      "100%|██████████| 25/25 [00:03<00:00,  6.87it/s]\n"
     ]
    },
    {
     "name": "stdout",
     "output_type": "stream",
     "text": [
      "Epoch 18 / 100, Loss: 1.1712, Validation loss: 0.9562, 0.44501718213058417 / 0.32496863237139273 / 0.3756345177664974\n"
     ]
    },
    {
     "name": "stderr",
     "output_type": "stream",
     "text": [
      "100%|██████████| 30/30 [00:04<00:00,  6.92it/s]\n"
     ]
    },
    {
     "name": "stdout",
     "output_type": "stream",
     "text": [
      "Epoch 19 / 100, Loss: 1.1468, Validation loss: 0.9491, 0.46918604651162793 / 0.33751568381430364 / 0.39260520554609585\n"
     ]
    },
    {
     "name": "stderr",
     "output_type": "stream",
     "text": [
      "100%|██████████| 30/30 [00:04<00:00,  6.79it/s]\n"
     ]
    },
    {
     "name": "stdout",
     "output_type": "stream",
     "text": [
      "Epoch 20 / 100, Loss: 1.1027, Validation loss: 0.9437, 0.4569923932124049 / 0.32664157256378085 / 0.38097560975609757\n"
     ]
    },
    {
     "name": "stderr",
     "output_type": "stream",
     "text": [
      "100%|██████████| 26/26 [00:03<00:00,  6.71it/s]\n"
     ]
    },
    {
     "name": "stdout",
     "output_type": "stream",
     "text": [
      "Epoch 21 / 100, Loss: 1.1396, Validation loss: 0.9127, 0.4669718770438195 / 0.2986198243412798 / 0.3642857142857143\n"
     ]
    },
    {
     "name": "stderr",
     "output_type": "stream",
     "text": [
      "100%|██████████| 26/26 [00:03<00:00,  6.74it/s]\n"
     ]
    },
    {
     "name": "stdout",
     "output_type": "stream",
     "text": [
      "Epoch 22 / 100, Loss: 1.0623, Validation loss: 0.9076, 0.4651578320428827 / 0.32664157256378085 / 0.3837837837837838\n"
     ]
    },
    {
     "name": "stderr",
     "output_type": "stream",
     "text": [
      "100%|██████████| 31/31 [00:04<00:00,  6.50it/s]\n"
     ]
    },
    {
     "name": "stdout",
     "output_type": "stream",
     "text": [
      "Epoch 23 / 100, Loss: 1.0475, Validation loss: 0.8902, 0.4707865168539326 / 0.3504809703053116 / 0.40182210501078874\n"
     ]
    },
    {
     "name": "stderr",
     "output_type": "stream",
     "text": [
      "100%|██████████| 31/31 [00:04<00:00,  6.73it/s]\n"
     ]
    },
    {
     "name": "stdout",
     "output_type": "stream",
     "text": [
      "Epoch 24 / 100, Loss: 0.9403, Validation loss: 0.8872, 0.4734273318872017 / 0.36511919698870765 / 0.41227863046044866\n"
     ]
    },
    {
     "name": "stderr",
     "output_type": "stream",
     "text": [
      "100%|██████████| 20/20 [00:03<00:00,  6.44it/s]\n"
     ]
    },
    {
     "name": "stdout",
     "output_type": "stream",
     "text": [
      "Epoch 25 / 100, Loss: 0.8529, Validation loss: 0.9016, 0.4715665236051502 / 0.36762860727728985 / 0.41316098707403054\n"
     ]
    },
    {
     "name": "stderr",
     "output_type": "stream",
     "text": [
      "100%|██████████| 20/20 [00:02<00:00,  6.79it/s]\n"
     ]
    },
    {
     "name": "stdout",
     "output_type": "stream",
     "text": [
      "Epoch 26 / 100, Loss: 0.7936, Validation loss: 0.8912, 0.4830917874396135 / 0.37641154328732745 / 0.42313117066290545\n",
      "Fold: Откат к предыдущему val_loss: 0.8911616742610932 -> 0.8872189342975616.\n"
     ]
    },
    {
     "name": "stderr",
     "output_type": "stream",
     "text": [
      "100%|██████████| 18/18 [00:02<00:00,  6.77it/s]\n"
     ]
    },
    {
     "name": "stdout",
     "output_type": "stream",
     "text": [
      "Epoch 27 / 100, Loss: 0.9863, Validation loss: 0.8903, 0.4710017574692443 / 0.33626097867001253 / 0.3923865300146413\n"
     ]
    },
    {
     "name": "stderr",
     "output_type": "stream",
     "text": [
      "100%|██████████| 18/18 [00:02<00:00,  6.50it/s]\n"
     ]
    },
    {
     "name": "stdout",
     "output_type": "stream",
     "text": [
      "Epoch 28 / 100, Loss: 0.9182, Validation loss: 0.8941, 0.46114864864864863 / 0.342534504391468 / 0.3930885529157667\n",
      "Fold: Откат к предыдущему val_loss: 0.8940719544887543 -> 0.8872189342975616.\n"
     ]
    },
    {
     "name": "stderr",
     "output_type": "stream",
     "text": [
      "100%|██████████| 17/17 [00:02<00:00,  6.80it/s]\n"
     ]
    },
    {
     "name": "stdout",
     "output_type": "stream",
     "text": [
      "Epoch 29 / 100, Loss: 0.9267, Validation loss: 0.8765, 0.4797525309336333 / 0.35675449602676707 / 0.40921084192852003\n"
     ]
    },
    {
     "name": "stderr",
     "output_type": "stream",
     "text": [
      "100%|██████████| 17/17 [00:02<00:00,  6.55it/s]\n"
     ]
    },
    {
     "name": "stdout",
     "output_type": "stream",
     "text": [
      "Epoch 30 / 100, Loss: 0.9615, Validation loss: 0.8678, 0.4856972586412396 / 0.34086156419907987 / 0.4005898255099533\n"
     ]
    },
    {
     "name": "stderr",
     "output_type": "stream",
     "text": [
      "100%|██████████| 19/19 [00:02<00:00,  6.76it/s]\n"
     ]
    },
    {
     "name": "stdout",
     "output_type": "stream",
     "text": [
      "Epoch 31 / 100, Loss: 0.9140, Validation loss: 0.8562, 0.4922341696535245 / 0.3446256796319532 / 0.4054120541205412\n"
     ]
    },
    {
     "name": "stderr",
     "output_type": "stream",
     "text": [
      "100%|██████████| 19/19 [00:02<00:00,  6.85it/s]\n"
     ]
    },
    {
     "name": "stdout",
     "output_type": "stream",
     "text": [
      "Epoch 32 / 100, Loss: 0.8683, Validation loss: 0.8486, 0.48559670781893005 / 0.3454621497281472 / 0.4037145650048876\n"
     ]
    },
    {
     "name": "stderr",
     "output_type": "stream",
     "text": [
      "100%|██████████| 21/21 [00:03<00:00,  6.72it/s]\n"
     ]
    },
    {
     "name": "stdout",
     "output_type": "stream",
     "text": [
      "Epoch 33 / 100, Loss: 0.9328, Validation loss: 0.8340, 0.504882251579552 / 0.36762860727728985 / 0.425459825750242\n"
     ]
    },
    {
     "name": "stderr",
     "output_type": "stream",
     "text": [
      "100%|██████████| 21/21 [00:03<00:00,  6.55it/s]\n"
     ]
    },
    {
     "name": "stdout",
     "output_type": "stream",
     "text": [
      "Epoch 34 / 100, Loss: 0.9429, Validation loss: 0.8292, 0.49384098544232924 / 0.36888331242158096 / 0.4223126645918123\n"
     ]
    },
    {
     "name": "stderr",
     "output_type": "stream",
     "text": [
      "100%|██████████| 21/21 [00:03<00:00,  6.79it/s]\n"
     ]
    },
    {
     "name": "stdout",
     "output_type": "stream",
     "text": [
      "Epoch 35 / 100, Loss: 0.7428, Validation loss: 0.8316, 0.4802036199095023 / 0.35508155583437895 / 0.4082712190430392\n"
     ]
    },
    {
     "name": "stderr",
     "output_type": "stream",
     "text": [
      "100%|██████████| 21/21 [00:03<00:00,  6.63it/s]\n"
     ]
    },
    {
     "name": "stdout",
     "output_type": "stream",
     "text": [
      "Epoch 36 / 100, Loss: 0.7528, Validation loss: 0.8305, 0.49396267837541163 / 0.37641154328732745 / 0.42724899121765963\n",
      "Fold: Откат к предыдущему val_loss: 0.8305371105670929 -> 0.829248970746994.\n"
     ]
    },
    {
     "name": "stderr",
     "output_type": "stream",
     "text": [
      "100%|██████████| 17/17 [00:02<00:00,  6.70it/s]\n"
     ]
    },
    {
     "name": "stdout",
     "output_type": "stream",
     "text": [
      "Epoch 37 / 100, Loss: 0.9465, Validation loss: 0.8217, 0.5022026431718062 / 0.38143036386449186 / 0.4335631091038745\n"
     ]
    },
    {
     "name": "stderr",
     "output_type": "stream",
     "text": [
      "100%|██████████| 17/17 [00:02<00:00,  6.40it/s]\n"
     ]
    },
    {
     "name": "stdout",
     "output_type": "stream",
     "text": [
      "Epoch 38 / 100, Loss: 0.8975, Validation loss: 0.8251, 0.5080779944289694 / 0.38143036386449186 / 0.4357381748686096\n",
      "Fold: Откат к предыдущему val_loss: 0.8251121342182159 -> 0.8216917335987091.\n"
     ]
    },
    {
     "name": "stderr",
     "output_type": "stream",
     "text": [
      "100%|██████████| 18/18 [00:02<00:00,  6.82it/s]\n"
     ]
    },
    {
     "name": "stdout",
     "output_type": "stream",
     "text": [
      "Epoch 39 / 100, Loss: 0.9120, Validation loss: 0.8178, 0.4849315068493151 / 0.370138017565872 / 0.4198292220113852\n"
     ]
    },
    {
     "name": "stderr",
     "output_type": "stream",
     "text": [
      "100%|██████████| 18/18 [00:02<00:00,  6.60it/s]\n"
     ]
    },
    {
     "name": "stdout",
     "output_type": "stream",
     "text": [
      "Epoch 40 / 100, Loss: 0.8074, Validation loss: 0.8023, 0.5058896466212027 / 0.34127979924717694 / 0.4075924075924076\n"
     ]
    },
    {
     "name": "stderr",
     "output_type": "stream",
     "text": [
      "100%|██████████| 16/16 [00:02<00:00,  6.72it/s]\n"
     ]
    },
    {
     "name": "stdout",
     "output_type": "stream",
     "text": [
      "Epoch 41 / 100, Loss: 0.9317, Validation loss: 0.8093, 0.48507867607162236 / 0.3739021329987453 / 0.4222957014643363\n"
     ]
    },
    {
     "name": "stderr",
     "output_type": "stream",
     "text": [
      "100%|██████████| 16/16 [00:02<00:00,  6.64it/s]\n"
     ]
    },
    {
     "name": "stdout",
     "output_type": "stream",
     "text": [
      "Epoch 42 / 100, Loss: 0.8781, Validation loss: 0.8142, 0.4877384196185286 / 0.3743203680468423 / 0.4235683861807856\n",
      "Fold: Откат к предыдущему val_loss: 0.8141887068748475 -> 0.8023014008998871.\n"
     ]
    },
    {
     "name": "stderr",
     "output_type": "stream",
     "text": [
      "100%|██████████| 19/19 [00:02<00:00,  6.64it/s]\n"
     ]
    },
    {
     "name": "stdout",
     "output_type": "stream",
     "text": [
      "Epoch 43 / 100, Loss: 0.8670, Validation loss: 0.8012, 0.4936998854524628 / 0.3605186114596403 / 0.4167270969301426\n"
     ]
    },
    {
     "name": "stderr",
     "output_type": "stream",
     "text": [
      "100%|██████████| 19/19 [00:02<00:00,  6.47it/s]\n"
     ]
    },
    {
     "name": "stdout",
     "output_type": "stream",
     "text": [
      "Epoch 44 / 100, Loss: 0.7840, Validation loss: 0.8104, 0.4904735982580294 / 0.3768297783354245 / 0.42620624408703883\n",
      "Fold: Откат к предыдущему val_loss: 0.8103892624378204 -> 0.8012086749076843.\n"
     ]
    },
    {
     "name": "stderr",
     "output_type": "stream",
     "text": [
      "100%|██████████| 16/16 [00:02<00:00,  6.74it/s]\n"
     ]
    },
    {
     "name": "stdout",
     "output_type": "stream",
     "text": [
      "Epoch 45 / 100, Loss: 0.8512, Validation loss: 0.8158, 0.4844981607987388 / 0.3856127143454621 / 0.42943642291569634\n"
     ]
    },
    {
     "name": "stderr",
     "output_type": "stream",
     "text": [
      "100%|██████████| 16/16 [00:02<00:00,  6.56it/s]\n"
     ]
    },
    {
     "name": "stdout",
     "output_type": "stream",
     "text": [
      "Epoch 46 / 100, Loss: 0.7555, Validation loss: 0.8062, 0.4926590538336052 / 0.37892095357590966 / 0.42836879432624114\n",
      "Fold: Откат к предыдущему val_loss: 0.8062418222427368 -> 0.8012086749076843.\n"
     ]
    },
    {
     "name": "stderr",
     "output_type": "stream",
     "text": [
      "100%|██████████| 18/18 [00:02<00:00,  6.62it/s]\n"
     ]
    },
    {
     "name": "stdout",
     "output_type": "stream",
     "text": [
      "Epoch 47 / 100, Loss: 0.9087, Validation loss: 0.8037, 0.4861878453038674 / 0.36804684232538687 / 0.4189478695548679\n"
     ]
    },
    {
     "name": "stderr",
     "output_type": "stream",
     "text": [
      "100%|██████████| 18/18 [00:02<00:00,  6.83it/s]\n"
     ]
    },
    {
     "name": "stdout",
     "output_type": "stream",
     "text": [
      "Epoch 48 / 100, Loss: 0.9115, Validation loss: 0.8152, 0.4813233724653148 / 0.37724801338352154 / 0.42297772567409136\n",
      "Fold: Откат к предыдущему val_loss: 0.8151899158954621 -> 0.8012086749076843.\n"
     ]
    },
    {
     "name": "stderr",
     "output_type": "stream",
     "text": [
      "100%|██████████| 17/17 [00:02<00:00,  6.72it/s]\n"
     ]
    },
    {
     "name": "stdout",
     "output_type": "stream",
     "text": [
      "Epoch 49 / 100, Loss: 0.8399, Validation loss: 0.8101, 0.48925043579314353 / 0.35215391049769973 / 0.4095330739299611\n"
     ]
    },
    {
     "name": "stderr",
     "output_type": "stream",
     "text": [
      "100%|██████████| 17/17 [00:02<00:00,  6.55it/s]\n"
     ]
    },
    {
     "name": "stdout",
     "output_type": "stream",
     "text": [
      "Epoch 50 / 100, Loss: 0.7481, Validation loss: 0.8254, 0.48722316865417375 / 0.3588456712672522 / 0.4132947976878612\n",
      "Fold: Откат к предыдущему val_loss: 0.8253876626491546 -> 0.8012086749076843.\n"
     ]
    },
    {
     "name": "stderr",
     "output_type": "stream",
     "text": [
      "100%|██████████| 16/16 [00:02<00:00,  6.80it/s]\n"
     ]
    },
    {
     "name": "stdout",
     "output_type": "stream",
     "text": [
      "Epoch 51 / 100, Loss: 0.9377, Validation loss: 0.8199, 0.4827195467422096 / 0.35633626097867 / 0.41000962463907603\n"
     ]
    },
    {
     "name": "stderr",
     "output_type": "stream",
     "text": [
      "100%|██████████| 16/16 [00:02<00:00,  6.71it/s]\n"
     ]
    },
    {
     "name": "stdout",
     "output_type": "stream",
     "text": [
      "Epoch 52 / 100, Loss: 0.8270, Validation loss: 0.8295, 0.48724179829890646 / 0.3354245085738185 / 0.3973247460985881\n",
      "Fold: Откат к предыдущему val_loss: 0.8295019149780274 -> 0.8012086749076843.\n"
     ]
    },
    {
     "name": "stderr",
     "output_type": "stream",
     "text": [
      "100%|██████████| 15/15 [00:02<00:00,  6.58it/s]\n"
     ]
    },
    {
     "name": "stdout",
     "output_type": "stream",
     "text": [
      "Epoch 53 / 100, Loss: 0.8500, Validation loss: 0.8094, 0.4920022062879206 / 0.3730656629025512 / 0.4243577545195052\n"
     ]
    },
    {
     "name": "stderr",
     "output_type": "stream",
     "text": [
      "100%|██████████| 15/15 [00:02<00:00,  6.81it/s]\n"
     ]
    },
    {
     "name": "stdout",
     "output_type": "stream",
     "text": [
      "Epoch 54 / 100, Loss: 0.7534, Validation loss: 0.7995, 0.514302393461763 / 0.3684650773734839 / 0.4293372319688109\n"
     ]
    },
    {
     "name": "stderr",
     "output_type": "stream",
     "text": [
      "100%|██████████| 16/16 [00:02<00:00,  6.54it/s]\n"
     ]
    },
    {
     "name": "stdout",
     "output_type": "stream",
     "text": [
      "Epoch 55 / 100, Loss: 0.8199, Validation loss: 0.8122, 0.4979057591623037 / 0.397741530740276 / 0.44222273889793073\n"
     ]
    },
    {
     "name": "stderr",
     "output_type": "stream",
     "text": [
      "100%|██████████| 16/16 [00:02<00:00,  6.52it/s]\n"
     ]
    },
    {
     "name": "stdout",
     "output_type": "stream",
     "text": [
      "Epoch 56 / 100, Loss: 0.7785, Validation loss: 0.8363, 0.4754335260115607 / 0.4127979924717691 / 0.4419073203492277\n",
      "Fold: Откат к предыдущему val_loss: 0.8362794041633606 -> 0.7995035946369171.\n"
     ]
    },
    {
     "name": "stderr",
     "output_type": "stream",
     "text": [
      "100%|██████████| 17/17 [00:02<00:00,  6.50it/s]\n"
     ]
    },
    {
     "name": "stdout",
     "output_type": "stream",
     "text": [
      "Epoch 57 / 100, Loss: 0.8613, Validation loss: 0.8129, 0.4943298969072165 / 0.4010874111250523 / 0.4428538443777419\n"
     ]
    },
    {
     "name": "stderr",
     "output_type": "stream",
     "text": [
      "100%|██████████| 17/17 [00:02<00:00,  6.68it/s]\n"
     ]
    },
    {
     "name": "stdout",
     "output_type": "stream",
     "text": [
      "Epoch 58 / 100, Loss: 0.8055, Validation loss: 0.8320, 0.4735051045211473 / 0.40736093684650776 / 0.43794964028776984\n",
      "Fold: Откат к предыдущему val_loss: 0.832005912065506 -> 0.7995035946369171.\n"
     ]
    },
    {
     "name": "stderr",
     "output_type": "stream",
     "text": [
      "100%|██████████| 19/19 [00:01<00:00, 10.58it/s]\n"
     ]
    },
    {
     "name": "stdout",
     "output_type": "stream",
     "text": [
      "Epoch 59 / 100, Loss: 1.0429, Validation loss: 0.7703, 0.5090379008746355 / 0.36511919698870765 / 0.4252313687286897\n"
     ]
    },
    {
     "name": "stderr",
     "output_type": "stream",
     "text": [
      "100%|██████████| 19/19 [00:01<00:00, 10.27it/s]\n"
     ]
    },
    {
     "name": "stdout",
     "output_type": "stream",
     "text": [
      "Epoch 60 / 100, Loss: 0.8562, Validation loss: 0.7710, 0.4911012235817575 / 0.36930154746967797 / 0.4215803294342325\n",
      "Fold: Откат к предыдущему val_loss: 0.7709646582603454 -> 0.7703247547149659.\n"
     ]
    },
    {
     "name": "stderr",
     "output_type": "stream",
     "text": [
      "100%|██████████| 16/16 [00:01<00:00, 10.82it/s]\n"
     ]
    },
    {
     "name": "stdout",
     "output_type": "stream",
     "text": [
      "Epoch 61 / 100, Loss: 0.9686, Validation loss: 0.7728, 0.49069003285870755 / 0.37473860309493934 / 0.4249466445340289\n"
     ]
    },
    {
     "name": "stderr",
     "output_type": "stream",
     "text": [
      "100%|██████████| 16/16 [00:01<00:00, 10.53it/s]\n"
     ]
    },
    {
     "name": "stdout",
     "output_type": "stream",
     "text": [
      "Epoch 62 / 100, Loss: 0.8587, Validation loss: 0.7681, 0.5010764262648009 / 0.38937682977833543 / 0.4382207578253707\n"
     ]
    },
    {
     "name": "stderr",
     "output_type": "stream",
     "text": [
      "100%|██████████| 17/17 [00:01<00:00, 10.47it/s]\n"
     ]
    },
    {
     "name": "stdout",
     "output_type": "stream",
     "text": [
      "Epoch 63 / 100, Loss: 0.8398, Validation loss: 0.7817, 0.4835 / 0.40443329150982854 / 0.4404463675700296\n"
     ]
    },
    {
     "name": "stderr",
     "output_type": "stream",
     "text": [
      "100%|██████████| 17/17 [00:01<00:00, 10.23it/s]\n"
     ]
    },
    {
     "name": "stdout",
     "output_type": "stream",
     "text": [
      "Epoch 64 / 100, Loss: 0.7744, Validation loss: 0.7692, 0.48443775100401604 / 0.40359682141363445 / 0.4403376682637463\n",
      "Fold: Откат к предыдущему val_loss: 0.76917005777359 -> 0.768121886253357.\n"
     ]
    },
    {
     "name": "stderr",
     "output_type": "stream",
     "text": [
      "100%|██████████| 17/17 [00:02<00:00,  6.80it/s]\n"
     ]
    },
    {
     "name": "stdout",
     "output_type": "stream",
     "text": [
      "Epoch 65 / 100, Loss: 0.9626, Validation loss: 0.7494, 0.511614730878187 / 0.37766624843161856 / 0.43455245428296435\n"
     ]
    },
    {
     "name": "stderr",
     "output_type": "stream",
     "text": [
      "100%|██████████| 17/17 [00:02<00:00,  6.58it/s]\n"
     ]
    },
    {
     "name": "stdout",
     "output_type": "stream",
     "text": [
      "Epoch 66 / 100, Loss: 0.8572, Validation loss: 0.7566, 0.5164319248826291 / 0.36804684232538687 / 0.4297924297924298\n",
      "Fold: Откат к предыдущему val_loss: 0.7565606951713562 -> 0.749386864900589.\n"
     ]
    },
    {
     "name": "stderr",
     "output_type": "stream",
     "text": [
      "100%|██████████| 18/18 [00:02<00:00,  6.80it/s]\n"
     ]
    },
    {
     "name": "stdout",
     "output_type": "stream",
     "text": [
      "Epoch 67 / 100, Loss: 0.9341, Validation loss: 0.7583, 0.510545905707196 / 0.3442074445838561 / 0.4111916062952785\n"
     ]
    },
    {
     "name": "stderr",
     "output_type": "stream",
     "text": [
      "100%|██████████| 18/18 [00:02<00:00,  6.37it/s]\n"
     ]
    },
    {
     "name": "stdout",
     "output_type": "stream",
     "text": [
      "Epoch 68 / 100, Loss: 0.8796, Validation loss: 0.7609, 0.5043525571273123 / 0.3877038895859473 / 0.4384015133601324\n",
      "Fold: Откат к предыдущему val_loss: 0.760865181684494 -> 0.749386864900589.\n"
     ]
    },
    {
     "name": "stderr",
     "output_type": "stream",
     "text": [
      "100%|██████████| 15/15 [00:02<00:00,  6.82it/s]\n"
     ]
    },
    {
     "name": "stdout",
     "output_type": "stream",
     "text": [
      "Epoch 69 / 100, Loss: 0.9050, Validation loss: 0.7641, 0.4899257688229056 / 0.3864491844416562 / 0.4320785597381342\n"
     ]
    },
    {
     "name": "stderr",
     "output_type": "stream",
     "text": [
      "100%|██████████| 15/15 [00:02<00:00,  6.70it/s]\n"
     ]
    },
    {
     "name": "stdout",
     "output_type": "stream",
     "text": [
      "Epoch 70 / 100, Loss: 0.8773, Validation loss: 0.7783, 0.47935891209324916 / 0.4127979924717691 / 0.44359550561797756\n",
      "Fold: Откат к предыдущему val_loss: 0.7783445835113525 -> 0.749386864900589.\n"
     ]
    },
    {
     "name": "stderr",
     "output_type": "stream",
     "text": [
      "100%|██████████| 16/16 [00:02<00:00,  6.44it/s]\n"
     ]
    },
    {
     "name": "stdout",
     "output_type": "stream",
     "text": [
      "Epoch 71 / 100, Loss: 0.9202, Validation loss: 0.7630, 0.4928076718167288 / 0.38686741948975323 / 0.4334582942830365\n"
     ]
    },
    {
     "name": "stderr",
     "output_type": "stream",
     "text": [
      "100%|██████████| 16/16 [00:02<00:00,  6.75it/s]\n"
     ]
    },
    {
     "name": "stdout",
     "output_type": "stream",
     "text": [
      "Epoch 72 / 100, Loss: 0.8674, Validation loss: 0.7687, 0.49511930585683295 / 0.3818485989125889 / 0.43116883116883115\n",
      "Fold: Откат к предыдущему val_loss: 0.7686693370342255 -> 0.749386864900589.\n"
     ]
    },
    {
     "name": "stderr",
     "output_type": "stream",
     "text": [
      "100%|██████████| 18/18 [00:02<00:00,  6.82it/s]\n"
     ]
    },
    {
     "name": "stdout",
     "output_type": "stream",
     "text": [
      "Epoch 73 / 100, Loss: 0.8624, Validation loss: 0.7485, 0.5160599571734475 / 0.40317858636553744 / 0.45268842451279645\n"
     ]
    },
    {
     "name": "stderr",
     "output_type": "stream",
     "text": [
      "100%|██████████| 18/18 [00:02<00:00,  6.71it/s]\n"
     ]
    },
    {
     "name": "stdout",
     "output_type": "stream",
     "text": [
      "Epoch 74 / 100, Loss: 0.8749, Validation loss: 0.7639, 0.5039619651347068 / 0.3989962358845671 / 0.44537815126050423\n",
      "Fold: Откат к предыдущему val_loss: 0.7638795793056488 -> 0.7485404551029206.\n"
     ]
    },
    {
     "name": "stderr",
     "output_type": "stream",
     "text": [
      "100%|██████████| 15/15 [00:02<00:00,  6.64it/s]\n"
     ]
    },
    {
     "name": "stdout",
     "output_type": "stream",
     "text": [
      "Epoch 75 / 100, Loss: 0.9606, Validation loss: 0.7811, 0.4838709677419355 / 0.4077791718946048 / 0.44257830231502493\n"
     ]
    },
    {
     "name": "stderr",
     "output_type": "stream",
     "text": [
      "100%|██████████| 15/15 [00:02<00:00,  6.75it/s]\n"
     ]
    },
    {
     "name": "stdout",
     "output_type": "stream",
     "text": [
      "Epoch 76 / 100, Loss: 0.9056, Validation loss: 0.7768, 0.4812286689419795 / 0.4127979924717691 / 0.4443944169293111\n",
      "Fold: Откат к предыдущему val_loss: 0.7768198728561402 -> 0.7485404551029206.\n"
     ]
    },
    {
     "name": "stderr",
     "output_type": "stream",
     "text": [
      "100%|██████████| 20/20 [00:02<00:00,  6.88it/s]\n"
     ]
    },
    {
     "name": "stdout",
     "output_type": "stream",
     "text": [
      "Epoch 77 / 100, Loss: 0.8945, Validation loss: 0.7508, 0.5025906735751295 / 0.40568799665411964 / 0.44897014579958344\n"
     ]
    },
    {
     "name": "stderr",
     "output_type": "stream",
     "text": [
      "100%|██████████| 20/20 [00:02<00:00,  6.81it/s]\n"
     ]
    },
    {
     "name": "stdout",
     "output_type": "stream",
     "text": [
      "Epoch 78 / 100, Loss: 0.8425, Validation loss: 0.7645, 0.5011742602160639 / 0.4462567963195316 / 0.4721238938053098\n",
      "Fold: Откат к предыдущему val_loss: 0.7644576609134675 -> 0.7485404551029206.\n"
     ]
    },
    {
     "name": "stderr",
     "output_type": "stream",
     "text": [
      "100%|██████████| 26/26 [00:03<00:00,  6.90it/s]\n"
     ]
    },
    {
     "name": "stdout",
     "output_type": "stream",
     "text": [
      "Epoch 79 / 100, Loss: 0.8498, Validation loss: 0.7417, 0.5350877192982456 / 0.38268506900878296 / 0.44623262618873444\n"
     ]
    },
    {
     "name": "stderr",
     "output_type": "stream",
     "text": [
      "100%|██████████| 26/26 [00:04<00:00,  6.34it/s]\n"
     ]
    },
    {
     "name": "stdout",
     "output_type": "stream",
     "text": [
      "Epoch 80 / 100, Loss: 0.7965, Validation loss: 0.7418, 0.5357929515418502 / 0.4069427017984107 / 0.4625623960066556\n",
      "Fold: Откат к предыдущему val_loss: 0.7417691230773926 -> 0.7417141556739807.\n"
     ]
    },
    {
     "name": "stderr",
     "output_type": "stream",
     "text": [
      "100%|██████████| 24/24 [00:03<00:00,  6.44it/s]\n"
     ]
    },
    {
     "name": "stdout",
     "output_type": "stream",
     "text": [
      "Epoch 81 / 100, Loss: 0.8597, Validation loss: 0.7245, 0.5338305807139052 / 0.4190715181932246 / 0.4695407685098407\n"
     ]
    },
    {
     "name": "stderr",
     "output_type": "stream",
     "text": [
      "100%|██████████| 24/24 [00:03<00:00,  6.35it/s]\n"
     ]
    },
    {
     "name": "stdout",
     "output_type": "stream",
     "text": [
      "Epoch 82 / 100, Loss: 0.8526, Validation loss: 0.7078, 0.5424018212862834 / 0.3985780008364701 / 0.4594985535197686\n"
     ]
    },
    {
     "name": "stderr",
     "output_type": "stream",
     "text": [
      "100%|██████████| 28/28 [00:04<00:00,  6.87it/s]\n"
     ]
    },
    {
     "name": "stdout",
     "output_type": "stream",
     "text": [
      "Epoch 83 / 100, Loss: 0.7936, Validation loss: 0.6999, 0.5448933782267116 / 0.40610623170221666 / 0.4653726335969327\n"
     ]
    },
    {
     "name": "stderr",
     "output_type": "stream",
     "text": [
      "100%|██████████| 28/28 [00:04<00:00,  6.85it/s]\n"
     ]
    },
    {
     "name": "stdout",
     "output_type": "stream",
     "text": [
      "Epoch 84 / 100, Loss: 0.8165, Validation loss: 0.7206, 0.5251450676982592 / 0.45420326223337515 / 0.48710473200269117\n",
      "Fold: Откат к предыдущему val_loss: 0.7205789387226105 -> 0.699930727481842.\n"
     ]
    },
    {
     "name": "stderr",
     "output_type": "stream",
     "text": [
      "100%|██████████| 25/25 [00:03<00:00,  6.88it/s]\n"
     ]
    },
    {
     "name": "stdout",
     "output_type": "stream",
     "text": [
      "Epoch 85 / 100, Loss: 0.9341, Validation loss: 0.7085, 0.5324144971924452 / 0.4362191551652028 / 0.47954022988505746\n"
     ]
    },
    {
     "name": "stderr",
     "output_type": "stream",
     "text": [
      "100%|██████████| 25/25 [00:03<00:00,  6.73it/s]\n"
     ]
    },
    {
     "name": "stdout",
     "output_type": "stream",
     "text": [
      "Epoch 86 / 100, Loss: 0.8282, Validation loss: 0.7074, 0.5434447300771208 / 0.44207444583856126 / 0.48754612546125464\n",
      "Fold: Откат к предыдущему val_loss: 0.7074278831481934 -> 0.699930727481842.\n"
     ]
    },
    {
     "name": "stderr",
     "output_type": "stream",
     "text": [
      "100%|██████████| 27/27 [00:04<00:00,  6.41it/s]\n"
     ]
    },
    {
     "name": "stdout",
     "output_type": "stream",
     "text": [
      "Epoch 87 / 100, Loss: 0.8411, Validation loss: 0.7108, 0.5263718700053277 / 0.41321622751986614 / 0.4629803186504218\n"
     ]
    },
    {
     "name": "stderr",
     "output_type": "stream",
     "text": [
      "100%|██████████| 27/27 [00:04<00:00,  6.53it/s]\n"
     ]
    },
    {
     "name": "stdout",
     "output_type": "stream",
     "text": [
      "Epoch 88 / 100, Loss: 0.8576, Validation loss: 0.6977, 0.5539526832083093 / 0.4015056461731493 / 0.46556741028128035\n"
     ]
    },
    {
     "name": "stderr",
     "output_type": "stream",
     "text": [
      "100%|██████████| 28/28 [00:04<00:00,  6.37it/s]\n"
     ]
    },
    {
     "name": "stdout",
     "output_type": "stream",
     "text": [
      "Epoch 89 / 100, Loss: 0.8128, Validation loss: 0.7005, 0.5578651685393259 / 0.41530740276035133 / 0.47614480939822584\n"
     ]
    },
    {
     "name": "stderr",
     "output_type": "stream",
     "text": [
      "100%|██████████| 28/28 [00:04<00:00,  6.68it/s]\n"
     ]
    },
    {
     "name": "stdout",
     "output_type": "stream",
     "text": [
      "Epoch 90 / 100, Loss: 0.7484, Validation loss: 0.7302, 0.5534351145038168 / 0.424508573818486 / 0.4804733727810651\n",
      "Fold: Откат к предыдущему val_loss: 0.7301835119724274 -> 0.6976840019226074.\n"
     ]
    },
    {
     "name": "stderr",
     "output_type": "stream",
     "text": [
      "100%|██████████| 30/30 [00:04<00:00,  6.48it/s]\n"
     ]
    },
    {
     "name": "stdout",
     "output_type": "stream",
     "text": [
      "Epoch 91 / 100, Loss: 0.8563, Validation loss: 0.6982, 0.530004800768123 / 0.4617314930991217 / 0.49351810460438084\n"
     ]
    },
    {
     "name": "stderr",
     "output_type": "stream",
     "text": [
      "100%|██████████| 30/30 [00:04<00:00,  6.56it/s]\n"
     ]
    },
    {
     "name": "stdout",
     "output_type": "stream",
     "text": [
      "Epoch 92 / 100, Loss: 0.7644, Validation loss: 0.6996, 0.5208140610545791 / 0.4709326641572564 / 0.49461893257193057\n",
      "Fold: Откат к предыдущему val_loss: 0.6996346890926362 -> 0.6976840019226074.\n"
     ]
    },
    {
     "name": "stderr",
     "output_type": "stream",
     "text": [
      "100%|██████████| 27/27 [00:03<00:00,  6.76it/s]\n"
     ]
    },
    {
     "name": "stdout",
     "output_type": "stream",
     "text": [
      "Epoch 93 / 100, Loss: 0.8715, Validation loss: 0.7125, 0.5281173594132029 / 0.451693851944793 / 0.48692515779981965\n"
     ]
    },
    {
     "name": "stderr",
     "output_type": "stream",
     "text": [
      "100%|██████████| 27/27 [00:04<00:00,  6.73it/s]\n"
     ]
    },
    {
     "name": "stdout",
     "output_type": "stream",
     "text": [
      "Epoch 94 / 100, Loss: 0.7817, Validation loss: 0.7114, 0.5350025549310169 / 0.437892095357591 / 0.4816007359705612\n",
      "Fold: Откат к предыдущему val_loss: 0.7113580644130707 -> 0.6976840019226074.\n"
     ]
    },
    {
     "name": "stderr",
     "output_type": "stream",
     "text": [
      "100%|██████████| 24/24 [00:03<00:00,  6.42it/s]\n"
     ]
    },
    {
     "name": "stdout",
     "output_type": "stream",
     "text": [
      "Epoch 95 / 100, Loss: 0.8369, Validation loss: 0.7145, 0.5292694726656991 / 0.4575491426181514 / 0.4908030506953791\n"
     ]
    },
    {
     "name": "stderr",
     "output_type": "stream",
     "text": [
      "100%|██████████| 24/24 [00:03<00:00,  6.44it/s]\n"
     ]
    },
    {
     "name": "stdout",
     "output_type": "stream",
     "text": [
      "Epoch 96 / 100, Loss: 0.7739, Validation loss: 0.7167, 0.5409252669039146 / 0.4450020911752405 / 0.4882973841211565\n",
      "Fold: Откат к предыдущему val_loss: 0.716748708486557 -> 0.6976840019226074.\n"
     ]
    },
    {
     "name": "stderr",
     "output_type": "stream",
     "text": [
      "100%|██████████| 27/27 [00:04<00:00,  6.70it/s]\n"
     ]
    },
    {
     "name": "stdout",
     "output_type": "stream",
     "text": [
      "Epoch 97 / 100, Loss: 0.8445, Validation loss: 0.7130, 0.5289684408855393 / 0.4696779590129653 / 0.4975631369073992\n"
     ]
    },
    {
     "name": "stderr",
     "output_type": "stream",
     "text": [
      "100%|██████████| 27/27 [00:04<00:00,  6.67it/s]\n"
     ]
    },
    {
     "name": "stdout",
     "output_type": "stream",
     "text": [
      "Epoch 98 / 100, Loss: 0.7688, Validation loss: 0.7197, 0.5212620027434842 / 0.4767879548306148 / 0.49803407601572736\n",
      "Fold: Откат к предыдущему val_loss: 0.7197128474712372 -> 0.6976840019226074.\n"
     ]
    },
    {
     "name": "stderr",
     "output_type": "stream",
     "text": [
      "100%|██████████| 20/20 [00:03<00:00,  6.64it/s]\n"
     ]
    },
    {
     "name": "stdout",
     "output_type": "stream",
     "text": [
      "Epoch 99 / 100, Loss: 0.9493, Validation loss: 0.7207, 0.5188501413760603 / 0.4604767879548306 / 0.4879237757589187\n"
     ]
    },
    {
     "name": "stderr",
     "output_type": "stream",
     "text": [
      "100%|██████████| 20/20 [00:03<00:00,  6.48it/s]\n"
     ]
    },
    {
     "name": "stdout",
     "output_type": "stream",
     "text": [
      "Epoch 100 / 100, Loss: 0.8909, Validation loss: 0.7036, 0.5139826422372228 / 0.44583856127143456 / 0.47749160134378504\n",
      "Fold: Откат к предыдущему val_loss: 0.7035546779632569 -> 0.6976840019226074.\n",
      " Run: Откат к предыдущему val_loss: 0.7035546779632569 -> 0.6976840019226074.\n"
     ]
    },
    {
     "name": "stderr",
     "output_type": "stream",
     "text": [
      "100%|██████████| 21/21 [00:03<00:00,  6.39it/s]\n"
     ]
    },
    {
     "name": "stdout",
     "output_type": "stream",
     "text": [
      "Epoch 101 / 200, Loss: 0.8176, Validation loss: 0.7107, 0.5050551470588235 / 0.45964031785863657 / 0.4812787387781914\n"
     ]
    },
    {
     "name": "stderr",
     "output_type": "stream",
     "text": [
      "100%|██████████| 21/21 [00:03<00:00,  6.61it/s]\n"
     ]
    },
    {
     "name": "stdout",
     "output_type": "stream",
     "text": [
      "Epoch 102 / 200, Loss: 0.7528, Validation loss: 0.7183, 0.4967860422405877 / 0.45253032204098703 / 0.47362661413876117\n",
      "Fold: Откат к предыдущему val_loss: 0.7183233559131622 -> 0.6976840019226074.\n"
     ]
    },
    {
     "name": "stderr",
     "output_type": "stream",
     "text": [
      "100%|██████████| 27/27 [00:04<00:00,  6.73it/s]\n"
     ]
    },
    {
     "name": "stdout",
     "output_type": "stream",
     "text": [
      "Epoch 103 / 200, Loss: 0.7503, Validation loss: 0.7010, 0.5301662707838479 / 0.46675031367628605 / 0.49644128113879\n"
     ]
    },
    {
     "name": "stderr",
     "output_type": "stream",
     "text": [
      "100%|██████████| 27/27 [00:03<00:00,  6.77it/s]\n"
     ]
    },
    {
     "name": "stdout",
     "output_type": "stream",
     "text": [
      "Epoch 104 / 200, Loss: 0.6725, Validation loss: 0.7073, 0.5298165137614679 / 0.48306148055207027 / 0.5053598774885145\n",
      "Fold: Откат к предыдущему val_loss: 0.7072755813598632 -> 0.6976840019226074.\n"
     ]
    },
    {
     "name": "stderr",
     "output_type": "stream",
     "text": [
      "100%|██████████| 22/22 [00:03<00:00,  6.45it/s]\n"
     ]
    },
    {
     "name": "stdout",
     "output_type": "stream",
     "text": [
      "Epoch 105 / 200, Loss: 0.8259, Validation loss: 0.7028, 0.5480020757654385 / 0.44165621079046424 / 0.4891153311718388\n"
     ]
    },
    {
     "name": "stderr",
     "output_type": "stream",
     "text": [
      "100%|██████████| 22/22 [00:03<00:00,  6.66it/s]\n"
     ]
    },
    {
     "name": "stdout",
     "output_type": "stream",
     "text": [
      "Epoch 106 / 200, Loss: 0.7830, Validation loss: 0.6938, 0.5531686358754028 / 0.43078209953994145 / 0.4843639783682106\n"
     ]
    },
    {
     "name": "stderr",
     "output_type": "stream",
     "text": [
      "100%|██████████| 26/26 [00:03<00:00,  6.62it/s]\n"
     ]
    },
    {
     "name": "stdout",
     "output_type": "stream",
     "text": [
      "Epoch 107 / 200, Loss: 0.7550, Validation loss: 0.7075, 0.5369877594465141 / 0.4219991635299038 / 0.4725995316159251\n"
     ]
    },
    {
     "name": "stderr",
     "output_type": "stream",
     "text": [
      "100%|██████████| 26/26 [00:03<00:00,  6.65it/s]\n"
     ]
    },
    {
     "name": "stdout",
     "output_type": "stream",
     "text": [
      "Epoch 108 / 200, Loss: 0.6779, Validation loss: 0.7128, 0.5325013000520021 / 0.42827268925135925 / 0.47473342605470564\n",
      "Fold: Откат к предыдущему val_loss: 0.7127871751785279 -> 0.6937889873981475.\n"
     ]
    },
    {
     "name": "stderr",
     "output_type": "stream",
     "text": [
      "100%|██████████| 24/24 [00:03<00:00,  6.37it/s]\n"
     ]
    },
    {
     "name": "stdout",
     "output_type": "stream",
     "text": [
      "Epoch 109 / 200, Loss: 0.7471, Validation loss: 0.7142, 0.5273579989577906 / 0.4232538686741949 / 0.4696055684454757\n"
     ]
    },
    {
     "name": "stderr",
     "output_type": "stream",
     "text": [
      "100%|██████████| 24/24 [00:03<00:00,  6.73it/s]\n"
     ]
    },
    {
     "name": "stdout",
     "output_type": "stream",
     "text": [
      "Epoch 110 / 200, Loss: 0.6818, Validation loss: 0.7141, 0.5284510010537408 / 0.41948975324132165 / 0.46770809046397765\n",
      "Fold: Откат к предыдущему val_loss: 0.7141381621360778 -> 0.6937889873981475.\n"
     ]
    },
    {
     "name": "stderr",
     "output_type": "stream",
     "text": [
      "100%|██████████| 25/25 [00:03<00:00,  6.74it/s]\n"
     ]
    },
    {
     "name": "stdout",
     "output_type": "stream",
     "text": [
      "Epoch 111 / 200, Loss: 0.7727, Validation loss: 0.7002, 0.56243272335845 / 0.4370556252613969 / 0.4918804424570487\n"
     ]
    },
    {
     "name": "stderr",
     "output_type": "stream",
     "text": [
      "100%|██████████| 25/25 [00:03<00:00,  6.53it/s]\n"
     ]
    },
    {
     "name": "stdout",
     "output_type": "stream",
     "text": [
      "Epoch 112 / 200, Loss: 0.6896, Validation loss: 0.7267, 0.5359202936549554 / 0.4274362191551652 / 0.4755700325732899\n",
      "Fold: Откат к предыдущему val_loss: 0.7267200708389282 -> 0.6937889873981475.\n"
     ]
    },
    {
     "name": "stderr",
     "output_type": "stream",
     "text": [
      "100%|██████████| 23/23 [00:03<00:00,  6.65it/s]\n"
     ]
    },
    {
     "name": "stdout",
     "output_type": "stream",
     "text": [
      "Epoch 113 / 200, Loss: 0.7369, Validation loss: 0.6921, 0.5484515484515484 / 0.4592220828105395 / 0.49988618256316864\n"
     ]
    },
    {
     "name": "stderr",
     "output_type": "stream",
     "text": [
      "100%|██████████| 23/23 [00:03<00:00,  6.57it/s]\n"
     ]
    },
    {
     "name": "stdout",
     "output_type": "stream",
     "text": [
      "Epoch 114 / 200, Loss: 0.6981, Validation loss: 0.6964, 0.5351299326275265 / 0.46507737348389794 / 0.49765048109196686\n",
      "Fold: Откат к предыдущему val_loss: 0.6964427947998046 -> 0.6920608818531037.\n"
     ]
    },
    {
     "name": "stderr",
     "output_type": "stream",
     "text": [
      "100%|██████████| 27/27 [00:03<00:00,  6.76it/s]\n"
     ]
    },
    {
     "name": "stdout",
     "output_type": "stream",
     "text": [
      "Epoch 115 / 200, Loss: 0.7858, Validation loss: 0.6936, 0.5657894736842105 / 0.4316185696361355 / 0.48967971530249105\n"
     ]
    },
    {
     "name": "stderr",
     "output_type": "stream",
     "text": [
      "100%|██████████| 27/27 [00:03<00:00,  6.77it/s]\n"
     ]
    },
    {
     "name": "stdout",
     "output_type": "stream",
     "text": [
      "Epoch 116 / 200, Loss: 0.7003, Validation loss: 0.6977, 0.5546492659053833 / 0.42659974905897113 / 0.48226950354609927\n",
      "Fold: Откат к предыдущему val_loss: 0.6977117419242859 -> 0.6920608818531037.\n"
     ]
    },
    {
     "name": "stderr",
     "output_type": "stream",
     "text": [
      "100%|██████████| 25/25 [00:02<00:00, 10.31it/s]\n"
     ]
    },
    {
     "name": "stdout",
     "output_type": "stream",
     "text": [
      "Epoch 117 / 200, Loss: 0.8250, Validation loss: 0.7036, 0.517208413001912 / 0.45253032204098703 / 0.4827124693285746\n"
     ]
    },
    {
     "name": "stderr",
     "output_type": "stream",
     "text": [
      "100%|██████████| 25/25 [00:02<00:00, 10.59it/s]\n"
     ]
    },
    {
     "name": "stdout",
     "output_type": "stream",
     "text": [
      "Epoch 118 / 200, Loss: 0.7857, Validation loss: 0.7128, 0.5083025830258303 / 0.4608950230029277 / 0.4834393507348103\n",
      "Fold: Откат к предыдущему val_loss: 0.7127554953098297 -> 0.6920608818531037.\n"
     ]
    },
    {
     "name": "stderr",
     "output_type": "stream",
     "text": [
      "100%|██████████| 30/30 [00:02<00:00, 10.62it/s]\n"
     ]
    },
    {
     "name": "stdout",
     "output_type": "stream",
     "text": [
      "Epoch 119 / 200, Loss: 0.8078, Validation loss: 0.6972, 0.5462354724608388 / 0.45211208699289 / 0.4947368421052632\n"
     ]
    },
    {
     "name": "stderr",
     "output_type": "stream",
     "text": [
      "100%|██████████| 30/30 [00:02<00:00, 10.22it/s]\n"
     ]
    },
    {
     "name": "stdout",
     "output_type": "stream",
     "text": [
      "Epoch 120 / 200, Loss: 0.7549, Validation loss: 0.7050, 0.5297619047619048 / 0.4466750313676286 / 0.4846834581347856\n",
      "Fold: Откат к предыдущему val_loss: 0.7049631834030151 -> 0.6920608818531037.\n"
     ]
    },
    {
     "name": "stderr",
     "output_type": "stream",
     "text": [
      "100%|██████████| 26/26 [00:02<00:00, 10.42it/s]\n"
     ]
    },
    {
     "name": "stdout",
     "output_type": "stream",
     "text": [
      "Epoch 121 / 200, Loss: 0.8441, Validation loss: 0.7064, 0.5382653061224489 / 0.4412379757423672 / 0.48494598942771777\n"
     ]
    },
    {
     "name": "stderr",
     "output_type": "stream",
     "text": [
      "100%|██████████| 26/26 [00:02<00:00, 10.12it/s]\n"
     ]
    },
    {
     "name": "stdout",
     "output_type": "stream",
     "text": [
      "Epoch 122 / 200, Loss: 0.7399, Validation loss: 0.7022, 0.564072557050907 / 0.40317858636553744 / 0.4702439024390244\n",
      "Fold: Откат к предыдущему val_loss: 0.7021913826465607 -> 0.6920608818531037.\n"
     ]
    },
    {
     "name": "stderr",
     "output_type": "stream",
     "text": [
      "100%|██████████| 31/31 [00:02<00:00, 10.46it/s]\n"
     ]
    },
    {
     "name": "stdout",
     "output_type": "stream",
     "text": [
      "Epoch 123 / 200, Loss: 0.7418, Validation loss: 0.7032, 0.5156826568265682 / 0.46758678377248014 / 0.4904584338670761\n"
     ]
    },
    {
     "name": "stderr",
     "output_type": "stream",
     "text": [
      "100%|██████████| 31/31 [00:02<00:00, 10.71it/s]\n"
     ]
    },
    {
     "name": "stdout",
     "output_type": "stream",
     "text": [
      "Epoch 124 / 200, Loss: 0.8093, Validation loss: 0.6908, 0.5255347010039284 / 0.5035549979088247 / 0.5143101238786844\n"
     ]
    },
    {
     "name": "stderr",
     "output_type": "stream",
     "text": [
      "100%|██████████| 20/20 [00:02<00:00,  9.95it/s]\n"
     ]
    },
    {
     "name": "stdout",
     "output_type": "stream",
     "text": [
      "Epoch 125 / 200, Loss: 0.7277, Validation loss: 0.7092, 0.5267245317496574 / 0.4822250104558762 / 0.5034934497816593\n"
     ]
    },
    {
     "name": "stderr",
     "output_type": "stream",
     "text": [
      "100%|██████████| 20/20 [00:02<00:00,  6.80it/s]\n"
     ]
    },
    {
     "name": "stdout",
     "output_type": "stream",
     "text": [
      "Epoch 126 / 200, Loss: 0.7182, Validation loss: 0.7278, 0.519222271321255 / 0.49142618151401085 / 0.5049419853889127\n",
      "Fold: Откат к предыдущему val_loss: 0.7278279066085815 -> 0.69077849984169.\n"
     ]
    },
    {
     "name": "stderr",
     "output_type": "stream",
     "text": [
      "100%|██████████| 18/18 [00:02<00:00,  6.56it/s]\n"
     ]
    },
    {
     "name": "stdout",
     "output_type": "stream",
     "text": [
      "Epoch 127 / 200, Loss: 0.7673, Validation loss: 0.6989, 0.5247389922832502 / 0.4834797156001673 / 0.5032651284283849\n"
     ]
    },
    {
     "name": "stderr",
     "output_type": "stream",
     "text": [
      "100%|██████████| 18/18 [00:02<00:00,  6.68it/s]\n"
     ]
    },
    {
     "name": "stdout",
     "output_type": "stream",
     "text": [
      "Epoch 128 / 200, Loss: 0.7136, Validation loss: 0.6954, 0.5471389645776567 / 0.41990798828941867 / 0.47515380974917176\n",
      "Fold: Откат к предыдущему val_loss: 0.6954486310482025 -> 0.69077849984169.\n"
     ]
    },
    {
     "name": "stderr",
     "output_type": "stream",
     "text": [
      "100%|██████████| 17/17 [00:02<00:00,  6.64it/s]\n"
     ]
    },
    {
     "name": "stdout",
     "output_type": "stream",
     "text": [
      "Epoch 129 / 200, Loss: 0.7560, Validation loss: 0.6822, 0.5495951417004049 / 0.45420326223337515 / 0.49736661323563097\n"
     ]
    },
    {
     "name": "stderr",
     "output_type": "stream",
     "text": [
      "100%|██████████| 17/17 [00:02<00:00,  6.61it/s]\n"
     ]
    },
    {
     "name": "stdout",
     "output_type": "stream",
     "text": [
      "Epoch 130 / 200, Loss: 0.7060, Validation loss: 0.6959, 0.5177111716621253 / 0.4767879548306148 / 0.4964075767472241\n",
      "Fold: Откат к предыдущему val_loss: 0.6958866596221924 -> 0.6822079002857209.\n"
     ]
    },
    {
     "name": "stderr",
     "output_type": "stream",
     "text": [
      "100%|██████████| 19/19 [00:02<00:00,  6.93it/s]\n"
     ]
    },
    {
     "name": "stdout",
     "output_type": "stream",
     "text": [
      "Epoch 131 / 200, Loss: 0.7391, Validation loss: 0.6799, 0.5426470588235294 / 0.4629861982434128 / 0.49966147596479343\n"
     ]
    },
    {
     "name": "stderr",
     "output_type": "stream",
     "text": [
      "100%|██████████| 19/19 [00:02<00:00,  6.39it/s]\n"
     ]
    },
    {
     "name": "stdout",
     "output_type": "stream",
     "text": [
      "Epoch 132 / 200, Loss: 0.7296, Validation loss: 0.6735, 0.5590749120160885 / 0.46507737348389794 / 0.5077625570776255\n"
     ]
    },
    {
     "name": "stderr",
     "output_type": "stream",
     "text": [
      "100%|██████████| 21/21 [00:03<00:00,  6.75it/s]\n"
     ]
    },
    {
     "name": "stdout",
     "output_type": "stream",
     "text": [
      "Epoch 133 / 200, Loss: 0.7384, Validation loss: 0.6615, 0.5809217577706324 / 0.4533667921371811 / 0.5092788348602302\n"
     ]
    },
    {
     "name": "stderr",
     "output_type": "stream",
     "text": [
      "100%|██████████| 21/21 [00:03<00:00,  6.75it/s]\n"
     ]
    },
    {
     "name": "stdout",
     "output_type": "stream",
     "text": [
      "Epoch 134 / 200, Loss: 0.7146, Validation loss: 0.6649, 0.5643614336193842 / 0.46758678377248014 / 0.5114364135407137\n",
      "Fold: Откат к предыдущему val_loss: 0.6649348258972168 -> 0.6615444660186768.\n"
     ]
    },
    {
     "name": "stderr",
     "output_type": "stream",
     "text": [
      "100%|██████████| 21/21 [00:03<00:00,  6.91it/s]\n"
     ]
    },
    {
     "name": "stdout",
     "output_type": "stream",
     "text": [
      "Epoch 135 / 200, Loss: 0.6702, Validation loss: 0.6666, 0.5865892291446674 / 0.4646591384358009 / 0.5185530921820304\n"
     ]
    },
    {
     "name": "stderr",
     "output_type": "stream",
     "text": [
      "100%|██████████| 21/21 [00:03<00:00,  6.83it/s]\n"
     ]
    },
    {
     "name": "stdout",
     "output_type": "stream",
     "text": [
      "Epoch 136 / 200, Loss: 0.6526, Validation loss: 0.6690, 0.5609293504030346 / 0.49477206189878714 / 0.5257777777777778\n",
      "Fold: Откат к предыдущему val_loss: 0.6689638495445251 -> 0.6615444660186768.\n"
     ]
    },
    {
     "name": "stderr",
     "output_type": "stream",
     "text": [
      "100%|██████████| 17/17 [00:02<00:00,  6.80it/s]\n"
     ]
    },
    {
     "name": "stdout",
     "output_type": "stream",
     "text": [
      "Epoch 137 / 200, Loss: 0.7104, Validation loss: 0.6718, 0.566147859922179 / 0.4868255959849435 / 0.5234989880818529\n"
     ]
    },
    {
     "name": "stderr",
     "output_type": "stream",
     "text": [
      "100%|██████████| 17/17 [00:02<00:00,  6.80it/s]\n"
     ]
    },
    {
     "name": "stdout",
     "output_type": "stream",
     "text": [
      "Epoch 138 / 200, Loss: 0.6936, Validation loss: 0.6810, 0.5635411708710139 / 0.49519029694688416 / 0.5271593944790739\n",
      "Fold: Откат к предыдущему val_loss: 0.6809949815273285 -> 0.6615444660186768.\n"
     ]
    },
    {
     "name": "stderr",
     "output_type": "stream",
     "text": [
      "100%|██████████| 18/18 [00:02<00:00,  6.71it/s]\n"
     ]
    },
    {
     "name": "stdout",
     "output_type": "stream",
     "text": [
      "Epoch 139 / 200, Loss: 0.6679, Validation loss: 0.6768, 0.5586343394359228 / 0.4721873693015475 / 0.5117860380779692\n"
     ]
    },
    {
     "name": "stderr",
     "output_type": "stream",
     "text": [
      "100%|██████████| 18/18 [00:02<00:00,  6.81it/s]\n"
     ]
    },
    {
     "name": "stdout",
     "output_type": "stream",
     "text": [
      "Epoch 140 / 200, Loss: 0.6682, Validation loss: 0.6811, 0.5385668644454586 / 0.49351735675449604 / 0.515058926233086\n",
      "Fold: Откат к предыдущему val_loss: 0.6811193943023681 -> 0.6615444660186768.\n"
     ]
    },
    {
     "name": "stderr",
     "output_type": "stream",
     "text": [
      "100%|██████████| 16/16 [00:02<00:00,  6.78it/s]\n"
     ]
    },
    {
     "name": "stdout",
     "output_type": "stream",
     "text": [
      "Epoch 141 / 200, Loss: 0.7653, Validation loss: 0.6670, 0.5568238213399503 / 0.46925972396486826 / 0.5093054925102134\n"
     ]
    },
    {
     "name": "stderr",
     "output_type": "stream",
     "text": [
      "100%|██████████| 16/16 [00:02<00:00,  6.75it/s]\n"
     ]
    },
    {
     "name": "stdout",
     "output_type": "stream",
     "text": [
      "Epoch 142 / 200, Loss: 0.6991, Validation loss: 0.6856, 0.5462616822429907 / 0.4889167712254287 / 0.5160008828073273\n",
      "Fold: Откат к предыдущему val_loss: 0.6855522215366363 -> 0.6615444660186768.\n"
     ]
    },
    {
     "name": "stderr",
     "output_type": "stream",
     "text": [
      "100%|██████████| 19/19 [00:02<00:00,  6.83it/s]\n"
     ]
    },
    {
     "name": "stdout",
     "output_type": "stream",
     "text": [
      "Epoch 143 / 200, Loss: 0.7183, Validation loss: 0.6758, 0.563441905687895 / 0.4847344207444584 / 0.5211330935251799\n"
     ]
    },
    {
     "name": "stderr",
     "output_type": "stream",
     "text": [
      "100%|██████████| 19/19 [00:03<00:00,  6.32it/s]\n"
     ]
    },
    {
     "name": "stdout",
     "output_type": "stream",
     "text": [
      "Epoch 144 / 200, Loss: 0.6252, Validation loss: 0.6848, 0.5447728275253639 / 0.5165202843998327 / 0.5302705023615285\n",
      "Fold: Откат к предыдущему val_loss: 0.6847832024097442 -> 0.6615444660186768.\n"
     ]
    },
    {
     "name": "stderr",
     "output_type": "stream",
     "text": [
      "100%|██████████| 16/16 [00:02<00:00,  6.53it/s]\n"
     ]
    },
    {
     "name": "stdout",
     "output_type": "stream",
     "text": [
      "Epoch 145 / 200, Loss: 0.7199, Validation loss: 0.6658, 0.5620253164556962 / 0.4642409033877039 / 0.5084745762711865\n"
     ]
    },
    {
     "name": "stderr",
     "output_type": "stream",
     "text": [
      "100%|██████████| 16/16 [00:02<00:00,  6.83it/s]\n"
     ]
    },
    {
     "name": "stdout",
     "output_type": "stream",
     "text": [
      "Epoch 146 / 200, Loss: 0.6940, Validation loss: 0.6830, 0.5549160671462829 / 0.48389795064826435 / 0.5169794459338695\n",
      "Fold: Откат к предыдущему val_loss: 0.6829703211784363 -> 0.6615444660186768.\n"
     ]
    },
    {
     "name": "stderr",
     "output_type": "stream",
     "text": [
      "100%|██████████| 18/18 [00:01<00:00, 10.23it/s]\n"
     ]
    },
    {
     "name": "stdout",
     "output_type": "stream",
     "text": [
      "Epoch 147 / 200, Loss: 0.7578, Validation loss: 0.6850, 0.5355364418288818 / 0.49477206189878714 / 0.5143478260869566\n"
     ]
    },
    {
     "name": "stderr",
     "output_type": "stream",
     "text": [
      "100%|██████████| 18/18 [00:01<00:00, 10.07it/s]\n"
     ]
    },
    {
     "name": "stdout",
     "output_type": "stream",
     "text": [
      "Epoch 148 / 200, Loss: 0.6858, Validation loss: 0.6891, 0.5202156334231806 / 0.48431618569636137 / 0.5016244314489928\n",
      "Fold: Откат к предыдущему val_loss: 0.689102154970169 -> 0.6615444660186768.\n"
     ]
    },
    {
     "name": "stderr",
     "output_type": "stream",
     "text": [
      "100%|██████████| 17/17 [00:01<00:00, 10.16it/s]\n"
     ]
    },
    {
     "name": "stdout",
     "output_type": "stream",
     "text": [
      "Epoch 149 / 200, Loss: 0.7659, Validation loss: 0.6694, 0.5684430512016719 / 0.45503973232956924 / 0.505458768873403\n"
     ]
    },
    {
     "name": "stderr",
     "output_type": "stream",
     "text": [
      "100%|██████████| 17/17 [00:01<00:00, 10.70it/s]\n"
     ]
    },
    {
     "name": "stdout",
     "output_type": "stream",
     "text": [
      "Epoch 150 / 200, Loss: 0.7321, Validation loss: 0.6752, 0.5515929624346172 / 0.4851526557925554 / 0.516243880729862\n",
      "Fold: Откат к предыдущему val_loss: 0.6752030789852143 -> 0.6615444660186768.\n"
     ]
    },
    {
     "name": "stderr",
     "output_type": "stream",
     "text": [
      "100%|██████████| 16/16 [00:02<00:00,  6.94it/s]\n"
     ]
    },
    {
     "name": "stdout",
     "output_type": "stream",
     "text": [
      "Epoch 151 / 200, Loss: 0.7557, Validation loss: 0.6732, 0.5653333333333334 / 0.44332915098285236 / 0.496952648851383\n"
     ]
    },
    {
     "name": "stderr",
     "output_type": "stream",
     "text": [
      "100%|██████████| 16/16 [00:02<00:00,  7.17it/s]\n"
     ]
    },
    {
     "name": "stdout",
     "output_type": "stream",
     "text": [
      "Epoch 152 / 200, Loss: 0.6830, Validation loss: 0.6863, 0.5488301119023398 / 0.45127561689669593 / 0.49529492770254757\n",
      "Fold: Откат к предыдущему val_loss: 0.6863084375858307 -> 0.6615444660186768.\n"
     ]
    },
    {
     "name": "stderr",
     "output_type": "stream",
     "text": [
      "100%|██████████| 15/15 [00:02<00:00,  7.03it/s]\n"
     ]
    },
    {
     "name": "stdout",
     "output_type": "stream",
     "text": [
      "Epoch 153 / 200, Loss: 0.6432, Validation loss: 0.6695, 0.5727911646586346 / 0.47720618987871183 / 0.5206479580196212\n"
     ]
    },
    {
     "name": "stderr",
     "output_type": "stream",
     "text": [
      "100%|██████████| 15/15 [00:02<00:00,  7.06it/s]\n"
     ]
    },
    {
     "name": "stdout",
     "output_type": "stream",
     "text": [
      "Epoch 154 / 200, Loss: 0.6565, Validation loss: 0.6733, 0.5724398301085417 / 0.507319113341698 / 0.5379157427937915\n",
      "Fold: Откат к предыдущему val_loss: 0.6733365952968597 -> 0.6615444660186768.\n"
     ]
    },
    {
     "name": "stderr",
     "output_type": "stream",
     "text": [
      "100%|██████████| 16/16 [00:02<00:00,  6.80it/s]\n"
     ]
    },
    {
     "name": "stdout",
     "output_type": "stream",
     "text": [
      "Epoch 155 / 200, Loss: 0.7962, Validation loss: 0.6758, 0.5645481628599801 / 0.4755332496863237 / 0.5162315550510783\n"
     ]
    },
    {
     "name": "stderr",
     "output_type": "stream",
     "text": [
      "100%|██████████| 16/16 [00:02<00:00,  7.02it/s]\n"
     ]
    },
    {
     "name": "stdout",
     "output_type": "stream",
     "text": [
      "Epoch 156 / 200, Loss: 0.7638, Validation loss: 0.6938, 0.5407442298634009 / 0.48013383521539105 / 0.5086397873283119\n",
      "Fold: Откат к предыдущему val_loss: 0.6937986433506012 -> 0.6615444660186768.\n"
     ]
    },
    {
     "name": "stderr",
     "output_type": "stream",
     "text": [
      "100%|██████████| 17/17 [00:02<00:00,  6.78it/s]\n"
     ]
    },
    {
     "name": "stdout",
     "output_type": "stream",
     "text": [
      "Epoch 157 / 200, Loss: 0.8036, Validation loss: 0.6872, 0.5328338475099162 / 0.5056461731493099 / 0.5188841201716738\n"
     ]
    },
    {
     "name": "stderr",
     "output_type": "stream",
     "text": [
      "100%|██████████| 17/17 [00:02<00:00,  7.02it/s]\n"
     ]
    },
    {
     "name": "stdout",
     "output_type": "stream",
     "text": [
      "Epoch 158 / 200, Loss: 0.7378, Validation loss: 0.6904, 0.5149957155098543 / 0.5027185278126307 / 0.5087830687830688\n",
      "Fold: Откат к предыдущему val_loss: 0.6904128551483154 -> 0.6615444660186768.\n"
     ]
    },
    {
     "name": "stderr",
     "output_type": "stream",
     "text": [
      "100%|██████████| 19/19 [00:01<00:00, 10.93it/s]\n"
     ]
    },
    {
     "name": "stdout",
     "output_type": "stream",
     "text": [
      "Epoch 159 / 200, Loss: 0.7272, Validation loss: 0.6950, 0.5251700680272109 / 0.48431618569636137 / 0.5039164490861618\n"
     ]
    },
    {
     "name": "stderr",
     "output_type": "stream",
     "text": [
      "100%|██████████| 19/19 [00:01<00:00, 10.39it/s]\n"
     ]
    },
    {
     "name": "stdout",
     "output_type": "stream",
     "text": [
      "Epoch 160 / 200, Loss: 0.6396, Validation loss: 0.6872, 0.5417661097852029 / 0.4746967795901297 / 0.5060187249219795\n",
      "Fold: Откат к предыдущему val_loss: 0.6872469425201416 -> 0.6615444660186768.\n"
     ]
    },
    {
     "name": "stderr",
     "output_type": "stream",
     "text": [
      "100%|██████████| 16/16 [00:01<00:00, 10.13it/s]\n"
     ]
    },
    {
     "name": "stdout",
     "output_type": "stream",
     "text": [
      "Epoch 161 / 200, Loss: 0.7978, Validation loss: 0.6635, 0.5712841253791708 / 0.4726056043496445 / 0.5172808422980087\n"
     ]
    },
    {
     "name": "stderr",
     "output_type": "stream",
     "text": [
      "100%|██████████| 16/16 [00:01<00:00, 10.43it/s]\n"
     ]
    },
    {
     "name": "stdout",
     "output_type": "stream",
     "text": [
      "Epoch 162 / 200, Loss: 0.7500, Validation loss: 0.6732, 0.5505406676069582 / 0.48975324132162273 / 0.5183709606020362\n",
      "Fold: Откат к предыдущему val_loss: 0.673231166601181 -> 0.6615444660186768.\n"
     ]
    },
    {
     "name": "stderr",
     "output_type": "stream",
     "text": [
      "100%|██████████| 17/17 [00:01<00:00, 10.90it/s]\n"
     ]
    },
    {
     "name": "stdout",
     "output_type": "stream",
     "text": [
      "Epoch 163 / 200, Loss: 0.8386, Validation loss: 0.6801, 0.5307386112339673 / 0.5018820577164367 / 0.5159071367153911\n"
     ]
    },
    {
     "name": "stderr",
     "output_type": "stream",
     "text": [
      "100%|██████████| 17/17 [00:01<00:00, 10.91it/s]\n"
     ]
    },
    {
     "name": "stdout",
     "output_type": "stream",
     "text": [
      "Epoch 164 / 200, Loss: 0.7694, Validation loss: 0.6726, 0.5310810810810811 / 0.493099121706399 / 0.5113858165256995\n",
      "Fold: Откат к предыдущему val_loss: 0.6725503146648407 -> 0.6615444660186768.\n"
     ]
    },
    {
     "name": "stderr",
     "output_type": "stream",
     "text": [
      "100%|██████████| 17/17 [00:01<00:00, 10.68it/s]\n"
     ]
    },
    {
     "name": "stdout",
     "output_type": "stream",
     "text": [
      "Epoch 165 / 200, Loss: 0.8155, Validation loss: 0.6679, 0.5509150633505396 / 0.49100794646591384 / 0.5192392746572312\n"
     ]
    },
    {
     "name": "stderr",
     "output_type": "stream",
     "text": [
      "100%|██████████| 17/17 [00:01<00:00, 10.45it/s]\n"
     ]
    },
    {
     "name": "stdout",
     "output_type": "stream",
     "text": [
      "Epoch 166 / 200, Loss: 0.7428, Validation loss: 0.6914, 0.5185840707964602 / 0.4901714763697198 / 0.5039776392173726\n",
      "Fold: Откат к предыдущему val_loss: 0.6914088368415833 -> 0.6615444660186768.\n"
     ]
    },
    {
     "name": "stderr",
     "output_type": "stream",
     "text": [
      "100%|██████████| 18/18 [00:01<00:00, 10.48it/s]\n"
     ]
    },
    {
     "name": "stdout",
     "output_type": "stream",
     "text": [
      "Epoch 167 / 200, Loss: 0.8672, Validation loss: 0.6714, 0.5740643120716922 / 0.45545796737766625 / 0.507929104477612\n"
     ]
    },
    {
     "name": "stderr",
     "output_type": "stream",
     "text": [
      "100%|██████████| 18/18 [00:01<00:00, 10.50it/s]\n"
     ]
    },
    {
     "name": "stdout",
     "output_type": "stream",
     "text": [
      "Epoch 168 / 200, Loss: 0.7863, Validation loss: 0.6816, 0.565359477124183 / 0.4341279799247177 / 0.49112845990063875\n",
      "Fold: Откат к предыдущему val_loss: 0.6816044867038726 -> 0.6615444660186768.\n"
     ]
    },
    {
     "name": "stderr",
     "output_type": "stream",
     "text": [
      "100%|██████████| 15/15 [00:01<00:00, 10.62it/s]\n"
     ]
    },
    {
     "name": "stdout",
     "output_type": "stream",
     "text": [
      "Epoch 169 / 200, Loss: 0.8561, Validation loss: 0.6653, 0.5619289340101523 / 0.4629861982434128 / 0.5076817243751434\n"
     ]
    },
    {
     "name": "stderr",
     "output_type": "stream",
     "text": [
      "100%|██████████| 15/15 [00:01<00:00,  9.55it/s]\n"
     ]
    },
    {
     "name": "stdout",
     "output_type": "stream",
     "text": [
      "Epoch 170 / 200, Loss: 0.8054, Validation loss: 0.6725, 0.5527467185221195 / 0.4755332496863237 / 0.5112410071942446\n",
      "Fold: Откат к предыдущему val_loss: 0.6725362837314606 -> 0.6615444660186768.\n"
     ]
    },
    {
     "name": "stderr",
     "output_type": "stream",
     "text": [
      "100%|██████████| 16/16 [00:02<00:00,  6.88it/s]\n"
     ]
    },
    {
     "name": "stdout",
     "output_type": "stream",
     "text": [
      "Epoch 171 / 200, Loss: 0.8354, Validation loss: 0.6750, 0.5519387266634753 / 0.4822250104558762 / 0.5147321428571429\n"
     ]
    },
    {
     "name": "stderr",
     "output_type": "stream",
     "text": [
      "100%|██████████| 16/16 [00:01<00:00, 10.35it/s]\n"
     ]
    },
    {
     "name": "stdout",
     "output_type": "stream",
     "text": [
      "Epoch 172 / 200, Loss: 0.7956, Validation loss: 0.7033, 0.5187307183781401 / 0.49226265161020494 / 0.5051502145922746\n",
      "Fold: Откат к предыдущему val_loss: 0.7032671630382538 -> 0.6615444660186768.\n"
     ]
    },
    {
     "name": "stderr",
     "output_type": "stream",
     "text": [
      "100%|██████████| 18/18 [00:01<00:00, 10.50it/s]\n"
     ]
    },
    {
     "name": "stdout",
     "output_type": "stream",
     "text": [
      "Epoch 173 / 200, Loss: 0.7430, Validation loss: 0.6712, 0.5665322580645161 / 0.47009619406106234 / 0.5138285714285715\n"
     ]
    },
    {
     "name": "stderr",
     "output_type": "stream",
     "text": [
      "100%|██████████| 18/18 [00:01<00:00, 10.11it/s]\n"
     ]
    },
    {
     "name": "stdout",
     "output_type": "stream",
     "text": [
      "Epoch 174 / 200, Loss: 0.8213, Validation loss: 0.6778, 0.5795393679700054 / 0.45253032204098703 / 0.5082198215124472\n",
      "Fold: Откат к предыдущему val_loss: 0.677781081199646 -> 0.6615444660186768.\n"
     ]
    },
    {
     "name": "stderr",
     "output_type": "stream",
     "text": [
      "100%|██████████| 15/15 [00:01<00:00, 10.14it/s]\n"
     ]
    },
    {
     "name": "stdout",
     "output_type": "stream",
     "text": [
      "Epoch 175 / 200, Loss: 0.9216, Validation loss: 0.6724, 0.5461940732132481 / 0.3931409452112087 / 0.4571984435797665\n"
     ]
    },
    {
     "name": "stderr",
     "output_type": "stream",
     "text": [
      "100%|██████████| 15/15 [00:01<00:00, 10.39it/s]\n"
     ]
    },
    {
     "name": "stdout",
     "output_type": "stream",
     "text": [
      "Epoch 176 / 200, Loss: 0.8402, Validation loss: 0.6882, 0.5260663507109005 / 0.4178168130489335 / 0.46573426573426574\n",
      "Fold: Откат к предыдущему val_loss: 0.6882141411304474 -> 0.6615444660186768.\n"
     ]
    },
    {
     "name": "stderr",
     "output_type": "stream",
     "text": [
      "100%|██████████| 20/20 [00:01<00:00, 10.29it/s]\n"
     ]
    },
    {
     "name": "stdout",
     "output_type": "stream",
     "text": [
      "Epoch 177 / 200, Loss: 0.8201, Validation loss: 0.6790, 0.5568752855185016 / 0.5098285236302802 / 0.5323144104803494\n"
     ]
    },
    {
     "name": "stderr",
     "output_type": "stream",
     "text": [
      "100%|██████████| 20/20 [00:01<00:00, 10.27it/s]\n"
     ]
    },
    {
     "name": "stdout",
     "output_type": "stream",
     "text": [
      "Epoch 178 / 200, Loss: 0.7561, Validation loss: 0.6960, 0.5478651685393259 / 0.5098285236302802 / 0.5281629116117852\n",
      "Fold: Откат к предыдущему val_loss: 0.6959884643554688 -> 0.6615444660186768.\n"
     ]
    },
    {
     "name": "stderr",
     "output_type": "stream",
     "text": [
      "100%|██████████| 26/26 [00:02<00:00, 10.29it/s]\n"
     ]
    },
    {
     "name": "stdout",
     "output_type": "stream",
     "text": [
      "Epoch 179 / 200, Loss: 0.7821, Validation loss: 0.6718, 0.556663644605621 / 0.5135926390631534 / 0.5342614748749185\n"
     ]
    },
    {
     "name": "stderr",
     "output_type": "stream",
     "text": [
      "100%|██████████| 26/26 [00:02<00:00, 10.80it/s]\n"
     ]
    },
    {
     "name": "stdout",
     "output_type": "stream",
     "text": [
      "Epoch 180 / 200, Loss: 0.7314, Validation loss: 0.6755, 0.5889698231009365 / 0.4734420744458386 / 0.5249246464178066\n",
      "Fold: Откат к предыдущему val_loss: 0.6755358695983886 -> 0.6615444660186768.\n"
     ]
    },
    {
     "name": "stderr",
     "output_type": "stream",
     "text": [
      "100%|██████████| 24/24 [00:02<00:00, 10.30it/s]\n"
     ]
    },
    {
     "name": "stdout",
     "output_type": "stream",
     "text": [
      "Epoch 181 / 200, Loss: 0.7308, Validation loss: 0.6676, 0.56580259222333 / 0.4746967795901297 / 0.5162610871048443\n"
     ]
    },
    {
     "name": "stderr",
     "output_type": "stream",
     "text": [
      "100%|██████████| 24/24 [00:02<00:00, 10.34it/s]\n"
     ]
    },
    {
     "name": "stdout",
     "output_type": "stream",
     "text": [
      "Epoch 182 / 200, Loss: 0.6679, Validation loss: 0.6758, 0.567076167076167 / 0.48264324550397325 / 0.5214640759150474\n",
      "Fold: Откат к предыдущему val_loss: 0.6757715761661529 -> 0.6615444660186768.\n"
     ]
    },
    {
     "name": "stderr",
     "output_type": "stream",
     "text": [
      "100%|██████████| 28/28 [00:02<00:00, 10.32it/s]\n"
     ]
    },
    {
     "name": "stdout",
     "output_type": "stream",
     "text": [
      "Epoch 183 / 200, Loss: 0.6941, Validation loss: 0.6655, 0.5822179732313576 / 0.5094102885821832 / 0.5433861253624805\n"
     ]
    },
    {
     "name": "stderr",
     "output_type": "stream",
     "text": [
      "100%|██████████| 28/28 [00:02<00:00, 10.38it/s]\n"
     ]
    },
    {
     "name": "stdout",
     "output_type": "stream",
     "text": [
      "Epoch 184 / 200, Loss: 0.7064, Validation loss: 0.6620, 0.6095444685466378 / 0.47009619406106234 / 0.530814639905549\n",
      "Fold: Откат к предыдущему val_loss: 0.6619542241096497 -> 0.6615444660186768.\n"
     ]
    },
    {
     "name": "stderr",
     "output_type": "stream",
     "text": [
      "100%|██████████| 25/25 [00:02<00:00, 10.12it/s]\n"
     ]
    },
    {
     "name": "stdout",
     "output_type": "stream",
     "text": [
      "Epoch 185 / 200, Loss: 0.8137, Validation loss: 0.6692, 0.5735434574976123 / 0.5023002927645337 / 0.5355629877369007\n"
     ]
    },
    {
     "name": "stderr",
     "output_type": "stream",
     "text": [
      "100%|██████████| 25/25 [00:02<00:00, 10.49it/s]\n"
     ]
    },
    {
     "name": "stdout",
     "output_type": "stream",
     "text": [
      "Epoch 186 / 200, Loss: 0.9764, Validation loss: 0.6903, 0.53258523953388 / 0.5161020493517356 / 0.5242141036533561\n",
      "Fold: Откат к предыдущему val_loss: 0.6903265058994293 -> 0.6615444660186768.\n"
     ]
    },
    {
     "name": "stderr",
     "output_type": "stream",
     "text": [
      "100%|██████████| 27/27 [00:02<00:00, 10.40it/s]\n"
     ]
    },
    {
     "name": "stdout",
     "output_type": "stream",
     "text": [
      "Epoch 187 / 200, Loss: 0.8371, Validation loss: 0.6809, 0.558116723884257 / 0.4759514847344207 / 0.5137697516930022\n"
     ]
    },
    {
     "name": "stderr",
     "output_type": "stream",
     "text": [
      "100%|██████████| 27/27 [00:02<00:00, 10.43it/s]\n"
     ]
    },
    {
     "name": "stdout",
     "output_type": "stream",
     "text": [
      "Epoch 188 / 200, Loss: 0.7130, Validation loss: 0.6732, 0.5880416895227647 / 0.4483479715600167 / 0.5087802562885619\n",
      "Fold: Откат к предыдущему val_loss: 0.6731788575649261 -> 0.6615444660186768.\n"
     ]
    },
    {
     "name": "stderr",
     "output_type": "stream",
     "text": [
      "100%|██████████| 28/28 [00:02<00:00, 10.81it/s]\n"
     ]
    },
    {
     "name": "stdout",
     "output_type": "stream",
     "text": [
      "Epoch 189 / 200, Loss: 0.9065, Validation loss: 0.6670, 0.5779114270092947 / 0.44207444583856126 / 0.5009478672985782\n"
     ]
    },
    {
     "name": "stderr",
     "output_type": "stream",
     "text": [
      "100%|██████████| 28/28 [00:02<00:00, 10.23it/s]\n"
     ]
    },
    {
     "name": "stdout",
     "output_type": "stream",
     "text": [
      "Epoch 190 / 200, Loss: 0.7768, Validation loss: 0.6688, 0.5774647887323944 / 0.4629861982434128 / 0.5139275766016713\n",
      "Fold: Откат к предыдущему val_loss: 0.6688345193862915 -> 0.6615444660186768.\n"
     ]
    },
    {
     "name": "stderr",
     "output_type": "stream",
     "text": [
      "100%|██████████| 30/30 [00:02<00:00, 10.11it/s]\n"
     ]
    },
    {
     "name": "stdout",
     "output_type": "stream",
     "text": [
      "Epoch 191 / 200, Loss: 0.7954, Validation loss: 0.6832, 0.5452847805788982 / 0.4884985361773317 / 0.5153320097065961\n"
     ]
    },
    {
     "name": "stderr",
     "output_type": "stream",
     "text": [
      "100%|██████████| 30/30 [00:02<00:00, 10.38it/s]\n"
     ]
    },
    {
     "name": "stdout",
     "output_type": "stream",
     "text": [
      "Epoch 192 / 200, Loss: 0.7304, Validation loss: 0.6872, 0.5543071161048689 / 0.49519029694688416 / 0.5230837199028054\n",
      "Fold: Откат к предыдущему val_loss: 0.6871545851230622 -> 0.6615444660186768.\n"
     ]
    },
    {
     "name": "stderr",
     "output_type": "stream",
     "text": [
      "100%|██████████| 27/27 [00:02<00:00, 10.47it/s]\n"
     ]
    },
    {
     "name": "stdout",
     "output_type": "stream",
     "text": [
      "Epoch 193 / 200, Loss: 0.8977, Validation loss: 0.6774, 0.5516082573211714 / 0.48055207026348806 / 0.5136343316942333\n"
     ]
    },
    {
     "name": "stderr",
     "output_type": "stream",
     "text": [
      "100%|██████████| 27/27 [00:02<00:00, 10.16it/s]\n"
     ]
    },
    {
     "name": "stdout",
     "output_type": "stream",
     "text": [
      "Epoch 194 / 200, Loss: 0.7827, Validation loss: 0.6891, 0.556409025444071 / 0.4847344207444584 / 0.5181046043808671\n",
      "Fold: Откат к предыдущему val_loss: 0.6891247749328613 -> 0.6615444660186768.\n"
     ]
    },
    {
     "name": "stderr",
     "output_type": "stream",
     "text": [
      "100%|██████████| 24/24 [00:02<00:00, 10.39it/s]\n"
     ]
    },
    {
     "name": "stdout",
     "output_type": "stream",
     "text": [
      "Epoch 195 / 200, Loss: 0.7874, Validation loss: 0.6838, 0.5540909090909091 / 0.5098285236302802 / 0.5310389893269439\n"
     ]
    },
    {
     "name": "stderr",
     "output_type": "stream",
     "text": [
      "100%|██████████| 24/24 [00:02<00:00, 10.20it/s]\n"
     ]
    },
    {
     "name": "stdout",
     "output_type": "stream",
     "text": [
      "Epoch 196 / 200, Loss: 0.6908, Validation loss: 0.6924, 0.5564853556485355 / 0.5006273525721455 / 0.5270805812417437\n",
      "Fold: Откат к предыдущему val_loss: 0.6923762083053588 -> 0.6615444660186768.\n"
     ]
    },
    {
     "name": "stderr",
     "output_type": "stream",
     "text": [
      "100%|██████████| 27/27 [00:02<00:00,  9.91it/s]\n"
     ]
    },
    {
     "name": "stdout",
     "output_type": "stream",
     "text": [
      "Epoch 197 / 200, Loss: 0.8147, Validation loss: 0.6655, 0.5529891304347826 / 0.5106649937264742 / 0.5309849967384213\n"
     ]
    },
    {
     "name": "stderr",
     "output_type": "stream",
     "text": [
      "100%|██████████| 27/27 [00:02<00:00, 10.10it/s]\n"
     ]
    },
    {
     "name": "stdout",
     "output_type": "stream",
     "text": [
      "Epoch 198 / 200, Loss: 0.7820, Validation loss: 0.6728, 0.5329004329004329 / 0.5148473442074446 / 0.5237183577962136\n",
      "Fold: Откат к предыдущему val_loss: 0.6727506995201111 -> 0.6615444660186768.\n"
     ]
    },
    {
     "name": "stderr",
     "output_type": "stream",
     "text": [
      "100%|██████████| 20/20 [00:01<00:00, 10.53it/s]\n"
     ]
    },
    {
     "name": "stdout",
     "output_type": "stream",
     "text": [
      "Epoch 199 / 200, Loss: 0.9276, Validation loss: 0.6768, 0.5374181478016838 / 0.48055207026348806 / 0.5073967763303157\n"
     ]
    },
    {
     "name": "stderr",
     "output_type": "stream",
     "text": [
      "100%|██████████| 20/20 [00:02<00:00,  9.80it/s]\n"
     ]
    },
    {
     "name": "stdout",
     "output_type": "stream",
     "text": [
      "Epoch 200 / 200, Loss: 0.8396, Validation loss: 0.6927, 0.5177966101694915 / 0.5110832287745714 / 0.5144180172595243\n",
      "Fold: Откат к предыдущему val_loss: 0.6927362740039825 -> 0.6615444660186768.\n",
      " Run: Откат к предыдущему val_loss: 0.6927362740039825 -> 0.6615444660186768.\n"
     ]
    }
   ],
   "source": [
    "\n",
    "for SuperEpoch in range (0, 2):\n",
    "\n",
    "    #inc_term_set = set ([''])\n",
    "    avg_val_loss, prec, recl, f1sc = 0, 0, 0, 0\n",
    "    for iteration, (train_index, test_index) in enumerate (kf.split (data)):\n",
    "        X_curr = data [test_index]\n",
    "        y_curr = labels [test_index]\n",
    "\n",
    "        train_data_lst = X_curr.tolist ()\n",
    "        train_labels_lst = y_curr.tolist ()\n",
    "        parallel_text, parallel_labels = create_parallels (train_data_lst, train_labels_lst)\n",
    "\n",
    "        parallel_text_new = parallel_text#attach_dictionary_foundings (parallel_text, inc_term_set)\n",
    "\n",
    "        train_data = tokenizer (parallel_text_new, padding = 'max_length', truncation = True, max_length = SEQ_MAX_LENGTH, return_tensors = 'pt')\n",
    "        train_labels = tokenizer (parallel_labels, padding = 'max_length', truncation = True, max_length = ANSWER_MAX_LENGTH, return_tensors = 'pt')\n",
    "        \n",
    "        if ENABLE_LABEL_FIX:\n",
    "            replaced = replace_padding (train_labels)\n",
    "            train_labels = replaced\n",
    "\n",
    "        train_dataset = Seq2SeqDataset (train_data, train_labels)\n",
    "        train_loader = DataLoader (train_dataset, batch_size = BATCH_SIZE, shuffle = True)\n",
    "\n",
    "        for epoch in range (LOCAL_NUM_EPOCHS):\n",
    "            model.train ()  # Устанавливаем модель в режим обучения\n",
    "            total_loss = 0\n",
    "            \n",
    "            for batch in tqdm (train_loader):\n",
    "                \n",
    "                input_ids = batch ['input_ids'].to (model.device)\n",
    "                attention_mask = batch ['attention_mask'].to (model.device)\n",
    "                labels_fromdata = batch ['labels'].to (model.device)\n",
    "\n",
    "                #outputs = model (input_ids = input_ids, attention_mask = attention_mask, labels = labels_fromdata)\n",
    "                outputs = model (input_ids = input_ids, attention_mask = attention_mask, labels = labels_fromdata)\n",
    "                loss = outputs.loss   ## DOUBLE CHECK if padding ...\n",
    "                total_loss += loss.item ()\n",
    "\n",
    "                loss.backward ()  # Обратное распространение\n",
    "                optimizer.step ()  # Обновление параметров\n",
    "                optimizer.zero_grad ()  # Обнуляем градиенты\n",
    "\n",
    "                #scheduler.step ()  # Обновление learning rate\n",
    "                torch.cuda.empty_cache ()\n",
    "            \n",
    "\n",
    "            avg_loss = total_loss / len (train_loader)\n",
    "\n",
    "            metrics ['train_loss'].append ((epoch + iteration * LOCAL_NUM_EPOCHS + num_passed_epochs, avg_loss))\n",
    "            #print (f'Epoch {(epoch + 1) + iteration * LOCAL_NUM_EPOCHS + num_passed_epochs} / {NUM_OF_SPLITS * LOCAL_NUM_EPOCHS + num_passed_epochs}, Loss: {avg_loss:.4f}')\n",
    "\n",
    "        #for line in parallel_labels:\n",
    "        #    inc_term_set |= set (line.split (SEP_TOKEN))\n",
    "        #inc_term_set -= set ([''])\n",
    "        #inc_term_set -= set ([LABEL_PREFIX_TOKEN])\n",
    "        #print (f'Уникальных терминов в {iteration + 1}-м тренировочном наборе: {len (inc_term_set)}.')\n",
    "\n",
    "            model.eval ()\n",
    "            val_preds, val_labels = [], []\n",
    "            total_val_loss = 0\n",
    "\n",
    "            with torch.no_grad ():\n",
    "                for batch in val_loader:\n",
    "                    input_ids = batch ['input_ids'].to (model.device)\n",
    "                    attention_mask = batch ['attention_mask'].to (model.device)\n",
    "                    labels_fromdata = batch ['labels'].to (model.device)\n",
    "\n",
    "                    outputs = model.generate (input_ids = input_ids, attention_mask = attention_mask, max_length = SEQ_MAX_LENGTH)\n",
    "\n",
    "                    total_val_loss += model (input_ids = input_ids, attention_mask = attention_mask, labels = labels_fromdata).loss.item ()\n",
    "\n",
    "                    val_preds.extend (outputs)\n",
    "                    val_labels.extend (labels_fromdata)\n",
    "                    torch.cuda.empty_cache ()\n",
    "\n",
    "            avg_val_loss = total_val_loss / len (val_loader)\n",
    "\n",
    "            prec, recl, f1sc = sanity_check (val_preds, val_labels)\n",
    "\n",
    "            metrics ['val_loss'].append ((epoch + iteration * LOCAL_NUM_EPOCHS + num_passed_epochs, avg_val_loss))\n",
    "            metrics ['precision'].append ((epoch + iteration * LOCAL_NUM_EPOCHS + num_passed_epochs, prec))\n",
    "            metrics ['recall'].append ((epoch + iteration * LOCAL_NUM_EPOCHS + num_passed_epochs, recl))\n",
    "            metrics ['f1_score'].append ((epoch + iteration * LOCAL_NUM_EPOCHS + num_passed_epochs, f1sc))\n",
    "\n",
    "            print (f'Epoch {(epoch + 1) + iteration * LOCAL_NUM_EPOCHS + num_passed_epochs} / {NUM_OF_SPLITS * LOCAL_NUM_EPOCHS + num_passed_epochs}, Loss: {avg_loss:.4f}, Validation loss: {avg_val_loss:.4f}, {prec} / {recl} / {f1sc}')\n",
    "            \n",
    "            torch.cuda.empty_cache ()\n",
    "                \n",
    "            if (view_at_loss and prev_metric > avg_val_loss) or (not view_at_loss and prev_metric < f1sc):\n",
    "                prev_model = deepcopy (model.state_dict ())\n",
    "                prev_optimizer = deepcopy (optimizer.state_dict ())\n",
    "                prev_metric = avg_val_loss if view_at_loss else f1sc\n",
    "\n",
    "        if (view_at_loss and prev_metric < avg_val_loss) or (not view_at_loss and prev_metric > f1sc):\n",
    "            model.load_state_dict (prev_model)\n",
    "            optimizer.load_state_dict (prev_optimizer)\n",
    "            print (f'Fold: Откат к предыдущему {\"val_loss\" if view_at_loss else \"f1_score\"}: {avg_val_loss if view_at_loss else f1sc} -> {prev_metric}.')\n",
    "\n",
    "    if (view_at_loss and prev_metric < avg_val_loss) or (not view_at_loss and prev_metric > f1sc):\n",
    "        model.load_state_dict (prev_model)\n",
    "        optimizer.load_state_dict (prev_optimizer)\n",
    "        print (f' Run: Откат к предыдущему {\"val_loss\" if view_at_loss else \"f1_score\"}: {avg_val_loss if view_at_loss else f1sc} -> {prev_metric}.')\n",
    "\n",
    "    num_passed_epochs += NUM_OF_SPLITS * LOCAL_NUM_EPOCHS\n",
    "    \n",
    "\n"
   ]
  },
  {
   "cell_type": "code",
   "execution_count": 13,
   "id": "399f2a23",
   "metadata": {},
   "outputs": [
    {
     "name": "stdout",
     "output_type": "stream",
     "text": [
      "{'train_loss': [(0, 3.5945600327991305), (1, 2.723299196788243), (2, 2.482833398713006), (3, 2.1165867425777294), (4, 2.0275889418341895), (5, 1.8451806469397112), (6, 1.5700325599083533), (7, 1.443031709927779), (8, 1.5271708592772484), (9, 1.2562154581149418), (10, 1.3472856521606444), (11, 1.249410755634308), (12, 1.200505204822706), (13, 1.1802263700443765), (14, 1.1286682420306735), (15, 1.025231385672534), (16, 1.2042480754852294), (17, 1.171170105934143), (18, 1.1468388795852662), (19, 1.1026780049006144), (20, 1.1396146072791173), (21, 1.062284726362962), (22, 1.0474621663170476), (23, 0.9402528655144476), (24, 0.8528555631637573), (25, 0.7935800164937973), (26, 0.9863213664955564), (27, 0.9181908584303327), (28, 0.9266952276229858), (29, 0.9614874580327202), (30, 0.9140489666085494), (31, 0.8683068093500639), (32, 0.9328073802448454), (33, 0.9429034193356832), (34, 0.7428458531697592), (35, 0.7528148137387776), (36, 0.9465260014814489), (37, 0.8975166993982652), (38, 0.9120444556077322), (39, 0.8074447562297186), (40, 0.9316522590816021), (41, 0.87810343131423), (42, 0.8670398310611123), (43, 0.7839786896580144), (44, 0.8511957358568907), (45, 0.7555449325591326), (46, 0.9087232997020086), (47, 0.9115261534849802), (48, 0.839908967999851), (49, 0.7481485815609202), (50, 0.937701154500246), (51, 0.8270187564194202), (52, 0.8499847213427226), (53, 0.7533837715784709), (54, 0.8198691606521606), (55, 0.7784886509180069), (56, 0.861285562024397), (57, 0.8054967768052045), (58, 1.0428755659806102), (59, 0.856205773980994), (60, 0.9686497524380684), (61, 0.858660139143467), (62, 0.8398347987848169), (63, 0.7744408986147713), (64, 0.9625707899822908), (65, 0.8571683010634255), (66, 0.9340782496664259), (67, 0.8796273354027007), (68, 0.9049612720807393), (69, 0.8772704641024271), (70, 0.9202017821371555), (71, 0.8674075491726398), (72, 0.862426585621304), (73, 0.8748755719926622), (74, 0.9605872432390848), (75, 0.9056349198023478), (76, 0.8944825410842896), (77, 0.8425022661685944), (78, 0.8497620591750512), (79, 0.7965168081797086), (80, 0.8597436025738716), (81, 0.852629654109478), (82, 0.7936003197516713), (83, 0.8165195233055523), (84, 0.9341480255126953), (85, 0.8281675827503204), (86, 0.8410702789271319), (87, 0.8575708314224526), (88, 0.8127957699554307), (89, 0.7483879391636167), (90, 0.8562609275182088), (91, 0.7643533060948055), (92, 0.8715278837415907), (93, 0.78173467958415), (94, 0.8369290853540102), (95, 0.7738742132981619), (96, 0.8445223040050931), (97, 0.7688281878277108), (98, 0.9492837429046631), (99, 0.8909027338027954), (100, 0.8176022370656332), (101, 0.7528399853479295), (102, 0.7502975143768169), (103, 0.672488910180551), (104, 0.8259048922495409), (105, 0.782976275140589), (106, 0.7549921388809497), (107, 0.6778883062876188), (108, 0.7471249202887217), (109, 0.6817813018957773), (110, 0.7726764488220215), (111, 0.689592559337616), (112, 0.7368740478287572), (113, 0.6980692912702975), (114, 0.7858289965876827), (115, 0.7002573399632065), (116, 0.8250270032882691), (117, 0.7857044649124145), (118, 0.8077912668387095), (119, 0.7549459278583527), (120, 0.8440916836261749), (121, 0.7398621187760279), (122, 0.7418207901139413), (123, 0.8092631668813767), (124, 0.7277402818202973), (125, 0.7182135418057441), (126, 0.7672939399878184), (127, 0.7135657403204176), (128, 0.7559519497787252), (129, 0.7059586766888114), (130, 0.7390665804084978), (131, 0.7295576051661843), (132, 0.7383561560085842), (133, 0.7145832493191674), (134, 0.6701669763951075), (135, 0.6526485482851664), (136, 0.7104309832348543), (137, 0.6935584159458384), (138, 0.6679432441790899), (139, 0.6681756609015994), (140, 0.7652715444564819), (141, 0.6991220600903034), (142, 0.7182805742088118), (143, 0.6252241840488032), (144, 0.7198569597676396), (145, 0.6939611602574587), (146, 0.7577890588177575), (147, 0.6858436167240143), (148, 0.765933657393736), (149, 0.7321045328589046), (150, 0.7557257413864136), (151, 0.6830465644598007), (152, 0.6431526064872741), (153, 0.6565139313538869), (154, 0.7961689196527004), (155, 0.7638349756598473), (156, 0.8036420082344728), (157, 0.7378319905084723), (158, 0.7272170531122308), (159, 0.6395999099078932), (160, 0.7977783512324095), (161, 0.7500134389847517), (162, 0.8386351203217226), (163, 0.7693993729703567), (164, 0.8155159774948569), (165, 0.7428373413927415), (166, 0.867153901192877), (167, 0.7862583067682054), (168, 0.8561207969983419), (169, 0.8054478327433269), (170, 0.8354098163545132), (171, 0.795612683519721), (172, 0.742994647887018), (173, 0.8212522864341736), (174, 0.9215790867805481), (175, 0.8402417083581288), (176, 0.82005575299263), (177, 0.7560886561870575), (178, 0.782148635158172), (179, 0.7313563181803777), (180, 0.7307520483930906), (181, 0.667938556522131), (182, 0.6940692429031644), (183, 0.706377387046814), (184, 0.813728495836258), (185, 0.9763604211807251), (186, 0.8371317011338694), (187, 0.7129584065190068), (188, 0.90654584978308), (189, 0.7767558481012072), (190, 0.7953534414370854), (191, 0.7304410775502522), (192, 0.8977331960642779), (193, 0.7826748490333557), (194, 0.7873953816791376), (195, 0.6907846331596375), (196, 0.8147216108110216), (197, 0.7819539341661665), (198, 0.9276222169399262), (199, 0.839646703004837)], 'val_loss': [(0, 2.9137091398239137), (1, 2.3828869342803953), (2, 2.0455448269844054), (3, 1.837742519378662), (4, 1.7496448636054993), (5, 1.6574309110641479), (6, 1.5341769814491273), (7, 1.38899405002594), (8, 1.330237126350403), (9, 1.2254852771759033), (10, 1.1481582760810851), (11, 1.0749230861663819), (12, 1.0457684099674225), (13, 1.0197611272335052), (14, 0.9997927844524384), (15, 0.9828132033348084), (16, 0.972834837436676), (17, 0.9562468647956848), (18, 0.9491114616394043), (19, 0.9437131524085999), (20, 0.9127350509166717), (21, 0.9075516402721405), (22, 0.890177983045578), (23, 0.8872189342975616), (24, 0.9016287744045257), (25, 0.8911616742610932), (26, 0.890335202217102), (27, 0.8940719544887543), (28, 0.8765305161476136), (29, 0.8678076863288879), (30, 0.8562056124210358), (31, 0.8485562622547149), (32, 0.8339792191982269), (33, 0.829248970746994), (34, 0.8316112041473389), (35, 0.8305371105670929), (36, 0.8216917335987091), (37, 0.8251121342182159), (38, 0.8177709579467773), (39, 0.8023014008998871), (40, 0.8092554330825805), (41, 0.8141887068748475), (42, 0.8012086749076843), (43, 0.8103892624378204), (44, 0.8157509505748749), (45, 0.8062418222427368), (46, 0.8037202715873718), (47, 0.8151899158954621), (48, 0.8101176857948303), (49, 0.8253876626491546), (50, 0.8198730707168579), (51, 0.8295019149780274), (52, 0.8094354391098022), (53, 0.7995035946369171), (54, 0.8122152030467987), (55, 0.8362794041633606), (56, 0.8128745317459106), (57, 0.832005912065506), (58, 0.7703247547149659), (59, 0.7709646582603454), (60, 0.7728060722351074), (61, 0.768121886253357), (62, 0.7816605806350708), (63, 0.76917005777359), (64, 0.749386864900589), (65, 0.7565606951713562), (66, 0.7582991242408752), (67, 0.760865181684494), (68, 0.764079350233078), (69, 0.7783445835113525), (70, 0.7629895508289337), (71, 0.7686693370342255), (72, 0.7485404551029206), (73, 0.7638795793056488), (74, 0.7810675442218781), (75, 0.7768198728561402), (76, 0.7507569670677186), (77, 0.7644576609134675), (78, 0.7417141556739807), (79, 0.7417691230773926), (80, 0.7245000779628754), (81, 0.707799357175827), (82, 0.699930727481842), (83, 0.7205789387226105), (84, 0.7084563076496124), (85, 0.7074278831481934), (86, 0.7107878088951111), (87, 0.6976840019226074), (88, 0.7004970490932465), (89, 0.7301835119724274), (90, 0.6981693208217621), (91, 0.6996346890926362), (92, 0.7125294864177704), (93, 0.7113580644130707), (94, 0.7144932270050048), (95, 0.716748708486557), (96, 0.7129888534545898), (97, 0.7197128474712372), (98, 0.7207035303115845), (99, 0.7035546779632569), (100, 0.7106769144535064), (101, 0.7183233559131622), (102, 0.7009965896606445), (103, 0.7072755813598632), (104, 0.7028393745422363), (105, 0.6937889873981475), (106, 0.7074914038181305), (107, 0.7127871751785279), (108, 0.7141684830188751), (109, 0.7141381621360778), (110, 0.7001647293567658), (111, 0.7267200708389282), (112, 0.6920608818531037), (113, 0.6964427947998046), (114, 0.6935824811458587), (115, 0.6977117419242859), (116, 0.703558874130249), (117, 0.7127554953098297), (118, 0.6971666038036346), (119, 0.7049631834030151), (120, 0.7063816130161286), (121, 0.7021913826465607), (122, 0.703211885690689), (123, 0.69077849984169), (124, 0.7091929495334626), (125, 0.7278279066085815), (126, 0.6989342212677002), (127, 0.6954486310482025), (128, 0.6822079002857209), (129, 0.6958866596221924), (130, 0.6798810958862305), (131, 0.6734944522380829), (132, 0.6615444660186768), (133, 0.6649348258972168), (134, 0.6665705978870392), (135, 0.6689638495445251), (136, 0.671832662820816), (137, 0.6809949815273285), (138, 0.6768216013908386), (139, 0.6811193943023681), (140, 0.6670080423355103), (141, 0.6855522215366363), (142, 0.6757679045200348), (143, 0.6847832024097442), (144, 0.6657993853092193), (145, 0.6829703211784363), (146, 0.6850456535816193), (147, 0.689102154970169), (148, 0.6693811655044556), (149, 0.6752030789852143), (150, 0.6731826305389405), (151, 0.6863084375858307), (152, 0.6695335268974304), (153, 0.6733365952968597), (154, 0.6758349418640137), (155, 0.6937986433506012), (156, 0.6871650278568268), (157, 0.6904128551483154), (158, 0.6949946463108063), (159, 0.6872469425201416), (160, 0.6635406911373138), (161, 0.673231166601181), (162, 0.6800814628601074), (163, 0.6725503146648407), (164, 0.6679113507270813), (165, 0.6914088368415833), (166, 0.6714213192462921), (167, 0.6816044867038726), (168, 0.665282940864563), (169, 0.6725362837314606), (170, 0.6750057101249695), (171, 0.7032671630382538), (172, 0.6711921930313111), (173, 0.677781081199646), (174, 0.6723859667778015), (175, 0.6882141411304474), (176, 0.678991562128067), (177, 0.6959884643554688), (178, 0.6717756927013397), (179, 0.6755358695983886), (180, 0.6675620257854462), (181, 0.6757715761661529), (182, 0.6654648900032043), (183, 0.6619542241096497), (184, 0.6691981792449951), (185, 0.6903265058994293), (186, 0.6808524370193482), (187, 0.6731788575649261), (188, 0.6670446276664734), (189, 0.6688345193862915), (190, 0.6832166969776153), (191, 0.6871545851230622), (192, 0.677367752790451), (193, 0.6891247749328613), (194, 0.6837827444076539), (195, 0.6923762083053588), (196, 0.6655369758605957), (197, 0.6727506995201111), (198, 0.6767925083637237), (199, 0.6927362740039825)], 'precision': [(0, 0.0016806722689075631), (1, 0.0033112582781456954), (2, 0.07019438444924406), (3, 0.1506849315068493), (4, 0.17770034843205576), (5, 0.22814321398834306), (6, 0.2818116462976276), (7, 0.35058823529411764), (8, 0.322884012539185), (9, 0.3564493758668516), (10, 0.37668161434977576), (11, 0.4109014675052411), (12, 0.417312661498708), (13, 0.43190416141235816), (14, 0.44397759103641454), (15, 0.45448227936066715), (16, 0.4528301886792453), (17, 0.44501718213058417), (18, 0.46918604651162793), (19, 0.4569923932124049), (20, 0.4669718770438195), (21, 0.4651578320428827), (22, 0.4707865168539326), (23, 0.4734273318872017), (24, 0.4715665236051502), (25, 0.4830917874396135), (26, 0.4710017574692443), (27, 0.46114864864864863), (28, 0.4797525309336333), (29, 0.4856972586412396), (30, 0.4922341696535245), (31, 0.48559670781893005), (32, 0.504882251579552), (33, 0.49384098544232924), (34, 0.4802036199095023), (35, 0.49396267837541163), (36, 0.5022026431718062), (37, 0.5080779944289694), (38, 0.4849315068493151), (39, 0.5058896466212027), (40, 0.48507867607162236), (41, 0.4877384196185286), (42, 0.4936998854524628), (43, 0.4904735982580294), (44, 0.4844981607987388), (45, 0.4926590538336052), (46, 0.4861878453038674), (47, 0.4813233724653148), (48, 0.48925043579314353), (49, 0.48722316865417375), (50, 0.4827195467422096), (51, 0.48724179829890646), (52, 0.4920022062879206), (53, 0.514302393461763), (54, 0.4979057591623037), (55, 0.4754335260115607), (56, 0.4943298969072165), (57, 0.4735051045211473), (58, 0.5090379008746355), (59, 0.4911012235817575), (60, 0.49069003285870755), (61, 0.5010764262648009), (62, 0.4835), (63, 0.48443775100401604), (64, 0.511614730878187), (65, 0.5164319248826291), (66, 0.510545905707196), (67, 0.5043525571273123), (68, 0.4899257688229056), (69, 0.47935891209324916), (70, 0.4928076718167288), (71, 0.49511930585683295), (72, 0.5160599571734475), (73, 0.5039619651347068), (74, 0.4838709677419355), (75, 0.4812286689419795), (76, 0.5025906735751295), (77, 0.5011742602160639), (78, 0.5350877192982456), (79, 0.5357929515418502), (80, 0.5338305807139052), (81, 0.5424018212862834), (82, 0.5448933782267116), (83, 0.5251450676982592), (84, 0.5324144971924452), (85, 0.5434447300771208), (86, 0.5263718700053277), (87, 0.5539526832083093), (88, 0.5578651685393259), (89, 0.5534351145038168), (90, 0.530004800768123), (91, 0.5208140610545791), (92, 0.5281173594132029), (93, 0.5350025549310169), (94, 0.5292694726656991), (95, 0.5409252669039146), (96, 0.5289684408855393), (97, 0.5212620027434842), (98, 0.5188501413760603), (99, 0.5139826422372228), (100, 0.5050551470588235), (101, 0.4967860422405877), (102, 0.5301662707838479), (103, 0.5298165137614679), (104, 0.5480020757654385), (105, 0.5531686358754028), (106, 0.5369877594465141), (107, 0.5325013000520021), (108, 0.5273579989577906), (109, 0.5284510010537408), (110, 0.56243272335845), (111, 0.5359202936549554), (112, 0.5484515484515484), (113, 0.5351299326275265), (114, 0.5657894736842105), (115, 0.5546492659053833), (116, 0.517208413001912), (117, 0.5083025830258303), (118, 0.5462354724608388), (119, 0.5297619047619048), (120, 0.5382653061224489), (121, 0.564072557050907), (122, 0.5156826568265682), (123, 0.5255347010039284), (124, 0.5267245317496574), (125, 0.519222271321255), (126, 0.5247389922832502), (127, 0.5471389645776567), (128, 0.5495951417004049), (129, 0.5177111716621253), (130, 0.5426470588235294), (131, 0.5590749120160885), (132, 0.5809217577706324), (133, 0.5643614336193842), (134, 0.5865892291446674), (135, 0.5609293504030346), (136, 0.566147859922179), (137, 0.5635411708710139), (138, 0.5586343394359228), (139, 0.5385668644454586), (140, 0.5568238213399503), (141, 0.5462616822429907), (142, 0.563441905687895), (143, 0.5447728275253639), (144, 0.5620253164556962), (145, 0.5549160671462829), (146, 0.5355364418288818), (147, 0.5202156334231806), (148, 0.5684430512016719), (149, 0.5515929624346172), (150, 0.5653333333333334), (151, 0.5488301119023398), (152, 0.5727911646586346), (153, 0.5724398301085417), (154, 0.5645481628599801), (155, 0.5407442298634009), (156, 0.5328338475099162), (157, 0.5149957155098543), (158, 0.5251700680272109), (159, 0.5417661097852029), (160, 0.5712841253791708), (161, 0.5505406676069582), (162, 0.5307386112339673), (163, 0.5310810810810811), (164, 0.5509150633505396), (165, 0.5185840707964602), (166, 0.5740643120716922), (167, 0.565359477124183), (168, 0.5619289340101523), (169, 0.5527467185221195), (170, 0.5519387266634753), (171, 0.5187307183781401), (172, 0.5665322580645161), (173, 0.5795393679700054), (174, 0.5461940732132481), (175, 0.5260663507109005), (176, 0.5568752855185016), (177, 0.5478651685393259), (178, 0.556663644605621), (179, 0.5889698231009365), (180, 0.56580259222333), (181, 0.567076167076167), (182, 0.5822179732313576), (183, 0.6095444685466378), (184, 0.5735434574976123), (185, 0.53258523953388), (186, 0.558116723884257), (187, 0.5880416895227647), (188, 0.5779114270092947), (189, 0.5774647887323944), (190, 0.5452847805788982), (191, 0.5543071161048689), (192, 0.5516082573211714), (193, 0.556409025444071), (194, 0.5540909090909091), (195, 0.5564853556485355), (196, 0.5529891304347826), (197, 0.5329004329004329), (198, 0.5374181478016838), (199, 0.5177966101694915)], 'recall': [(0, 0.0004182350480970305), (1, 0.000836470096194061), (2, 0.027185278126306986), (3, 0.06900878293601004), (4, 0.08531994981179424), (5, 0.11459640317858637), (6, 0.16394813885403597), (7, 0.18695106649937265), (8, 0.1723128398159766), (9, 0.21497281472187368), (10, 0.2107904642409034), (11, 0.24592220828105396), (12, 0.2701798410706817), (13, 0.2864910079464659), (14, 0.26516102049351736), (15, 0.27352572145545795), (16, 0.3312421580928482), (17, 0.32496863237139273), (18, 0.33751568381430364), (19, 0.32664157256378085), (20, 0.2986198243412798), (21, 0.32664157256378085), (22, 0.3504809703053116), (23, 0.36511919698870765), (24, 0.36762860727728985), (25, 0.37641154328732745), (26, 0.33626097867001253), (27, 0.342534504391468), (28, 0.35675449602676707), (29, 0.34086156419907987), (30, 0.3446256796319532), (31, 0.3454621497281472), (32, 0.36762860727728985), (33, 0.36888331242158096), (34, 0.35508155583437895), (35, 0.37641154328732745), (36, 0.38143036386449186), (37, 0.38143036386449186), (38, 0.370138017565872), (39, 0.34127979924717694), (40, 0.3739021329987453), (41, 0.3743203680468423), (42, 0.3605186114596403), (43, 0.3768297783354245), (44, 0.3856127143454621), (45, 0.37892095357590966), (46, 0.36804684232538687), (47, 0.37724801338352154), (48, 0.35215391049769973), (49, 0.3588456712672522), (50, 0.35633626097867), (51, 0.3354245085738185), (52, 0.3730656629025512), (53, 0.3684650773734839), (54, 0.397741530740276), (55, 0.4127979924717691), (56, 0.4010874111250523), (57, 0.40736093684650776), (58, 0.36511919698870765), (59, 0.36930154746967797), (60, 0.37473860309493934), (61, 0.38937682977833543), (62, 0.40443329150982854), (63, 0.40359682141363445), (64, 0.37766624843161856), (65, 0.36804684232538687), (66, 0.3442074445838561), (67, 0.3877038895859473), (68, 0.3864491844416562), (69, 0.4127979924717691), (70, 0.38686741948975323), (71, 0.3818485989125889), (72, 0.40317858636553744), (73, 0.3989962358845671), (74, 0.4077791718946048), (75, 0.4127979924717691), (76, 0.40568799665411964), (77, 0.4462567963195316), (78, 0.38268506900878296), (79, 0.4069427017984107), (80, 0.4190715181932246), (81, 0.3985780008364701), (82, 0.40610623170221666), (83, 0.45420326223337515), (84, 0.4362191551652028), (85, 0.44207444583856126), (86, 0.41321622751986614), (87, 0.4015056461731493), (88, 0.41530740276035133), (89, 0.424508573818486), (90, 0.4617314930991217), (91, 0.4709326641572564), (92, 0.451693851944793), (93, 0.437892095357591), (94, 0.4575491426181514), (95, 0.4450020911752405), (96, 0.4696779590129653), (97, 0.4767879548306148), (98, 0.4604767879548306), (99, 0.44583856127143456), (100, 0.45964031785863657), (101, 0.45253032204098703), (102, 0.46675031367628605), (103, 0.48306148055207027), (104, 0.44165621079046424), (105, 0.43078209953994145), (106, 0.4219991635299038), (107, 0.42827268925135925), (108, 0.4232538686741949), (109, 0.41948975324132165), (110, 0.4370556252613969), (111, 0.4274362191551652), (112, 0.4592220828105395), (113, 0.46507737348389794), (114, 0.4316185696361355), (115, 0.42659974905897113), (116, 0.45253032204098703), (117, 0.4608950230029277), (118, 0.45211208699289), (119, 0.4466750313676286), (120, 0.4412379757423672), (121, 0.40317858636553744), (122, 0.46758678377248014), (123, 0.5035549979088247), (124, 0.4822250104558762), (125, 0.49142618151401085), (126, 0.4834797156001673), (127, 0.41990798828941867), (128, 0.45420326223337515), (129, 0.4767879548306148), (130, 0.4629861982434128), (131, 0.46507737348389794), (132, 0.4533667921371811), (133, 0.46758678377248014), (134, 0.4646591384358009), (135, 0.49477206189878714), (136, 0.4868255959849435), (137, 0.49519029694688416), (138, 0.4721873693015475), (139, 0.49351735675449604), (140, 0.46925972396486826), (141, 0.4889167712254287), (142, 0.4847344207444584), (143, 0.5165202843998327), (144, 0.4642409033877039), (145, 0.48389795064826435), (146, 0.49477206189878714), (147, 0.48431618569636137), (148, 0.45503973232956924), (149, 0.4851526557925554), (150, 0.44332915098285236), (151, 0.45127561689669593), (152, 0.47720618987871183), (153, 0.507319113341698), (154, 0.4755332496863237), (155, 0.48013383521539105), (156, 0.5056461731493099), (157, 0.5027185278126307), (158, 0.48431618569636137), (159, 0.4746967795901297), (160, 0.4726056043496445), (161, 0.48975324132162273), (162, 0.5018820577164367), (163, 0.493099121706399), (164, 0.49100794646591384), (165, 0.4901714763697198), (166, 0.45545796737766625), (167, 0.4341279799247177), (168, 0.4629861982434128), (169, 0.4755332496863237), (170, 0.4822250104558762), (171, 0.49226265161020494), (172, 0.47009619406106234), (173, 0.45253032204098703), (174, 0.3931409452112087), (175, 0.4178168130489335), (176, 0.5098285236302802), (177, 0.5098285236302802), (178, 0.5135926390631534), (179, 0.4734420744458386), (180, 0.4746967795901297), (181, 0.48264324550397325), (182, 0.5094102885821832), (183, 0.47009619406106234), (184, 0.5023002927645337), (185, 0.5161020493517356), (186, 0.4759514847344207), (187, 0.4483479715600167), (188, 0.44207444583856126), (189, 0.4629861982434128), (190, 0.4884985361773317), (191, 0.49519029694688416), (192, 0.48055207026348806), (193, 0.4847344207444584), (194, 0.5098285236302802), (195, 0.5006273525721455), (196, 0.5106649937264742), (197, 0.5148473442074446), (198, 0.48055207026348806), (199, 0.5110832287745714)], 'f1_score': [(0, 0.0006697923643670462), (1, 0.001335559265442404), (2, 0.03919204100090443), (3, 0.0946643717728055), (4, 0.11528680418197233), (5, 0.15256124721603564), (6, 0.20729772607086197), (7, 0.24386252045826512), (8, 0.22470684483228798), (9, 0.26819723454213407), (10, 0.27031375703942073), (11, 0.3076923076923077), (12, 0.328002030972328), (13, 0.34448076439527286), (14, 0.33202409007593614), (15, 0.3415143603133159), (16, 0.3826086956521739), (17, 0.3756345177664974), (18, 0.39260520554609585), (19, 0.38097560975609757), (20, 0.3642857142857143), (21, 0.3837837837837838), (22, 0.40182210501078874), (23, 0.41227863046044866), (24, 0.41316098707403054), (25, 0.42313117066290545), (26, 0.3923865300146413), (27, 0.3930885529157667), (28, 0.40921084192852003), (29, 0.4005898255099533), (30, 0.4054120541205412), (31, 0.4037145650048876), (32, 0.425459825750242), (33, 0.4223126645918123), (34, 0.4082712190430392), (35, 0.42724899121765963), (36, 0.4335631091038745), (37, 0.4357381748686096), (38, 0.4198292220113852), (39, 0.4075924075924076), (40, 0.4222957014643363), (41, 0.4235683861807856), (42, 0.4167270969301426), (43, 0.42620624408703883), (44, 0.42943642291569634), (45, 0.42836879432624114), (46, 0.4189478695548679), (47, 0.42297772567409136), (48, 0.4095330739299611), (49, 0.4132947976878612), (50, 0.41000962463907603), (51, 0.3973247460985881), (52, 0.4243577545195052), (53, 0.4293372319688109), (54, 0.44222273889793073), (55, 0.4419073203492277), (56, 0.4428538443777419), (57, 0.43794964028776984), (58, 0.4252313687286897), (59, 0.4215803294342325), (60, 0.4249466445340289), (61, 0.4382207578253707), (62, 0.4404463675700296), (63, 0.4403376682637463), (64, 0.43455245428296435), (65, 0.4297924297924298), (66, 0.4111916062952785), (67, 0.4384015133601324), (68, 0.4320785597381342), (69, 0.44359550561797756), (70, 0.4334582942830365), (71, 0.43116883116883115), (72, 0.45268842451279645), (73, 0.44537815126050423), (74, 0.44257830231502493), (75, 0.4443944169293111), (76, 0.44897014579958344), (77, 0.4721238938053098), (78, 0.44623262618873444), (79, 0.4625623960066556), (80, 0.4695407685098407), (81, 0.4594985535197686), (82, 0.4653726335969327), (83, 0.48710473200269117), (84, 0.47954022988505746), (85, 0.48754612546125464), (86, 0.4629803186504218), (87, 0.46556741028128035), (88, 0.47614480939822584), (89, 0.4804733727810651), (90, 0.49351810460438084), (91, 0.49461893257193057), (92, 0.48692515779981965), (93, 0.4816007359705612), (94, 0.4908030506953791), (95, 0.4882973841211565), (96, 0.4975631369073992), (97, 0.49803407601572736), (98, 0.4879237757589187), (99, 0.47749160134378504), (100, 0.4812787387781914), (101, 0.47362661413876117), (102, 0.49644128113879), (103, 0.5053598774885145), (104, 0.4891153311718388), (105, 0.4843639783682106), (106, 0.4725995316159251), (107, 0.47473342605470564), (108, 0.4696055684454757), (109, 0.46770809046397765), (110, 0.4918804424570487), (111, 0.4755700325732899), (112, 0.49988618256316864), (113, 0.49765048109196686), (114, 0.48967971530249105), (115, 0.48226950354609927), (116, 0.4827124693285746), (117, 0.4834393507348103), (118, 0.4947368421052632), (119, 0.4846834581347856), (120, 0.48494598942771777), (121, 0.4702439024390244), (122, 0.4904584338670761), (123, 0.5143101238786844), (124, 0.5034934497816593), (125, 0.5049419853889127), (126, 0.5032651284283849), (127, 0.47515380974917176), (128, 0.49736661323563097), (129, 0.4964075767472241), (130, 0.49966147596479343), (131, 0.5077625570776255), (132, 0.5092788348602302), (133, 0.5114364135407137), (134, 0.5185530921820304), (135, 0.5257777777777778), (136, 0.5234989880818529), (137, 0.5271593944790739), (138, 0.5117860380779692), (139, 0.515058926233086), (140, 0.5093054925102134), (141, 0.5160008828073273), (142, 0.5211330935251799), (143, 0.5302705023615285), (144, 0.5084745762711865), (145, 0.5169794459338695), (146, 0.5143478260869566), (147, 0.5016244314489928), (148, 0.505458768873403), (149, 0.516243880729862), (150, 0.496952648851383), (151, 0.49529492770254757), (152, 0.5206479580196212), (153, 0.5379157427937915), (154, 0.5162315550510783), (155, 0.5086397873283119), (156, 0.5188841201716738), (157, 0.5087830687830688), (158, 0.5039164490861618), (159, 0.5060187249219795), (160, 0.5172808422980087), (161, 0.5183709606020362), (162, 0.5159071367153911), (163, 0.5113858165256995), (164, 0.5192392746572312), (165, 0.5039776392173726), (166, 0.507929104477612), (167, 0.49112845990063875), (168, 0.5076817243751434), (169, 0.5112410071942446), (170, 0.5147321428571429), (171, 0.5051502145922746), (172, 0.5138285714285715), (173, 0.5082198215124472), (174, 0.4571984435797665), (175, 0.46573426573426574), (176, 0.5323144104803494), (177, 0.5281629116117852), (178, 0.5342614748749185), (179, 0.5249246464178066), (180, 0.5162610871048443), (181, 0.5214640759150474), (182, 0.5433861253624805), (183, 0.530814639905549), (184, 0.5355629877369007), (185, 0.5242141036533561), (186, 0.5137697516930022), (187, 0.5087802562885619), (188, 0.5009478672985782), (189, 0.5139275766016713), (190, 0.5153320097065961), (191, 0.5230837199028054), (192, 0.5136343316942333), (193, 0.5181046043808671), (194, 0.5310389893269439), (195, 0.5270805812417437), (196, 0.5309849967384213), (197, 0.5237183577962136), (198, 0.5073967763303157), (199, 0.5144180172595243)]}\n"
     ]
    }
   ],
   "source": [
    "print (metrics)"
   ]
  },
  {
   "cell_type": "code",
   "execution_count": 14,
   "id": "7288d830",
   "metadata": {},
   "outputs": [
    {
     "data": {
      "image/png": "[encoded data removed]",
      "text/plain": [
       "<Figure size 1000x400 with 1 Axes>"
      ]
     },
     "metadata": {},
     "output_type": "display_data"
    },
    {
     "data": {
      "image/png": "[encoded data removed]",
      "text/plain": [
       "<Figure size 1000x400 with 1 Axes>"
      ]
     },
     "metadata": {},
     "output_type": "display_data"
    },
    {
     "data": {
      "image/png": "[encoded data removed]",
      "text/plain": [
       "<Figure size 1000x400 with 1 Axes>"
      ]
     },
     "metadata": {},
     "output_type": "display_data"
    },
    {
     "data": {
      "image/png": "[encoded data removed]",
      "text/plain": [
       "<Figure size 1000x400 with 1 Axes>"
      ]
     },
     "metadata": {},
     "output_type": "display_data"
    },
    {
     "data": {
      "image/png": "[encoded data removed]",
      "text/plain": [
       "<Figure size 1000x400 with 1 Axes>"
      ]
     },
     "metadata": {},
     "output_type": "display_data"
    }
   ],
   "source": [
    "for i, (name, history) in enumerate (sorted (metrics.items ())):\n",
    "    #plt.plot (1, len (metrics), i + 1)\n",
    "    plt.figure (figsize = (10, 4))\n",
    "    plt.title (name)\n",
    "    plt.plot (*zip (*history))\n",
    "    plt.grid ()\n",
    "    plt.show ()"
   ]
  },
  {
   "cell_type": "code",
   "execution_count": 15,
   "id": "01c523f5",
   "metadata": {},
   "outputs": [
    {
     "name": "stderr",
     "output_type": "stream",
     "text": [
      "100%|██████████| 10/10 [00:10<00:00,  1.04s/it]\n"
     ]
    },
    {
     "name": "stdout",
     "output_type": "stream",
     "text": [
      "Validation wmax:  (0.5809217577706324, 0.4533667921371811, 0.5092788348602302)\n"
     ]
    },
    {
     "name": "stderr",
     "output_type": "stream",
     "text": [
      "100%|██████████| 11/11 [00:09<00:00,  1.15it/s]\n"
     ]
    },
    {
     "name": "stdout",
     "output_type": "stream",
     "text": [
      "Test wmax:  (0.5991146089522873, 0.464, 0.5229712322885358)\n"
     ]
    }
   ],
   "source": [
    "\n",
    "val_preds, val_labels_fromdata = [], []\n",
    "with torch.no_grad ():\n",
    "    for batch in tqdm (val_loader):\n",
    "        input_ids = batch ['input_ids'].to (model.device)\n",
    "        attention_mask = batch ['attention_mask'].to (model.device)\n",
    "        labels = batch ['labels'].to (model.device)\n",
    "        out = model.generate (input_ids = input_ids, attention_mask = attention_mask, max_length=SEQ_MAX_LENGTH)\n",
    "\n",
    "        val_preds.extend (out)\n",
    "        val_labels_fromdata.extend (labels)\n",
    "        torch.cuda.empty_cache ()\n",
    "\n",
    "    print ('Validation wmax: ', sanity_check (val_preds, val_labels_fromdata))\n",
    "\n",
    "val_preds, val_labels_fromdata = [], []\n",
    "with torch.no_grad ():\n",
    "    for batch in tqdm (test_loader):\n",
    "        input_ids = batch ['input_ids'].to (model.device)\n",
    "        attention_mask = batch ['attention_mask'].to (model.device)\n",
    "        labels = batch ['labels'].to (model.device)\n",
    "        out = model.generate (input_ids = input_ids, attention_mask = attention_mask, max_length=SEQ_MAX_LENGTH)\n",
    "\n",
    "        val_preds.extend (out)\n",
    "        val_labels_fromdata.extend (labels)\n",
    "        torch.cuda.empty_cache ()\n",
    "\n",
    "    print ('Test wmax: ', sanity_check (val_preds, val_labels_fromdata))\n"
   ]
  },
  {
   "cell_type": "code",
   "execution_count": null,
   "id": "33d26b2d",
   "metadata": {},
   "outputs": [],
   "source": [
    "#model.save_pretrained('./rut5small_7332-7420')\n",
    "#tokenizer.save_pretrained('./rut5small_7332-7420')\n",
    "#checkpoint = { \n",
    "#    'epoch': 250,\n",
    "#    'model': model.state_dict(),\n",
    "#    'optimizer': optimizer.state_dict()}\n",
    "#torch.save (checkpoint, './rut5small_7332-7420/checkpoint.pth')"
   ]
  },
  {
   "cell_type": "code",
   "execution_count": null,
   "id": "484c4b13",
   "metadata": {},
   "outputs": [],
   "source": [
    "model.load_state_dict (prev_model)\n",
    "optimizer.load_state_dict (prev_optimizer)"
   ]
  },
  {
   "cell_type": "code",
   "execution_count": null,
   "id": "eaff6058",
   "metadata": {},
   "outputs": [],
   "source": [
    "\n",
    "val_preds, val_labels_fromdata = [], []\n",
    "with torch.no_grad ():\n",
    "    for batch in tqdm (val_loader):\n",
    "        input_ids = batch ['input_ids'].to (model.device)\n",
    "        attention_mask = batch ['attention_mask'].to (model.device)\n",
    "        labels = batch ['labels'].to (model.device)\n",
    "        out = model.generate (input_ids = input_ids, attention_mask = attention_mask, max_length=SEQ_MAX_LENGTH)\n",
    "\n",
    "        val_preds.extend (out)\n",
    "        val_labels_fromdata.extend (labels)\n",
    "        torch.cuda.empty_cache ()\n",
    "\n",
    "    print ('Validation wmax: ', sanity_check (val_preds, val_labels_fromdata))\n",
    "\n",
    "val_preds, val_labels_fromdata = [], []\n",
    "with torch.no_grad ():\n",
    "    for batch in tqdm (test_loader):\n",
    "        input_ids = batch ['input_ids'].to (model.device)\n",
    "        attention_mask = batch ['attention_mask'].to (model.device)\n",
    "        labels = batch ['labels'].to (model.device)\n",
    "        out = model.generate (input_ids = input_ids, attention_mask = attention_mask, max_length=SEQ_MAX_LENGTH)\n",
    "\n",
    "        val_preds.extend (out)\n",
    "        val_labels_fromdata.extend (labels)\n",
    "        torch.cuda.empty_cache ()\n",
    "\n",
    "    print ('Test wmax: ', sanity_check (val_preds, val_labels_fromdata))\n"
   ]
  },
  {
   "cell_type": "code",
   "execution_count": null,
   "id": "6bd07779",
   "metadata": {},
   "outputs": [],
   "source": [
    "#model.save_pretrained('./rut5small_150ep_7168-7394')\n",
    "#tokenizer.save_pretrained('./rut5small_150ep_7168-7394')\n",
    "#checkpoint = { \n",
    "#    'epoch': 150,\n",
    "#    'model': model.state_dict(),\n",
    "#    'optimizer': optimizer.state_dict()}\n",
    "#torch.save (checkpoint, './rut5small_150ep_7168-7394/checkpoint.pth')"
   ]
  },
  {
   "cell_type": "code",
   "execution_count": null,
   "id": "c9409bf4",
   "metadata": {},
   "outputs": [],
   "source": [
    "print s"
   ]
  },
  {
   "cell_type": "markdown",
   "id": "fda402f3",
   "metadata": {},
   "source": [
    "https://colab.research.google.com/github/NielsRogge/Transformers-Tutorials/blob/master/T5/Fine_tune_CodeT5_for_generating_docstrings_from_Ruby_code.ipynb#scrollTo=wvRHDkCIS91f"
   ]
  },
  {
   "cell_type": "code",
   "execution_count": null,
   "id": "75292000",
   "metadata": {},
   "outputs": [],
   "source": [
    "# saved normal foldlearner\n",
    "\n",
    "kf = KFold (n_splits = NUM_OF_SPLITS)\n",
    "\n",
    "data = df ['text']\n",
    "labels = df ['label']\n",
    "\n",
    "inc_term_set = set ([''])\n",
    "for iteration, (train_index, test_index) in enumerate (kf.split (data)):\n",
    "    X_curr = data [test_index]\n",
    "    y_curr = labels [test_index]\n",
    "\n",
    "    train_data_lst = X_curr.tolist ()\n",
    "    train_labels_lst = y_curr.tolist ()\n",
    "    parallel_text, parallel_labels = create_parallels (train_data_lst, train_labels_lst)\n",
    "\n",
    "    parallel_text_new = parallel_text#attach_dictionary_foundings (parallel_text, inc_term_set)\n",
    "\n",
    "    train_data = tokenizer (parallel_text_new, padding = 'max_length', truncation = True, max_length = SEQ_MAX_LENGTH, return_tensors = 'pt')\n",
    "    train_labels = tokenizer (parallel_labels, padding = 'max_length', truncation = True, max_length = ANSWER_MAX_LENGTH, return_tensors = 'pt')\n",
    "    \n",
    "    if ENABLE_LABEL_FIX:\n",
    "        replaced = replace_padding (train_labels)\n",
    "        train_labels = replaced\n",
    "\n",
    "    train_dataset = Seq2SeqDataset (train_data, train_labels)\n",
    "    train_loader = DataLoader (train_dataset, batch_size = BATCH_SIZE, shuffle = True)\n",
    "\n",
    "    for epoch in range (LOCAL_NUM_EPOCHS):\n",
    "        model.train ()  # Устанавливаем модель в режим обучения\n",
    "        total_loss = 0\n",
    "        \n",
    "        for batch in tqdm (train_loader):\n",
    "            \n",
    "            input_ids = batch ['input_ids'].to (model.device)\n",
    "            attention_mask = batch ['attention_mask'].to (model.device)\n",
    "            labels_fromdata = batch ['labels'].to (model.device)\n",
    "\n",
    "            #outputs = model (input_ids = input_ids, attention_mask = attention_mask, labels = labels_fromdata)\n",
    "            outputs = model (input_ids = input_ids, attention_mask = attention_mask, labels = labels_fromdata)\n",
    "            loss = outputs.loss   ## DOUBLE CHECK if padding ...\n",
    "            total_loss += loss.item ()\n",
    "\n",
    "            loss.backward ()  # Обратное распространение\n",
    "            optimizer.step ()  # Обновление параметров\n",
    "            optimizer.zero_grad ()  # Обнуляем градиенты\n",
    "\n",
    "            #scheduler.step ()  # Обновление learning rate\n",
    "            torch.cuda.empty_cache ()\n",
    "        \n",
    "\n",
    "        avg_loss = total_loss / len (train_loader)\n",
    "\n",
    "        metrics ['train_loss'].append ((epoch + iteration * LOCAL_NUM_EPOCHS + num_passed_epochs, avg_loss))\n",
    "\n",
    "        # Оценка на валидационной выборке\n",
    "        model.eval ()  # Устанавливаем модель в режим оценки\n",
    "        val_preds, val_labels = [], []\n",
    "        total_val_loss = 0\n",
    "\n",
    "        with torch.no_grad ():\n",
    "            for batch in val_loader:\n",
    "                input_ids = batch ['input_ids'].to (model.device)\n",
    "                attention_mask = batch ['attention_mask'].to (model.device)\n",
    "                labels_fromdata = batch ['labels'].to (model.device)\n",
    "\n",
    "                outputs = model.generate (input_ids = input_ids, attention_mask = attention_mask, max_length = SEQ_MAX_LENGTH)\n",
    "\n",
    "                total_val_loss += model (input_ids = input_ids, attention_mask = attention_mask, labels = labels_fromdata).loss.item ()\n",
    "\n",
    "                val_preds.extend (outputs)\n",
    "                val_labels.extend (labels_fromdata)\n",
    "                torch.cuda.empty_cache ()\n",
    "\n",
    "        avg_val_loss = total_val_loss / len (val_loader)\n",
    "\n",
    "        prec, recl, f1sc = sanity_check (val_preds, val_labels)\n",
    "\n",
    "        metrics ['val_loss'].append ((epoch + iteration * LOCAL_NUM_EPOCHS + num_passed_epochs, avg_val_loss))\n",
    "        metrics ['precision'].append ((epoch + iteration * LOCAL_NUM_EPOCHS + num_passed_epochs, prec))\n",
    "        metrics ['recall'].append ((epoch + iteration * LOCAL_NUM_EPOCHS + num_passed_epochs, recl))\n",
    "        metrics ['f1_score'].append ((epoch + iteration * LOCAL_NUM_EPOCHS + num_passed_epochs, f1sc))\n",
    "\n",
    "        print (f'Epoch {(epoch + 1) + iteration * LOCAL_NUM_EPOCHS + num_passed_epochs} / {NUM_OF_SPLITS * LOCAL_NUM_EPOCHS + num_passed_epochs}, Loss: {avg_loss:.4f}, Validation loss: {avg_val_loss:.4f}, {prec} / {recl} / {f1sc}')\n",
    "        \n",
    "        torch.cuda.empty_cache ()\n",
    "\n",
    "\n",
    "    for line in parallel_labels:\n",
    "        inc_term_set |= set (line.split (SEP_TOKEN))\n",
    "    inc_term_set -= set ([''])\n",
    "    inc_term_set -= set ([LABEL_PREFIX_TOKEN])\n",
    "    print (f'Уникальных терминов в {iteration + 1}-м тренировочном наборе: {len (inc_term_set)}.')"
   ]
  },
  {
   "cell_type": "code",
   "execution_count": null,
   "id": "9b41a77e",
   "metadata": {},
   "outputs": [],
   "source": [
    "kf = KFold (n_splits = NUM_OF_SPLITS)\n",
    "\n",
    "data = df ['text']\n",
    "labels = df ['label']\n",
    "\n",
    "inc_term_set = set ([''])\n",
    "\n",
    "for iteration, (train_index, test_index) in enumerate (kf.split (data)):\n",
    "    X_curr = data [test_index]\n",
    "    y_curr = labels [test_index]\n",
    "\n",
    "    train_data_lst = X_curr.tolist ()\n",
    "    train_labels_lst = y_curr.tolist ()\n",
    "    parallel_text, parallel_labels = create_parallels (train_data_lst, train_labels_lst)\n",
    "\n",
    "    parallel_text_new = parallel_text#attach_dictionary_foundings (parallel_text, inc_term_set)\n",
    "\n",
    "    train_data = tokenizer (parallel_text_new, padding = 'max_length', truncation = True, max_length = SEQ_MAX_LENGTH, return_tensors = 'pt')\n",
    "    train_labels = tokenizer (parallel_labels, padding = 'max_length', truncation = True, max_length = ANSWER_MAX_LENGTH, return_tensors = 'pt')\n",
    "    \n",
    "    if ENABLE_LABEL_FIX:\n",
    "        replaced = replace_padding (train_labels)\n",
    "        train_labels = replaced\n",
    "\n",
    "    train_dataset = Seq2SeqDataset (train_data, train_labels)\n",
    "    train_loader = DataLoader (train_dataset, batch_size = BATCH_SIZE, shuffle = True)\n",
    "\n",
    "\n",
    "    prev_metric = 1000000 if view_at_loss else 0\n",
    "    prev_model = model\n",
    "    prev_optimizer = optimizer\n",
    "    epoch = 0\n",
    "    #for epoch in range (LOCAL_NUM_EPOCHS):\n",
    "    while True:\n",
    "        model.train ()  # Устанавливаем модель в режим обучения\n",
    "        total_loss = 0\n",
    "        \n",
    "        for batch in tqdm (train_loader):\n",
    "            \n",
    "            input_ids = batch ['input_ids'].to (model.device)\n",
    "            attention_mask = batch ['attention_mask'].to (model.device)\n",
    "            labels_fromdata = batch ['labels'].to (model.device)\n",
    "\n",
    "            #outputs = model (input_ids = input_ids, attention_mask = attention_mask, labels = labels_fromdata)\n",
    "            outputs = model (input_ids = input_ids, attention_mask = attention_mask, labels = labels_fromdata)\n",
    "            loss = outputs.loss   ## DOUBLE CHECK if padding ...\n",
    "            total_loss += loss.item ()\n",
    "\n",
    "            loss.backward ()  # Обратное распространение\n",
    "            optimizer.step ()  # Обновление параметров\n",
    "            optimizer.zero_grad ()  # Обнуляем градиенты\n",
    "\n",
    "            #scheduler.step ()  # Обновление learning rate\n",
    "            torch.cuda.empty_cache ()\n",
    "        \n",
    "\n",
    "        avg_loss = total_loss / len (train_loader)\n",
    "\n",
    "        \n",
    "\n",
    "        # Оценка на валидационной выборке\n",
    "        model.eval ()  # Устанавливаем модель в режим оценки\n",
    "        val_preds, val_labels = [], []\n",
    "        total_val_loss = 0\n",
    "\n",
    "        with torch.no_grad ():\n",
    "            for batch in val_loader:\n",
    "                input_ids = batch ['input_ids'].to (model.device)\n",
    "                attention_mask = batch ['attention_mask'].to (model.device)\n",
    "                labels_fromdata = batch ['labels'].to (model.device)\n",
    "\n",
    "                outputs = model.generate (input_ids = input_ids, attention_mask = attention_mask, max_length = SEQ_MAX_LENGTH)\n",
    "\n",
    "                total_val_loss += model (input_ids = input_ids, attention_mask = attention_mask, labels = labels_fromdata).loss.item ()\n",
    "\n",
    "                val_preds.extend (outputs)\n",
    "                val_labels.extend (labels_fromdata)\n",
    "                torch.cuda.empty_cache ()\n",
    "\n",
    "        avg_val_loss = total_val_loss / len (val_loader)\n",
    "\n",
    "        prec, recl, f1sc = sanity_check (val_preds, val_labels)\n",
    "\n",
    "        print (f'Epoch {(epoch + 1) + num_passed_epochs} / ---, Loss: {avg_loss:.4f}, Validation loss: {avg_val_loss:.4f}, {prec} / {recl} / {f1sc}')\n",
    "        \n",
    "        torch.cuda.empty_cache ()\n",
    "\n",
    "        ### WHAT\n",
    "        if (view_at_loss and prev_metric < avg_val_loss) or (not view_at_loss and prev_metric > f1sc):\n",
    "        #if prev_f1_score > f1sc:\n",
    "            model = prev_model\n",
    "            optimizer = prev_optimizer\n",
    "            num_passed_epochs += epoch\n",
    "            break\n",
    "        epoch += 1\n",
    "        #prev_f1_score = f1sc\n",
    "        prev_metric = avg_val_loss if view_at_loss else f1sc\n",
    "        prev_model = model\n",
    "        prev_optimizer = optimizer\n",
    "\n",
    "        metrics ['train_loss'].append ((epoch + num_passed_epochs, avg_loss))\n",
    "        metrics ['val_loss'].append ((epoch + num_passed_epochs, avg_val_loss))\n",
    "        metrics ['precision'].append ((epoch + num_passed_epochs, prec))\n",
    "        metrics ['recall'].append ((epoch + num_passed_epochs, recl))\n",
    "        metrics ['f1_score'].append ((epoch + num_passed_epochs, f1sc))\n",
    "        \n",
    "\n",
    "    for line in parallel_labels:\n",
    "        inc_term_set |= set (line.split (SEP_TOKEN))\n",
    "    inc_term_set -= set ([''])\n",
    "    inc_term_set -= set ([LABEL_PREFIX_TOKEN])\n",
    "    print (f'Уникальных терминов в {iteration + 1}-м тренировочном наборе: {len (inc_term_set)}.')"
   ]
  },
  {
   "cell_type": "code",
   "execution_count": null,
   "id": "a1cb38fc",
   "metadata": {},
   "outputs": [],
   "source": [
    "print (metrics)"
   ]
  },
  {
   "cell_type": "code",
   "execution_count": null,
   "id": "911466b0",
   "metadata": {},
   "outputs": [],
   "source": [
    "for i, (name, history) in enumerate (sorted (metrics.items ())):\n",
    "    #plt.plot (1, len (metrics), i + 1)\n",
    "    plt.figure (figsize = (10, 4))\n",
    "    plt.title (name)\n",
    "    plt.plot (*zip (*history))\n",
    "    plt.grid ()\n",
    "    plt.show ()"
   ]
  },
  {
   "cell_type": "code",
   "execution_count": null,
   "id": "fb5f9be2",
   "metadata": {},
   "outputs": [],
   "source": [
    "\n",
    "\n",
    "model.eval ()  # Устанавливаем модель в режим оценки\n",
    "val_preds, val_labels_fromdata = [], []\n",
    "\n",
    "with torch.no_grad ():\n",
    "    for batch in tqdm (val_loader):\n",
    "        input_ids = batch ['input_ids'].to (model.device)\n",
    "        attention_mask = batch ['attention_mask'].to (model.device)\n",
    "        labels = batch ['labels'].to (model.device)\n",
    "        out = model.generate (input_ids = input_ids, attention_mask = attention_mask)\n",
    "\n",
    "        val_preds.extend (out)\n",
    "        val_labels_fromdata.extend (labels)\n",
    "        torch.cuda.empty_cache ()\n",
    "\n",
    "    print ('Validation: ', sanity_check (val_preds, val_labels_fromdata))\n",
    "\n",
    "\n",
    "val_preds, val_labels_fromdata = [], []\n",
    "\n",
    "with torch.no_grad ():\n",
    "    for batch in tqdm (test_loader):\n",
    "        input_ids = batch ['input_ids'].to (model.device)\n",
    "        attention_mask = batch ['attention_mask'].to (model.device)\n",
    "        labels = batch ['labels'].to (model.device)\n",
    "        out = model.generate (input_ids = input_ids, attention_mask = attention_mask)\n",
    "\n",
    "        val_preds.extend (out)\n",
    "        val_labels_fromdata.extend (labels)\n",
    "        torch.cuda.empty_cache ()\n",
    "\n",
    "    print ('Test: ', sanity_check (val_preds, val_labels_fromdata))\n"
   ]
  },
  {
   "cell_type": "code",
   "execution_count": null,
   "id": "c245fb7a",
   "metadata": {},
   "outputs": [],
   "source": [
    "\n",
    "val_preds, val_labels_fromdata = [], []\n",
    "with torch.no_grad ():\n",
    "    for batch in tqdm (val_loader):\n",
    "        input_ids = batch ['input_ids'].to (model.device)\n",
    "        attention_mask = batch ['attention_mask'].to (model.device)\n",
    "        labels = batch ['labels'].to (model.device)\n",
    "        out = model.generate (input_ids = input_ids, attention_mask = attention_mask, max_length=SEQ_MAX_LENGTH)\n",
    "\n",
    "        val_preds.extend (out)\n",
    "        val_labels_fromdata.extend (labels)\n",
    "        torch.cuda.empty_cache ()\n",
    "\n",
    "    print ('Validation wmax: ', sanity_check (val_preds, val_labels_fromdata))\n",
    "\n",
    "val_preds, val_labels_fromdata = [], []\n",
    "with torch.no_grad ():\n",
    "    for batch in tqdm (test_loader):\n",
    "        input_ids = batch ['input_ids'].to (model.device)\n",
    "        attention_mask = batch ['attention_mask'].to (model.device)\n",
    "        labels = batch ['labels'].to (model.device)\n",
    "        out = model.generate (input_ids = input_ids, attention_mask = attention_mask, max_length=SEQ_MAX_LENGTH)\n",
    "\n",
    "        val_preds.extend (out)\n",
    "        val_labels_fromdata.extend (labels)\n",
    "        torch.cuda.empty_cache ()\n",
    "\n",
    "    print ('Test wmax: ', sanity_check (val_preds, val_labels_fromdata))\n"
   ]
  },
  {
   "cell_type": "code",
   "execution_count": null,
   "id": "5df71c63",
   "metadata": {},
   "outputs": [],
   "source": [
    "#model.save_pretrained ('./rut5base_fulltrain_novalid_dictionary_postfix')\n",
    "#tokenizer.save_pretrained ('./rut5base_fulltrain_novalid_dictionary_postfix')"
   ]
  },
  {
   "cell_type": "code",
   "execution_count": null,
   "id": "1cc32468",
   "metadata": {},
   "outputs": [],
   "source": [
    "print (val_parallel_text [6])\n",
    "predicted_set = get_set (val_preds [6], ground_truth = False)\n",
    "predicted_set"
   ]
  },
  {
   "cell_type": "code",
   "execution_count": null,
   "id": "c7ac26d0",
   "metadata": {},
   "outputs": [],
   "source": [
    "kf = KFold (n_splits = NUM_OF_SPLITS)\n",
    "\n",
    "data = df ['text']\n",
    "labels = df ['label']\n",
    "\n",
    "inc_term_set = set ([''])\n",
    "\n",
    "#num_passed_epochs = 0\n",
    "\n",
    "\n",
    "test_indices = list (kf.split (data))\n",
    "test_indices.reverse ()\n",
    "\n",
    "\n",
    "for iteration, (train_index, test_index) in enumerate (test_indices):\n",
    "    X_curr = data [test_index]\n",
    "    y_curr = labels [test_index]\n",
    "\n",
    "    train_data_lst = X_curr.tolist ()\n",
    "    train_labels_lst = y_curr.tolist ()\n",
    "    parallel_text, parallel_labels = create_parallels (train_data_lst, train_labels_lst)\n",
    "\n",
    "    parallel_text_new = parallel_text#attach_dictionary_foundings (parallel_text, inc_term_set)\n",
    "\n",
    "    train_data = tokenizer (parallel_text_new, padding = 'max_length', truncation = True, max_length = SEQ_MAX_LENGTH, return_tensors = 'pt')\n",
    "    train_labels = tokenizer (parallel_labels, padding = 'max_length', truncation = True, max_length = ANSWER_MAX_LENGTH, return_tensors = 'pt')\n",
    "    \n",
    "    if ENABLE_LABEL_FIX:\n",
    "        replaced = replace_padding (train_labels)\n",
    "        train_labels = replaced\n",
    "\n",
    "    train_dataset = Seq2SeqDataset (train_data, train_labels)\n",
    "    train_loader = DataLoader (train_dataset, batch_size = BATCH_SIZE, shuffle = True)\n",
    "\n",
    "\n",
    "    #prev_f1_score = 0\n",
    "    prev_metric = 1000000 if view_at_loss else 0\n",
    "    prev_model = model\n",
    "    prev_optimizer = optimizer\n",
    "    epoch = 0\n",
    "    #for epoch in range (LOCAL_NUM_EPOCHS):\n",
    "    while True:\n",
    "        model.train ()  # Устанавливаем модель в режим обучения\n",
    "        total_loss = 0\n",
    "        \n",
    "        for batch in tqdm (train_loader):\n",
    "            \n",
    "            input_ids = batch ['input_ids'].to (model.device)\n",
    "            attention_mask = batch ['attention_mask'].to (model.device)\n",
    "            labels_fromdata = batch ['labels'].to (model.device)\n",
    "\n",
    "            #outputs = model (input_ids = input_ids, attention_mask = attention_mask, labels = labels_fromdata)\n",
    "            outputs = model (input_ids = input_ids, attention_mask = attention_mask, labels = labels_fromdata)\n",
    "            loss = outputs.loss   ## DOUBLE CHECK if padding ...\n",
    "            total_loss += loss.item ()\n",
    "\n",
    "            loss.backward ()  # Обратное распространение\n",
    "            optimizer.step ()  # Обновление параметров\n",
    "            optimizer.zero_grad ()  # Обнуляем градиенты\n",
    "\n",
    "            #scheduler.step ()  # Обновление learning rate\n",
    "            torch.cuda.empty_cache ()\n",
    "        \n",
    "\n",
    "        avg_loss = total_loss / len (train_loader)\n",
    "\n",
    "        \n",
    "\n",
    "        # Оценка на валидационной выборке\n",
    "        model.eval ()  # Устанавливаем модель в режим оценки\n",
    "        val_preds, val_labels = [], []\n",
    "        total_val_loss = 0\n",
    "\n",
    "        with torch.no_grad ():\n",
    "            for batch in val_loader:\n",
    "                input_ids = batch ['input_ids'].to (model.device)\n",
    "                attention_mask = batch ['attention_mask'].to (model.device)\n",
    "                labels_fromdata = batch ['labels'].to (model.device)\n",
    "\n",
    "                outputs = model.generate (input_ids = input_ids, attention_mask = attention_mask, max_length = SEQ_MAX_LENGTH)\n",
    "\n",
    "                total_val_loss += model (input_ids = input_ids, attention_mask = attention_mask, labels = labels_fromdata).loss.item ()\n",
    "\n",
    "                val_preds.extend (outputs)\n",
    "                val_labels.extend (labels_fromdata)\n",
    "                torch.cuda.empty_cache ()\n",
    "\n",
    "        avg_val_loss = total_val_loss / len (val_loader)\n",
    "\n",
    "        prec, recl, f1sc = sanity_check (val_preds, val_labels)\n",
    "\n",
    "        print (f'Epoch {(epoch + 1) + num_passed_epochs} / ---, Loss: {avg_loss:.4f}, Validation loss: {avg_val_loss:.4f}, {prec} / {recl} / {f1sc}')\n",
    "        \n",
    "        torch.cuda.empty_cache ()\n",
    "\n",
    "        ### WHAT\n",
    "        if (view_at_loss and prev_metric < avg_val_loss) or (not view_at_loss and prev_metric > f1sc):\n",
    "        #if prev_f1_score > f1sc:\n",
    "            model = prev_model\n",
    "            optimizer = prev_optimizer\n",
    "            num_passed_epochs += epoch\n",
    "            break\n",
    "        epoch += 1\n",
    "        #prev_f1_score = f1sc\n",
    "        prev_metric = avg_val_loss if view_at_loss else f1sc\n",
    "        prev_model = model\n",
    "        prev_optimizer = optimizer\n",
    "\n",
    "        metrics ['train_loss'].append ((epoch + num_passed_epochs, avg_loss))\n",
    "        metrics ['val_loss'].append ((epoch + num_passed_epochs, avg_val_loss))\n",
    "        metrics ['precision'].append ((epoch + num_passed_epochs, prec))\n",
    "        metrics ['recall'].append ((epoch + num_passed_epochs, recl))\n",
    "        metrics ['f1_score'].append ((epoch + num_passed_epochs, f1sc))\n",
    "        \n",
    "\n",
    "    for line in parallel_labels:\n",
    "        inc_term_set |= set (line.split (SEP_TOKEN))\n",
    "    inc_term_set -= set ([''])\n",
    "    inc_term_set -= set ([LABEL_PREFIX_TOKEN])\n",
    "    print (f'Уникальных терминов в {iteration + 1}-м тренировочном наборе: {len (inc_term_set)}.')"
   ]
  },
  {
   "cell_type": "code",
   "execution_count": null,
   "id": "473efffb",
   "metadata": {},
   "outputs": [],
   "source": [
    "print (metrics)"
   ]
  },
  {
   "cell_type": "code",
   "execution_count": null,
   "id": "26a8b840",
   "metadata": {},
   "outputs": [],
   "source": [
    "for i, (name, history) in enumerate (sorted (metrics.items ())):\n",
    "    plt.figure (figsize = (10, 4))\n",
    "    plt.title (name)\n",
    "    plt.plot (*zip (*history))\n",
    "    plt.grid ()\n",
    "    plt.show ()"
   ]
  },
  {
   "cell_type": "code",
   "execution_count": null,
   "id": "5018ae95",
   "metadata": {},
   "outputs": [],
   "source": [
    "\n",
    "\n",
    "model.eval ()  # Устанавливаем модель в режим оценки\n",
    "val_preds, val_labels_fromdata = [], []\n",
    "\n",
    "with torch.no_grad ():\n",
    "    for batch in tqdm (val_loader):\n",
    "        input_ids = batch ['input_ids'].to (model.device)\n",
    "        attention_mask = batch ['attention_mask'].to (model.device)\n",
    "        labels = batch ['labels'].to (model.device)\n",
    "        out = model.generate (input_ids = input_ids, attention_mask = attention_mask)\n",
    "\n",
    "        val_preds.extend (out)\n",
    "        val_labels_fromdata.extend (labels)\n",
    "        torch.cuda.empty_cache ()\n",
    "\n",
    "    print ('Validation: ', sanity_check (val_preds, val_labels_fromdata))\n",
    "\n",
    "\n",
    "val_preds, val_labels_fromdata = [], []\n",
    "\n",
    "with torch.no_grad ():\n",
    "    for batch in tqdm (test_loader):\n",
    "        input_ids = batch ['input_ids'].to (model.device)\n",
    "        attention_mask = batch ['attention_mask'].to (model.device)\n",
    "        labels = batch ['labels'].to (model.device)\n",
    "        out = model.generate (input_ids = input_ids, attention_mask = attention_mask)\n",
    "\n",
    "        val_preds.extend (out)\n",
    "        val_labels_fromdata.extend (labels)\n",
    "        torch.cuda.empty_cache ()\n",
    "\n",
    "    print ('Test: ', sanity_check (val_preds, val_labels_fromdata))\n"
   ]
  },
  {
   "cell_type": "code",
   "execution_count": null,
   "id": "41900423",
   "metadata": {},
   "outputs": [],
   "source": [
    "\n",
    "val_preds, val_labels_fromdata = [], []\n",
    "with torch.no_grad ():\n",
    "    for batch in tqdm (val_loader):\n",
    "        input_ids = batch ['input_ids'].to (model.device)\n",
    "        attention_mask = batch ['attention_mask'].to (model.device)\n",
    "        labels = batch ['labels'].to (model.device)\n",
    "        out = model.generate (input_ids = input_ids, attention_mask = attention_mask, max_length=SEQ_MAX_LENGTH)\n",
    "\n",
    "        val_preds.extend (out)\n",
    "        val_labels_fromdata.extend (labels)\n",
    "        torch.cuda.empty_cache ()\n",
    "\n",
    "    print ('Validation wmax: ', sanity_check (val_preds, val_labels_fromdata))\n",
    "\n",
    "val_preds, val_labels_fromdata = [], []\n",
    "with torch.no_grad ():\n",
    "    for batch in tqdm (test_loader):\n",
    "        input_ids = batch ['input_ids'].to (model.device)\n",
    "        attention_mask = batch ['attention_mask'].to (model.device)\n",
    "        labels = batch ['labels'].to (model.device)\n",
    "        out = model.generate (input_ids = input_ids, attention_mask = attention_mask, max_length=SEQ_MAX_LENGTH)\n",
    "\n",
    "        val_preds.extend (out)\n",
    "        val_labels_fromdata.extend (labels)\n",
    "        torch.cuda.empty_cache ()\n",
    "\n",
    "    print ('Test wmax: ', sanity_check (val_preds, val_labels_fromdata))\n"
   ]
  },
  {
   "cell_type": "code",
   "execution_count": null,
   "id": "46839c68",
   "metadata": {},
   "outputs": [],
   "source": [
    "model.eval ()\n",
    "total_val_loss = 0\n",
    "with torch.no_grad ():\n",
    "    for batch in val_loader:\n",
    "        input_ids = batch ['input_ids'].to (model.device)\n",
    "        attention_mask = batch ['attention_mask'].to (model.device)\n",
    "        labels_fromdata = batch ['labels'].to (model.device)\n",
    "\n",
    "        outputs = model.generate (input_ids = input_ids, attention_mask = attention_mask, max_length=SEQ_MAX_LENGTH)\n",
    "\n",
    "        total_val_loss += model (input_ids = input_ids, attention_mask = attention_mask, labels = labels_fromdata).loss.item ()\n",
    "        torch.cuda.empty_cache ()\n",
    "\n",
    "avg_val_loss = total_val_loss / len (val_loader)\n",
    "avg_val_loss"
   ]
  },
  {
   "cell_type": "code",
   "execution_count": null,
   "id": "40164d22",
   "metadata": {},
   "outputs": [],
   "source": [
    "kf = KFold (n_splits = NUM_OF_SPLITS)\n",
    "\n",
    "data = df ['text']\n",
    "labels = df ['label']\n",
    "\n",
    "inc_term_set = set ([''])\n",
    "\n",
    "#prev_f1_score = 0\n",
    "prev_metric = 1.0496 if view_at_loss else 0.7126\n",
    "for iteration, (train_index, test_index) in enumerate (kf.split (data)):\n",
    "    X_curr = data [test_index]\n",
    "    y_curr = labels [test_index]\n",
    "\n",
    "    train_data_lst = X_curr.tolist ()\n",
    "    train_labels_lst = y_curr.tolist ()\n",
    "    parallel_text, parallel_labels = create_parallels (train_data_lst, train_labels_lst)\n",
    "\n",
    "    parallel_text_new = parallel_text#attach_dictionary_foundings (parallel_text, inc_term_set)\n",
    "\n",
    "    train_data = tokenizer (parallel_text_new, padding = 'max_length', truncation = True, max_length = SEQ_MAX_LENGTH, return_tensors = 'pt')\n",
    "    train_labels = tokenizer (parallel_labels, padding = 'max_length', truncation = True, max_length = ANSWER_MAX_LENGTH, return_tensors = 'pt')\n",
    "    \n",
    "    if ENABLE_LABEL_FIX:\n",
    "        replaced = replace_padding (train_labels)\n",
    "        train_labels = replaced\n",
    "\n",
    "    train_dataset = Seq2SeqDataset (train_data, train_labels)\n",
    "    train_loader = DataLoader (train_dataset, batch_size = BATCH_SIZE, shuffle = True)\n",
    "    \n",
    "    prev_model = deepcopy (model.state_dict ())\n",
    "    prev_optimizer = deepcopy (optimizer.state_dict ())\n",
    "    epoch = 0\n",
    "    #for epoch in range (LOCAL_NUM_EPOCHS):\n",
    "    while True:\n",
    "\n",
    "        model.train ()  # Устанавливаем модель в режим обучения\n",
    "        total_loss = 0\n",
    "        \n",
    "        for batch in tqdm (train_loader):\n",
    "            \n",
    "            input_ids = batch ['input_ids'].to (model.device)\n",
    "            attention_mask = batch ['attention_mask'].to (model.device)\n",
    "            labels_fromdata = batch ['labels'].to (model.device)\n",
    "\n",
    "            #outputs = model (input_ids = input_ids, attention_mask = attention_mask, labels = labels_fromdata)\n",
    "            outputs = model (input_ids = input_ids, attention_mask = attention_mask, labels = labels_fromdata)\n",
    "            loss = outputs.loss   ## DOUBLE CHECK if padding ...\n",
    "            total_loss += loss.item ()\n",
    "\n",
    "            loss.backward ()  # Обратное распространение\n",
    "            optimizer.step ()  # Обновление параметров\n",
    "            optimizer.zero_grad ()  # Обнуляем градиенты\n",
    "\n",
    "            #scheduler.step ()  # Обновление learning rate\n",
    "            torch.cuda.empty_cache ()\n",
    "        \n",
    "\n",
    "        avg_loss = total_loss / len (train_loader)\n",
    "\n",
    "        \n",
    "\n",
    "        # Оценка на валидационной выборке\n",
    "        model.eval ()  # Устанавливаем модель в режим оценки\n",
    "        val_preds, val_labels = [], []\n",
    "        total_val_loss = 0\n",
    "\n",
    "        with torch.no_grad ():\n",
    "            for batch in val_loader:\n",
    "                input_ids = batch ['input_ids'].to (model.device)\n",
    "                attention_mask = batch ['attention_mask'].to (model.device)\n",
    "                labels_fromdata = batch ['labels'].to (model.device)\n",
    "\n",
    "                outputs = model.generate (input_ids = input_ids, attention_mask = attention_mask, max_length=SEQ_MAX_LENGTH)\n",
    "\n",
    "                total_val_loss += model (input_ids = input_ids, attention_mask = attention_mask, labels = labels_fromdata).loss.item ()\n",
    "\n",
    "                val_preds.extend (outputs)\n",
    "                val_labels.extend (labels_fromdata)\n",
    "                torch.cuda.empty_cache ()\n",
    "\n",
    "        avg_val_loss = total_val_loss / len (val_loader)\n",
    "\n",
    "        prec, recl, f1sc = sanity_check (val_preds, val_labels)\n",
    "\n",
    "        print (f'Epoch {(epoch + 1) + num_passed_epochs} / ---, Loss: {avg_loss:.4f}, Validation loss: {avg_val_loss:.4f}, {prec} / {recl} / {f1sc}')\n",
    "        \n",
    "        torch.cuda.empty_cache ()\n",
    "\n",
    "        ### WHAT\n",
    "        0\n",
    "\n",
    "        metrics ['train_loss'].append ((epoch + num_passed_epochs, avg_loss))\n",
    "        metrics ['val_loss'].append ((epoch + num_passed_epochs, avg_val_loss))\n",
    "        metrics ['precision'].append ((epoch + num_passed_epochs, prec))\n",
    "        metrics ['recall'].append ((epoch + num_passed_epochs, recl))\n",
    "        metrics ['f1_score'].append ((epoch + num_passed_epochs, f1sc))\n",
    "        \n",
    "\n",
    "    for line in parallel_labels:\n",
    "        inc_term_set |= set (line.split (SEP_TOKEN))\n",
    "    inc_term_set -= set ([''])\n",
    "    inc_term_set -= set ([LABEL_PREFIX_TOKEN])\n",
    "    print (f'Уникальных терминов в {iteration + 1}-м тренировочном наборе: {len (inc_term_set)}.')"
   ]
  },
  {
   "cell_type": "code",
   "execution_count": null,
   "id": "f0c555e2",
   "metadata": {},
   "outputs": [],
   "source": [
    "print (metrics)"
   ]
  },
  {
   "cell_type": "code",
   "execution_count": null,
   "id": "ce34993e",
   "metadata": {},
   "outputs": [],
   "source": [
    "for i, (name, history) in enumerate (sorted (metrics.items ())):\n",
    "    plt.figure (figsize = (10, 4))\n",
    "    plt.title (name)\n",
    "    plt.plot (*zip (*history))\n",
    "    plt.grid ()\n",
    "    plt.show ()"
   ]
  },
  {
   "cell_type": "code",
   "execution_count": null,
   "id": "697f9ad0",
   "metadata": {},
   "outputs": [],
   "source": [
    "\n",
    "\n",
    "model.eval ()  # Устанавливаем модель в режим оценки\n",
    "val_preds, val_labels_fromdata = [], []\n",
    "\n",
    "with torch.no_grad ():\n",
    "    for batch in tqdm (val_loader):\n",
    "        input_ids = batch ['input_ids'].to (model.device)\n",
    "        attention_mask = batch ['attention_mask'].to (model.device)\n",
    "        labels = batch ['labels'].to (model.device)\n",
    "        out = model.generate (input_ids = input_ids, attention_mask = attention_mask)\n",
    "\n",
    "        val_preds.extend (out)\n",
    "        val_labels_fromdata.extend (labels)\n",
    "        torch.cuda.empty_cache ()\n",
    "\n",
    "    print ('Validation: ', sanity_check (val_preds, val_labels_fromdata))\n",
    "\n",
    "\n",
    "val_preds, val_labels_fromdata = [], []\n",
    "\n",
    "with torch.no_grad ():\n",
    "    for batch in tqdm (test_loader):\n",
    "        input_ids = batch ['input_ids'].to (model.device)\n",
    "        attention_mask = batch ['attention_mask'].to (model.device)\n",
    "        labels = batch ['labels'].to (model.device)\n",
    "        out = model.generate (input_ids = input_ids, attention_mask = attention_mask)\n",
    "\n",
    "        val_preds.extend (out)\n",
    "        val_labels_fromdata.extend (labels)\n",
    "        torch.cuda.empty_cache ()\n",
    "\n",
    "    print ('Test: ', sanity_check (val_preds, val_labels_fromdata))\n"
   ]
  },
  {
   "cell_type": "code",
   "execution_count": null,
   "id": "0434266f",
   "metadata": {},
   "outputs": [],
   "source": [
    "\n",
    "val_preds, val_labels_fromdata = [], []\n",
    "with torch.no_grad ():\n",
    "    for batch in tqdm (val_loader):\n",
    "        input_ids = batch ['input_ids'].to (model.device)\n",
    "        attention_mask = batch ['attention_mask'].to (model.device)\n",
    "        labels = batch ['labels'].to (model.device)\n",
    "        out = model.generate (input_ids = input_ids, attention_mask = attention_mask, max_length=SEQ_MAX_LENGTH)\n",
    "\n",
    "        val_preds.extend (out)\n",
    "        val_labels_fromdata.extend (labels)\n",
    "        torch.cuda.empty_cache ()\n",
    "\n",
    "    print ('Validation wmax: ', sanity_check (val_preds, val_labels_fromdata))\n",
    "\n",
    "val_preds, val_labels_fromdata = [], []\n",
    "with torch.no_grad ():\n",
    "    for batch in tqdm (test_loader):\n",
    "        input_ids = batch ['input_ids'].to (model.device)\n",
    "        attention_mask = batch ['attention_mask'].to (model.device)\n",
    "        labels = batch ['labels'].to (model.device)\n",
    "        out = model.generate (input_ids = input_ids, attention_mask = attention_mask, max_length=SEQ_MAX_LENGTH)\n",
    "\n",
    "        val_preds.extend (out)\n",
    "        val_labels_fromdata.extend (labels)\n",
    "        torch.cuda.empty_cache ()\n",
    "\n",
    "    print ('Test wmax: ', sanity_check (val_preds, val_labels_fromdata))\n"
   ]
  },
  {
   "cell_type": "code",
   "execution_count": null,
   "id": "1d0d9daf",
   "metadata": {},
   "outputs": [],
   "source": [
    "#model.save_pretrained('./rut5small_posttrain_folds_f1opt_avg-7531-7816-')\n",
    "#tokenizer.save_pretrained('./rut5small_posttrain_folds_f1opt_avg-7531-7816-')"
   ]
  },
  {
   "cell_type": "code",
   "execution_count": null,
   "id": "41ab5831",
   "metadata": {},
   "outputs": [],
   "source": [
    "print (tokenizer.decode (val_dataset [1] ['input_ids']))\n",
    "\n",
    "batch = val_dataset [1:2]\n",
    "\n",
    "input_ids = batch ['input_ids'].to (model.device)\n",
    "attention_mask = batch ['attention_mask'].to (model.device)\n",
    "labels = batch ['labels'].to (model.device)\n",
    "out = model.generate (input_ids = input_ids, attention_mask = attention_mask, max_length=SEQ_MAX_LENGTH)\n",
    "out"
   ]
  },
  {
   "cell_type": "code",
   "execution_count": null,
   "id": "9c3d9d2b",
   "metadata": {},
   "outputs": [],
   "source": [
    "tokenizer.decode (out [0])"
   ]
  },
  {
   "cell_type": "code",
   "execution_count": null,
   "id": "b931c71e",
   "metadata": {},
   "outputs": [],
   "source": [
    "out = model.generate (input_ids = input_ids, attention_mask = attention_mask)\n",
    "out"
   ]
  },
  {
   "cell_type": "code",
   "execution_count": null,
   "id": "19a645fb",
   "metadata": {},
   "outputs": [],
   "source": [
    "tokenizer.decode (out [0])"
   ]
  },
  {
   "cell_type": "code",
   "execution_count": null,
   "id": "30cb78d9",
   "metadata": {},
   "outputs": [],
   "source": [
    "get_set (out [0], ground_truth=False)"
   ]
  },
  {
   "cell_type": "code",
   "execution_count": null,
   "id": "d00fe04a",
   "metadata": {},
   "outputs": [],
   "source": [
    "idx = 5\n",
    "\n",
    "print (tokenizer.decode (val_dataset [idx] ['input_ids']))\n",
    "\n",
    "batch = val_dataset [idx: idx + 1]\n",
    "\n",
    "input_ids = batch ['input_ids'].to (model.device)\n",
    "attention_mask = batch ['attention_mask'].to (model.device)\n",
    "labels = batch ['labels'].to (model.device)"
   ]
  },
  {
   "cell_type": "code",
   "execution_count": null,
   "id": "c8c3645c",
   "metadata": {},
   "outputs": [],
   "source": [
    "mout = model (input_ids = input_ids, attention_mask = attention_mask, labels = labels)"
   ]
  },
  {
   "cell_type": "code",
   "execution_count": null,
   "id": "f5fa8e98",
   "metadata": {},
   "outputs": [],
   "source": [
    "mout.logits.argmax (dim = -1)"
   ]
  },
  {
   "cell_type": "code",
   "execution_count": null,
   "id": "7e980790",
   "metadata": {},
   "outputs": [],
   "source": [
    "tokenizer.decode (mout.logits.argmax (dim = -1) [0])"
   ]
  },
  {
   "cell_type": "code",
   "execution_count": null,
   "id": "4cd0768e",
   "metadata": {},
   "outputs": [],
   "source": []
  }
 ],
 "metadata": {
  "kernelspec": {
   "display_name": "Python 3",
   "language": "python",
   "name": "python3"
  },
  "language_info": {
   "codemirror_mode": {
    "name": "ipython",
    "version": 3
   },
   "file_extension": ".py",
   "mimetype": "text/x-python",
   "name": "python",
   "nbconvert_exporter": "python",
   "pygments_lexer": "ipython3",
   "version": "3.10.11"
  }
 },
 "nbformat": 4,
 "nbformat_minor": 5
}
